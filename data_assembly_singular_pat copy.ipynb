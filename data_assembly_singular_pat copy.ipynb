{
 "cells": [
  {
   "cell_type": "code",
   "execution_count": 1,
   "metadata": {},
   "outputs": [],
   "source": [
    "import mne \n",
    "import os\n",
    "import matplotlib.pyplot as plt\n",
    "import seaborn as sns\n",
    "from mne.io import  read_raw_edf\n",
    "\n"
   ]
  },
  {
   "cell_type": "code",
   "execution_count": 2,
   "metadata": {},
   "outputs": [
    {
     "name": "stdout",
     "output_type": "stream",
     "text": [
      "Extracting EDF parameters from /Users/Samet/Documents/Bildung/BootcampSpiced/github_rice_regression/Capstone_project/chb-mit-scalp-eeg-database-1.0.0/chb01/chb01_01.edf...\n",
      "EDF file detected\n",
      "Setting channel info structure...\n",
      "Creating raw.info structure...\n",
      "Reading 0 ... 921599  =      0.000 ...  3599.996 secs...\n"
     ]
    },
    {
     "name": "stderr",
     "output_type": "stream",
     "text": [
      "/var/folders/qc/mckg6k9d38ngx5rhh3c9fbpr0000gp/T/ipykernel_34237/2274303558.py:15: RuntimeWarning: Channel names are not unique, found duplicates for: {'T8-P8'}. Applying running numbers for duplicates.\n",
      "  first_raw = mne.io.read_raw_edf(first_file_path, preload=True)\n"
     ]
    },
    {
     "name": "stdout",
     "output_type": "stream",
     "text": [
      "Extracting EDF parameters from /Users/Samet/Documents/Bildung/BootcampSpiced/github_rice_regression/Capstone_project/chb-mit-scalp-eeg-database-1.0.0/chb01/chb01_01.edf...\n",
      "EDF file detected\n",
      "Setting channel info structure...\n",
      "Creating raw.info structure...\n",
      "Reading 0 ... 921599  =      0.000 ...  3599.996 secs...\n"
     ]
    },
    {
     "name": "stderr",
     "output_type": "stream",
     "text": [
      "/var/folders/qc/mckg6k9d38ngx5rhh3c9fbpr0000gp/T/ipykernel_34237/2274303558.py:20: RuntimeWarning: Channel names are not unique, found duplicates for: {'T8-P8'}. Applying running numbers for duplicates.\n",
      "  raw = mne.io.read_raw_edf(file_path, preload=True)\n"
     ]
    },
    {
     "name": "stdout",
     "output_type": "stream",
     "text": [
      "Extracting EDF parameters from /Users/Samet/Documents/Bildung/BootcampSpiced/github_rice_regression/Capstone_project/chb-mit-scalp-eeg-database-1.0.0/chb01/chb01_02.edf...\n",
      "EDF file detected\n",
      "Setting channel info structure...\n",
      "Creating raw.info structure...\n",
      "Reading 0 ... 921599  =      0.000 ...  3599.996 secs...\n"
     ]
    },
    {
     "name": "stderr",
     "output_type": "stream",
     "text": [
      "/var/folders/qc/mckg6k9d38ngx5rhh3c9fbpr0000gp/T/ipykernel_34237/2274303558.py:20: RuntimeWarning: Channel names are not unique, found duplicates for: {'T8-P8'}. Applying running numbers for duplicates.\n",
      "  raw = mne.io.read_raw_edf(file_path, preload=True)\n"
     ]
    },
    {
     "name": "stdout",
     "output_type": "stream",
     "text": [
      "Extracting EDF parameters from /Users/Samet/Documents/Bildung/BootcampSpiced/github_rice_regression/Capstone_project/chb-mit-scalp-eeg-database-1.0.0/chb01/chb01_03.edf...\n",
      "EDF file detected\n",
      "Setting channel info structure...\n",
      "Creating raw.info structure...\n",
      "Reading 0 ... 921599  =      0.000 ...  3599.996 secs...\n"
     ]
    },
    {
     "name": "stderr",
     "output_type": "stream",
     "text": [
      "/var/folders/qc/mckg6k9d38ngx5rhh3c9fbpr0000gp/T/ipykernel_34237/2274303558.py:20: RuntimeWarning: Channel names are not unique, found duplicates for: {'T8-P8'}. Applying running numbers for duplicates.\n",
      "  raw = mne.io.read_raw_edf(file_path, preload=True)\n"
     ]
    },
    {
     "name": "stdout",
     "output_type": "stream",
     "text": [
      "Extracting EDF parameters from /Users/Samet/Documents/Bildung/BootcampSpiced/github_rice_regression/Capstone_project/chb-mit-scalp-eeg-database-1.0.0/chb01/chb01_04.edf...\n",
      "EDF file detected\n",
      "Setting channel info structure...\n",
      "Creating raw.info structure...\n",
      "Reading 0 ... 921599  =      0.000 ...  3599.996 secs...\n"
     ]
    },
    {
     "name": "stderr",
     "output_type": "stream",
     "text": [
      "/var/folders/qc/mckg6k9d38ngx5rhh3c9fbpr0000gp/T/ipykernel_34237/2274303558.py:20: RuntimeWarning: Channel names are not unique, found duplicates for: {'T8-P8'}. Applying running numbers for duplicates.\n",
      "  raw = mne.io.read_raw_edf(file_path, preload=True)\n"
     ]
    },
    {
     "name": "stdout",
     "output_type": "stream",
     "text": [
      "Extracting EDF parameters from /Users/Samet/Documents/Bildung/BootcampSpiced/github_rice_regression/Capstone_project/chb-mit-scalp-eeg-database-1.0.0/chb01/chb01_05.edf...\n",
      "EDF file detected\n",
      "Setting channel info structure...\n",
      "Creating raw.info structure...\n",
      "Reading 0 ... 921599  =      0.000 ...  3599.996 secs...\n"
     ]
    },
    {
     "name": "stderr",
     "output_type": "stream",
     "text": [
      "/var/folders/qc/mckg6k9d38ngx5rhh3c9fbpr0000gp/T/ipykernel_34237/2274303558.py:20: RuntimeWarning: Channel names are not unique, found duplicates for: {'T8-P8'}. Applying running numbers for duplicates.\n",
      "  raw = mne.io.read_raw_edf(file_path, preload=True)\n"
     ]
    },
    {
     "name": "stdout",
     "output_type": "stream",
     "text": [
      "Extracting EDF parameters from /Users/Samet/Documents/Bildung/BootcampSpiced/github_rice_regression/Capstone_project/chb-mit-scalp-eeg-database-1.0.0/chb01/chb01_06.edf...\n",
      "EDF file detected\n",
      "Setting channel info structure...\n",
      "Creating raw.info structure...\n",
      "Reading 0 ... 921599  =      0.000 ...  3599.996 secs...\n"
     ]
    },
    {
     "name": "stderr",
     "output_type": "stream",
     "text": [
      "/var/folders/qc/mckg6k9d38ngx5rhh3c9fbpr0000gp/T/ipykernel_34237/2274303558.py:20: RuntimeWarning: Channel names are not unique, found duplicates for: {'T8-P8'}. Applying running numbers for duplicates.\n",
      "  raw = mne.io.read_raw_edf(file_path, preload=True)\n"
     ]
    },
    {
     "name": "stdout",
     "output_type": "stream",
     "text": [
      "Extracting EDF parameters from /Users/Samet/Documents/Bildung/BootcampSpiced/github_rice_regression/Capstone_project/chb-mit-scalp-eeg-database-1.0.0/chb01/chb01_07.edf...\n",
      "EDF file detected\n",
      "Setting channel info structure...\n",
      "Creating raw.info structure...\n",
      "Reading 0 ... 921599  =      0.000 ...  3599.996 secs...\n"
     ]
    },
    {
     "name": "stderr",
     "output_type": "stream",
     "text": [
      "/var/folders/qc/mckg6k9d38ngx5rhh3c9fbpr0000gp/T/ipykernel_34237/2274303558.py:20: RuntimeWarning: Channel names are not unique, found duplicates for: {'T8-P8'}. Applying running numbers for duplicates.\n",
      "  raw = mne.io.read_raw_edf(file_path, preload=True)\n"
     ]
    },
    {
     "name": "stdout",
     "output_type": "stream",
     "text": [
      "Extracting EDF parameters from /Users/Samet/Documents/Bildung/BootcampSpiced/github_rice_regression/Capstone_project/chb-mit-scalp-eeg-database-1.0.0/chb01/chb01_08.edf...\n",
      "EDF file detected\n",
      "Setting channel info structure...\n",
      "Creating raw.info structure...\n",
      "Reading 0 ... 921599  =      0.000 ...  3599.996 secs...\n"
     ]
    },
    {
     "name": "stderr",
     "output_type": "stream",
     "text": [
      "/var/folders/qc/mckg6k9d38ngx5rhh3c9fbpr0000gp/T/ipykernel_34237/2274303558.py:20: RuntimeWarning: Channel names are not unique, found duplicates for: {'T8-P8'}. Applying running numbers for duplicates.\n",
      "  raw = mne.io.read_raw_edf(file_path, preload=True)\n"
     ]
    },
    {
     "name": "stdout",
     "output_type": "stream",
     "text": [
      "Extracting EDF parameters from /Users/Samet/Documents/Bildung/BootcampSpiced/github_rice_regression/Capstone_project/chb-mit-scalp-eeg-database-1.0.0/chb01/chb01_09.edf...\n",
      "EDF file detected\n",
      "Setting channel info structure...\n",
      "Creating raw.info structure...\n",
      "Reading 0 ... 921599  =      0.000 ...  3599.996 secs...\n"
     ]
    },
    {
     "name": "stderr",
     "output_type": "stream",
     "text": [
      "/var/folders/qc/mckg6k9d38ngx5rhh3c9fbpr0000gp/T/ipykernel_34237/2274303558.py:20: RuntimeWarning: Channel names are not unique, found duplicates for: {'T8-P8'}. Applying running numbers for duplicates.\n",
      "  raw = mne.io.read_raw_edf(file_path, preload=True)\n"
     ]
    },
    {
     "name": "stdout",
     "output_type": "stream",
     "text": [
      "Extracting EDF parameters from /Users/Samet/Documents/Bildung/BootcampSpiced/github_rice_regression/Capstone_project/chb-mit-scalp-eeg-database-1.0.0/chb01/chb01_10.edf...\n",
      "EDF file detected\n",
      "Setting channel info structure...\n",
      "Creating raw.info structure...\n",
      "Reading 0 ... 921599  =      0.000 ...  3599.996 secs...\n"
     ]
    },
    {
     "name": "stderr",
     "output_type": "stream",
     "text": [
      "/var/folders/qc/mckg6k9d38ngx5rhh3c9fbpr0000gp/T/ipykernel_34237/2274303558.py:20: RuntimeWarning: Channel names are not unique, found duplicates for: {'T8-P8'}. Applying running numbers for duplicates.\n",
      "  raw = mne.io.read_raw_edf(file_path, preload=True)\n"
     ]
    },
    {
     "name": "stdout",
     "output_type": "stream",
     "text": [
      "Extracting EDF parameters from /Users/Samet/Documents/Bildung/BootcampSpiced/github_rice_regression/Capstone_project/chb-mit-scalp-eeg-database-1.0.0/chb01/chb01_11.edf...\n",
      "EDF file detected\n",
      "Setting channel info structure...\n",
      "Creating raw.info structure...\n",
      "Reading 0 ... 921599  =      0.000 ...  3599.996 secs...\n"
     ]
    },
    {
     "name": "stderr",
     "output_type": "stream",
     "text": [
      "/var/folders/qc/mckg6k9d38ngx5rhh3c9fbpr0000gp/T/ipykernel_34237/2274303558.py:20: RuntimeWarning: Channel names are not unique, found duplicates for: {'T8-P8'}. Applying running numbers for duplicates.\n",
      "  raw = mne.io.read_raw_edf(file_path, preload=True)\n"
     ]
    },
    {
     "name": "stdout",
     "output_type": "stream",
     "text": [
      "Extracting EDF parameters from /Users/Samet/Documents/Bildung/BootcampSpiced/github_rice_regression/Capstone_project/chb-mit-scalp-eeg-database-1.0.0/chb01/chb01_12.edf...\n",
      "EDF file detected\n",
      "Setting channel info structure...\n",
      "Creating raw.info structure...\n",
      "Reading 0 ... 921599  =      0.000 ...  3599.996 secs...\n"
     ]
    },
    {
     "name": "stderr",
     "output_type": "stream",
     "text": [
      "/var/folders/qc/mckg6k9d38ngx5rhh3c9fbpr0000gp/T/ipykernel_34237/2274303558.py:20: RuntimeWarning: Channel names are not unique, found duplicates for: {'T8-P8'}. Applying running numbers for duplicates.\n",
      "  raw = mne.io.read_raw_edf(file_path, preload=True)\n"
     ]
    },
    {
     "name": "stdout",
     "output_type": "stream",
     "text": [
      "Extracting EDF parameters from /Users/Samet/Documents/Bildung/BootcampSpiced/github_rice_regression/Capstone_project/chb-mit-scalp-eeg-database-1.0.0/chb01/chb01_13.edf...\n",
      "EDF file detected\n",
      "Setting channel info structure...\n",
      "Creating raw.info structure...\n",
      "Reading 0 ... 921599  =      0.000 ...  3599.996 secs...\n"
     ]
    },
    {
     "name": "stderr",
     "output_type": "stream",
     "text": [
      "/var/folders/qc/mckg6k9d38ngx5rhh3c9fbpr0000gp/T/ipykernel_34237/2274303558.py:20: RuntimeWarning: Channel names are not unique, found duplicates for: {'T8-P8'}. Applying running numbers for duplicates.\n",
      "  raw = mne.io.read_raw_edf(file_path, preload=True)\n"
     ]
    },
    {
     "name": "stdout",
     "output_type": "stream",
     "text": [
      "Extracting EDF parameters from /Users/Samet/Documents/Bildung/BootcampSpiced/github_rice_regression/Capstone_project/chb-mit-scalp-eeg-database-1.0.0/chb01/chb01_14.edf...\n",
      "EDF file detected\n",
      "Setting channel info structure...\n",
      "Creating raw.info structure...\n",
      "Reading 0 ... 921599  =      0.000 ...  3599.996 secs...\n"
     ]
    },
    {
     "name": "stderr",
     "output_type": "stream",
     "text": [
      "/var/folders/qc/mckg6k9d38ngx5rhh3c9fbpr0000gp/T/ipykernel_34237/2274303558.py:20: RuntimeWarning: Channel names are not unique, found duplicates for: {'T8-P8'}. Applying running numbers for duplicates.\n",
      "  raw = mne.io.read_raw_edf(file_path, preload=True)\n"
     ]
    },
    {
     "name": "stdout",
     "output_type": "stream",
     "text": [
      "Extracting EDF parameters from /Users/Samet/Documents/Bildung/BootcampSpiced/github_rice_regression/Capstone_project/chb-mit-scalp-eeg-database-1.0.0/chb01/chb01_15.edf...\n",
      "EDF file detected\n",
      "Setting channel info structure...\n",
      "Creating raw.info structure...\n",
      "Reading 0 ... 921599  =      0.000 ...  3599.996 secs...\n"
     ]
    },
    {
     "name": "stderr",
     "output_type": "stream",
     "text": [
      "/var/folders/qc/mckg6k9d38ngx5rhh3c9fbpr0000gp/T/ipykernel_34237/2274303558.py:20: RuntimeWarning: Channel names are not unique, found duplicates for: {'T8-P8'}. Applying running numbers for duplicates.\n",
      "  raw = mne.io.read_raw_edf(file_path, preload=True)\n"
     ]
    },
    {
     "name": "stdout",
     "output_type": "stream",
     "text": [
      "Extracting EDF parameters from /Users/Samet/Documents/Bildung/BootcampSpiced/github_rice_regression/Capstone_project/chb-mit-scalp-eeg-database-1.0.0/chb01/chb01_16.edf...\n",
      "EDF file detected\n",
      "Setting channel info structure...\n",
      "Creating raw.info structure...\n",
      "Reading 0 ... 921599  =      0.000 ...  3599.996 secs...\n"
     ]
    },
    {
     "name": "stderr",
     "output_type": "stream",
     "text": [
      "/var/folders/qc/mckg6k9d38ngx5rhh3c9fbpr0000gp/T/ipykernel_34237/2274303558.py:20: RuntimeWarning: Channel names are not unique, found duplicates for: {'T8-P8'}. Applying running numbers for duplicates.\n",
      "  raw = mne.io.read_raw_edf(file_path, preload=True)\n"
     ]
    },
    {
     "name": "stdout",
     "output_type": "stream",
     "text": [
      "Extracting EDF parameters from /Users/Samet/Documents/Bildung/BootcampSpiced/github_rice_regression/Capstone_project/chb-mit-scalp-eeg-database-1.0.0/chb01/chb01_17.edf...\n",
      "EDF file detected\n",
      "Setting channel info structure...\n",
      "Creating raw.info structure...\n",
      "Reading 0 ... 921599  =      0.000 ...  3599.996 secs...\n"
     ]
    },
    {
     "name": "stderr",
     "output_type": "stream",
     "text": [
      "/var/folders/qc/mckg6k9d38ngx5rhh3c9fbpr0000gp/T/ipykernel_34237/2274303558.py:20: RuntimeWarning: Channel names are not unique, found duplicates for: {'T8-P8'}. Applying running numbers for duplicates.\n",
      "  raw = mne.io.read_raw_edf(file_path, preload=True)\n"
     ]
    },
    {
     "name": "stdout",
     "output_type": "stream",
     "text": [
      "Extracting EDF parameters from /Users/Samet/Documents/Bildung/BootcampSpiced/github_rice_regression/Capstone_project/chb-mit-scalp-eeg-database-1.0.0/chb01/chb01_18.edf...\n",
      "EDF file detected\n",
      "Setting channel info structure...\n",
      "Creating raw.info structure...\n",
      "Reading 0 ... 921599  =      0.000 ...  3599.996 secs...\n"
     ]
    },
    {
     "name": "stderr",
     "output_type": "stream",
     "text": [
      "/var/folders/qc/mckg6k9d38ngx5rhh3c9fbpr0000gp/T/ipykernel_34237/2274303558.py:20: RuntimeWarning: Channel names are not unique, found duplicates for: {'T8-P8'}. Applying running numbers for duplicates.\n",
      "  raw = mne.io.read_raw_edf(file_path, preload=True)\n"
     ]
    },
    {
     "name": "stdout",
     "output_type": "stream",
     "text": [
      "Extracting EDF parameters from /Users/Samet/Documents/Bildung/BootcampSpiced/github_rice_regression/Capstone_project/chb-mit-scalp-eeg-database-1.0.0/chb01/chb01_19.edf...\n",
      "EDF file detected\n",
      "Setting channel info structure...\n",
      "Creating raw.info structure...\n",
      "Reading 0 ... 921599  =      0.000 ...  3599.996 secs...\n"
     ]
    },
    {
     "name": "stderr",
     "output_type": "stream",
     "text": [
      "/var/folders/qc/mckg6k9d38ngx5rhh3c9fbpr0000gp/T/ipykernel_34237/2274303558.py:20: RuntimeWarning: Channel names are not unique, found duplicates for: {'T8-P8'}. Applying running numbers for duplicates.\n",
      "  raw = mne.io.read_raw_edf(file_path, preload=True)\n"
     ]
    },
    {
     "name": "stdout",
     "output_type": "stream",
     "text": [
      "Extracting EDF parameters from /Users/Samet/Documents/Bildung/BootcampSpiced/github_rice_regression/Capstone_project/chb-mit-scalp-eeg-database-1.0.0/chb01/chb01_20.edf...\n",
      "EDF file detected\n",
      "Setting channel info structure...\n",
      "Creating raw.info structure...\n",
      "Reading 0 ... 681727  =      0.000 ...  2662.996 secs...\n"
     ]
    },
    {
     "name": "stderr",
     "output_type": "stream",
     "text": [
      "/var/folders/qc/mckg6k9d38ngx5rhh3c9fbpr0000gp/T/ipykernel_34237/2274303558.py:20: RuntimeWarning: Channel names are not unique, found duplicates for: {'T8-P8'}. Applying running numbers for duplicates.\n",
      "  raw = mne.io.read_raw_edf(file_path, preload=True)\n"
     ]
    },
    {
     "name": "stdout",
     "output_type": "stream",
     "text": [
      "Extracting EDF parameters from /Users/Samet/Documents/Bildung/BootcampSpiced/github_rice_regression/Capstone_project/chb-mit-scalp-eeg-database-1.0.0/chb01/chb01_21.edf...\n",
      "EDF file detected\n",
      "Setting channel info structure...\n",
      "Creating raw.info structure...\n",
      "Reading 0 ... 921599  =      0.000 ...  3599.996 secs...\n"
     ]
    },
    {
     "name": "stderr",
     "output_type": "stream",
     "text": [
      "/var/folders/qc/mckg6k9d38ngx5rhh3c9fbpr0000gp/T/ipykernel_34237/2274303558.py:20: RuntimeWarning: Channel names are not unique, found duplicates for: {'T8-P8'}. Applying running numbers for duplicates.\n",
      "  raw = mne.io.read_raw_edf(file_path, preload=True)\n"
     ]
    },
    {
     "name": "stdout",
     "output_type": "stream",
     "text": [
      "Extracting EDF parameters from /Users/Samet/Documents/Bildung/BootcampSpiced/github_rice_regression/Capstone_project/chb-mit-scalp-eeg-database-1.0.0/chb01/chb01_22.edf...\n",
      "EDF file detected\n",
      "Setting channel info structure...\n",
      "Creating raw.info structure...\n",
      "Reading 0 ... 921599  =      0.000 ...  3599.996 secs...\n"
     ]
    },
    {
     "name": "stderr",
     "output_type": "stream",
     "text": [
      "/var/folders/qc/mckg6k9d38ngx5rhh3c9fbpr0000gp/T/ipykernel_34237/2274303558.py:20: RuntimeWarning: Channel names are not unique, found duplicates for: {'T8-P8'}. Applying running numbers for duplicates.\n",
      "  raw = mne.io.read_raw_edf(file_path, preload=True)\n"
     ]
    },
    {
     "name": "stdout",
     "output_type": "stream",
     "text": [
      "Extracting EDF parameters from /Users/Samet/Documents/Bildung/BootcampSpiced/github_rice_regression/Capstone_project/chb-mit-scalp-eeg-database-1.0.0/chb01/chb01_23.edf...\n",
      "EDF file detected\n",
      "Setting channel info structure...\n",
      "Creating raw.info structure...\n",
      "Reading 0 ... 921599  =      0.000 ...  3599.996 secs...\n"
     ]
    },
    {
     "name": "stderr",
     "output_type": "stream",
     "text": [
      "/var/folders/qc/mckg6k9d38ngx5rhh3c9fbpr0000gp/T/ipykernel_34237/2274303558.py:20: RuntimeWarning: Channel names are not unique, found duplicates for: {'T8-P8'}. Applying running numbers for duplicates.\n",
      "  raw = mne.io.read_raw_edf(file_path, preload=True)\n"
     ]
    },
    {
     "name": "stdout",
     "output_type": "stream",
     "text": [
      "Extracting EDF parameters from /Users/Samet/Documents/Bildung/BootcampSpiced/github_rice_regression/Capstone_project/chb-mit-scalp-eeg-database-1.0.0/chb01/chb01_24.edf...\n",
      "EDF file detected\n",
      "Setting channel info structure...\n",
      "Creating raw.info structure...\n",
      "Reading 0 ... 921599  =      0.000 ...  3599.996 secs...\n"
     ]
    },
    {
     "name": "stderr",
     "output_type": "stream",
     "text": [
      "/var/folders/qc/mckg6k9d38ngx5rhh3c9fbpr0000gp/T/ipykernel_34237/2274303558.py:20: RuntimeWarning: Channel names are not unique, found duplicates for: {'T8-P8'}. Applying running numbers for duplicates.\n",
      "  raw = mne.io.read_raw_edf(file_path, preload=True)\n"
     ]
    },
    {
     "name": "stdout",
     "output_type": "stream",
     "text": [
      "Extracting EDF parameters from /Users/Samet/Documents/Bildung/BootcampSpiced/github_rice_regression/Capstone_project/chb-mit-scalp-eeg-database-1.0.0/chb01/chb01_25.edf...\n",
      "EDF file detected\n",
      "Setting channel info structure...\n",
      "Creating raw.info structure...\n",
      "Reading 0 ... 921599  =      0.000 ...  3599.996 secs...\n"
     ]
    },
    {
     "name": "stderr",
     "output_type": "stream",
     "text": [
      "/var/folders/qc/mckg6k9d38ngx5rhh3c9fbpr0000gp/T/ipykernel_34237/2274303558.py:20: RuntimeWarning: Channel names are not unique, found duplicates for: {'T8-P8'}. Applying running numbers for duplicates.\n",
      "  raw = mne.io.read_raw_edf(file_path, preload=True)\n"
     ]
    },
    {
     "name": "stdout",
     "output_type": "stream",
     "text": [
      "Extracting EDF parameters from /Users/Samet/Documents/Bildung/BootcampSpiced/github_rice_regression/Capstone_project/chb-mit-scalp-eeg-database-1.0.0/chb01/chb01_26.edf...\n",
      "EDF file detected\n",
      "Setting channel info structure...\n",
      "Creating raw.info structure...\n",
      "Reading 0 ... 595199  =      0.000 ...  2324.996 secs...\n"
     ]
    },
    {
     "name": "stderr",
     "output_type": "stream",
     "text": [
      "/var/folders/qc/mckg6k9d38ngx5rhh3c9fbpr0000gp/T/ipykernel_34237/2274303558.py:20: RuntimeWarning: Channel names are not unique, found duplicates for: {'T8-P8'}. Applying running numbers for duplicates.\n",
      "  raw = mne.io.read_raw_edf(file_path, preload=True)\n"
     ]
    },
    {
     "name": "stdout",
     "output_type": "stream",
     "text": [
      "Extracting EDF parameters from /Users/Samet/Documents/Bildung/BootcampSpiced/github_rice_regression/Capstone_project/chb-mit-scalp-eeg-database-1.0.0/chb01/chb01_27.edf...\n",
      "EDF file detected\n",
      "Setting channel info structure...\n",
      "Creating raw.info structure...\n",
      "Reading 0 ... 153599  =      0.000 ...   599.996 secs...\n"
     ]
    },
    {
     "name": "stderr",
     "output_type": "stream",
     "text": [
      "/var/folders/qc/mckg6k9d38ngx5rhh3c9fbpr0000gp/T/ipykernel_34237/2274303558.py:20: RuntimeWarning: Channel names are not unique, found duplicates for: {'T8-P8'}. Applying running numbers for duplicates.\n",
      "  raw = mne.io.read_raw_edf(file_path, preload=True)\n"
     ]
    },
    {
     "name": "stdout",
     "output_type": "stream",
     "text": [
      "Extracting EDF parameters from /Users/Samet/Documents/Bildung/BootcampSpiced/github_rice_regression/Capstone_project/chb-mit-scalp-eeg-database-1.0.0/chb01/chb01_29.edf...\n",
      "EDF file detected\n",
      "Setting channel info structure...\n",
      "Creating raw.info structure...\n",
      "Reading 0 ... 921599  =      0.000 ...  3599.996 secs...\n"
     ]
    },
    {
     "name": "stderr",
     "output_type": "stream",
     "text": [
      "/var/folders/qc/mckg6k9d38ngx5rhh3c9fbpr0000gp/T/ipykernel_34237/2274303558.py:20: RuntimeWarning: Channel names are not unique, found duplicates for: {'T8-P8'}. Applying running numbers for duplicates.\n",
      "  raw = mne.io.read_raw_edf(file_path, preload=True)\n"
     ]
    },
    {
     "name": "stdout",
     "output_type": "stream",
     "text": [
      "Extracting EDF parameters from /Users/Samet/Documents/Bildung/BootcampSpiced/github_rice_regression/Capstone_project/chb-mit-scalp-eeg-database-1.0.0/chb01/chb01_30.edf...\n",
      "EDF file detected\n",
      "Setting channel info structure...\n",
      "Creating raw.info structure...\n",
      "Reading 0 ... 921599  =      0.000 ...  3599.996 secs...\n"
     ]
    },
    {
     "name": "stderr",
     "output_type": "stream",
     "text": [
      "/var/folders/qc/mckg6k9d38ngx5rhh3c9fbpr0000gp/T/ipykernel_34237/2274303558.py:20: RuntimeWarning: Channel names are not unique, found duplicates for: {'T8-P8'}. Applying running numbers for duplicates.\n",
      "  raw = mne.io.read_raw_edf(file_path, preload=True)\n"
     ]
    },
    {
     "name": "stdout",
     "output_type": "stream",
     "text": [
      "Extracting EDF parameters from /Users/Samet/Documents/Bildung/BootcampSpiced/github_rice_regression/Capstone_project/chb-mit-scalp-eeg-database-1.0.0/chb01/chb01_31.edf...\n",
      "EDF file detected\n",
      "Setting channel info structure...\n",
      "Creating raw.info structure...\n",
      "Reading 0 ... 921599  =      0.000 ...  3599.996 secs...\n"
     ]
    },
    {
     "name": "stderr",
     "output_type": "stream",
     "text": [
      "/var/folders/qc/mckg6k9d38ngx5rhh3c9fbpr0000gp/T/ipykernel_34237/2274303558.py:20: RuntimeWarning: Channel names are not unique, found duplicates for: {'T8-P8'}. Applying running numbers for duplicates.\n",
      "  raw = mne.io.read_raw_edf(file_path, preload=True)\n"
     ]
    },
    {
     "name": "stdout",
     "output_type": "stream",
     "text": [
      "Extracting EDF parameters from /Users/Samet/Documents/Bildung/BootcampSpiced/github_rice_regression/Capstone_project/chb-mit-scalp-eeg-database-1.0.0/chb01/chb01_32.edf...\n",
      "EDF file detected\n",
      "Setting channel info structure...\n",
      "Creating raw.info structure...\n",
      "Reading 0 ... 921599  =      0.000 ...  3599.996 secs...\n"
     ]
    },
    {
     "name": "stderr",
     "output_type": "stream",
     "text": [
      "/var/folders/qc/mckg6k9d38ngx5rhh3c9fbpr0000gp/T/ipykernel_34237/2274303558.py:20: RuntimeWarning: Channel names are not unique, found duplicates for: {'T8-P8'}. Applying running numbers for duplicates.\n",
      "  raw = mne.io.read_raw_edf(file_path, preload=True)\n"
     ]
    },
    {
     "name": "stdout",
     "output_type": "stream",
     "text": [
      "Extracting EDF parameters from /Users/Samet/Documents/Bildung/BootcampSpiced/github_rice_regression/Capstone_project/chb-mit-scalp-eeg-database-1.0.0/chb01/chb01_33.edf...\n",
      "EDF file detected\n",
      "Setting channel info structure...\n",
      "Creating raw.info structure...\n",
      "Reading 0 ... 921599  =      0.000 ...  3599.996 secs...\n"
     ]
    },
    {
     "name": "stderr",
     "output_type": "stream",
     "text": [
      "/var/folders/qc/mckg6k9d38ngx5rhh3c9fbpr0000gp/T/ipykernel_34237/2274303558.py:20: RuntimeWarning: Channel names are not unique, found duplicates for: {'T8-P8'}. Applying running numbers for duplicates.\n",
      "  raw = mne.io.read_raw_edf(file_path, preload=True)\n"
     ]
    },
    {
     "name": "stdout",
     "output_type": "stream",
     "text": [
      "Extracting EDF parameters from /Users/Samet/Documents/Bildung/BootcampSpiced/github_rice_regression/Capstone_project/chb-mit-scalp-eeg-database-1.0.0/chb01/chb01_34.edf...\n",
      "EDF file detected\n",
      "Setting channel info structure...\n",
      "Creating raw.info structure...\n",
      "Reading 0 ... 921599  =      0.000 ...  3599.996 secs...\n"
     ]
    },
    {
     "name": "stderr",
     "output_type": "stream",
     "text": [
      "/var/folders/qc/mckg6k9d38ngx5rhh3c9fbpr0000gp/T/ipykernel_34237/2274303558.py:20: RuntimeWarning: Channel names are not unique, found duplicates for: {'T8-P8'}. Applying running numbers for duplicates.\n",
      "  raw = mne.io.read_raw_edf(file_path, preload=True)\n"
     ]
    },
    {
     "name": "stdout",
     "output_type": "stream",
     "text": [
      "Extracting EDF parameters from /Users/Samet/Documents/Bildung/BootcampSpiced/github_rice_regression/Capstone_project/chb-mit-scalp-eeg-database-1.0.0/chb01/chb01_36.edf...\n",
      "EDF file detected\n",
      "Setting channel info structure...\n",
      "Creating raw.info structure...\n",
      "Reading 0 ... 921599  =      0.000 ...  3599.996 secs...\n"
     ]
    },
    {
     "name": "stderr",
     "output_type": "stream",
     "text": [
      "/var/folders/qc/mckg6k9d38ngx5rhh3c9fbpr0000gp/T/ipykernel_34237/2274303558.py:20: RuntimeWarning: Channel names are not unique, found duplicates for: {'T8-P8'}. Applying running numbers for duplicates.\n",
      "  raw = mne.io.read_raw_edf(file_path, preload=True)\n"
     ]
    },
    {
     "name": "stdout",
     "output_type": "stream",
     "text": [
      "Extracting EDF parameters from /Users/Samet/Documents/Bildung/BootcampSpiced/github_rice_regression/Capstone_project/chb-mit-scalp-eeg-database-1.0.0/chb01/chb01_37.edf...\n",
      "EDF file detected\n",
      "Setting channel info structure...\n",
      "Creating raw.info structure...\n",
      "Reading 0 ... 921599  =      0.000 ...  3599.996 secs...\n"
     ]
    },
    {
     "name": "stderr",
     "output_type": "stream",
     "text": [
      "/var/folders/qc/mckg6k9d38ngx5rhh3c9fbpr0000gp/T/ipykernel_34237/2274303558.py:20: RuntimeWarning: Channel names are not unique, found duplicates for: {'T8-P8'}. Applying running numbers for duplicates.\n",
      "  raw = mne.io.read_raw_edf(file_path, preload=True)\n"
     ]
    },
    {
     "name": "stdout",
     "output_type": "stream",
     "text": [
      "Extracting EDF parameters from /Users/Samet/Documents/Bildung/BootcampSpiced/github_rice_regression/Capstone_project/chb-mit-scalp-eeg-database-1.0.0/chb01/chb01_38.edf...\n",
      "EDF file detected\n",
      "Setting channel info structure...\n",
      "Creating raw.info structure...\n",
      "Reading 0 ... 921599  =      0.000 ...  3599.996 secs...\n"
     ]
    },
    {
     "name": "stderr",
     "output_type": "stream",
     "text": [
      "/var/folders/qc/mckg6k9d38ngx5rhh3c9fbpr0000gp/T/ipykernel_34237/2274303558.py:20: RuntimeWarning: Channel names are not unique, found duplicates for: {'T8-P8'}. Applying running numbers for duplicates.\n",
      "  raw = mne.io.read_raw_edf(file_path, preload=True)\n"
     ]
    },
    {
     "name": "stdout",
     "output_type": "stream",
     "text": [
      "Extracting EDF parameters from /Users/Samet/Documents/Bildung/BootcampSpiced/github_rice_regression/Capstone_project/chb-mit-scalp-eeg-database-1.0.0/chb01/chb01_39.edf...\n",
      "EDF file detected\n",
      "Setting channel info structure...\n",
      "Creating raw.info structure...\n",
      "Reading 0 ... 921599  =      0.000 ...  3599.996 secs...\n"
     ]
    },
    {
     "name": "stderr",
     "output_type": "stream",
     "text": [
      "/var/folders/qc/mckg6k9d38ngx5rhh3c9fbpr0000gp/T/ipykernel_34237/2274303558.py:20: RuntimeWarning: Channel names are not unique, found duplicates for: {'T8-P8'}. Applying running numbers for duplicates.\n",
      "  raw = mne.io.read_raw_edf(file_path, preload=True)\n"
     ]
    },
    {
     "name": "stdout",
     "output_type": "stream",
     "text": [
      "Extracting EDF parameters from /Users/Samet/Documents/Bildung/BootcampSpiced/github_rice_regression/Capstone_project/chb-mit-scalp-eeg-database-1.0.0/chb01/chb01_40.edf...\n",
      "EDF file detected\n",
      "Setting channel info structure...\n",
      "Creating raw.info structure...\n",
      "Reading 0 ... 921599  =      0.000 ...  3599.996 secs...\n"
     ]
    },
    {
     "name": "stderr",
     "output_type": "stream",
     "text": [
      "/var/folders/qc/mckg6k9d38ngx5rhh3c9fbpr0000gp/T/ipykernel_34237/2274303558.py:20: RuntimeWarning: Channel names are not unique, found duplicates for: {'T8-P8'}. Applying running numbers for duplicates.\n",
      "  raw = mne.io.read_raw_edf(file_path, preload=True)\n"
     ]
    },
    {
     "name": "stdout",
     "output_type": "stream",
     "text": [
      "Extracting EDF parameters from /Users/Samet/Documents/Bildung/BootcampSpiced/github_rice_regression/Capstone_project/chb-mit-scalp-eeg-database-1.0.0/chb01/chb01_41.edf...\n",
      "EDF file detected\n",
      "Setting channel info structure...\n",
      "Creating raw.info structure...\n",
      "Reading 0 ... 921599  =      0.000 ...  3599.996 secs...\n"
     ]
    },
    {
     "name": "stderr",
     "output_type": "stream",
     "text": [
      "/var/folders/qc/mckg6k9d38ngx5rhh3c9fbpr0000gp/T/ipykernel_34237/2274303558.py:20: RuntimeWarning: Channel names are not unique, found duplicates for: {'T8-P8'}. Applying running numbers for duplicates.\n",
      "  raw = mne.io.read_raw_edf(file_path, preload=True)\n"
     ]
    },
    {
     "name": "stdout",
     "output_type": "stream",
     "text": [
      "Extracting EDF parameters from /Users/Samet/Documents/Bildung/BootcampSpiced/github_rice_regression/Capstone_project/chb-mit-scalp-eeg-database-1.0.0/chb01/chb01_42.edf...\n",
      "EDF file detected\n",
      "Setting channel info structure...\n",
      "Creating raw.info structure...\n",
      "Reading 0 ... 921599  =      0.000 ...  3599.996 secs...\n"
     ]
    },
    {
     "name": "stderr",
     "output_type": "stream",
     "text": [
      "/var/folders/qc/mckg6k9d38ngx5rhh3c9fbpr0000gp/T/ipykernel_34237/2274303558.py:20: RuntimeWarning: Channel names are not unique, found duplicates for: {'T8-P8'}. Applying running numbers for duplicates.\n",
      "  raw = mne.io.read_raw_edf(file_path, preload=True)\n"
     ]
    },
    {
     "name": "stdout",
     "output_type": "stream",
     "text": [
      "Extracting EDF parameters from /Users/Samet/Documents/Bildung/BootcampSpiced/github_rice_regression/Capstone_project/chb-mit-scalp-eeg-database-1.0.0/chb01/chb01_43.edf...\n",
      "EDF file detected\n",
      "Setting channel info structure...\n",
      "Creating raw.info structure...\n",
      "Reading 0 ... 921599  =      0.000 ...  3599.996 secs...\n"
     ]
    },
    {
     "name": "stderr",
     "output_type": "stream",
     "text": [
      "/var/folders/qc/mckg6k9d38ngx5rhh3c9fbpr0000gp/T/ipykernel_34237/2274303558.py:20: RuntimeWarning: Channel names are not unique, found duplicates for: {'T8-P8'}. Applying running numbers for duplicates.\n",
      "  raw = mne.io.read_raw_edf(file_path, preload=True)\n"
     ]
    },
    {
     "name": "stdout",
     "output_type": "stream",
     "text": [
      "Extracting EDF parameters from /Users/Samet/Documents/Bildung/BootcampSpiced/github_rice_regression/Capstone_project/chb-mit-scalp-eeg-database-1.0.0/chb01/chb01_46.edf...\n",
      "EDF file detected\n",
      "Setting channel info structure...\n",
      "Creating raw.info structure...\n",
      "Reading 0 ... 921599  =      0.000 ...  3599.996 secs...\n"
     ]
    },
    {
     "name": "stderr",
     "output_type": "stream",
     "text": [
      "/var/folders/qc/mckg6k9d38ngx5rhh3c9fbpr0000gp/T/ipykernel_34237/2274303558.py:20: RuntimeWarning: Channel names are not unique, found duplicates for: {'T8-P8'}. Applying running numbers for duplicates.\n",
      "  raw = mne.io.read_raw_edf(file_path, preload=True)\n"
     ]
    },
    {
     "name": "stdout",
     "output_type": "stream",
     "text": [
      "<Info | 8 non-empty values\n",
      " bads: []\n",
      " ch_names: FP1-F7, F7-T7, T7-P7, P7-O1, FP1-F3, F3-C3, C3-P3, P3-O1, ...\n",
      " chs: 23 EEG\n",
      " custom_ref_applied: False\n",
      " highpass: 0.0 Hz\n",
      " lowpass: 128.0 Hz\n",
      " meas_date: 2076-11-06 11:42:54 UTC\n",
      " nchan: 23\n",
      " projs: []\n",
      " sfreq: 256.0 Hz\n",
      " subject_info: 1 item (dict)\n",
      ">\n"
     ]
    }
   ],
   "source": [
    "# Set the path to the patient folder\n",
    "patient_folder = '/Users/Samet/Documents/Bildung/BootcampSpiced/github_rice_regression/Capstone_project/chb-mit-scalp-eeg-database-1.0.0/chb01'\n",
    "\n",
    "# Create an empty list to store raw data\n",
    "patient_raws = []\n",
    "\n",
    "# Create an empty list to store file names\n",
    "file_names = []\n",
    "\n",
    "# Get a list of .edf files sorted by filename numbers\n",
    "edf_files = sorted([f for f in os.listdir(patient_folder) if f.endswith('.edf')])\n",
    "\n",
    "# Read the first .edf file to obtain the channel information\n",
    "first_file_path = os.path.join(patient_folder, edf_files[0])\n",
    "first_raw = mne.io.read_raw_edf(first_file_path, preload=True)\n",
    "\n",
    "# Loop through the sorted .edf files\n",
    "for file in edf_files:\n",
    "    file_path = os.path.join(patient_folder, file)\n",
    "    raw = mne.io.read_raw_edf(file_path, preload=True)\n",
    "    raw_downsampled = raw.copy().resample(sfreq=128)\n",
    "    \n",
    "\n",
    "    # Set the channel information for each Raw object to match the first Raw object\n",
    "    raw_downsampled.info = first_raw.info\n",
    "\n",
    "    patient_raws.append(raw_downsampled)\n",
    "    file_names.extend([file] * len(raw_downsampled.times))\n",
    "\n",
    "# Concatenate the raw objects into a single patient_combined object while maintaining a continuous time axis\n",
    "patient_combined = mne.concatenate_raws(patient_raws, preload=True)\n",
    "\n",
    "\n",
    "# Print info about the combined raw object for this patient\n",
    "print(patient_combined.info)\n",
    "\n",
    "# You now have the EEG data from the .edf files in the patient folder in one patient_combined object with a continuous time axis.\n"
   ]
  },
  {
   "cell_type": "code",
   "execution_count": 3,
   "metadata": {},
   "outputs": [],
   "source": [
    "df = patient_combined.to_data_frame()\n",
    "# Add a new column to the DataFrame to indicate the source file name\n",
    "df['File Name'] = file_names"
   ]
  },
  {
   "cell_type": "code",
   "execution_count": 4,
   "metadata": {},
   "outputs": [
    {
     "data": {
      "text/plain": [
       "(18686464, 25)"
      ]
     },
     "execution_count": 4,
     "metadata": {},
     "output_type": "execute_result"
    }
   ],
   "source": [
    "df.shape"
   ]
  },
  {
   "cell_type": "code",
   "execution_count": 5,
   "metadata": {},
   "outputs": [
    {
     "data": {
      "text/plain": [
       "pandas.core.frame.DataFrame"
      ]
     },
     "execution_count": 5,
     "metadata": {},
     "output_type": "execute_result"
    }
   ],
   "source": [
    "type(df)"
   ]
  },
  {
   "cell_type": "code",
   "execution_count": 6,
   "metadata": {},
   "outputs": [
    {
     "data": {
      "text/html": [
       "<div>\n",
       "<style scoped>\n",
       "    .dataframe tbody tr th:only-of-type {\n",
       "        vertical-align: middle;\n",
       "    }\n",
       "\n",
       "    .dataframe tbody tr th {\n",
       "        vertical-align: top;\n",
       "    }\n",
       "\n",
       "    .dataframe thead th {\n",
       "        text-align: right;\n",
       "    }\n",
       "</style>\n",
       "<table border=\"1\" class=\"dataframe\">\n",
       "  <thead>\n",
       "    <tr style=\"text-align: right;\">\n",
       "      <th></th>\n",
       "      <th>time</th>\n",
       "      <th>FP1-F7</th>\n",
       "      <th>F7-T7</th>\n",
       "      <th>T7-P7</th>\n",
       "      <th>P7-O1</th>\n",
       "      <th>FP1-F3</th>\n",
       "      <th>F3-C3</th>\n",
       "      <th>C3-P3</th>\n",
       "      <th>P3-O1</th>\n",
       "      <th>FP2-F4</th>\n",
       "      <th>...</th>\n",
       "      <th>T8-P8-0</th>\n",
       "      <th>P8-O2</th>\n",
       "      <th>FZ-CZ</th>\n",
       "      <th>CZ-PZ</th>\n",
       "      <th>P7-T7</th>\n",
       "      <th>T7-FT9</th>\n",
       "      <th>FT9-FT10</th>\n",
       "      <th>FT10-T8</th>\n",
       "      <th>T8-P8-1</th>\n",
       "      <th>File Name</th>\n",
       "    </tr>\n",
       "  </thead>\n",
       "  <tbody>\n",
       "    <tr>\n",
       "      <th>0</th>\n",
       "      <td>0.000000</td>\n",
       "      <td>-145.889824</td>\n",
       "      <td>-104.437950</td>\n",
       "      <td>-42.712763</td>\n",
       "      <td>-33.231272</td>\n",
       "      <td>-170.898152</td>\n",
       "      <td>-110.662484</td>\n",
       "      <td>11.982817</td>\n",
       "      <td>-56.693821</td>\n",
       "      <td>-139.224010</td>\n",
       "      <td>...</td>\n",
       "      <td>44.764205</td>\n",
       "      <td>74.665696</td>\n",
       "      <td>-106.011537</td>\n",
       "      <td>84.636952</td>\n",
       "      <td>43.103484</td>\n",
       "      <td>-57.184707</td>\n",
       "      <td>-264.745427</td>\n",
       "      <td>94.719394</td>\n",
       "      <td>44.764205</td>\n",
       "      <td>chb01_01.edf</td>\n",
       "    </tr>\n",
       "    <tr>\n",
       "      <th>1</th>\n",
       "      <td>0.003906</td>\n",
       "      <td>19.998681</td>\n",
       "      <td>14.586589</td>\n",
       "      <td>5.942093</td>\n",
       "      <td>5.114176</td>\n",
       "      <td>23.455757</td>\n",
       "      <td>15.226859</td>\n",
       "      <td>-1.495469</td>\n",
       "      <td>8.265635</td>\n",
       "      <td>19.049821</td>\n",
       "      <td>...</td>\n",
       "      <td>-5.903085</td>\n",
       "      <td>-11.423631</td>\n",
       "      <td>14.619662</td>\n",
       "      <td>-11.367358</td>\n",
       "      <td>-5.551373</td>\n",
       "      <td>7.423304</td>\n",
       "      <td>37.449772</td>\n",
       "      <td>-12.575222</td>\n",
       "      <td>-5.903085</td>\n",
       "      <td>chb01_01.edf</td>\n",
       "    </tr>\n",
       "    <tr>\n",
       "      <th>2</th>\n",
       "      <td>0.007812</td>\n",
       "      <td>-10.400608</td>\n",
       "      <td>-7.840311</td>\n",
       "      <td>-2.702939</td>\n",
       "      <td>-2.982295</td>\n",
       "      <td>-12.495403</td>\n",
       "      <td>-8.041283</td>\n",
       "      <td>1.278082</td>\n",
       "      <td>-4.729659</td>\n",
       "      <td>-9.780279</td>\n",
       "      <td>...</td>\n",
       "      <td>3.634643</td>\n",
       "      <td>8.669002</td>\n",
       "      <td>-7.695286</td>\n",
       "      <td>6.598238</td>\n",
       "      <td>3.093659</td>\n",
       "      <td>-2.615871</td>\n",
       "      <td>-22.604027</td>\n",
       "      <td>6.888621</td>\n",
       "      <td>3.634643</td>\n",
       "      <td>chb01_01.edf</td>\n",
       "    </tr>\n",
       "    <tr>\n",
       "      <th>3</th>\n",
       "      <td>0.011719</td>\n",
       "      <td>7.521448</td>\n",
       "      <td>2.545940</td>\n",
       "      <td>4.279262</td>\n",
       "      <td>1.486770</td>\n",
       "      <td>7.968614</td>\n",
       "      <td>5.961491</td>\n",
       "      <td>-0.573553</td>\n",
       "      <td>3.144477</td>\n",
       "      <td>7.997345</td>\n",
       "      <td>...</td>\n",
       "      <td>-2.189232</td>\n",
       "      <td>2.133745</td>\n",
       "      <td>4.962829</td>\n",
       "      <td>-4.438937</td>\n",
       "      <td>-3.888542</td>\n",
       "      <td>5.468633</td>\n",
       "      <td>12.280984</td>\n",
       "      <td>-4.141289</td>\n",
       "      <td>-2.189232</td>\n",
       "      <td>chb01_01.edf</td>\n",
       "    </tr>\n",
       "    <tr>\n",
       "      <th>4</th>\n",
       "      <td>0.015625</td>\n",
       "      <td>-6.548636</td>\n",
       "      <td>-2.030466</td>\n",
       "      <td>-4.010286</td>\n",
       "      <td>0.332089</td>\n",
       "      <td>-6.684477</td>\n",
       "      <td>-4.638781</td>\n",
       "      <td>-0.011514</td>\n",
       "      <td>-1.049334</td>\n",
       "      <td>-5.965863</td>\n",
       "      <td>...</td>\n",
       "      <td>2.918519</td>\n",
       "      <td>-8.928768</td>\n",
       "      <td>-4.007684</td>\n",
       "      <td>3.505916</td>\n",
       "      <td>4.401006</td>\n",
       "      <td>-7.245550</td>\n",
       "      <td>-5.458360</td>\n",
       "      <td>4.351446</td>\n",
       "      <td>2.918519</td>\n",
       "      <td>chb01_01.edf</td>\n",
       "    </tr>\n",
       "  </tbody>\n",
       "</table>\n",
       "<p>5 rows × 25 columns</p>\n",
       "</div>"
      ],
      "text/plain": [
       "       time      FP1-F7       F7-T7      T7-P7      P7-O1      FP1-F3  \\\n",
       "0  0.000000 -145.889824 -104.437950 -42.712763 -33.231272 -170.898152   \n",
       "1  0.003906   19.998681   14.586589   5.942093   5.114176   23.455757   \n",
       "2  0.007812  -10.400608   -7.840311  -2.702939  -2.982295  -12.495403   \n",
       "3  0.011719    7.521448    2.545940   4.279262   1.486770    7.968614   \n",
       "4  0.015625   -6.548636   -2.030466  -4.010286   0.332089   -6.684477   \n",
       "\n",
       "        F3-C3      C3-P3      P3-O1      FP2-F4  ...    T8-P8-0      P8-O2  \\\n",
       "0 -110.662484  11.982817 -56.693821 -139.224010  ...  44.764205  74.665696   \n",
       "1   15.226859  -1.495469   8.265635   19.049821  ...  -5.903085 -11.423631   \n",
       "2   -8.041283   1.278082  -4.729659   -9.780279  ...   3.634643   8.669002   \n",
       "3    5.961491  -0.573553   3.144477    7.997345  ...  -2.189232   2.133745   \n",
       "4   -4.638781  -0.011514  -1.049334   -5.965863  ...   2.918519  -8.928768   \n",
       "\n",
       "        FZ-CZ      CZ-PZ      P7-T7     T7-FT9    FT9-FT10    FT10-T8  \\\n",
       "0 -106.011537  84.636952  43.103484 -57.184707 -264.745427  94.719394   \n",
       "1   14.619662 -11.367358  -5.551373   7.423304   37.449772 -12.575222   \n",
       "2   -7.695286   6.598238   3.093659  -2.615871  -22.604027   6.888621   \n",
       "3    4.962829  -4.438937  -3.888542   5.468633   12.280984  -4.141289   \n",
       "4   -4.007684   3.505916   4.401006  -7.245550   -5.458360   4.351446   \n",
       "\n",
       "     T8-P8-1     File Name  \n",
       "0  44.764205  chb01_01.edf  \n",
       "1  -5.903085  chb01_01.edf  \n",
       "2   3.634643  chb01_01.edf  \n",
       "3  -2.189232  chb01_01.edf  \n",
       "4   2.918519  chb01_01.edf  \n",
       "\n",
       "[5 rows x 25 columns]"
      ]
     },
     "execution_count": 6,
     "metadata": {},
     "output_type": "execute_result"
    }
   ],
   "source": [
    "df.head()"
   ]
  },
  {
   "cell_type": "code",
   "execution_count": 7,
   "metadata": {},
   "outputs": [
    {
     "data": {
      "text/plain": [
       "time         0\n",
       "FP1-F7       0\n",
       "F7-T7        0\n",
       "T7-P7        0\n",
       "P7-O1        0\n",
       "FP1-F3       0\n",
       "F3-C3        0\n",
       "C3-P3        0\n",
       "P3-O1        0\n",
       "FP2-F4       0\n",
       "F4-C4        0\n",
       "C4-P4        0\n",
       "P4-O2        0\n",
       "FP2-F8       0\n",
       "F8-T8        0\n",
       "T8-P8-0      0\n",
       "P8-O2        0\n",
       "FZ-CZ        0\n",
       "CZ-PZ        0\n",
       "P7-T7        0\n",
       "T7-FT9       0\n",
       "FT9-FT10     0\n",
       "FT10-T8      0\n",
       "T8-P8-1      0\n",
       "File Name    0\n",
       "dtype: int64"
      ]
     },
     "execution_count": 7,
     "metadata": {},
     "output_type": "execute_result"
    }
   ],
   "source": [
    "df.isnull().sum()"
   ]
  },
  {
   "cell_type": "code",
   "execution_count": 8,
   "metadata": {},
   "outputs": [
    {
     "name": "stdout",
     "output_type": "stream",
     "text": [
      "<class 'pandas.core.frame.DataFrame'>\n",
      "RangeIndex: 18686464 entries, 0 to 18686463\n",
      "Data columns (total 25 columns):\n",
      " #   Column     Dtype  \n",
      "---  ------     -----  \n",
      " 0   time       float64\n",
      " 1   FP1-F7     float64\n",
      " 2   F7-T7      float64\n",
      " 3   T7-P7      float64\n",
      " 4   P7-O1      float64\n",
      " 5   FP1-F3     float64\n",
      " 6   F3-C3      float64\n",
      " 7   C3-P3      float64\n",
      " 8   P3-O1      float64\n",
      " 9   FP2-F4     float64\n",
      " 10  F4-C4      float64\n",
      " 11  C4-P4      float64\n",
      " 12  P4-O2      float64\n",
      " 13  FP2-F8     float64\n",
      " 14  F8-T8      float64\n",
      " 15  T8-P8-0    float64\n",
      " 16  P8-O2      float64\n",
      " 17  FZ-CZ      float64\n",
      " 18  CZ-PZ      float64\n",
      " 19  P7-T7      float64\n",
      " 20  T7-FT9     float64\n",
      " 21  FT9-FT10   float64\n",
      " 22  FT10-T8    float64\n",
      " 23  T8-P8-1    float64\n",
      " 24  File Name  object \n",
      "dtypes: float64(24), object(1)\n",
      "memory usage: 3.5+ GB\n"
     ]
    }
   ],
   "source": [
    "df.info()"
   ]
  },
  {
   "cell_type": "code",
   "execution_count": 9,
   "metadata": {},
   "outputs": [],
   "source": [
    "df_withoutname = df.drop(\"File Name\", axis= 1)"
   ]
  },
  {
   "cell_type": "code",
   "execution_count": 10,
   "metadata": {},
   "outputs": [
    {
     "data": {
      "text/plain": [
       "<Figure size 10000x10000 with 0 Axes>"
      ]
     },
     "execution_count": 10,
     "metadata": {},
     "output_type": "execute_result"
    },
    {
     "data": {
      "text/plain": [
       "<Figure size 10000x10000 with 0 Axes>"
      ]
     },
     "metadata": {},
     "output_type": "display_data"
    }
   ],
   "source": [
    "plt.figure(figsize=(100, 100))"
   ]
  },
  {
   "cell_type": "code",
   "execution_count": 11,
   "metadata": {},
   "outputs": [
    {
     "data": {
      "text/html": [
       "<div>\n",
       "<style scoped>\n",
       "    .dataframe tbody tr th:only-of-type {\n",
       "        vertical-align: middle;\n",
       "    }\n",
       "\n",
       "    .dataframe tbody tr th {\n",
       "        vertical-align: top;\n",
       "    }\n",
       "\n",
       "    .dataframe thead th {\n",
       "        text-align: right;\n",
       "    }\n",
       "</style>\n",
       "<table border=\"1\" class=\"dataframe\">\n",
       "  <thead>\n",
       "    <tr style=\"text-align: right;\">\n",
       "      <th></th>\n",
       "      <th>time</th>\n",
       "      <th>FP1-F7</th>\n",
       "      <th>F7-T7</th>\n",
       "      <th>T7-P7</th>\n",
       "      <th>P7-O1</th>\n",
       "      <th>FP1-F3</th>\n",
       "      <th>F3-C3</th>\n",
       "      <th>C3-P3</th>\n",
       "      <th>P3-O1</th>\n",
       "      <th>FP2-F4</th>\n",
       "      <th>...</th>\n",
       "      <th>F8-T8</th>\n",
       "      <th>T8-P8-0</th>\n",
       "      <th>P8-O2</th>\n",
       "      <th>FZ-CZ</th>\n",
       "      <th>CZ-PZ</th>\n",
       "      <th>P7-T7</th>\n",
       "      <th>T7-FT9</th>\n",
       "      <th>FT9-FT10</th>\n",
       "      <th>FT10-T8</th>\n",
       "      <th>T8-P8-1</th>\n",
       "    </tr>\n",
       "  </thead>\n",
       "  <tbody>\n",
       "    <tr>\n",
       "      <th>time</th>\n",
       "      <td>1.000000</td>\n",
       "      <td>0.000009</td>\n",
       "      <td>-0.000116</td>\n",
       "      <td>0.000121</td>\n",
       "      <td>0.000022</td>\n",
       "      <td>0.000019</td>\n",
       "      <td>0.000042</td>\n",
       "      <td>-0.000066</td>\n",
       "      <td>-0.000125</td>\n",
       "      <td>-0.000145</td>\n",
       "      <td>...</td>\n",
       "      <td>-0.000041</td>\n",
       "      <td>0.000094</td>\n",
       "      <td>-0.000070</td>\n",
       "      <td>-0.000064</td>\n",
       "      <td>-0.000026</td>\n",
       "      <td>-0.000121</td>\n",
       "      <td>-0.000007</td>\n",
       "      <td>-0.000194</td>\n",
       "      <td>-0.000222</td>\n",
       "      <td>0.000094</td>\n",
       "    </tr>\n",
       "    <tr>\n",
       "      <th>FP1-F7</th>\n",
       "      <td>0.000009</td>\n",
       "      <td>1.000000</td>\n",
       "      <td>0.134009</td>\n",
       "      <td>-0.040726</td>\n",
       "      <td>-0.048069</td>\n",
       "      <td>0.777635</td>\n",
       "      <td>0.267050</td>\n",
       "      <td>0.073780</td>\n",
       "      <td>0.066983</td>\n",
       "      <td>0.602187</td>\n",
       "      <td>...</td>\n",
       "      <td>0.414743</td>\n",
       "      <td>0.058915</td>\n",
       "      <td>0.038183</td>\n",
       "      <td>0.267642</td>\n",
       "      <td>0.063795</td>\n",
       "      <td>0.040726</td>\n",
       "      <td>0.186097</td>\n",
       "      <td>-0.264354</td>\n",
       "      <td>-0.010254</td>\n",
       "      <td>0.058915</td>\n",
       "    </tr>\n",
       "    <tr>\n",
       "      <th>F7-T7</th>\n",
       "      <td>-0.000116</td>\n",
       "      <td>0.134009</td>\n",
       "      <td>1.000000</td>\n",
       "      <td>0.205279</td>\n",
       "      <td>-0.038745</td>\n",
       "      <td>0.314734</td>\n",
       "      <td>0.445465</td>\n",
       "      <td>0.290886</td>\n",
       "      <td>0.096025</td>\n",
       "      <td>0.222636</td>\n",
       "      <td>...</td>\n",
       "      <td>0.106839</td>\n",
       "      <td>0.071074</td>\n",
       "      <td>0.024803</td>\n",
       "      <td>0.275431</td>\n",
       "      <td>0.172055</td>\n",
       "      <td>-0.205279</td>\n",
       "      <td>-0.575686</td>\n",
       "      <td>0.292269</td>\n",
       "      <td>-0.082406</td>\n",
       "      <td>0.071074</td>\n",
       "    </tr>\n",
       "    <tr>\n",
       "      <th>T7-P7</th>\n",
       "      <td>0.000121</td>\n",
       "      <td>-0.040726</td>\n",
       "      <td>0.205279</td>\n",
       "      <td>1.000000</td>\n",
       "      <td>0.120710</td>\n",
       "      <td>0.087750</td>\n",
       "      <td>0.310157</td>\n",
       "      <td>0.444063</td>\n",
       "      <td>0.216336</td>\n",
       "      <td>0.099461</td>\n",
       "      <td>...</td>\n",
       "      <td>0.062739</td>\n",
       "      <td>0.312322</td>\n",
       "      <td>0.077331</td>\n",
       "      <td>0.241783</td>\n",
       "      <td>0.240076</td>\n",
       "      <td>-1.000000</td>\n",
       "      <td>0.020132</td>\n",
       "      <td>0.186336</td>\n",
       "      <td>0.052594</td>\n",
       "      <td>0.312322</td>\n",
       "    </tr>\n",
       "    <tr>\n",
       "      <th>P7-O1</th>\n",
       "      <td>0.000022</td>\n",
       "      <td>-0.048069</td>\n",
       "      <td>-0.038745</td>\n",
       "      <td>0.120710</td>\n",
       "      <td>1.000000</td>\n",
       "      <td>-0.035457</td>\n",
       "      <td>0.110067</td>\n",
       "      <td>0.235564</td>\n",
       "      <td>0.520215</td>\n",
       "      <td>0.028322</td>\n",
       "      <td>...</td>\n",
       "      <td>0.130706</td>\n",
       "      <td>0.223750</td>\n",
       "      <td>0.223580</td>\n",
       "      <td>0.121020</td>\n",
       "      <td>0.208489</td>\n",
       "      <td>-0.120710</td>\n",
       "      <td>0.022608</td>\n",
       "      <td>0.218181</td>\n",
       "      <td>0.030228</td>\n",
       "      <td>0.223750</td>\n",
       "    </tr>\n",
       "    <tr>\n",
       "      <th>FP1-F3</th>\n",
       "      <td>0.000019</td>\n",
       "      <td>0.777635</td>\n",
       "      <td>0.314734</td>\n",
       "      <td>0.087750</td>\n",
       "      <td>-0.035457</td>\n",
       "      <td>1.000000</td>\n",
       "      <td>0.128058</td>\n",
       "      <td>-0.031400</td>\n",
       "      <td>-0.109151</td>\n",
       "      <td>0.702842</td>\n",
       "      <td>...</td>\n",
       "      <td>0.213256</td>\n",
       "      <td>0.073465</td>\n",
       "      <td>0.033010</td>\n",
       "      <td>0.190805</td>\n",
       "      <td>-0.061403</td>\n",
       "      <td>-0.087750</td>\n",
       "      <td>-0.084226</td>\n",
       "      <td>-0.014790</td>\n",
       "      <td>-0.038261</td>\n",
       "      <td>0.073465</td>\n",
       "    </tr>\n",
       "    <tr>\n",
       "      <th>F3-C3</th>\n",
       "      <td>0.000042</td>\n",
       "      <td>0.267050</td>\n",
       "      <td>0.445465</td>\n",
       "      <td>0.310157</td>\n",
       "      <td>0.110067</td>\n",
       "      <td>0.128058</td>\n",
       "      <td>1.000000</td>\n",
       "      <td>0.015941</td>\n",
       "      <td>-0.077777</td>\n",
       "      <td>0.211462</td>\n",
       "      <td>...</td>\n",
       "      <td>0.213762</td>\n",
       "      <td>0.190978</td>\n",
       "      <td>0.142330</td>\n",
       "      <td>0.597458</td>\n",
       "      <td>0.225848</td>\n",
       "      <td>-0.310157</td>\n",
       "      <td>-0.095837</td>\n",
       "      <td>0.018438</td>\n",
       "      <td>0.055927</td>\n",
       "      <td>0.190978</td>\n",
       "    </tr>\n",
       "    <tr>\n",
       "      <th>C3-P3</th>\n",
       "      <td>-0.000066</td>\n",
       "      <td>0.073780</td>\n",
       "      <td>0.290886</td>\n",
       "      <td>0.444063</td>\n",
       "      <td>0.235564</td>\n",
       "      <td>-0.031400</td>\n",
       "      <td>0.015941</td>\n",
       "      <td>1.000000</td>\n",
       "      <td>0.096423</td>\n",
       "      <td>0.034252</td>\n",
       "      <td>...</td>\n",
       "      <td>0.160802</td>\n",
       "      <td>0.214548</td>\n",
       "      <td>0.136801</td>\n",
       "      <td>0.169919</td>\n",
       "      <td>0.381538</td>\n",
       "      <td>-0.444063</td>\n",
       "      <td>-0.074903</td>\n",
       "      <td>0.065035</td>\n",
       "      <td>0.045441</td>\n",
       "      <td>0.214548</td>\n",
       "    </tr>\n",
       "    <tr>\n",
       "      <th>P3-O1</th>\n",
       "      <td>-0.000125</td>\n",
       "      <td>0.066983</td>\n",
       "      <td>0.096025</td>\n",
       "      <td>0.216336</td>\n",
       "      <td>0.520215</td>\n",
       "      <td>-0.109151</td>\n",
       "      <td>-0.077777</td>\n",
       "      <td>0.096423</td>\n",
       "      <td>1.000000</td>\n",
       "      <td>-0.094184</td>\n",
       "      <td>...</td>\n",
       "      <td>0.216596</td>\n",
       "      <td>0.094773</td>\n",
       "      <td>-0.001486</td>\n",
       "      <td>-0.102035</td>\n",
       "      <td>0.154751</td>\n",
       "      <td>-0.216336</td>\n",
       "      <td>0.076998</td>\n",
       "      <td>0.142859</td>\n",
       "      <td>-0.070191</td>\n",
       "      <td>0.094773</td>\n",
       "    </tr>\n",
       "    <tr>\n",
       "      <th>FP2-F4</th>\n",
       "      <td>-0.000145</td>\n",
       "      <td>0.602187</td>\n",
       "      <td>0.222636</td>\n",
       "      <td>0.099461</td>\n",
       "      <td>0.028322</td>\n",
       "      <td>0.702842</td>\n",
       "      <td>0.211462</td>\n",
       "      <td>0.034252</td>\n",
       "      <td>-0.094184</td>\n",
       "      <td>1.000000</td>\n",
       "      <td>...</td>\n",
       "      <td>0.249287</td>\n",
       "      <td>0.096668</td>\n",
       "      <td>0.010284</td>\n",
       "      <td>0.215105</td>\n",
       "      <td>-0.003567</td>\n",
       "      <td>-0.099461</td>\n",
       "      <td>-0.003877</td>\n",
       "      <td>-0.010292</td>\n",
       "      <td>0.108208</td>\n",
       "      <td>0.096668</td>\n",
       "    </tr>\n",
       "    <tr>\n",
       "      <th>F4-C4</th>\n",
       "      <td>-0.000046</td>\n",
       "      <td>0.297059</td>\n",
       "      <td>0.242346</td>\n",
       "      <td>0.202595</td>\n",
       "      <td>0.087926</td>\n",
       "      <td>0.180753</td>\n",
       "      <td>0.430714</td>\n",
       "      <td>0.169467</td>\n",
       "      <td>0.053135</td>\n",
       "      <td>-0.033046</td>\n",
       "      <td>...</td>\n",
       "      <td>0.472912</td>\n",
       "      <td>0.238417</td>\n",
       "      <td>0.021018</td>\n",
       "      <td>0.504102</td>\n",
       "      <td>0.135123</td>\n",
       "      <td>-0.202595</td>\n",
       "      <td>-0.061180</td>\n",
       "      <td>-0.121060</td>\n",
       "      <td>0.226634</td>\n",
       "      <td>0.238417</td>\n",
       "    </tr>\n",
       "    <tr>\n",
       "      <th>C4-P4</th>\n",
       "      <td>0.000243</td>\n",
       "      <td>0.126656</td>\n",
       "      <td>0.125264</td>\n",
       "      <td>0.255419</td>\n",
       "      <td>0.223215</td>\n",
       "      <td>-0.005151</td>\n",
       "      <td>0.313570</td>\n",
       "      <td>0.369974</td>\n",
       "      <td>0.058076</td>\n",
       "      <td>-0.002514</td>\n",
       "      <td>...</td>\n",
       "      <td>0.205497</td>\n",
       "      <td>0.315049</td>\n",
       "      <td>0.295804</td>\n",
       "      <td>0.237745</td>\n",
       "      <td>0.439165</td>\n",
       "      <td>-0.255419</td>\n",
       "      <td>0.056525</td>\n",
       "      <td>-0.160600</td>\n",
       "      <td>0.053435</td>\n",
       "      <td>0.315049</td>\n",
       "    </tr>\n",
       "    <tr>\n",
       "      <th>P4-O2</th>\n",
       "      <td>0.000027</td>\n",
       "      <td>0.092409</td>\n",
       "      <td>0.057191</td>\n",
       "      <td>0.119975</td>\n",
       "      <td>0.322156</td>\n",
       "      <td>-0.028895</td>\n",
       "      <td>0.027048</td>\n",
       "      <td>0.201003</td>\n",
       "      <td>0.409346</td>\n",
       "      <td>-0.092792</td>\n",
       "      <td>...</td>\n",
       "      <td>0.072518</td>\n",
       "      <td>0.143444</td>\n",
       "      <td>0.584245</td>\n",
       "      <td>-0.024463</td>\n",
       "      <td>0.181936</td>\n",
       "      <td>-0.119975</td>\n",
       "      <td>0.030321</td>\n",
       "      <td>-0.082990</td>\n",
       "      <td>-0.136460</td>\n",
       "      <td>0.143444</td>\n",
       "    </tr>\n",
       "    <tr>\n",
       "      <th>FP2-F8</th>\n",
       "      <td>-0.000124</td>\n",
       "      <td>0.627266</td>\n",
       "      <td>0.397749</td>\n",
       "      <td>0.149292</td>\n",
       "      <td>0.008610</td>\n",
       "      <td>0.585592</td>\n",
       "      <td>0.331613</td>\n",
       "      <td>0.156841</td>\n",
       "      <td>0.097623</td>\n",
       "      <td>0.643533</td>\n",
       "      <td>...</td>\n",
       "      <td>0.169547</td>\n",
       "      <td>-0.152601</td>\n",
       "      <td>-0.069831</td>\n",
       "      <td>0.242835</td>\n",
       "      <td>0.099302</td>\n",
       "      <td>-0.149292</td>\n",
       "      <td>0.101795</td>\n",
       "      <td>0.325761</td>\n",
       "      <td>-0.105640</td>\n",
       "      <td>-0.152601</td>\n",
       "    </tr>\n",
       "    <tr>\n",
       "      <th>F8-T8</th>\n",
       "      <td>-0.000041</td>\n",
       "      <td>0.414743</td>\n",
       "      <td>0.106839</td>\n",
       "      <td>0.062739</td>\n",
       "      <td>0.130706</td>\n",
       "      <td>0.213256</td>\n",
       "      <td>0.213762</td>\n",
       "      <td>0.160802</td>\n",
       "      <td>0.216596</td>\n",
       "      <td>0.249287</td>\n",
       "      <td>...</td>\n",
       "      <td>1.000000</td>\n",
       "      <td>0.068764</td>\n",
       "      <td>-0.147797</td>\n",
       "      <td>0.266639</td>\n",
       "      <td>0.147666</td>\n",
       "      <td>-0.062739</td>\n",
       "      <td>0.036966</td>\n",
       "      <td>-0.175386</td>\n",
       "      <td>0.606338</td>\n",
       "      <td>0.068764</td>\n",
       "    </tr>\n",
       "    <tr>\n",
       "      <th>T8-P8-0</th>\n",
       "      <td>0.000094</td>\n",
       "      <td>0.058915</td>\n",
       "      <td>0.071074</td>\n",
       "      <td>0.312322</td>\n",
       "      <td>0.223750</td>\n",
       "      <td>0.073465</td>\n",
       "      <td>0.190978</td>\n",
       "      <td>0.214548</td>\n",
       "      <td>0.094773</td>\n",
       "      <td>0.096668</td>\n",
       "      <td>...</td>\n",
       "      <td>0.068764</td>\n",
       "      <td>1.000000</td>\n",
       "      <td>-0.133691</td>\n",
       "      <td>0.230178</td>\n",
       "      <td>0.210037</td>\n",
       "      <td>-0.312322</td>\n",
       "      <td>-0.083950</td>\n",
       "      <td>-0.306813</td>\n",
       "      <td>0.034467</td>\n",
       "      <td>1.000000</td>\n",
       "    </tr>\n",
       "    <tr>\n",
       "      <th>P8-O2</th>\n",
       "      <td>-0.000070</td>\n",
       "      <td>0.038183</td>\n",
       "      <td>0.024803</td>\n",
       "      <td>0.077331</td>\n",
       "      <td>0.223580</td>\n",
       "      <td>0.033010</td>\n",
       "      <td>0.142330</td>\n",
       "      <td>0.136801</td>\n",
       "      <td>-0.001486</td>\n",
       "      <td>0.010284</td>\n",
       "      <td>...</td>\n",
       "      <td>-0.147797</td>\n",
       "      <td>-0.133691</td>\n",
       "      <td>1.000000</td>\n",
       "      <td>0.118294</td>\n",
       "      <td>0.172205</td>\n",
       "      <td>-0.077331</td>\n",
       "      <td>-0.038826</td>\n",
       "      <td>-0.199948</td>\n",
       "      <td>-0.175261</td>\n",
       "      <td>-0.133691</td>\n",
       "    </tr>\n",
       "    <tr>\n",
       "      <th>FZ-CZ</th>\n",
       "      <td>-0.000064</td>\n",
       "      <td>0.267642</td>\n",
       "      <td>0.275431</td>\n",
       "      <td>0.241783</td>\n",
       "      <td>0.121020</td>\n",
       "      <td>0.190805</td>\n",
       "      <td>0.597458</td>\n",
       "      <td>0.169919</td>\n",
       "      <td>-0.102035</td>\n",
       "      <td>0.215105</td>\n",
       "      <td>...</td>\n",
       "      <td>0.266639</td>\n",
       "      <td>0.230178</td>\n",
       "      <td>0.118294</td>\n",
       "      <td>1.000000</td>\n",
       "      <td>-0.045369</td>\n",
       "      <td>-0.241783</td>\n",
       "      <td>-0.044266</td>\n",
       "      <td>-0.081252</td>\n",
       "      <td>0.110094</td>\n",
       "      <td>0.230178</td>\n",
       "    </tr>\n",
       "    <tr>\n",
       "      <th>CZ-PZ</th>\n",
       "      <td>-0.000026</td>\n",
       "      <td>0.063795</td>\n",
       "      <td>0.172055</td>\n",
       "      <td>0.240076</td>\n",
       "      <td>0.208489</td>\n",
       "      <td>-0.061403</td>\n",
       "      <td>0.225848</td>\n",
       "      <td>0.381538</td>\n",
       "      <td>0.154751</td>\n",
       "      <td>-0.003567</td>\n",
       "      <td>...</td>\n",
       "      <td>0.147666</td>\n",
       "      <td>0.210037</td>\n",
       "      <td>0.172205</td>\n",
       "      <td>-0.045369</td>\n",
       "      <td>1.000000</td>\n",
       "      <td>-0.240076</td>\n",
       "      <td>-0.011852</td>\n",
       "      <td>-0.017355</td>\n",
       "      <td>0.024007</td>\n",
       "      <td>0.210037</td>\n",
       "    </tr>\n",
       "    <tr>\n",
       "      <th>P7-T7</th>\n",
       "      <td>-0.000121</td>\n",
       "      <td>0.040726</td>\n",
       "      <td>-0.205279</td>\n",
       "      <td>-1.000000</td>\n",
       "      <td>-0.120710</td>\n",
       "      <td>-0.087750</td>\n",
       "      <td>-0.310157</td>\n",
       "      <td>-0.444063</td>\n",
       "      <td>-0.216336</td>\n",
       "      <td>-0.099461</td>\n",
       "      <td>...</td>\n",
       "      <td>-0.062739</td>\n",
       "      <td>-0.312322</td>\n",
       "      <td>-0.077331</td>\n",
       "      <td>-0.241783</td>\n",
       "      <td>-0.240076</td>\n",
       "      <td>1.000000</td>\n",
       "      <td>-0.020132</td>\n",
       "      <td>-0.186336</td>\n",
       "      <td>-0.052594</td>\n",
       "      <td>-0.312322</td>\n",
       "    </tr>\n",
       "    <tr>\n",
       "      <th>T7-FT9</th>\n",
       "      <td>-0.000007</td>\n",
       "      <td>0.186097</td>\n",
       "      <td>-0.575686</td>\n",
       "      <td>0.020132</td>\n",
       "      <td>0.022608</td>\n",
       "      <td>-0.084226</td>\n",
       "      <td>-0.095837</td>\n",
       "      <td>-0.074903</td>\n",
       "      <td>0.076998</td>\n",
       "      <td>-0.003877</td>\n",
       "      <td>...</td>\n",
       "      <td>0.036966</td>\n",
       "      <td>-0.083950</td>\n",
       "      <td>-0.038826</td>\n",
       "      <td>-0.044266</td>\n",
       "      <td>-0.011852</td>\n",
       "      <td>-0.020132</td>\n",
       "      <td>1.000000</td>\n",
       "      <td>-0.248372</td>\n",
       "      <td>-0.102687</td>\n",
       "      <td>-0.083950</td>\n",
       "    </tr>\n",
       "    <tr>\n",
       "      <th>FT9-FT10</th>\n",
       "      <td>-0.000194</td>\n",
       "      <td>-0.264354</td>\n",
       "      <td>0.292269</td>\n",
       "      <td>0.186336</td>\n",
       "      <td>0.218181</td>\n",
       "      <td>-0.014790</td>\n",
       "      <td>0.018438</td>\n",
       "      <td>0.065035</td>\n",
       "      <td>0.142859</td>\n",
       "      <td>-0.010292</td>\n",
       "      <td>...</td>\n",
       "      <td>-0.175386</td>\n",
       "      <td>-0.306813</td>\n",
       "      <td>-0.199948</td>\n",
       "      <td>-0.081252</td>\n",
       "      <td>-0.017355</td>\n",
       "      <td>-0.186336</td>\n",
       "      <td>-0.248372</td>\n",
       "      <td>1.000000</td>\n",
       "      <td>-0.247534</td>\n",
       "      <td>-0.306813</td>\n",
       "    </tr>\n",
       "    <tr>\n",
       "      <th>FT10-T8</th>\n",
       "      <td>-0.000222</td>\n",
       "      <td>-0.010254</td>\n",
       "      <td>-0.082406</td>\n",
       "      <td>0.052594</td>\n",
       "      <td>0.030228</td>\n",
       "      <td>-0.038261</td>\n",
       "      <td>0.055927</td>\n",
       "      <td>0.045441</td>\n",
       "      <td>-0.070191</td>\n",
       "      <td>0.108208</td>\n",
       "      <td>...</td>\n",
       "      <td>0.606338</td>\n",
       "      <td>0.034467</td>\n",
       "      <td>-0.175261</td>\n",
       "      <td>0.110094</td>\n",
       "      <td>0.024007</td>\n",
       "      <td>-0.052594</td>\n",
       "      <td>-0.102687</td>\n",
       "      <td>-0.247534</td>\n",
       "      <td>1.000000</td>\n",
       "      <td>0.034467</td>\n",
       "    </tr>\n",
       "    <tr>\n",
       "      <th>T8-P8-1</th>\n",
       "      <td>0.000094</td>\n",
       "      <td>0.058915</td>\n",
       "      <td>0.071074</td>\n",
       "      <td>0.312322</td>\n",
       "      <td>0.223750</td>\n",
       "      <td>0.073465</td>\n",
       "      <td>0.190978</td>\n",
       "      <td>0.214548</td>\n",
       "      <td>0.094773</td>\n",
       "      <td>0.096668</td>\n",
       "      <td>...</td>\n",
       "      <td>0.068764</td>\n",
       "      <td>1.000000</td>\n",
       "      <td>-0.133691</td>\n",
       "      <td>0.230178</td>\n",
       "      <td>0.210037</td>\n",
       "      <td>-0.312322</td>\n",
       "      <td>-0.083950</td>\n",
       "      <td>-0.306813</td>\n",
       "      <td>0.034467</td>\n",
       "      <td>1.000000</td>\n",
       "    </tr>\n",
       "  </tbody>\n",
       "</table>\n",
       "<p>24 rows × 24 columns</p>\n",
       "</div>"
      ],
      "text/plain": [
       "              time    FP1-F7     F7-T7     T7-P7     P7-O1    FP1-F3  \\\n",
       "time      1.000000  0.000009 -0.000116  0.000121  0.000022  0.000019   \n",
       "FP1-F7    0.000009  1.000000  0.134009 -0.040726 -0.048069  0.777635   \n",
       "F7-T7    -0.000116  0.134009  1.000000  0.205279 -0.038745  0.314734   \n",
       "T7-P7     0.000121 -0.040726  0.205279  1.000000  0.120710  0.087750   \n",
       "P7-O1     0.000022 -0.048069 -0.038745  0.120710  1.000000 -0.035457   \n",
       "FP1-F3    0.000019  0.777635  0.314734  0.087750 -0.035457  1.000000   \n",
       "F3-C3     0.000042  0.267050  0.445465  0.310157  0.110067  0.128058   \n",
       "C3-P3    -0.000066  0.073780  0.290886  0.444063  0.235564 -0.031400   \n",
       "P3-O1    -0.000125  0.066983  0.096025  0.216336  0.520215 -0.109151   \n",
       "FP2-F4   -0.000145  0.602187  0.222636  0.099461  0.028322  0.702842   \n",
       "F4-C4    -0.000046  0.297059  0.242346  0.202595  0.087926  0.180753   \n",
       "C4-P4     0.000243  0.126656  0.125264  0.255419  0.223215 -0.005151   \n",
       "P4-O2     0.000027  0.092409  0.057191  0.119975  0.322156 -0.028895   \n",
       "FP2-F8   -0.000124  0.627266  0.397749  0.149292  0.008610  0.585592   \n",
       "F8-T8    -0.000041  0.414743  0.106839  0.062739  0.130706  0.213256   \n",
       "T8-P8-0   0.000094  0.058915  0.071074  0.312322  0.223750  0.073465   \n",
       "P8-O2    -0.000070  0.038183  0.024803  0.077331  0.223580  0.033010   \n",
       "FZ-CZ    -0.000064  0.267642  0.275431  0.241783  0.121020  0.190805   \n",
       "CZ-PZ    -0.000026  0.063795  0.172055  0.240076  0.208489 -0.061403   \n",
       "P7-T7    -0.000121  0.040726 -0.205279 -1.000000 -0.120710 -0.087750   \n",
       "T7-FT9   -0.000007  0.186097 -0.575686  0.020132  0.022608 -0.084226   \n",
       "FT9-FT10 -0.000194 -0.264354  0.292269  0.186336  0.218181 -0.014790   \n",
       "FT10-T8  -0.000222 -0.010254 -0.082406  0.052594  0.030228 -0.038261   \n",
       "T8-P8-1   0.000094  0.058915  0.071074  0.312322  0.223750  0.073465   \n",
       "\n",
       "             F3-C3     C3-P3     P3-O1    FP2-F4  ...     F8-T8   T8-P8-0  \\\n",
       "time      0.000042 -0.000066 -0.000125 -0.000145  ... -0.000041  0.000094   \n",
       "FP1-F7    0.267050  0.073780  0.066983  0.602187  ...  0.414743  0.058915   \n",
       "F7-T7     0.445465  0.290886  0.096025  0.222636  ...  0.106839  0.071074   \n",
       "T7-P7     0.310157  0.444063  0.216336  0.099461  ...  0.062739  0.312322   \n",
       "P7-O1     0.110067  0.235564  0.520215  0.028322  ...  0.130706  0.223750   \n",
       "FP1-F3    0.128058 -0.031400 -0.109151  0.702842  ...  0.213256  0.073465   \n",
       "F3-C3     1.000000  0.015941 -0.077777  0.211462  ...  0.213762  0.190978   \n",
       "C3-P3     0.015941  1.000000  0.096423  0.034252  ...  0.160802  0.214548   \n",
       "P3-O1    -0.077777  0.096423  1.000000 -0.094184  ...  0.216596  0.094773   \n",
       "FP2-F4    0.211462  0.034252 -0.094184  1.000000  ...  0.249287  0.096668   \n",
       "F4-C4     0.430714  0.169467  0.053135 -0.033046  ...  0.472912  0.238417   \n",
       "C4-P4     0.313570  0.369974  0.058076 -0.002514  ...  0.205497  0.315049   \n",
       "P4-O2     0.027048  0.201003  0.409346 -0.092792  ...  0.072518  0.143444   \n",
       "FP2-F8    0.331613  0.156841  0.097623  0.643533  ...  0.169547 -0.152601   \n",
       "F8-T8     0.213762  0.160802  0.216596  0.249287  ...  1.000000  0.068764   \n",
       "T8-P8-0   0.190978  0.214548  0.094773  0.096668  ...  0.068764  1.000000   \n",
       "P8-O2     0.142330  0.136801 -0.001486  0.010284  ... -0.147797 -0.133691   \n",
       "FZ-CZ     0.597458  0.169919 -0.102035  0.215105  ...  0.266639  0.230178   \n",
       "CZ-PZ     0.225848  0.381538  0.154751 -0.003567  ...  0.147666  0.210037   \n",
       "P7-T7    -0.310157 -0.444063 -0.216336 -0.099461  ... -0.062739 -0.312322   \n",
       "T7-FT9   -0.095837 -0.074903  0.076998 -0.003877  ...  0.036966 -0.083950   \n",
       "FT9-FT10  0.018438  0.065035  0.142859 -0.010292  ... -0.175386 -0.306813   \n",
       "FT10-T8   0.055927  0.045441 -0.070191  0.108208  ...  0.606338  0.034467   \n",
       "T8-P8-1   0.190978  0.214548  0.094773  0.096668  ...  0.068764  1.000000   \n",
       "\n",
       "             P8-O2     FZ-CZ     CZ-PZ     P7-T7    T7-FT9  FT9-FT10  \\\n",
       "time     -0.000070 -0.000064 -0.000026 -0.000121 -0.000007 -0.000194   \n",
       "FP1-F7    0.038183  0.267642  0.063795  0.040726  0.186097 -0.264354   \n",
       "F7-T7     0.024803  0.275431  0.172055 -0.205279 -0.575686  0.292269   \n",
       "T7-P7     0.077331  0.241783  0.240076 -1.000000  0.020132  0.186336   \n",
       "P7-O1     0.223580  0.121020  0.208489 -0.120710  0.022608  0.218181   \n",
       "FP1-F3    0.033010  0.190805 -0.061403 -0.087750 -0.084226 -0.014790   \n",
       "F3-C3     0.142330  0.597458  0.225848 -0.310157 -0.095837  0.018438   \n",
       "C3-P3     0.136801  0.169919  0.381538 -0.444063 -0.074903  0.065035   \n",
       "P3-O1    -0.001486 -0.102035  0.154751 -0.216336  0.076998  0.142859   \n",
       "FP2-F4    0.010284  0.215105 -0.003567 -0.099461 -0.003877 -0.010292   \n",
       "F4-C4     0.021018  0.504102  0.135123 -0.202595 -0.061180 -0.121060   \n",
       "C4-P4     0.295804  0.237745  0.439165 -0.255419  0.056525 -0.160600   \n",
       "P4-O2     0.584245 -0.024463  0.181936 -0.119975  0.030321 -0.082990   \n",
       "FP2-F8   -0.069831  0.242835  0.099302 -0.149292  0.101795  0.325761   \n",
       "F8-T8    -0.147797  0.266639  0.147666 -0.062739  0.036966 -0.175386   \n",
       "T8-P8-0  -0.133691  0.230178  0.210037 -0.312322 -0.083950 -0.306813   \n",
       "P8-O2     1.000000  0.118294  0.172205 -0.077331 -0.038826 -0.199948   \n",
       "FZ-CZ     0.118294  1.000000 -0.045369 -0.241783 -0.044266 -0.081252   \n",
       "CZ-PZ     0.172205 -0.045369  1.000000 -0.240076 -0.011852 -0.017355   \n",
       "P7-T7    -0.077331 -0.241783 -0.240076  1.000000 -0.020132 -0.186336   \n",
       "T7-FT9   -0.038826 -0.044266 -0.011852 -0.020132  1.000000 -0.248372   \n",
       "FT9-FT10 -0.199948 -0.081252 -0.017355 -0.186336 -0.248372  1.000000   \n",
       "FT10-T8  -0.175261  0.110094  0.024007 -0.052594 -0.102687 -0.247534   \n",
       "T8-P8-1  -0.133691  0.230178  0.210037 -0.312322 -0.083950 -0.306813   \n",
       "\n",
       "           FT10-T8   T8-P8-1  \n",
       "time     -0.000222  0.000094  \n",
       "FP1-F7   -0.010254  0.058915  \n",
       "F7-T7    -0.082406  0.071074  \n",
       "T7-P7     0.052594  0.312322  \n",
       "P7-O1     0.030228  0.223750  \n",
       "FP1-F3   -0.038261  0.073465  \n",
       "F3-C3     0.055927  0.190978  \n",
       "C3-P3     0.045441  0.214548  \n",
       "P3-O1    -0.070191  0.094773  \n",
       "FP2-F4    0.108208  0.096668  \n",
       "F4-C4     0.226634  0.238417  \n",
       "C4-P4     0.053435  0.315049  \n",
       "P4-O2    -0.136460  0.143444  \n",
       "FP2-F8   -0.105640 -0.152601  \n",
       "F8-T8     0.606338  0.068764  \n",
       "T8-P8-0   0.034467  1.000000  \n",
       "P8-O2    -0.175261 -0.133691  \n",
       "FZ-CZ     0.110094  0.230178  \n",
       "CZ-PZ     0.024007  0.210037  \n",
       "P7-T7    -0.052594 -0.312322  \n",
       "T7-FT9   -0.102687 -0.083950  \n",
       "FT9-FT10 -0.247534 -0.306813  \n",
       "FT10-T8   1.000000  0.034467  \n",
       "T8-P8-1   0.034467  1.000000  \n",
       "\n",
       "[24 rows x 24 columns]"
      ]
     },
     "execution_count": 11,
     "metadata": {},
     "output_type": "execute_result"
    }
   ],
   "source": [
    "df_withoutname.corr()"
   ]
  },
  {
   "cell_type": "code",
   "execution_count": 12,
   "metadata": {},
   "outputs": [
    {
     "data": {
      "text/plain": [
       "<Axes: >"
      ]
     },
     "execution_count": 12,
     "metadata": {},
     "output_type": "execute_result"
    },
    {
     "data": {
      "image/png": "[encoded data removed]",
      "text/plain": [
       "<Figure size 640x480 with 2 Axes>"
      ]
     },
     "metadata": {},
     "output_type": "display_data"
    }
   ],
   "source": [
    "sns.heatmap(df_withoutname.corr(),cbar=True,annot=True,cmap='Blues', annot_kws={'size': 5})\n"
   ]
  }
 ],
 "metadata": {
  "kernelspec": {
   "display_name": ".venv",
   "language": "python",
   "name": "python3"
  },
  "language_info": {
   "codemirror_mode": {
    "name": "ipython",
    "version": 3
   },
   "file_extension": ".py",
   "mimetype": "text/x-python",
   "name": "python",
   "nbconvert_exporter": "python",
   "pygments_lexer": "ipython3",
   "version": "3.11.3"
  }
 },
 "nbformat": 4,
 "nbformat_minor": 2
}
