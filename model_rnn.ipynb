{
 "cells": [
  {
   "cell_type": "code",
   "execution_count": 14,
   "metadata": {},
   "outputs": [],
   "source": [
    "import pip\n",
    "\n",
    "def import_or_install(package):\n",
    "    try:\n",
    "        __import__(package)\n",
    "    except ImportError:\n",
    "        pip.main(['install', package])       \n",
    "\n",
    "import_or_install('tensorflow')\n",
    "import_or_install('pydot')\n"
   ]
  },
  {
   "cell_type": "code",
   "execution_count": 15,
   "metadata": {},
   "outputs": [],
   "source": [
    "import tensorflow as tf\n",
    "from tensorflow import keras\n",
    "from tensorflow.keras import layers"
   ]
  },
  {
   "cell_type": "code",
   "execution_count": 16,
   "metadata": {},
   "outputs": [],
   "source": [
    "import pyarrow as pa\n",
    "import pandas as pd\n",
    "import matplotlib\n",
    "import matplotlib.pyplot as plt\n",
    "import seaborn as sns\n",
    "import numpy as np\n",
    "from source import data_import"
   ]
  },
  {
   "cell_type": "code",
   "execution_count": 17,
   "metadata": {},
   "outputs": [],
   "source": [
    "from sklearn.model_selection import train_test_split\n",
    "from sklearn.metrics import confusion_matrix, accuracy_score\n",
    "from sklearn.preprocessing import StandardScaler"
   ]
  },
  {
   "cell_type": "code",
   "execution_count": 18,
   "metadata": {},
   "outputs": [],
   "source": [
    "import tensorflow as tf\n",
    "\n",
    "import keras \n",
    "from keras.models import Sequential # intitialize the ANN\n",
    "from keras.layers import Dense, Activation, Dropout "
   ]
  },
  {
   "cell_type": "code",
   "execution_count": 1104,
   "metadata": {},
   "outputs": [
    {
     "name": "stdout",
     "output_type": "stream",
     "text": [
      "data already loaded in parent notebook\n"
     ]
    },
    {
     "data": {
      "text/plain": [
       "(13237, 30, 63)"
      ]
     },
     "execution_count": 1104,
     "metadata": {},
     "output_type": "execute_result"
    }
   ],
   "source": [
    "try:\n",
    "    data\n",
    "    print('data already loaded in parent notebook')\n",
    "except NameError:\n",
    "    data = np.load('data/feature_extract_reshaped.npy')\n",
    "data.shape"
   ]
  },
  {
   "cell_type": "code",
   "execution_count": 1106,
   "metadata": {},
   "outputs": [],
   "source": [
    "import numpy as np\n",
    "\n",
    "def split_data(data, test_size=0.2, val_size=0.2, random_state=None):\n",
    "    # Assuming the first column contains the IDs\n",
    "    ids_column = data[:, 0, 0]\n",
    "\n",
    "    # Find unique epoch IDs\n",
    "    unique_epoch_ids = np.unique(ids_column)\n",
    "\n",
    "    # Shuffle the unique epoch IDs\n",
    "    np.random.shuffle(unique_epoch_ids)\n",
    "\n",
    "    # Calculate the number of unique epoch IDs for training, validation, and testing\n",
    "    train_samples_nr = int(np.floor(0.8 * len(unique_epoch_ids)))\n",
    "\n",
    "    # Split the unique epoch IDs into train, validation, and test sets\n",
    "\n",
    "    train_sample_ids = unique_epoch_ids[:train_samples_nr]\n",
    "    test_sample_ids = unique_epoch_ids[train_samples_nr:]\n",
    "\n",
    "    # Create boolean masks for filtering\n",
    "    train_mask = np.in1d(ids_column, train_sample_ids)\n",
    "    test_mask = np.in1d(ids_column, test_sample_ids)\n",
    "\n",
    "    # Apply the masks to create train, validation, and test samples\n",
    "    train_sample = data[train_mask, :, :]\n",
    "    test_sample = data[test_mask, :, :]\n",
    "\n",
    "    X_train = train_sample[:,:,:-1]\n",
    "    X_test = test_sample[:,:,:-1]\n",
    "\n",
    "    Y_train = train_sample[:,:,-1]\n",
    "    Y_test = test_sample[:,:,-1]\n",
    "\n",
    "    y_test=Y_test.max(axis=1)\n",
    "    y_train=Y_train.max(axis=1)\n",
    "\n",
    "    return X_train, X_test, Y_train, Y_test, y_train, y_test\n"
   ]
  },
  {
   "cell_type": "code",
   "execution_count": 1107,
   "metadata": {},
   "outputs": [
    {
     "name": "stdout",
     "output_type": "stream",
     "text": [
      "train shape (10571, 30, 62)\n",
      "test shape (2666, 30, 62)\n"
     ]
    }
   ],
   "source": [
    "X_train, X_test, Y_train, Y_test, y_train, y_test = split_data(data)\n",
    "print(f'train shape', X_train.shape)\n",
    "print(f'test shape', X_test.shape)"
   ]
  },
  {
   "cell_type": "code",
   "execution_count": 1108,
   "metadata": {},
   "outputs": [],
   "source": [
    "import numpy as np\n",
    "import tensorflow as tf\n",
    "from sklearn.utils.class_weight import compute_class_weight\n",
    "\n",
    "class_labels, class_counts = np.unique(y_test, return_counts=True)\n",
    "total_samples = len(y_test)\n",
    "class_weights = total_samples / (len(class_labels) * class_counts)\n",
    "\n",
    "# Convert class weights to a dictionary\n",
    "class_weight_dict = dict(zip(class_labels, class_weights))\n"
   ]
  },
  {
   "cell_type": "code",
   "execution_count": 1109,
   "metadata": {},
   "outputs": [
    {
     "data": {
      "text/plain": [
       "{0.0: 0.5362027353177795, 1.0: 7.405555555555556}"
      ]
     },
     "execution_count": 1109,
     "metadata": {},
     "output_type": "execute_result"
    }
   ],
   "source": [
    "class_weight_dict"
   ]
  },
  {
   "cell_type": "code",
   "execution_count": 1110,
   "metadata": {},
   "outputs": [
    {
     "data": {
      "text/plain": [
       "7.405555555555556"
      ]
     },
     "execution_count": 1110,
     "metadata": {},
     "output_type": "execute_result"
    }
   ],
   "source": [
    "class_weight_dict[1]"
   ]
  },
  {
   "cell_type": "code",
   "execution_count": 1111,
   "metadata": {},
   "outputs": [],
   "source": [
    "from keras.models import Sequential\n",
    "from keras.layers import LSTM, Dense, Dropout, BatchNormalization, Input\n",
    "from tensorflow.keras.optimizers import Adam\n",
    "\n",
    "# Set seeds for reproducibility\n",
    "np.random.seed(42)\n",
    "tf.random.set_seed(42)\n",
    "\n",
    "model = Sequential()\n",
    "\n",
    "model.add(Input(shape=X_train.shape[1:]))\n",
    "\n",
    "#model.add(normalizer)\n",
    "\n",
    "# Recurrent layer\n",
    "model.add(LSTM(72, return_sequences=False))\n",
    "\n",
    "# Fully connected layer\n",
    "model.add(Dense(72, activation='relu'))\n",
    "\n",
    "# Dropout for regularization\n",
    "model.add(Dropout(0.5))\n",
    "\n",
    "model.add(BatchNormalization())\n",
    "\n",
    "# Calculate the imbalance ratio\n",
    "pos_ratio = class_weight_dict[1] / (class_weight_dict[0] + class_weight_dict[1])\n",
    "\n",
    "# Calculate the initial bias based on the imbalance ratio\n",
    "initial_bias = -np.log(pos_ratio)\n",
    "\n",
    "# Output layer with a custom bias for initial probability\n",
    "model.add(Dense(1, activation='sigmoid', bias_initializer=tf.keras.initializers.Constant(initial_bias)))\n",
    "\n",
    "# Compile the model\n",
    "learning_rate = 0.001  # Replace with your desired learning rate\n",
    "\n",
    "# Create an instance of the Adam optimizer with the specified learning rate\n",
    "optimizer = Adam(learning_rate=learning_rate)\n",
    "model.compile(\n",
    "    optimizer=optimizer, loss='binary_crossentropy', metrics=['accuracy'])"
   ]
  },
  {
   "cell_type": "code",
   "execution_count": 26,
   "metadata": {},
   "outputs": [],
   "source": [
    "# from keras.callbacks import EarlyStopping, ModelCheckpoint\n",
    "\n",
    "# # Create callbacks\n",
    "# callbacks = EarlyStopping(monitor='val_loss', patience=5)"
   ]
  },
  {
   "cell_type": "code",
   "execution_count": 27,
   "metadata": {},
   "outputs": [
    {
     "data": {
      "text/plain": [
       "(1519,)"
      ]
     },
     "execution_count": 27,
     "metadata": {},
     "output_type": "execute_result"
    }
   ],
   "source": [
    "y_train.shape"
   ]
  },
  {
   "cell_type": "code",
   "execution_count": 1112,
   "metadata": {},
   "outputs": [
    {
     "name": "stdout",
     "output_type": "stream",
     "text": [
      "Epoch 1/300\n",
      "85/85 [==============================] - 11s 39ms/step - loss: 0.5398 - accuracy: 0.6215 - val_loss: 0.3682 - val_accuracy: 0.9603\n",
      "Epoch 2/300\n",
      "85/85 [==============================] - 2s 24ms/step - loss: 0.3998 - accuracy: 0.7752 - val_loss: 0.2813 - val_accuracy: 0.9603\n",
      "Epoch 3/300\n",
      "85/85 [==============================] - 2s 23ms/step - loss: 0.3549 - accuracy: 0.8042 - val_loss: 0.2802 - val_accuracy: 0.9603\n",
      "Epoch 4/300\n",
      "85/85 [==============================] - 2s 27ms/step - loss: 0.3319 - accuracy: 0.8241 - val_loss: 0.2496 - val_accuracy: 0.9234\n",
      "Epoch 5/300\n",
      "85/85 [==============================] - 2s 25ms/step - loss: 0.2979 - accuracy: 0.8388 - val_loss: 0.2741 - val_accuracy: 0.8482\n",
      "Epoch 6/300\n",
      "85/85 [==============================] - 2s 25ms/step - loss: 0.2826 - accuracy: 0.8502 - val_loss: 0.3052 - val_accuracy: 0.8071\n",
      "Epoch 7/300\n",
      "85/85 [==============================] - 2s 23ms/step - loss: 0.2627 - accuracy: 0.8645 - val_loss: 0.4508 - val_accuracy: 0.7366\n",
      "Epoch 8/300\n",
      "85/85 [==============================] - 2s 25ms/step - loss: 0.2572 - accuracy: 0.8703 - val_loss: 0.5807 - val_accuracy: 0.6605\n",
      "Epoch 9/300\n",
      "85/85 [==============================] - 2s 26ms/step - loss: 0.2436 - accuracy: 0.8816 - val_loss: 0.4265 - val_accuracy: 0.7636\n",
      "Epoch 10/300\n",
      "85/85 [==============================] - 2s 25ms/step - loss: 0.2306 - accuracy: 0.8801 - val_loss: 0.1919 - val_accuracy: 0.9253\n",
      "Epoch 11/300\n",
      "85/85 [==============================] - 2s 23ms/step - loss: 0.2458 - accuracy: 0.8797 - val_loss: 0.8144 - val_accuracy: 0.6728\n",
      "Epoch 12/300\n",
      "85/85 [==============================] - 2s 25ms/step - loss: 0.2218 - accuracy: 0.8877 - val_loss: 0.4756 - val_accuracy: 0.7461\n",
      "Epoch 13/300\n",
      "85/85 [==============================] - 2s 27ms/step - loss: 0.2037 - accuracy: 0.8968 - val_loss: 0.4236 - val_accuracy: 0.7513\n",
      "Epoch 14/300\n",
      "85/85 [==============================] - 2s 26ms/step - loss: 0.2149 - accuracy: 0.9028 - val_loss: 0.6334 - val_accuracy: 0.6407\n",
      "Epoch 15/300\n",
      "85/85 [==============================] - 2s 26ms/step - loss: 0.1977 - accuracy: 0.9009 - val_loss: 0.4128 - val_accuracy: 0.7872\n",
      "Epoch 16/300\n",
      "85/85 [==============================] - 2s 23ms/step - loss: 0.1773 - accuracy: 0.9117 - val_loss: 0.4034 - val_accuracy: 0.7957\n",
      "Epoch 17/300\n",
      "85/85 [==============================] - 2s 26ms/step - loss: 0.1889 - accuracy: 0.9105 - val_loss: 0.6677 - val_accuracy: 0.7007\n",
      "Epoch 18/300\n",
      "85/85 [==============================] - 3s 30ms/step - loss: 0.1916 - accuracy: 0.9069 - val_loss: 0.4898 - val_accuracy: 0.7546\n",
      "Epoch 19/300\n",
      "85/85 [==============================] - 2s 24ms/step - loss: 0.2009 - accuracy: 0.9028 - val_loss: 0.2635 - val_accuracy: 0.8520\n",
      "Epoch 20/300\n",
      " 4/85 [>.............................] - ETA: 1s - loss: 0.2527 - accuracy: 0.9050"
     ]
    }
   ],
   "source": [
    "## look at validation batch ?\n",
    "history = model.fit(X_train,  y_train, \n",
    "                    batch_size=100, \n",
    "                    class_weight=class_weight_dict,\n",
    "                    shuffle=True,\n",
    "                    epochs=300,\n",
    "                    validation_split = 0.2)"
   ]
  },
  {
   "cell_type": "code",
   "execution_count": 29,
   "metadata": {},
   "outputs": [],
   "source": [
    "def plot_accuracy(history):\n",
    "    plt.plot(history.history['accuracy'], label='accuracy')\n",
    "    plt.plot(history.history['val_accuracy'], label='val_accuracy')\n",
    "    #plt.ylim([0, 10])\n",
    "    plt.xlabel('Epoch')\n",
    "    plt.ylabel('Error ')\n",
    "    plt.legend()\n",
    "    plt.grid(True)"
   ]
  },
  {
   "cell_type": "code",
   "execution_count": 30,
   "metadata": {},
   "outputs": [
    {
     "data": {
      "image/png": "[encoded data removed]",
      "text/plain": [
       "<Figure size 640x480 with 1 Axes>"
      ]
     },
     "metadata": {},
     "output_type": "display_data"
    }
   ],
   "source": [
    "plot_accuracy(history)"
   ]
  },
  {
   "cell_type": "code",
   "execution_count": 31,
   "metadata": {},
   "outputs": [],
   "source": [
    "def plot_loss(history):\n",
    "    plt.plot(history.history['loss'], label='loss')\n",
    "    plt.plot(history.history['val_loss'], label='val_loss')\n",
    "    #plt.ylim([0, 10])\n",
    "    plt.xlabel('Epoch')\n",
    "    plt.ylabel('Error ')\n",
    "    plt.legend()\n",
    "    plt.grid(True)"
   ]
  },
  {
   "cell_type": "code",
   "execution_count": 32,
   "metadata": {},
   "outputs": [
    {
     "data": {
      "image/png": "[encoded data removed]",
      "text/plain": [
       "<Figure size 640x480 with 1 Axes>"
      ]
     },
     "metadata": {},
     "output_type": "display_data"
    }
   ],
   "source": [
    "plot_loss(history)"
   ]
  },
  {
   "cell_type": "code",
   "execution_count": 33,
   "metadata": {},
   "outputs": [
    {
     "data": {
      "text/plain": [
       "[1.6157348155975342, 0.8125]"
      ]
     },
     "execution_count": 33,
     "metadata": {},
     "output_type": "execute_result"
    }
   ],
   "source": [
    "model.evaluate(\n",
    "    X_test,\n",
    "    y_test, verbose=0)"
   ]
  },
  {
   "cell_type": "code",
   "execution_count": 34,
   "metadata": {},
   "outputs": [
    {
     "name": "stdout",
     "output_type": "stream",
     "text": [
      "16/16 - 0s - loss: 1.6157 - accuracy: 0.8125 - 39ms/epoch - 2ms/step\n",
      "Model accuracy: 0.8125\n"
     ]
    }
   ],
   "source": [
    "loss, accuracy = model.evaluate(X_test, y_test, verbose=2)\n",
    "print(f'Model accuracy: {accuracy}')"
   ]
  },
  {
   "cell_type": "code",
   "execution_count": 35,
   "metadata": {},
   "outputs": [
    {
     "name": "stdout",
     "output_type": "stream",
     "text": [
      "48/48 [==============================] - 0s 2ms/step\n"
     ]
    },
    {
     "data": {
      "text/plain": [
       "array([[1.61546395e-05],\n",
       "       [1.23438585e-05],\n",
       "       [1.94262193e-05],\n",
       "       ...,\n",
       "       [4.42832279e-05],\n",
       "       [3.95292300e-05],\n",
       "       [4.92535946e-05]], dtype=float32)"
      ]
     },
     "execution_count": 35,
     "metadata": {},
     "output_type": "execute_result"
    }
   ],
   "source": [
    "y_pred_train = model.predict(X_train)\n",
    "y_pred_train"
   ]
  },
  {
   "cell_type": "code",
   "execution_count": 36,
   "metadata": {},
   "outputs": [],
   "source": [
    "# plt.figure(figsize=(15,10))  # Adjust the width and height as needed\n",
    "# plt.plot(y_pred_train[:200])\n",
    "# plt.plot(y_train[:200])\n"
   ]
  },
  {
   "cell_type": "code",
   "execution_count": 37,
   "metadata": {},
   "outputs": [
    {
     "name": "stdout",
     "output_type": "stream",
     "text": [
      "16/16 [==============================] - 0s 2ms/step\n"
     ]
    },
    {
     "data": {
      "text/plain": [
       "(496, 1)"
      ]
     },
     "execution_count": 37,
     "metadata": {},
     "output_type": "execute_result"
    }
   ],
   "source": [
    "y_pred = model.predict(X_test)\n",
    "y_pred_c = y_pred.round().astype(int)\n",
    "y_pred_c.shape"
   ]
  },
  {
   "cell_type": "code",
   "execution_count": 38,
   "metadata": {},
   "outputs": [],
   "source": [
    "# plt.figure(figsize=(15,10))  \n",
    "# plt.plot(y_pred[:200])\n",
    "# plt.plot(y_test[:200])"
   ]
  },
  {
   "cell_type": "code",
   "execution_count": 39,
   "metadata": {},
   "outputs": [
    {
     "name": "stdout",
     "output_type": "stream",
     "text": [
      " 1/16 [>.............................] - ETA: 0s - loss: 2.6089e-05 - accuracy: 1.0000"
     ]
    },
    {
     "name": "stdout",
     "output_type": "stream",
     "text": [
      "16/16 [==============================] - 0s 3ms/step - loss: 1.6157 - accuracy: 0.8125\n",
      "Loss: 1.6157348155975342\n",
      "Accuracy: 0.8125\n",
      "Precision: 0.0\n",
      "Recall: 0.0\n"
     ]
    },
    {
     "name": "stderr",
     "output_type": "stream",
     "text": [
      "/home/weasel/reps/ai-seizure-detectives/.venv/lib/python3.11/site-packages/sklearn/metrics/_classification.py:1344: UndefinedMetricWarning: Precision is ill-defined and being set to 0.0 due to no predicted samples. Use `zero_division` parameter to control this behavior.\n",
      "  _warn_prf(average, modifier, msg_start, len(result))\n"
     ]
    },
    {
     "data": {
      "text/plain": [
       "(93.0, 0)"
      ]
     },
     "execution_count": 39,
     "metadata": {},
     "output_type": "execute_result"
    }
   ],
   "source": [
    "from sklearn.metrics import precision_score, recall_score, confusion_matrix\n",
    "y_pred_c = y_pred.round().astype(int)\n",
    "precision = precision_score(y_test, y_pred_c)\n",
    "recall = recall_score(y_test, y_pred_c)\n",
    "\n",
    "loss, accuracy = model.evaluate(X_test, y_test)\n",
    "\n",
    "print('Loss:', loss)\n",
    "print('Accuracy:', accuracy)\n",
    "print('Precision:', precision)\n",
    "print('Recall:', recall)\n",
    "y_test.sum(), y_pred_c.sum()"
   ]
  },
  {
   "cell_type": "code",
   "execution_count": 40,
   "metadata": {},
   "outputs": [
    {
     "data": {
      "image/png": "[encoded data removed]",
      "text/plain": [
       "<Figure size 640x480 with 1 Axes>"
      ]
     },
     "metadata": {},
     "output_type": "display_data"
    }
   ],
   "source": [
    "from sklearn.metrics import confusion_matrix, classification_report\n",
    "mat = confusion_matrix(y_test, y_pred_c)\n",
    "labels = ['No Seizure', 'Seizure']\n",
    "# Create the heatmap with custom labels\n",
    "sns.heatmap(mat.T, square=True, annot=True, fmt='d', cbar=False, xticklabels=labels, yticklabels=labels)\n",
    "\n",
    "plt.xlabel('True label')\n",
    "plt.ylabel('Predicted label')\n",
    "\n",
    "plt.show()"
   ]
  },
  {
   "cell_type": "code",
   "execution_count": 41,
   "metadata": {},
   "outputs": [
    {
     "name": "stdout",
     "output_type": "stream",
     "text": [
      "Classification Report:\n",
      "              precision    recall  f1-score   support\n",
      "\n",
      "         0.0       0.81      1.00      0.90       403\n",
      "         1.0       0.00      0.00      0.00        93\n",
      "\n",
      "    accuracy                           0.81       496\n",
      "   macro avg       0.41      0.50      0.45       496\n",
      "weighted avg       0.66      0.81      0.73       496\n",
      "\n"
     ]
    },
    {
     "name": "stderr",
     "output_type": "stream",
     "text": [
      "/home/weasel/reps/ai-seizure-detectives/.venv/lib/python3.11/site-packages/sklearn/metrics/_classification.py:1344: UndefinedMetricWarning: Precision and F-score are ill-defined and being set to 0.0 in labels with no predicted samples. Use `zero_division` parameter to control this behavior.\n",
      "  _warn_prf(average, modifier, msg_start, len(result))\n",
      "/home/weasel/reps/ai-seizure-detectives/.venv/lib/python3.11/site-packages/sklearn/metrics/_classification.py:1344: UndefinedMetricWarning: Precision and F-score are ill-defined and being set to 0.0 in labels with no predicted samples. Use `zero_division` parameter to control this behavior.\n",
      "  _warn_prf(average, modifier, msg_start, len(result))\n",
      "/home/weasel/reps/ai-seizure-detectives/.venv/lib/python3.11/site-packages/sklearn/metrics/_classification.py:1344: UndefinedMetricWarning: Precision and F-score are ill-defined and being set to 0.0 in labels with no predicted samples. Use `zero_division` parameter to control this behavior.\n",
      "  _warn_prf(average, modifier, msg_start, len(result))\n"
     ]
    }
   ],
   "source": [
    "report = classification_report(y_test, y_pred_c)\n",
    "print(\"Classification Report:\")\n",
    "print(report)\n",
    " "
   ]
  },
  {
   "cell_type": "code",
   "execution_count": 42,
   "metadata": {},
   "outputs": [
    {
     "data": {
      "text/plain": [
       "Text(0, 0.5, 'Predictions')"
      ]
     },
     "execution_count": 42,
     "metadata": {},
     "output_type": "execute_result"
    },
    {
     "data": {
      "image/png": "[encoded data removed]",
      "text/plain": [
       "<Figure size 640x480 with 1 Axes>"
      ]
     },
     "metadata": {},
     "output_type": "display_data"
    }
   ],
   "source": [
    "a = plt.axes(aspect='equal')\n",
    "plt.scatter(y_test, y_pred_c,c=np.arange(len(y_test)))\n",
    "plt.xlabel('True Values')\n",
    "plt.ylabel('Predictions')\n",
    "#lims = [0, 50]\n",
    "#plt.xlim(lims)\n",
    "#plt.ylim(lims)\n",
    "#_ = plt.plot(lims, lims)"
   ]
  },
  {
   "cell_type": "code",
   "execution_count": 43,
   "metadata": {},
   "outputs": [],
   "source": [
    "# error = y_pred_c - y_test\n",
    "# plt.hist(error, bins=25)\n",
    "# plt.xlabel('Prediction Error')\n",
    "# _ = plt.ylabel('Count')"
   ]
  },
  {
   "cell_type": "code",
   "execution_count": 44,
   "metadata": {},
   "outputs": [],
   "source": [
    "# def make_model(input_shape):\n",
    "#     input_layer = keras.layers.Input(input_shape)\n",
    "\n",
    "#     conv1 = keras.layers.Conv1D(filters=64, kernel_size=3, padding=\"same\")(input_layer)\n",
    "#     conv1 = keras.layers.BatchNormalization()(conv1)\n",
    "#     conv1 = keras.layers.ReLU()(conv1)\n",
    "\n",
    "#     conv2 = keras.layers.Conv1D(filters=64, kernel_size=3, padding=\"same\")(conv1)\n",
    "#     conv2 = keras.layers.BatchNormalization()(conv2)\n",
    "#     conv2 = keras.layers.ReLU()(conv2)\n",
    "\n",
    "#     conv3 = keras.layers.Conv1D(filters=64, kernel_size=3, padding=\"same\")(conv2)\n",
    "#     conv3 = keras.layers.BatchNormalization()(conv3)\n",
    "#     conv3 = keras.layers.ReLU()(conv3)\n",
    "\n",
    "#     gap = keras.layers.GlobalAveragePooling1D()(conv3)\n",
    "\n",
    "#     output_layer = keras.layers.Dense(num_classes, activation=\"softmax\")(gap)\n",
    "\n",
    "#     return keras.models.Model(inputs=input_layer, outputs=output_layer)\n"
   ]
  },
  {
   "cell_type": "code",
   "execution_count": 45,
   "metadata": {},
   "outputs": [],
   "source": [
    "# model = make_model(input_shape=X_train.shape[1:])\n",
    "# keras.utils.plot_model(model, show_shapes=True)"
   ]
  },
  {
   "cell_type": "code",
   "execution_count": 46,
   "metadata": {},
   "outputs": [],
   "source": [
    "# epochs = 500\n",
    "# batch_size = 32\n",
    "\n",
    "# callbacks = [\n",
    "#     keras.callbacks.ModelCheckpoint(\n",
    "#         \"best_model.h5\", save_best_only=True, monitor=\"val_loss\"\n",
    "#     ),\n",
    "#     keras.callbacks.ReduceLROnPlateau(\n",
    "#         monitor=\"val_loss\", factor=0.5, patience=20, min_lr=0.0001\n",
    "#     ),\n",
    "#     keras.callbacks.EarlyStopping(monitor=\"val_loss\", patience=50, verbose=1),\n",
    "# ]\n",
    "# model.compile(\n",
    "#     optimizer=\"adam\",\n",
    "#     loss=\"sparse_categorical_crossentropy\",\n",
    "#     metrics=[\"sparse_categorical_accuracy\"],\n",
    "# )\n",
    "# history = model.fit(\n",
    "#     X_train,\n",
    "#     y_train,\n",
    "#     batch_size=batch_size,\n",
    "#     epochs=epochs,\n",
    "#     callbacks=callbacks,\n",
    "#     #validation_split=0.2,\n",
    "#     verbose=1,\n"
   ]
  },
  {
   "cell_type": "markdown",
   "metadata": {},
   "source": [
    "inputs: A 3D tensor with shape [batch, timesteps, feature]."
   ]
  },
  {
   "cell_type": "code",
   "execution_count": 47,
   "metadata": {},
   "outputs": [],
   "source": [
    "# Define a sequential model\n",
    "model = keras.Sequential()\n",
    "\n",
    "#model.add(normalizer)\n",
    "\n",
    "# Add an input layer with an input shape of (time_steps, input_features)\n",
    "model.add(layers.InputLayer(input_shape=(X_train.shape[1],X_train.shape[2])))\n",
    "\n",
    "# Add a SimpleRNN layer with 32 units (neurons)\n",
    "model.add(layers.SimpleRNN(72, activation='tanh'))\n",
    "\n",
    "model.add(BatchNormalization())\n",
    "\n",
    "# Add the output layer with 1 neuron and sigmoid activation for binary classification\n",
    "model.add(layers.Dense(1, activation='sigmoid'))\n",
    "\n",
    "# Compile the model with binary cross-entropy loss for binary classification\n",
    "model.compile(loss='binary_crossentropy', optimizer='adam', metrics=['accuracy'])\n"
   ]
  },
  {
   "cell_type": "code",
   "execution_count": 48,
   "metadata": {},
   "outputs": [
    {
     "data": {
      "text/plain": [
       "(1519, 30, 62)"
      ]
     },
     "execution_count": 48,
     "metadata": {},
     "output_type": "execute_result"
    }
   ],
   "source": [
    "X_train.shape"
   ]
  },
  {
   "cell_type": "code",
   "execution_count": 49,
   "metadata": {},
   "outputs": [
    {
     "data": {
      "text/plain": [
       "(1519,)"
      ]
     },
     "execution_count": 49,
     "metadata": {},
     "output_type": "execute_result"
    }
   ],
   "source": [
    "y_train.shape"
   ]
  },
  {
   "cell_type": "code",
   "execution_count": 50,
   "metadata": {},
   "outputs": [
    {
     "name": "stdout",
     "output_type": "stream",
     "text": [
      "Epoch 1/300\n",
      "16/16 [==============================] - 1s 24ms/step - loss: 0.5082 - accuracy: 0.5872 - val_loss: 0.7375 - val_accuracy: 0.4758\n",
      "Epoch 2/300\n",
      "16/16 [==============================] - 0s 5ms/step - loss: 0.4051 - accuracy: 0.7307 - val_loss: 0.6737 - val_accuracy: 0.6210\n",
      "Epoch 3/300\n",
      "16/16 [==============================] - 0s 5ms/step - loss: 0.3465 - accuracy: 0.8308 - val_loss: 0.6449 - val_accuracy: 0.6532\n",
      "Epoch 4/300\n",
      "16/16 [==============================] - 0s 5ms/step - loss: 0.2934 - accuracy: 0.8920 - val_loss: 0.6057 - val_accuracy: 0.7419\n",
      "Epoch 5/300\n",
      "16/16 [==============================] - 0s 5ms/step - loss: 0.2505 - accuracy: 0.9177 - val_loss: 0.5886 - val_accuracy: 0.7419\n",
      "Epoch 6/300\n",
      "16/16 [==============================] - 0s 5ms/step - loss: 0.2088 - accuracy: 0.9368 - val_loss: 0.5892 - val_accuracy: 0.7446\n",
      "Epoch 7/300\n",
      "16/16 [==============================] - 0s 5ms/step - loss: 0.1751 - accuracy: 0.9487 - val_loss: 0.5711 - val_accuracy: 0.7661\n",
      "Epoch 8/300\n",
      "16/16 [==============================] - 0s 5ms/step - loss: 0.1499 - accuracy: 0.9552 - val_loss: 0.5741 - val_accuracy: 0.7581\n",
      "Epoch 9/300\n",
      "16/16 [==============================] - 0s 4ms/step - loss: 0.1235 - accuracy: 0.9612 - val_loss: 0.5962 - val_accuracy: 0.7527\n",
      "Epoch 10/300\n",
      "16/16 [==============================] - 0s 5ms/step - loss: 0.1046 - accuracy: 0.9691 - val_loss: 0.6360 - val_accuracy: 0.7446\n",
      "Epoch 11/300\n",
      "16/16 [==============================] - 0s 5ms/step - loss: 0.0858 - accuracy: 0.9743 - val_loss: 0.6809 - val_accuracy: 0.7392\n",
      "Epoch 12/300\n",
      "16/16 [==============================] - 0s 5ms/step - loss: 0.0698 - accuracy: 0.9842 - val_loss: 0.7184 - val_accuracy: 0.7366\n",
      "Epoch 13/300\n",
      "16/16 [==============================] - 0s 5ms/step - loss: 0.0536 - accuracy: 0.9901 - val_loss: 0.7087 - val_accuracy: 0.7634\n",
      "Epoch 14/300\n",
      "16/16 [==============================] - 0s 5ms/step - loss: 0.0472 - accuracy: 0.9875 - val_loss: 0.7048 - val_accuracy: 0.7903\n",
      "Epoch 15/300\n",
      "16/16 [==============================] - 0s 5ms/step - loss: 0.0619 - accuracy: 0.9730 - val_loss: 0.8531 - val_accuracy: 0.7204\n",
      "Epoch 16/300\n",
      "16/16 [==============================] - 0s 5ms/step - loss: 0.0459 - accuracy: 0.9928 - val_loss: 0.8199 - val_accuracy: 0.7581\n",
      "Epoch 17/300\n",
      "16/16 [==============================] - 0s 5ms/step - loss: 0.0266 - accuracy: 0.9941 - val_loss: 0.9878 - val_accuracy: 0.7312\n",
      "Epoch 18/300\n",
      "16/16 [==============================] - 0s 4ms/step - loss: 0.0309 - accuracy: 0.9928 - val_loss: 0.9242 - val_accuracy: 0.7419\n",
      "Epoch 19/300\n",
      "16/16 [==============================] - 0s 5ms/step - loss: 0.0252 - accuracy: 0.9941 - val_loss: 1.0002 - val_accuracy: 0.7339\n",
      "Epoch 20/300\n",
      "16/16 [==============================] - 0s 4ms/step - loss: 0.0217 - accuracy: 0.9954 - val_loss: 1.0043 - val_accuracy: 0.7392\n",
      "Epoch 21/300\n",
      "16/16 [==============================] - 0s 5ms/step - loss: 0.0161 - accuracy: 0.9987 - val_loss: 1.1334 - val_accuracy: 0.7285\n",
      "Epoch 22/300\n",
      "16/16 [==============================] - 0s 5ms/step - loss: 0.0137 - accuracy: 0.9987 - val_loss: 1.0653 - val_accuracy: 0.7366\n",
      "Epoch 23/300\n",
      "16/16 [==============================] - 0s 5ms/step - loss: 0.0111 - accuracy: 0.9993 - val_loss: 1.1356 - val_accuracy: 0.7312\n",
      "Epoch 24/300\n",
      "16/16 [==============================] - 0s 5ms/step - loss: 0.0093 - accuracy: 1.0000 - val_loss: 1.1263 - val_accuracy: 0.7339\n",
      "Epoch 25/300\n",
      "16/16 [==============================] - 0s 4ms/step - loss: 0.0083 - accuracy: 1.0000 - val_loss: 1.1746 - val_accuracy: 0.7312\n",
      "Epoch 26/300\n",
      "16/16 [==============================] - 0s 5ms/step - loss: 0.0072 - accuracy: 1.0000 - val_loss: 1.2318 - val_accuracy: 0.7312\n",
      "Epoch 27/300\n",
      "16/16 [==============================] - 0s 4ms/step - loss: 0.0057 - accuracy: 1.0000 - val_loss: 1.2453 - val_accuracy: 0.7312\n",
      "Epoch 28/300\n",
      "16/16 [==============================] - 0s 4ms/step - loss: 0.0054 - accuracy: 1.0000 - val_loss: 1.2578 - val_accuracy: 0.7312\n",
      "Epoch 29/300\n",
      "16/16 [==============================] - 0s 4ms/step - loss: 0.0052 - accuracy: 1.0000 - val_loss: 1.2695 - val_accuracy: 0.7312\n",
      "Epoch 30/300\n",
      "16/16 [==============================] - 0s 4ms/step - loss: 0.0049 - accuracy: 1.0000 - val_loss: 1.2939 - val_accuracy: 0.7312\n",
      "Epoch 31/300\n",
      "16/16 [==============================] - 0s 4ms/step - loss: 0.0044 - accuracy: 1.0000 - val_loss: 1.3101 - val_accuracy: 0.7312\n",
      "Epoch 32/300\n",
      "16/16 [==============================] - 0s 5ms/step - loss: 0.0037 - accuracy: 1.0000 - val_loss: 1.3329 - val_accuracy: 0.7312\n",
      "Epoch 33/300\n",
      "16/16 [==============================] - 0s 5ms/step - loss: 0.0037 - accuracy: 1.0000 - val_loss: 1.3732 - val_accuracy: 0.7312\n",
      "Epoch 34/300\n",
      "16/16 [==============================] - 0s 5ms/step - loss: 0.0039 - accuracy: 1.0000 - val_loss: 1.5475 - val_accuracy: 0.7097\n",
      "Epoch 35/300\n",
      "16/16 [==============================] - 0s 5ms/step - loss: 0.0723 - accuracy: 0.9756 - val_loss: 1.2962 - val_accuracy: 0.6855\n",
      "Epoch 36/300\n",
      "16/16 [==============================] - 0s 5ms/step - loss: 0.0662 - accuracy: 0.9789 - val_loss: 1.3674 - val_accuracy: 0.7231\n",
      "Epoch 37/300\n",
      "16/16 [==============================] - 0s 4ms/step - loss: 0.0205 - accuracy: 0.9928 - val_loss: 1.1641 - val_accuracy: 0.7581\n",
      "Epoch 38/300\n",
      "16/16 [==============================] - 0s 5ms/step - loss: 0.0107 - accuracy: 0.9974 - val_loss: 1.1002 - val_accuracy: 0.7688\n",
      "Epoch 39/300\n",
      "16/16 [==============================] - 0s 4ms/step - loss: 0.0081 - accuracy: 0.9993 - val_loss: 1.1423 - val_accuracy: 0.7500\n",
      "Epoch 40/300\n",
      "16/16 [==============================] - 0s 5ms/step - loss: 0.0052 - accuracy: 1.0000 - val_loss: 1.1174 - val_accuracy: 0.7688\n",
      "Epoch 41/300\n",
      "16/16 [==============================] - 0s 5ms/step - loss: 0.0041 - accuracy: 1.0000 - val_loss: 1.1955 - val_accuracy: 0.7500\n",
      "Epoch 42/300\n",
      "16/16 [==============================] - 0s 4ms/step - loss: 0.0041 - accuracy: 0.9993 - val_loss: 1.2580 - val_accuracy: 0.7419\n",
      "Epoch 43/300\n",
      "16/16 [==============================] - 0s 5ms/step - loss: 0.0035 - accuracy: 1.0000 - val_loss: 1.2952 - val_accuracy: 0.7392\n",
      "Epoch 44/300\n",
      "16/16 [==============================] - 0s 5ms/step - loss: 0.0029 - accuracy: 1.0000 - val_loss: 1.3828 - val_accuracy: 0.7177\n",
      "Epoch 45/300\n",
      "16/16 [==============================] - 0s 4ms/step - loss: 0.0027 - accuracy: 1.0000 - val_loss: 1.4386 - val_accuracy: 0.7151\n",
      "Epoch 46/300\n",
      "16/16 [==============================] - 0s 5ms/step - loss: 0.0028 - accuracy: 1.0000 - val_loss: 1.4871 - val_accuracy: 0.7124\n",
      "Epoch 47/300\n",
      "16/16 [==============================] - 0s 4ms/step - loss: 0.0029 - accuracy: 1.0000 - val_loss: 1.5320 - val_accuracy: 0.7097\n",
      "Epoch 48/300\n",
      "16/16 [==============================] - 0s 5ms/step - loss: 0.0023 - accuracy: 1.0000 - val_loss: 1.4459 - val_accuracy: 0.7392\n",
      "Epoch 49/300\n",
      "16/16 [==============================] - 0s 4ms/step - loss: 0.0025 - accuracy: 1.0000 - val_loss: 1.5203 - val_accuracy: 0.7312\n",
      "Epoch 50/300\n",
      "16/16 [==============================] - 0s 4ms/step - loss: 0.0022 - accuracy: 1.0000 - val_loss: 1.5151 - val_accuracy: 0.7258\n",
      "Epoch 51/300\n",
      "16/16 [==============================] - 0s 5ms/step - loss: 0.0018 - accuracy: 1.0000 - val_loss: 1.6004 - val_accuracy: 0.7124\n",
      "Epoch 52/300\n",
      "16/16 [==============================] - 0s 4ms/step - loss: 0.0020 - accuracy: 1.0000 - val_loss: 1.6458 - val_accuracy: 0.7124\n",
      "Epoch 53/300\n",
      "16/16 [==============================] - 0s 5ms/step - loss: 0.0023 - accuracy: 1.0000 - val_loss: 1.6921 - val_accuracy: 0.7124\n",
      "Epoch 54/300\n",
      "16/16 [==============================] - 0s 5ms/step - loss: 0.0016 - accuracy: 1.0000 - val_loss: 1.7296 - val_accuracy: 0.7151\n",
      "Epoch 55/300\n",
      "16/16 [==============================] - 0s 5ms/step - loss: 0.0021 - accuracy: 1.0000 - val_loss: 1.6905 - val_accuracy: 0.7285\n",
      "Epoch 56/300\n",
      "16/16 [==============================] - 0s 5ms/step - loss: 0.0016 - accuracy: 1.0000 - val_loss: 1.7057 - val_accuracy: 0.7285\n",
      "Epoch 57/300\n",
      "16/16 [==============================] - 0s 5ms/step - loss: 0.0018 - accuracy: 1.0000 - val_loss: 1.7267 - val_accuracy: 0.7285\n",
      "Epoch 58/300\n",
      "16/16 [==============================] - 0s 5ms/step - loss: 0.0015 - accuracy: 1.0000 - val_loss: 1.7494 - val_accuracy: 0.7285\n",
      "Epoch 59/300\n",
      "16/16 [==============================] - 0s 6ms/step - loss: 0.0012 - accuracy: 1.0000 - val_loss: 1.8048 - val_accuracy: 0.7204\n",
      "Epoch 60/300\n",
      "16/16 [==============================] - 0s 5ms/step - loss: 0.0014 - accuracy: 1.0000 - val_loss: 1.8346 - val_accuracy: 0.7177\n",
      "Epoch 61/300\n",
      "16/16 [==============================] - 0s 4ms/step - loss: 0.0020 - accuracy: 1.0000 - val_loss: 1.8244 - val_accuracy: 0.7204\n",
      "Epoch 62/300\n",
      "16/16 [==============================] - 0s 5ms/step - loss: 0.0015 - accuracy: 1.0000 - val_loss: 1.8305 - val_accuracy: 0.7231\n",
      "Epoch 63/300\n",
      "16/16 [==============================] - 0s 5ms/step - loss: 0.0011 - accuracy: 1.0000 - val_loss: 1.8401 - val_accuracy: 0.7258\n",
      "Epoch 64/300\n",
      "16/16 [==============================] - 0s 4ms/step - loss: 0.0014 - accuracy: 1.0000 - val_loss: 1.8565 - val_accuracy: 0.7231\n",
      "Epoch 65/300\n",
      "16/16 [==============================] - 0s 5ms/step - loss: 9.9571e-04 - accuracy: 1.0000 - val_loss: 1.8860 - val_accuracy: 0.7204\n",
      "Epoch 66/300\n",
      "16/16 [==============================] - 0s 5ms/step - loss: 0.0010 - accuracy: 1.0000 - val_loss: 1.9102 - val_accuracy: 0.7151\n",
      "Epoch 67/300\n",
      "16/16 [==============================] - 0s 4ms/step - loss: 9.0560e-04 - accuracy: 1.0000 - val_loss: 1.9426 - val_accuracy: 0.7124\n",
      "Epoch 68/300\n",
      "16/16 [==============================] - 0s 5ms/step - loss: 8.7110e-04 - accuracy: 1.0000 - val_loss: 1.9723 - val_accuracy: 0.7124\n",
      "Epoch 69/300\n",
      "16/16 [==============================] - 0s 5ms/step - loss: 9.3399e-04 - accuracy: 1.0000 - val_loss: 1.9872 - val_accuracy: 0.7124\n",
      "Epoch 70/300\n",
      "16/16 [==============================] - 0s 5ms/step - loss: 8.3444e-04 - accuracy: 1.0000 - val_loss: 2.0010 - val_accuracy: 0.7124\n",
      "Epoch 71/300\n",
      "16/16 [==============================] - 0s 4ms/step - loss: 9.0060e-04 - accuracy: 1.0000 - val_loss: 2.0100 - val_accuracy: 0.7124\n",
      "Epoch 72/300\n",
      "16/16 [==============================] - 0s 5ms/step - loss: 8.8750e-04 - accuracy: 1.0000 - val_loss: 2.0062 - val_accuracy: 0.7124\n",
      "Epoch 73/300\n",
      "16/16 [==============================] - 0s 4ms/step - loss: 8.5070e-04 - accuracy: 1.0000 - val_loss: 2.0304 - val_accuracy: 0.7070\n",
      "Epoch 74/300\n",
      "16/16 [==============================] - 0s 5ms/step - loss: 7.8943e-04 - accuracy: 1.0000 - val_loss: 2.0495 - val_accuracy: 0.7016\n",
      "Epoch 75/300\n",
      "16/16 [==============================] - 0s 5ms/step - loss: 7.1568e-04 - accuracy: 1.0000 - val_loss: 2.0631 - val_accuracy: 0.6989\n",
      "Epoch 76/300\n",
      "16/16 [==============================] - 0s 4ms/step - loss: 8.4587e-04 - accuracy: 1.0000 - val_loss: 2.0366 - val_accuracy: 0.7043\n",
      "Epoch 77/300\n",
      "16/16 [==============================] - 0s 5ms/step - loss: 6.5380e-04 - accuracy: 1.0000 - val_loss: 2.0350 - val_accuracy: 0.7070\n",
      "Epoch 78/300\n",
      "16/16 [==============================] - 0s 5ms/step - loss: 7.4262e-04 - accuracy: 1.0000 - val_loss: 2.0432 - val_accuracy: 0.7070\n",
      "Epoch 79/300\n",
      "16/16 [==============================] - 0s 5ms/step - loss: 6.1168e-04 - accuracy: 1.0000 - val_loss: 1.9570 - val_accuracy: 0.7285\n",
      "Epoch 80/300\n",
      "16/16 [==============================] - 0s 5ms/step - loss: 6.8939e-04 - accuracy: 1.0000 - val_loss: 1.9655 - val_accuracy: 0.7285\n",
      "Epoch 81/300\n",
      "16/16 [==============================] - 0s 5ms/step - loss: 6.3137e-04 - accuracy: 1.0000 - val_loss: 1.9717 - val_accuracy: 0.7285\n",
      "Epoch 82/300\n",
      "16/16 [==============================] - 0s 4ms/step - loss: 6.1959e-04 - accuracy: 1.0000 - val_loss: 1.9824 - val_accuracy: 0.7285\n",
      "Epoch 83/300\n",
      "16/16 [==============================] - 0s 5ms/step - loss: 5.6051e-04 - accuracy: 1.0000 - val_loss: 1.9905 - val_accuracy: 0.7285\n",
      "Epoch 84/300\n",
      "16/16 [==============================] - 0s 5ms/step - loss: 5.2428e-04 - accuracy: 1.0000 - val_loss: 1.9989 - val_accuracy: 0.7258\n",
      "Epoch 85/300\n",
      "16/16 [==============================] - 0s 4ms/step - loss: 5.2048e-04 - accuracy: 1.0000 - val_loss: 2.0047 - val_accuracy: 0.7258\n",
      "Epoch 86/300\n",
      "16/16 [==============================] - 0s 5ms/step - loss: 5.5051e-04 - accuracy: 1.0000 - val_loss: 2.0110 - val_accuracy: 0.7258\n",
      "Epoch 87/300\n",
      "16/16 [==============================] - 0s 4ms/step - loss: 5.7219e-04 - accuracy: 1.0000 - val_loss: 2.0189 - val_accuracy: 0.7258\n",
      "Epoch 88/300\n",
      "16/16 [==============================] - 0s 4ms/step - loss: 5.6985e-04 - accuracy: 1.0000 - val_loss: 2.0492 - val_accuracy: 0.7124\n",
      "Epoch 89/300\n",
      "16/16 [==============================] - 0s 4ms/step - loss: 5.0849e-04 - accuracy: 1.0000 - val_loss: 2.0418 - val_accuracy: 0.7204\n",
      "Epoch 90/300\n",
      "16/16 [==============================] - 0s 4ms/step - loss: 4.9925e-04 - accuracy: 1.0000 - val_loss: 2.0532 - val_accuracy: 0.7204\n",
      "Epoch 91/300\n",
      "16/16 [==============================] - 0s 4ms/step - loss: 4.3690e-04 - accuracy: 1.0000 - val_loss: 2.0653 - val_accuracy: 0.7151\n",
      "Epoch 92/300\n",
      "16/16 [==============================] - 0s 5ms/step - loss: 4.8819e-04 - accuracy: 1.0000 - val_loss: 2.0734 - val_accuracy: 0.7124\n",
      "Epoch 93/300\n",
      "16/16 [==============================] - 0s 5ms/step - loss: 5.0595e-04 - accuracy: 1.0000 - val_loss: 2.0794 - val_accuracy: 0.7124\n",
      "Epoch 94/300\n",
      "16/16 [==============================] - 0s 4ms/step - loss: 4.1922e-04 - accuracy: 1.0000 - val_loss: 2.0966 - val_accuracy: 0.7124\n",
      "Epoch 95/300\n",
      "16/16 [==============================] - 0s 4ms/step - loss: 4.3485e-04 - accuracy: 1.0000 - val_loss: 2.1219 - val_accuracy: 0.7124\n",
      "Epoch 96/300\n",
      "16/16 [==============================] - 0s 4ms/step - loss: 5.0348e-04 - accuracy: 1.0000 - val_loss: 2.1289 - val_accuracy: 0.7124\n",
      "Epoch 97/300\n",
      "16/16 [==============================] - 0s 4ms/step - loss: 4.2110e-04 - accuracy: 1.0000 - val_loss: 2.1543 - val_accuracy: 0.7124\n",
      "Epoch 98/300\n",
      "16/16 [==============================] - 0s 4ms/step - loss: 4.5856e-04 - accuracy: 1.0000 - val_loss: 2.1552 - val_accuracy: 0.7124\n",
      "Epoch 99/300\n",
      "16/16 [==============================] - 0s 4ms/step - loss: 4.1952e-04 - accuracy: 1.0000 - val_loss: 2.1549 - val_accuracy: 0.7124\n",
      "Epoch 100/300\n",
      "16/16 [==============================] - 0s 5ms/step - loss: 4.5727e-04 - accuracy: 1.0000 - val_loss: 2.1697 - val_accuracy: 0.7124\n",
      "Epoch 101/300\n",
      "16/16 [==============================] - 0s 4ms/step - loss: 3.9423e-04 - accuracy: 1.0000 - val_loss: 2.1794 - val_accuracy: 0.7124\n",
      "Epoch 102/300\n",
      "16/16 [==============================] - 0s 5ms/step - loss: 3.4492e-04 - accuracy: 1.0000 - val_loss: 2.1840 - val_accuracy: 0.7124\n",
      "Epoch 103/300\n",
      "16/16 [==============================] - 0s 5ms/step - loss: 3.6368e-04 - accuracy: 1.0000 - val_loss: 2.1889 - val_accuracy: 0.7124\n",
      "Epoch 104/300\n",
      "16/16 [==============================] - 0s 5ms/step - loss: 3.7105e-04 - accuracy: 1.0000 - val_loss: 2.2088 - val_accuracy: 0.7124\n",
      "Epoch 105/300\n",
      "16/16 [==============================] - 0s 4ms/step - loss: 3.4361e-04 - accuracy: 1.0000 - val_loss: 2.2086 - val_accuracy: 0.7124\n",
      "Epoch 106/300\n",
      "16/16 [==============================] - 0s 5ms/step - loss: 3.7451e-04 - accuracy: 1.0000 - val_loss: 2.2115 - val_accuracy: 0.7124\n",
      "Epoch 107/300\n",
      "16/16 [==============================] - 0s 5ms/step - loss: 3.9994e-04 - accuracy: 1.0000 - val_loss: 2.2077 - val_accuracy: 0.7151\n",
      "Epoch 108/300\n",
      "16/16 [==============================] - 0s 5ms/step - loss: 4.0768e-04 - accuracy: 1.0000 - val_loss: 2.2245 - val_accuracy: 0.7151\n",
      "Epoch 109/300\n",
      "16/16 [==============================] - 0s 5ms/step - loss: 3.8291e-04 - accuracy: 1.0000 - val_loss: 2.2245 - val_accuracy: 0.7151\n",
      "Epoch 110/300\n",
      "16/16 [==============================] - 0s 5ms/step - loss: 0.1056 - accuracy: 0.9612 - val_loss: 4.2485 - val_accuracy: 0.3737\n",
      "Epoch 111/300\n",
      "16/16 [==============================] - 0s 5ms/step - loss: 0.1298 - accuracy: 0.9487 - val_loss: 3.4495 - val_accuracy: 0.4624\n",
      "Epoch 112/300\n",
      "16/16 [==============================] - 0s 4ms/step - loss: 0.0967 - accuracy: 0.9605 - val_loss: 2.4530 - val_accuracy: 0.5484\n",
      "Epoch 113/300\n",
      "16/16 [==============================] - 0s 5ms/step - loss: 0.0658 - accuracy: 0.9664 - val_loss: 2.0226 - val_accuracy: 0.7231\n",
      "Epoch 114/300\n",
      "16/16 [==============================] - 0s 4ms/step - loss: 0.0565 - accuracy: 0.9750 - val_loss: 1.9130 - val_accuracy: 0.7661\n",
      "Epoch 115/300\n",
      "16/16 [==============================] - 0s 6ms/step - loss: 0.0384 - accuracy: 0.9882 - val_loss: 2.0016 - val_accuracy: 0.7634\n",
      "Epoch 116/300\n",
      "16/16 [==============================] - 0s 5ms/step - loss: 0.0247 - accuracy: 0.9908 - val_loss: 2.1058 - val_accuracy: 0.7312\n",
      "Epoch 117/300\n",
      "16/16 [==============================] - 0s 4ms/step - loss: 0.0491 - accuracy: 0.9750 - val_loss: 1.9679 - val_accuracy: 0.7473\n",
      "Epoch 118/300\n",
      "16/16 [==============================] - 0s 4ms/step - loss: 0.0195 - accuracy: 0.9921 - val_loss: 1.8541 - val_accuracy: 0.7554\n",
      "Epoch 119/300\n",
      "16/16 [==============================] - 0s 4ms/step - loss: 0.0132 - accuracy: 0.9947 - val_loss: 1.8131 - val_accuracy: 0.7688\n",
      "Epoch 120/300\n",
      "16/16 [==============================] - 0s 4ms/step - loss: 0.0056 - accuracy: 0.9987 - val_loss: 1.9491 - val_accuracy: 0.7554\n",
      "Epoch 121/300\n",
      "16/16 [==============================] - 0s 4ms/step - loss: 0.0055 - accuracy: 0.9987 - val_loss: 1.7978 - val_accuracy: 0.7903\n",
      "Epoch 122/300\n",
      "16/16 [==============================] - 0s 5ms/step - loss: 0.0063 - accuracy: 0.9993 - val_loss: 1.7478 - val_accuracy: 0.7849\n",
      "Epoch 123/300\n",
      "16/16 [==============================] - 0s 5ms/step - loss: 0.0085 - accuracy: 0.9980 - val_loss: 1.7871 - val_accuracy: 0.7823\n",
      "Epoch 124/300\n",
      "16/16 [==============================] - 0s 5ms/step - loss: 0.0027 - accuracy: 0.9993 - val_loss: 1.8339 - val_accuracy: 0.7634\n",
      "Epoch 125/300\n",
      "16/16 [==============================] - 0s 4ms/step - loss: 0.0028 - accuracy: 1.0000 - val_loss: 1.9116 - val_accuracy: 0.7608\n",
      "Epoch 126/300\n",
      "16/16 [==============================] - 0s 5ms/step - loss: 0.0019 - accuracy: 1.0000 - val_loss: 2.0219 - val_accuracy: 0.7446\n",
      "Epoch 127/300\n",
      "16/16 [==============================] - 0s 4ms/step - loss: 0.0014 - accuracy: 1.0000 - val_loss: 2.1320 - val_accuracy: 0.7312\n",
      "Epoch 128/300\n",
      "16/16 [==============================] - 0s 4ms/step - loss: 0.0011 - accuracy: 1.0000 - val_loss: 2.1821 - val_accuracy: 0.7285\n",
      "Epoch 129/300\n",
      "16/16 [==============================] - 0s 5ms/step - loss: 0.0012 - accuracy: 1.0000 - val_loss: 2.2043 - val_accuracy: 0.7312\n",
      "Epoch 130/300\n",
      "16/16 [==============================] - 0s 4ms/step - loss: 9.0359e-04 - accuracy: 1.0000 - val_loss: 2.2137 - val_accuracy: 0.7312\n",
      "Epoch 131/300\n",
      "16/16 [==============================] - 0s 5ms/step - loss: 0.0010 - accuracy: 1.0000 - val_loss: 2.2227 - val_accuracy: 0.7312\n",
      "Epoch 132/300\n",
      "16/16 [==============================] - 0s 5ms/step - loss: 9.4874e-04 - accuracy: 1.0000 - val_loss: 2.2259 - val_accuracy: 0.7312\n",
      "Epoch 133/300\n",
      "16/16 [==============================] - 0s 5ms/step - loss: 9.0291e-04 - accuracy: 1.0000 - val_loss: 2.2394 - val_accuracy: 0.7339\n",
      "Epoch 134/300\n",
      "16/16 [==============================] - 0s 5ms/step - loss: 0.0012 - accuracy: 1.0000 - val_loss: 2.2441 - val_accuracy: 0.7419\n",
      "Epoch 135/300\n",
      "16/16 [==============================] - 0s 5ms/step - loss: 8.7035e-04 - accuracy: 1.0000 - val_loss: 2.2726 - val_accuracy: 0.7419\n",
      "Epoch 136/300\n",
      "16/16 [==============================] - 0s 5ms/step - loss: 9.0079e-04 - accuracy: 1.0000 - val_loss: 2.2799 - val_accuracy: 0.7392\n",
      "Epoch 137/300\n",
      "16/16 [==============================] - 0s 5ms/step - loss: 9.1783e-04 - accuracy: 1.0000 - val_loss: 2.2801 - val_accuracy: 0.7392\n",
      "Epoch 138/300\n",
      "16/16 [==============================] - 0s 5ms/step - loss: 9.5429e-04 - accuracy: 1.0000 - val_loss: 2.2739 - val_accuracy: 0.7392\n",
      "Epoch 139/300\n",
      "16/16 [==============================] - 0s 5ms/step - loss: 6.2717e-04 - accuracy: 1.0000 - val_loss: 2.2680 - val_accuracy: 0.7392\n",
      "Epoch 140/300\n",
      "16/16 [==============================] - 0s 4ms/step - loss: 5.5187e-04 - accuracy: 1.0000 - val_loss: 2.2708 - val_accuracy: 0.7392\n",
      "Epoch 141/300\n",
      "16/16 [==============================] - 0s 4ms/step - loss: 5.8215e-04 - accuracy: 1.0000 - val_loss: 2.2771 - val_accuracy: 0.7392\n",
      "Epoch 142/300\n",
      "16/16 [==============================] - 0s 4ms/step - loss: 5.2578e-04 - accuracy: 1.0000 - val_loss: 2.2934 - val_accuracy: 0.7419\n",
      "Epoch 143/300\n",
      "16/16 [==============================] - 0s 5ms/step - loss: 6.5609e-04 - accuracy: 1.0000 - val_loss: 2.2928 - val_accuracy: 0.7392\n",
      "Epoch 144/300\n",
      "16/16 [==============================] - 0s 5ms/step - loss: 5.4924e-04 - accuracy: 1.0000 - val_loss: 2.2931 - val_accuracy: 0.7366\n",
      "Epoch 145/300\n",
      "16/16 [==============================] - 0s 4ms/step - loss: 5.0299e-04 - accuracy: 1.0000 - val_loss: 2.2943 - val_accuracy: 0.7366\n",
      "Epoch 146/300\n",
      "16/16 [==============================] - 0s 5ms/step - loss: 0.0030 - accuracy: 1.0000 - val_loss: 2.3081 - val_accuracy: 0.7339\n",
      "Epoch 147/300\n",
      "16/16 [==============================] - 0s 4ms/step - loss: 8.9020e-04 - accuracy: 1.0000 - val_loss: 2.2619 - val_accuracy: 0.7366\n",
      "Epoch 148/300\n",
      "16/16 [==============================] - 0s 4ms/step - loss: 0.0019 - accuracy: 0.9993 - val_loss: 1.9300 - val_accuracy: 0.7903\n",
      "Epoch 149/300\n",
      "16/16 [==============================] - 0s 4ms/step - loss: 0.0841 - accuracy: 0.9671 - val_loss: 2.0698 - val_accuracy: 0.5968\n",
      "Epoch 150/300\n",
      "16/16 [==============================] - 0s 4ms/step - loss: 0.0626 - accuracy: 0.9737 - val_loss: 1.9918 - val_accuracy: 0.7446\n",
      "Epoch 151/300\n",
      "16/16 [==============================] - 0s 4ms/step - loss: 0.0396 - accuracy: 0.9822 - val_loss: 1.9776 - val_accuracy: 0.7876\n",
      "Epoch 152/300\n",
      "16/16 [==============================] - 0s 4ms/step - loss: 0.0180 - accuracy: 0.9954 - val_loss: 2.0086 - val_accuracy: 0.7715\n",
      "Epoch 153/300\n",
      "16/16 [==============================] - 0s 5ms/step - loss: 0.0369 - accuracy: 0.9822 - val_loss: 2.1463 - val_accuracy: 0.7500\n",
      "Epoch 154/300\n",
      "16/16 [==============================] - 0s 5ms/step - loss: 0.0197 - accuracy: 0.9947 - val_loss: 2.2131 - val_accuracy: 0.7339\n",
      "Epoch 155/300\n",
      "16/16 [==============================] - 0s 5ms/step - loss: 0.0036 - accuracy: 0.9993 - val_loss: 2.4783 - val_accuracy: 0.7231\n",
      "Epoch 156/300\n",
      "16/16 [==============================] - 0s 5ms/step - loss: 0.0028 - accuracy: 0.9993 - val_loss: 2.3290 - val_accuracy: 0.7446\n",
      "Epoch 157/300\n",
      "16/16 [==============================] - 0s 4ms/step - loss: 0.0013 - accuracy: 1.0000 - val_loss: 2.3748 - val_accuracy: 0.7285\n",
      "Epoch 158/300\n",
      "16/16 [==============================] - 0s 4ms/step - loss: 0.0015 - accuracy: 1.0000 - val_loss: 2.3729 - val_accuracy: 0.7258\n",
      "Epoch 159/300\n",
      "16/16 [==============================] - 0s 5ms/step - loss: 0.0012 - accuracy: 1.0000 - val_loss: 2.3936 - val_accuracy: 0.7285\n",
      "Epoch 160/300\n",
      "16/16 [==============================] - 0s 5ms/step - loss: 8.3641e-04 - accuracy: 1.0000 - val_loss: 2.3685 - val_accuracy: 0.7285\n",
      "Epoch 161/300\n",
      "16/16 [==============================] - 0s 5ms/step - loss: 7.6564e-04 - accuracy: 1.0000 - val_loss: 2.3590 - val_accuracy: 0.7285\n",
      "Epoch 162/300\n",
      "16/16 [==============================] - 0s 4ms/step - loss: 6.4704e-04 - accuracy: 1.0000 - val_loss: 2.3489 - val_accuracy: 0.7312\n",
      "Epoch 163/300\n",
      "16/16 [==============================] - 0s 4ms/step - loss: 8.8465e-04 - accuracy: 1.0000 - val_loss: 2.3326 - val_accuracy: 0.7312\n",
      "Epoch 164/300\n",
      "16/16 [==============================] - 0s 4ms/step - loss: 0.0014 - accuracy: 0.9993 - val_loss: 2.3375 - val_accuracy: 0.7339\n",
      "Epoch 165/300\n",
      "16/16 [==============================] - 0s 4ms/step - loss: 6.5942e-04 - accuracy: 1.0000 - val_loss: 2.3384 - val_accuracy: 0.7339\n",
      "Epoch 166/300\n",
      "16/16 [==============================] - 0s 5ms/step - loss: 5.0109e-04 - accuracy: 1.0000 - val_loss: 2.3321 - val_accuracy: 0.7339\n",
      "Epoch 167/300\n",
      "16/16 [==============================] - 0s 4ms/step - loss: 5.0155e-04 - accuracy: 1.0000 - val_loss: 2.3297 - val_accuracy: 0.7339\n",
      "Epoch 168/300\n",
      "16/16 [==============================] - 0s 5ms/step - loss: 4.6000e-04 - accuracy: 1.0000 - val_loss: 2.3278 - val_accuracy: 0.7339\n",
      "Epoch 169/300\n",
      "16/16 [==============================] - 0s 4ms/step - loss: 4.5963e-04 - accuracy: 1.0000 - val_loss: 2.3250 - val_accuracy: 0.7339\n",
      "Epoch 170/300\n",
      "16/16 [==============================] - 0s 5ms/step - loss: 4.4962e-04 - accuracy: 1.0000 - val_loss: 2.3178 - val_accuracy: 0.7339\n",
      "Epoch 171/300\n",
      "16/16 [==============================] - 0s 4ms/step - loss: 3.8394e-04 - accuracy: 1.0000 - val_loss: 2.3121 - val_accuracy: 0.7366\n",
      "Epoch 172/300\n",
      "16/16 [==============================] - 0s 5ms/step - loss: 5.1766e-04 - accuracy: 1.0000 - val_loss: 2.3175 - val_accuracy: 0.7366\n",
      "Epoch 173/300\n",
      "16/16 [==============================] - 0s 5ms/step - loss: 4.2306e-04 - accuracy: 1.0000 - val_loss: 2.3205 - val_accuracy: 0.7366\n",
      "Epoch 174/300\n",
      "16/16 [==============================] - 0s 4ms/step - loss: 4.5125e-04 - accuracy: 1.0000 - val_loss: 2.3198 - val_accuracy: 0.7392\n",
      "Epoch 175/300\n",
      "16/16 [==============================] - 0s 4ms/step - loss: 4.5333e-04 - accuracy: 1.0000 - val_loss: 2.3182 - val_accuracy: 0.7419\n",
      "Epoch 176/300\n",
      "16/16 [==============================] - 0s 5ms/step - loss: 3.3378e-04 - accuracy: 1.0000 - val_loss: 2.3169 - val_accuracy: 0.7419\n",
      "Epoch 177/300\n",
      "16/16 [==============================] - 0s 4ms/step - loss: 3.5536e-04 - accuracy: 1.0000 - val_loss: 2.3173 - val_accuracy: 0.7419\n",
      "Epoch 178/300\n",
      "16/16 [==============================] - 0s 4ms/step - loss: 3.3150e-04 - accuracy: 1.0000 - val_loss: 2.3161 - val_accuracy: 0.7419\n",
      "Epoch 179/300\n",
      "16/16 [==============================] - 0s 4ms/step - loss: 3.5895e-04 - accuracy: 1.0000 - val_loss: 2.3194 - val_accuracy: 0.7419\n",
      "Epoch 180/300\n",
      "16/16 [==============================] - 0s 5ms/step - loss: 4.0944e-04 - accuracy: 1.0000 - val_loss: 2.3189 - val_accuracy: 0.7419\n",
      "Epoch 181/300\n",
      "16/16 [==============================] - 0s 4ms/step - loss: 8.0453e-04 - accuracy: 0.9993 - val_loss: 2.3273 - val_accuracy: 0.7419\n",
      "Epoch 182/300\n",
      "16/16 [==============================] - 0s 5ms/step - loss: 3.0149e-04 - accuracy: 1.0000 - val_loss: 2.3308 - val_accuracy: 0.7419\n",
      "Epoch 183/300\n",
      "16/16 [==============================] - 0s 4ms/step - loss: 3.7950e-04 - accuracy: 1.0000 - val_loss: 2.3365 - val_accuracy: 0.7419\n",
      "Epoch 184/300\n",
      "16/16 [==============================] - 0s 4ms/step - loss: 3.6260e-04 - accuracy: 1.0000 - val_loss: 2.3401 - val_accuracy: 0.7419\n",
      "Epoch 185/300\n",
      "16/16 [==============================] - 0s 5ms/step - loss: 2.7401e-04 - accuracy: 1.0000 - val_loss: 2.3372 - val_accuracy: 0.7419\n",
      "Epoch 186/300\n",
      "16/16 [==============================] - 0s 4ms/step - loss: 4.4053e-04 - accuracy: 1.0000 - val_loss: 2.3467 - val_accuracy: 0.7419\n",
      "Epoch 187/300\n",
      "16/16 [==============================] - 0s 4ms/step - loss: 3.0205e-04 - accuracy: 1.0000 - val_loss: 2.3472 - val_accuracy: 0.7419\n",
      "Epoch 188/300\n",
      "16/16 [==============================] - 0s 4ms/step - loss: 3.5183e-04 - accuracy: 1.0000 - val_loss: 2.3470 - val_accuracy: 0.7419\n",
      "Epoch 189/300\n",
      "16/16 [==============================] - 0s 5ms/step - loss: 3.4596e-04 - accuracy: 1.0000 - val_loss: 2.3541 - val_accuracy: 0.7419\n",
      "Epoch 190/300\n",
      "16/16 [==============================] - 0s 5ms/step - loss: 3.2251e-04 - accuracy: 1.0000 - val_loss: 2.3649 - val_accuracy: 0.7419\n",
      "Epoch 191/300\n",
      "16/16 [==============================] - 0s 5ms/step - loss: 3.3138e-04 - accuracy: 1.0000 - val_loss: 2.3587 - val_accuracy: 0.7419\n",
      "Epoch 192/300\n",
      "16/16 [==============================] - 0s 5ms/step - loss: 2.8376e-04 - accuracy: 1.0000 - val_loss: 2.3510 - val_accuracy: 0.7419\n",
      "Epoch 193/300\n",
      "16/16 [==============================] - 0s 5ms/step - loss: 2.9312e-04 - accuracy: 1.0000 - val_loss: 2.3595 - val_accuracy: 0.7419\n",
      "Epoch 194/300\n",
      "16/16 [==============================] - 0s 4ms/step - loss: 2.6215e-04 - accuracy: 1.0000 - val_loss: 2.3623 - val_accuracy: 0.7419\n",
      "Epoch 195/300\n",
      "16/16 [==============================] - 0s 5ms/step - loss: 3.7899e-04 - accuracy: 1.0000 - val_loss: 2.3708 - val_accuracy: 0.7419\n",
      "Epoch 196/300\n",
      "16/16 [==============================] - 0s 5ms/step - loss: 3.2171e-04 - accuracy: 1.0000 - val_loss: 2.3997 - val_accuracy: 0.7419\n",
      "Epoch 197/300\n",
      "16/16 [==============================] - 0s 5ms/step - loss: 3.7581e-04 - accuracy: 1.0000 - val_loss: 2.4054 - val_accuracy: 0.7419\n",
      "Epoch 198/300\n",
      "16/16 [==============================] - 0s 5ms/step - loss: 0.0061 - accuracy: 0.9987 - val_loss: 1.7937 - val_accuracy: 0.8253\n",
      "Epoch 199/300\n",
      "16/16 [==============================] - 0s 5ms/step - loss: 0.0036 - accuracy: 0.9993 - val_loss: 1.9618 - val_accuracy: 0.7581\n",
      "Epoch 200/300\n",
      "16/16 [==============================] - 0s 5ms/step - loss: 0.0019 - accuracy: 1.0000 - val_loss: 1.9982 - val_accuracy: 0.7581\n",
      "Epoch 201/300\n",
      "16/16 [==============================] - 0s 5ms/step - loss: 0.0016 - accuracy: 1.0000 - val_loss: 2.0727 - val_accuracy: 0.7554\n",
      "Epoch 202/300\n",
      "16/16 [==============================] - 0s 5ms/step - loss: 9.3834e-04 - accuracy: 1.0000 - val_loss: 2.1507 - val_accuracy: 0.7500\n",
      "Epoch 203/300\n",
      "16/16 [==============================] - 0s 5ms/step - loss: 7.1637e-04 - accuracy: 1.0000 - val_loss: 2.1912 - val_accuracy: 0.7500\n",
      "Epoch 204/300\n",
      "16/16 [==============================] - 0s 5ms/step - loss: 4.8759e-04 - accuracy: 1.0000 - val_loss: 2.2195 - val_accuracy: 0.7500\n",
      "Epoch 205/300\n",
      "16/16 [==============================] - 0s 5ms/step - loss: 0.0013 - accuracy: 1.0000 - val_loss: 2.2344 - val_accuracy: 0.7500\n",
      "Epoch 206/300\n",
      "16/16 [==============================] - 0s 5ms/step - loss: 4.6630e-04 - accuracy: 1.0000 - val_loss: 2.2491 - val_accuracy: 0.7500\n",
      "Epoch 207/300\n",
      "16/16 [==============================] - 0s 4ms/step - loss: 0.0011 - accuracy: 1.0000 - val_loss: 2.2745 - val_accuracy: 0.7473\n",
      "Epoch 208/300\n",
      "16/16 [==============================] - 0s 4ms/step - loss: 4.2389e-04 - accuracy: 1.0000 - val_loss: 2.3357 - val_accuracy: 0.7500\n",
      "Epoch 209/300\n",
      "16/16 [==============================] - 0s 4ms/step - loss: 3.8375e-04 - accuracy: 1.0000 - val_loss: 2.3457 - val_accuracy: 0.7500\n",
      "Epoch 210/300\n",
      "16/16 [==============================] - 0s 5ms/step - loss: 4.8152e-04 - accuracy: 1.0000 - val_loss: 2.3465 - val_accuracy: 0.7473\n",
      "Epoch 211/300\n",
      "16/16 [==============================] - 0s 4ms/step - loss: 0.0020 - accuracy: 0.9993 - val_loss: 2.3625 - val_accuracy: 0.7258\n",
      "Epoch 212/300\n",
      "16/16 [==============================] - 0s 4ms/step - loss: 5.8539e-04 - accuracy: 1.0000 - val_loss: 2.3493 - val_accuracy: 0.7285\n",
      "Epoch 213/300\n",
      "16/16 [==============================] - 0s 5ms/step - loss: 8.0302e-04 - accuracy: 1.0000 - val_loss: 2.2956 - val_accuracy: 0.7392\n",
      "Epoch 214/300\n",
      "16/16 [==============================] - 0s 4ms/step - loss: 0.0034 - accuracy: 0.9980 - val_loss: 1.9636 - val_accuracy: 0.8091\n",
      "Epoch 215/300\n",
      "16/16 [==============================] - 0s 5ms/step - loss: 0.0013 - accuracy: 0.9993 - val_loss: 1.9909 - val_accuracy: 0.7796\n",
      "Epoch 216/300\n",
      "16/16 [==============================] - 0s 5ms/step - loss: 8.5469e-04 - accuracy: 1.0000 - val_loss: 2.0800 - val_accuracy: 0.7527\n",
      "Epoch 217/300\n",
      "16/16 [==============================] - 0s 5ms/step - loss: 4.8799e-04 - accuracy: 1.0000 - val_loss: 2.1362 - val_accuracy: 0.7473\n",
      "Epoch 218/300\n",
      "16/16 [==============================] - 0s 5ms/step - loss: 4.0374e-04 - accuracy: 1.0000 - val_loss: 2.1740 - val_accuracy: 0.7473\n",
      "Epoch 219/300\n",
      "16/16 [==============================] - 0s 5ms/step - loss: 4.0939e-04 - accuracy: 1.0000 - val_loss: 2.2016 - val_accuracy: 0.7473\n",
      "Epoch 220/300\n",
      "16/16 [==============================] - 0s 4ms/step - loss: 2.2763e-04 - accuracy: 1.0000 - val_loss: 2.2234 - val_accuracy: 0.7473\n",
      "Epoch 221/300\n",
      "16/16 [==============================] - 0s 4ms/step - loss: 2.6475e-04 - accuracy: 1.0000 - val_loss: 2.2429 - val_accuracy: 0.7419\n",
      "Epoch 222/300\n",
      "16/16 [==============================] - 0s 4ms/step - loss: 3.0904e-04 - accuracy: 1.0000 - val_loss: 2.2700 - val_accuracy: 0.7392\n",
      "Epoch 223/300\n",
      "16/16 [==============================] - 0s 4ms/step - loss: 2.7508e-04 - accuracy: 1.0000 - val_loss: 2.2875 - val_accuracy: 0.7392\n",
      "Epoch 224/300\n",
      "16/16 [==============================] - 0s 4ms/step - loss: 2.1485e-04 - accuracy: 1.0000 - val_loss: 2.2962 - val_accuracy: 0.7392\n",
      "Epoch 225/300\n",
      "16/16 [==============================] - 0s 5ms/step - loss: 2.0472e-04 - accuracy: 1.0000 - val_loss: 2.3080 - val_accuracy: 0.7419\n",
      "Epoch 226/300\n",
      "16/16 [==============================] - 0s 5ms/step - loss: 2.5410e-04 - accuracy: 1.0000 - val_loss: 2.3177 - val_accuracy: 0.7392\n",
      "Epoch 227/300\n",
      "16/16 [==============================] - 0s 4ms/step - loss: 2.6743e-04 - accuracy: 1.0000 - val_loss: 2.3033 - val_accuracy: 0.7419\n",
      "Epoch 228/300\n",
      "16/16 [==============================] - 0s 5ms/step - loss: 2.1553e-04 - accuracy: 1.0000 - val_loss: 2.3153 - val_accuracy: 0.7419\n",
      "Epoch 229/300\n",
      "16/16 [==============================] - 0s 5ms/step - loss: 1.8831e-04 - accuracy: 1.0000 - val_loss: 2.3155 - val_accuracy: 0.7419\n",
      "Epoch 230/300\n",
      "16/16 [==============================] - 0s 5ms/step - loss: 2.0974e-04 - accuracy: 1.0000 - val_loss: 2.3196 - val_accuracy: 0.7419\n",
      "Epoch 231/300\n",
      "16/16 [==============================] - 0s 5ms/step - loss: 2.4995e-04 - accuracy: 1.0000 - val_loss: 2.3325 - val_accuracy: 0.7419\n",
      "Epoch 232/300\n",
      "16/16 [==============================] - 0s 5ms/step - loss: 2.3070e-04 - accuracy: 1.0000 - val_loss: 2.3614 - val_accuracy: 0.7419\n",
      "Epoch 233/300\n",
      "16/16 [==============================] - 0s 5ms/step - loss: 2.0155e-04 - accuracy: 1.0000 - val_loss: 2.3406 - val_accuracy: 0.7419\n",
      "Epoch 234/300\n",
      "16/16 [==============================] - 0s 4ms/step - loss: 3.3957e-04 - accuracy: 1.0000 - val_loss: 2.3605 - val_accuracy: 0.7419\n",
      "Epoch 235/300\n",
      "16/16 [==============================] - 0s 5ms/step - loss: 2.3218e-04 - accuracy: 1.0000 - val_loss: 2.3779 - val_accuracy: 0.7419\n",
      "Epoch 236/300\n",
      "16/16 [==============================] - 0s 4ms/step - loss: 1.9197e-04 - accuracy: 1.0000 - val_loss: 2.3879 - val_accuracy: 0.7419\n",
      "Epoch 237/300\n",
      "16/16 [==============================] - 0s 4ms/step - loss: 1.4178e-04 - accuracy: 1.0000 - val_loss: 2.3883 - val_accuracy: 0.7419\n",
      "Epoch 238/300\n",
      "16/16 [==============================] - 0s 5ms/step - loss: 1.5793e-04 - accuracy: 1.0000 - val_loss: 2.3839 - val_accuracy: 0.7419\n",
      "Epoch 239/300\n",
      "16/16 [==============================] - 0s 4ms/step - loss: 1.4140e-04 - accuracy: 1.0000 - val_loss: 2.3821 - val_accuracy: 0.7419\n",
      "Epoch 240/300\n",
      "16/16 [==============================] - 0s 5ms/step - loss: 1.6680e-04 - accuracy: 1.0000 - val_loss: 2.3834 - val_accuracy: 0.7419\n",
      "Epoch 241/300\n",
      "16/16 [==============================] - 0s 4ms/step - loss: 1.8965e-04 - accuracy: 1.0000 - val_loss: 2.3895 - val_accuracy: 0.7419\n",
      "Epoch 242/300\n",
      "16/16 [==============================] - 0s 5ms/step - loss: 2.8775e-04 - accuracy: 1.0000 - val_loss: 2.3803 - val_accuracy: 0.7419\n",
      "Epoch 243/300\n",
      "16/16 [==============================] - 0s 5ms/step - loss: 1.5013e-04 - accuracy: 1.0000 - val_loss: 2.3855 - val_accuracy: 0.7419\n",
      "Epoch 244/300\n",
      "16/16 [==============================] - 0s 5ms/step - loss: 1.2067e-04 - accuracy: 1.0000 - val_loss: 2.3721 - val_accuracy: 0.7419\n",
      "Epoch 245/300\n",
      "16/16 [==============================] - 0s 4ms/step - loss: 1.5703e-04 - accuracy: 1.0000 - val_loss: 2.3827 - val_accuracy: 0.7419\n",
      "Epoch 246/300\n",
      "16/16 [==============================] - 0s 5ms/step - loss: 1.4562e-04 - accuracy: 1.0000 - val_loss: 2.3961 - val_accuracy: 0.7419\n",
      "Epoch 247/300\n",
      "16/16 [==============================] - 0s 4ms/step - loss: 1.5259e-04 - accuracy: 1.0000 - val_loss: 2.4055 - val_accuracy: 0.7419\n",
      "Epoch 248/300\n",
      "16/16 [==============================] - 0s 5ms/step - loss: 1.1569e-04 - accuracy: 1.0000 - val_loss: 2.4131 - val_accuracy: 0.7419\n",
      "Epoch 249/300\n",
      "16/16 [==============================] - 0s 5ms/step - loss: 1.2312e-04 - accuracy: 1.0000 - val_loss: 2.4196 - val_accuracy: 0.7419\n",
      "Epoch 250/300\n",
      "16/16 [==============================] - 0s 5ms/step - loss: 1.2708e-04 - accuracy: 1.0000 - val_loss: 2.4233 - val_accuracy: 0.7419\n",
      "Epoch 251/300\n",
      "16/16 [==============================] - 0s 5ms/step - loss: 1.6624e-04 - accuracy: 1.0000 - val_loss: 2.4297 - val_accuracy: 0.7419\n",
      "Epoch 252/300\n",
      "16/16 [==============================] - 0s 5ms/step - loss: 1.3617e-04 - accuracy: 1.0000 - val_loss: 2.4351 - val_accuracy: 0.7419\n",
      "Epoch 253/300\n",
      "16/16 [==============================] - 0s 5ms/step - loss: 1.2471e-04 - accuracy: 1.0000 - val_loss: 2.4401 - val_accuracy: 0.7419\n",
      "Epoch 254/300\n",
      "16/16 [==============================] - 0s 4ms/step - loss: 1.0661e-04 - accuracy: 1.0000 - val_loss: 2.4420 - val_accuracy: 0.7419\n",
      "Epoch 255/300\n",
      "16/16 [==============================] - 0s 4ms/step - loss: 1.1778e-04 - accuracy: 1.0000 - val_loss: 2.4457 - val_accuracy: 0.7419\n",
      "Epoch 256/300\n",
      "16/16 [==============================] - 0s 4ms/step - loss: 1.2160e-04 - accuracy: 1.0000 - val_loss: 2.4513 - val_accuracy: 0.7419\n",
      "Epoch 257/300\n",
      "16/16 [==============================] - 0s 4ms/step - loss: 1.6058e-04 - accuracy: 1.0000 - val_loss: 2.4530 - val_accuracy: 0.7419\n",
      "Epoch 258/300\n",
      "16/16 [==============================] - 0s 5ms/step - loss: 1.4061e-04 - accuracy: 1.0000 - val_loss: 2.4638 - val_accuracy: 0.7419\n",
      "Epoch 259/300\n",
      "16/16 [==============================] - 0s 5ms/step - loss: 2.4074e-04 - accuracy: 1.0000 - val_loss: 2.4746 - val_accuracy: 0.7419\n",
      "Epoch 260/300\n",
      "16/16 [==============================] - 0s 5ms/step - loss: 1.9954e-04 - accuracy: 1.0000 - val_loss: 2.4753 - val_accuracy: 0.7419\n",
      "Epoch 261/300\n",
      "16/16 [==============================] - 0s 5ms/step - loss: 1.3478e-04 - accuracy: 1.0000 - val_loss: 2.4582 - val_accuracy: 0.7419\n",
      "Epoch 262/300\n",
      "16/16 [==============================] - 0s 6ms/step - loss: 1.0430e-04 - accuracy: 1.0000 - val_loss: 2.4610 - val_accuracy: 0.7419\n",
      "Epoch 263/300\n",
      "16/16 [==============================] - 0s 5ms/step - loss: 1.0822e-04 - accuracy: 1.0000 - val_loss: 2.4736 - val_accuracy: 0.7419\n",
      "Epoch 264/300\n",
      "16/16 [==============================] - 0s 5ms/step - loss: 1.1464e-04 - accuracy: 1.0000 - val_loss: 2.4801 - val_accuracy: 0.7419\n",
      "Epoch 265/300\n",
      "16/16 [==============================] - 0s 5ms/step - loss: 1.2206e-04 - accuracy: 1.0000 - val_loss: 2.4873 - val_accuracy: 0.7419\n",
      "Epoch 266/300\n",
      "16/16 [==============================] - 0s 5ms/step - loss: 1.7714e-04 - accuracy: 1.0000 - val_loss: 2.4883 - val_accuracy: 0.7419\n",
      "Epoch 267/300\n",
      "16/16 [==============================] - 0s 5ms/step - loss: 9.6675e-05 - accuracy: 1.0000 - val_loss: 2.4734 - val_accuracy: 0.7419\n",
      "Epoch 268/300\n",
      "16/16 [==============================] - 0s 5ms/step - loss: 1.2056e-04 - accuracy: 1.0000 - val_loss: 2.4815 - val_accuracy: 0.7419\n",
      "Epoch 269/300\n",
      "16/16 [==============================] - 0s 4ms/step - loss: 8.0799e-05 - accuracy: 1.0000 - val_loss: 2.4896 - val_accuracy: 0.7419\n",
      "Epoch 270/300\n",
      "16/16 [==============================] - 0s 5ms/step - loss: 1.2463e-04 - accuracy: 1.0000 - val_loss: 2.4984 - val_accuracy: 0.7419\n",
      "Epoch 271/300\n",
      "16/16 [==============================] - 0s 5ms/step - loss: 9.0376e-05 - accuracy: 1.0000 - val_loss: 2.5056 - val_accuracy: 0.7419\n",
      "Epoch 272/300\n",
      "16/16 [==============================] - 0s 5ms/step - loss: 1.0769e-04 - accuracy: 1.0000 - val_loss: 2.5106 - val_accuracy: 0.7419\n",
      "Epoch 273/300\n",
      "16/16 [==============================] - 0s 5ms/step - loss: 8.3822e-05 - accuracy: 1.0000 - val_loss: 2.5161 - val_accuracy: 0.7366\n",
      "Epoch 274/300\n",
      "16/16 [==============================] - 0s 4ms/step - loss: 1.0427e-04 - accuracy: 1.0000 - val_loss: 2.5191 - val_accuracy: 0.7366\n",
      "Epoch 275/300\n",
      "16/16 [==============================] - 0s 4ms/step - loss: 9.9718e-05 - accuracy: 1.0000 - val_loss: 2.5227 - val_accuracy: 0.7366\n",
      "Epoch 276/300\n",
      "16/16 [==============================] - 0s 4ms/step - loss: 1.0581e-04 - accuracy: 1.0000 - val_loss: 2.5322 - val_accuracy: 0.7366\n",
      "Epoch 277/300\n",
      "16/16 [==============================] - 0s 4ms/step - loss: 1.0025e-04 - accuracy: 1.0000 - val_loss: 2.5396 - val_accuracy: 0.7366\n",
      "Epoch 278/300\n",
      "16/16 [==============================] - 0s 4ms/step - loss: 8.4845e-05 - accuracy: 1.0000 - val_loss: 2.5430 - val_accuracy: 0.7366\n",
      "Epoch 279/300\n",
      "16/16 [==============================] - 0s 4ms/step - loss: 9.8140e-05 - accuracy: 1.0000 - val_loss: 2.5426 - val_accuracy: 0.7366\n",
      "Epoch 280/300\n",
      "16/16 [==============================] - 0s 4ms/step - loss: 7.0307e-05 - accuracy: 1.0000 - val_loss: 2.5441 - val_accuracy: 0.7366\n",
      "Epoch 281/300\n",
      "16/16 [==============================] - 0s 4ms/step - loss: 1.0390e-04 - accuracy: 1.0000 - val_loss: 2.5457 - val_accuracy: 0.7366\n",
      "Epoch 282/300\n",
      "16/16 [==============================] - 0s 4ms/step - loss: 1.0527e-04 - accuracy: 1.0000 - val_loss: 2.5497 - val_accuracy: 0.7366\n",
      "Epoch 283/300\n",
      "16/16 [==============================] - 0s 5ms/step - loss: 1.0649e-04 - accuracy: 1.0000 - val_loss: 2.5529 - val_accuracy: 0.7366\n",
      "Epoch 284/300\n",
      "16/16 [==============================] - 0s 4ms/step - loss: 7.3920e-05 - accuracy: 1.0000 - val_loss: 2.5572 - val_accuracy: 0.7392\n",
      "Epoch 285/300\n",
      "16/16 [==============================] - 0s 5ms/step - loss: 7.8468e-05 - accuracy: 1.0000 - val_loss: 2.5548 - val_accuracy: 0.7392\n",
      "Epoch 286/300\n",
      "16/16 [==============================] - 0s 5ms/step - loss: 8.3660e-05 - accuracy: 1.0000 - val_loss: 2.5543 - val_accuracy: 0.7392\n",
      "Epoch 287/300\n",
      "16/16 [==============================] - 0s 4ms/step - loss: 0.0027 - accuracy: 0.9993 - val_loss: 2.6333 - val_accuracy: 0.7419\n",
      "Epoch 288/300\n",
      "16/16 [==============================] - 0s 4ms/step - loss: 0.0694 - accuracy: 0.9770 - val_loss: 1.8825 - val_accuracy: 0.6909\n",
      "Epoch 289/300\n",
      "16/16 [==============================] - 0s 4ms/step - loss: 0.0216 - accuracy: 0.9947 - val_loss: 1.7199 - val_accuracy: 0.8145\n",
      "Epoch 290/300\n",
      "16/16 [==============================] - 0s 5ms/step - loss: 0.0034 - accuracy: 0.9987 - val_loss: 2.2059 - val_accuracy: 0.7339\n",
      "Epoch 291/300\n",
      "16/16 [==============================] - 0s 4ms/step - loss: 0.0013 - accuracy: 1.0000 - val_loss: 2.6610 - val_accuracy: 0.6774\n",
      "Epoch 292/300\n",
      "16/16 [==============================] - 0s 4ms/step - loss: 0.0747 - accuracy: 0.9737 - val_loss: 2.5775 - val_accuracy: 0.6909\n",
      "Epoch 293/300\n",
      "16/16 [==============================] - 0s 5ms/step - loss: 0.0940 - accuracy: 0.9592 - val_loss: 2.2825 - val_accuracy: 0.7446\n",
      "Epoch 294/300\n",
      "16/16 [==============================] - 0s 4ms/step - loss: 0.0578 - accuracy: 0.9763 - val_loss: 2.3847 - val_accuracy: 0.7419\n",
      "Epoch 295/300\n",
      "16/16 [==============================] - 0s 4ms/step - loss: 0.0059 - accuracy: 0.9974 - val_loss: 2.7036 - val_accuracy: 0.7419\n",
      "Epoch 296/300\n",
      "16/16 [==============================] - 0s 5ms/step - loss: 0.0032 - accuracy: 0.9993 - val_loss: 2.8352 - val_accuracy: 0.7366\n",
      "Epoch 297/300\n",
      "16/16 [==============================] - 0s 5ms/step - loss: 6.7081e-04 - accuracy: 1.0000 - val_loss: 2.8148 - val_accuracy: 0.7366\n",
      "Epoch 298/300\n",
      "16/16 [==============================] - 0s 5ms/step - loss: 4.6064e-04 - accuracy: 1.0000 - val_loss: 2.7569 - val_accuracy: 0.7366\n",
      "Epoch 299/300\n",
      "16/16 [==============================] - 0s 4ms/step - loss: 3.8752e-04 - accuracy: 1.0000 - val_loss: 2.7050 - val_accuracy: 0.7392\n",
      "Epoch 300/300\n",
      "16/16 [==============================] - 0s 5ms/step - loss: 0.0011 - accuracy: 1.0000 - val_loss: 2.6720 - val_accuracy: 0.7392\n"
     ]
    }
   ],
   "source": [
    "history = model.fit(X_train,  y_train, \n",
    "                    batch_size=100, \n",
    "                    class_weight=class_weight_dict,\n",
    "                    shuffle=True,\n",
    "                    epochs=300,\n",
    "                    validation_data=(X_val, y_val))"
   ]
  },
  {
   "cell_type": "code",
   "execution_count": 51,
   "metadata": {},
   "outputs": [
    {
     "data": {
      "image/png": "[encoded data removed]",
      "text/plain": [
       "<Figure size 640x480 with 1 Axes>"
      ]
     },
     "metadata": {},
     "output_type": "display_data"
    }
   ],
   "source": [
    "plot_loss(history)"
   ]
  },
  {
   "cell_type": "code",
   "execution_count": 52,
   "metadata": {},
   "outputs": [
    {
     "name": "stdout",
     "output_type": "stream",
     "text": [
      "16/16 [==============================] - 0s 2ms/step\n"
     ]
    },
    {
     "data": {
      "text/plain": [
       "array([4.75842608e-05, 1.16255262e-06, 1.42964209e-05, 1.90210085e-05,\n",
       "       2.73882997e-05, 2.92860886e-06, 1.41938642e-07, 4.22014139e-08,\n",
       "       4.28024904e-09, 2.68831908e-08, 1.78275769e-07, 1.20379880e-07,\n",
       "       7.48171078e-05, 1.06487851e-05, 2.56531303e-06, 9.33447595e-08,\n",
       "       1.05301194e-06, 6.78222659e-06, 3.50655841e-06, 8.14564100e-06,\n",
       "       1.86041547e-08, 9.51980110e-06, 5.92688230e-05, 1.11429727e-04,\n",
       "       9.93119029e-05, 3.02377826e-04, 6.70336740e-05, 1.70568048e-04,\n",
       "       2.07057070e-07, 8.51139612e-06, 5.11444232e-05, 6.21638833e-07,\n",
       "       4.11830915e-05, 5.29394092e-05, 8.04618758e-05, 6.71831585e-05,\n",
       "       1.47229322e-04, 3.14955469e-05, 1.95127795e-05, 1.21345489e-04,\n",
       "       1.43474768e-04, 1.09911780e-04, 1.18896431e-04, 1.87109472e-04,\n",
       "       3.57833022e-04, 2.25989643e-04, 2.32247970e-04, 7.49437168e-05,\n",
       "       1.11043410e-04, 2.76380561e-05, 2.38498415e-05, 6.33916570e-05,\n",
       "       1.39067895e-04, 1.26634113e-04, 1.27313833e-04, 9.22537438e-05,\n",
       "       1.69532606e-04, 3.56170436e-04, 2.37539920e-04, 1.94679465e-04,\n",
       "       1.06091553e-04, 2.02866620e-04, 5.79344987e-06, 1.35385717e-05,\n",
       "       4.85530945e-05, 3.09841816e-05, 8.69394280e-05, 7.31492255e-05,\n",
       "       1.45189013e-04, 6.42806699e-05, 1.10425703e-04, 3.56771954e-04,\n",
       "       2.60509376e-04, 2.34822655e-05, 1.29257269e-05, 9.17277703e-06,\n",
       "       1.25762688e-06, 2.06257828e-05, 8.81224605e-06, 1.76297563e-05,\n",
       "       4.16853327e-05, 5.00861388e-05, 1.92943207e-05, 4.68659164e-05,\n",
       "       1.22936312e-04, 1.44550548e-04, 3.22954264e-04, 5.14971383e-04,\n",
       "       9.23110289e-04, 5.49488876e-04, 2.69473763e-04, 2.48724042e-04,\n",
       "       4.41052573e-04, 9.86581326e-01, 8.35599124e-01, 1.08103714e-05,\n",
       "       6.81471487e-04, 1.55166676e-03, 6.54542528e-04, 9.01193824e-04,\n",
       "       1.14459261e-04, 8.88976501e-07, 1.04061302e-08, 1.57476810e-04,\n",
       "       2.04064918e-06, 1.27388046e-06, 1.13463911e-05, 4.02572514e-05,\n",
       "       5.44623502e-09, 3.61855055e-04, 2.92446261e-04, 6.61845459e-03,\n",
       "       4.89510782e-03, 9.21320356e-03, 3.09293027e-05, 7.51925472e-05,\n",
       "       1.81954401e-03, 1.01161659e-05, 1.82540738e-04, 2.15668741e-04,\n",
       "       1.66760455e-03, 3.78874887e-07, 5.85615339e-07, 2.10264465e-03,\n",
       "       9.41991583e-02, 2.93770194e-01, 6.69250846e-01, 9.97851908e-01,\n",
       "       9.98753846e-01, 9.59103525e-01, 9.97697175e-01, 8.02856684e-02,\n",
       "       6.27414823e-01, 8.98287180e-06, 3.47797879e-07, 6.69343353e-05,\n",
       "       2.00228329e-04, 3.85845080e-04, 1.06557971e-03, 4.18569951e-04,\n",
       "       4.90535807e-04, 4.55237696e-08, 1.39353233e-06, 1.73476963e-06,\n",
       "       1.38331613e-08, 5.14941378e-09, 3.70959174e-09, 5.39063376e-06,\n",
       "       3.07454044e-08, 8.45808790e-06, 2.04400367e-05, 3.63948318e-04,\n",
       "       6.34631491e-04, 6.17720525e-06, 1.96435885e-05, 7.23743483e-08,\n",
       "       1.09204791e-07, 4.36252833e-07, 4.22304851e-07, 3.41252758e-07,\n",
       "       6.47937100e-07, 5.38176046e-08, 2.47430648e-07, 3.30099311e-07,\n",
       "       2.34968820e-06, 2.25213944e-06, 1.12937744e-06, 2.68831908e-08,\n",
       "       1.51155589e-07, 9.16470754e-07, 7.91089178e-07, 4.60952805e-07,\n",
       "       5.45588819e-06, 3.74383762e-06, 1.09084738e-06, 3.10215455e-06,\n",
       "       1.69475134e-05, 3.79939729e-06, 3.34880269e-07, 3.35075583e-06,\n",
       "       9.02410193e-06, 1.61898970e-05, 3.75572404e-06, 4.85614873e-06,\n",
       "       2.22359158e-05, 8.08572076e-06, 1.20452376e-06, 3.97543181e-06,\n",
       "       8.88499471e-06, 1.31813761e-06, 3.06726497e-06, 1.50577971e-05,\n",
       "       2.68794292e-06, 2.27334272e-06, 1.42904912e-06, 4.61715399e-06,\n",
       "       2.14959127e-05, 1.12791886e-05, 4.27224404e-06, 5.53716745e-06,\n",
       "       1.10292631e-05, 9.03120508e-06, 1.07403202e-05, 9.48967045e-06,\n",
       "       2.45342835e-05, 2.73689257e-05, 1.85173850e-08, 1.12668249e-05,\n",
       "       3.80780193e-06, 1.73711760e-05, 1.43563184e-05, 9.79167962e-05,\n",
       "       3.37139820e-04, 2.60228524e-03, 1.51996920e-03, 1.79964671e-04,\n",
       "       3.00219399e-04, 6.28373346e-06, 2.74604668e-06, 2.35279390e-06,\n",
       "       5.16868658e-06, 6.01554166e-06, 6.36268669e-06, 3.71034093e-06,\n",
       "       6.64509980e-06, 3.52796178e-06, 7.50311892e-06, 1.67337057e-05,\n",
       "       1.32352252e-05, 1.75258083e-05, 2.19249741e-05, 1.62061187e-05,\n",
       "       1.89571383e-05, 1.72934888e-05, 1.32190671e-05, 1.87082733e-05,\n",
       "       1.26643172e-05, 1.06711286e-05, 1.74012694e-05, 1.52019093e-05,\n",
       "       1.91779800e-05, 2.10096296e-05, 2.33415612e-05, 2.50472185e-05,\n",
       "       5.51197045e-05, 7.23301782e-05, 1.30821049e-04, 7.65377699e-05,\n",
       "       1.63572113e-05, 1.88589747e-05, 1.59858791e-05, 1.43165453e-05,\n",
       "       4.99516718e-05, 7.30861284e-05, 1.96317142e-05, 9.82541678e-05,\n",
       "       4.82568394e-05, 1.52237713e-04, 1.42961580e-04, 1.34095098e-04,\n",
       "       1.57635150e-04, 5.64322516e-04, 8.68661969e-04, 1.88573217e-03,\n",
       "       1.27835665e-02, 2.67900247e-02, 6.10811170e-04, 7.85608136e-05,\n",
       "       2.18446839e-05, 4.99266716e-05, 1.12451147e-04, 2.23121955e-04,\n",
       "       1.01756887e-03, 3.10543866e-04, 3.27490619e-04, 1.23879014e-04,\n",
       "       8.82565437e-05, 2.41743735e-04, 5.44523355e-04, 5.60499539e-05,\n",
       "       6.94404735e-05, 1.31287452e-04, 6.73203976e-05, 1.01642334e-04,\n",
       "       7.26485014e-05, 2.88477640e-05, 8.98177168e-05, 4.72226122e-04,\n",
       "       4.75789979e-03, 1.45109929e-03, 3.50042101e-04, 1.26672632e-04,\n",
       "       8.64027024e-05, 4.22183120e-06, 1.28710861e-04, 1.76223810e-04,\n",
       "       1.60786192e-04, 2.66617921e-04, 3.28653172e-04, 5.84031746e-04,\n",
       "       1.91534666e-04, 2.47775635e-04, 2.34710038e-04, 2.97307794e-04,\n",
       "       1.14313548e-03, 2.79843807e-02, 9.74991843e-02, 5.96730635e-02,\n",
       "       3.12620960e-03, 3.99937201e-03, 1.28993327e-06, 3.92766287e-06,\n",
       "       4.28646018e-07, 6.71502789e-07, 2.37799577e-06, 4.60843466e-06,\n",
       "       1.69345032e-04, 2.57496049e-06, 1.09256632e-06, 2.30314731e-06,\n",
       "       5.19362402e-06, 8.79129402e-06, 1.36222097e-05, 1.76411941e-05,\n",
       "       1.48666677e-05, 8.03379976e-07, 7.39370171e-06, 5.74399246e-06,\n",
       "       4.19539356e-06, 2.79303845e-06, 4.32282650e-06, 5.77098444e-06,\n",
       "       1.38979422e-05, 1.42350918e-05, 4.47564116e-06, 6.72573094e-07,\n",
       "       8.38236815e-07, 7.69839062e-07, 1.28389793e-05, 3.42704107e-06,\n",
       "       4.79660866e-06, 1.52058237e-05, 9.55686028e-06, 1.62333727e-05,\n",
       "       1.03645889e-05, 1.80841962e-05, 1.73201115e-05, 7.64609285e-06,\n",
       "       3.56448982e-06, 1.90357059e-05, 3.16686019e-05, 1.87257283e-05,\n",
       "       5.97322696e-06, 1.26328459e-05, 1.52243974e-05, 1.34423008e-05,\n",
       "       3.73413968e-05, 6.60613441e-05, 3.72646282e-05, 1.20220011e-05,\n",
       "       5.27296070e-05, 6.01868451e-05, 2.93129924e-05, 5.42688722e-05,\n",
       "       8.98591898e-05, 7.68446334e-05, 3.06771472e-05, 2.29442194e-05,\n",
       "       8.31756261e-05, 7.86005985e-05, 1.19541459e-04, 1.31190827e-04,\n",
       "       1.25597626e-05, 8.38725919e-06, 1.40962047e-05, 1.38914756e-05,\n",
       "       8.89776493e-06, 8.49716253e-06, 1.22409338e-05, 1.69683426e-05,\n",
       "       2.34967811e-05, 2.86890245e-05, 5.76008752e-05, 1.30580111e-05,\n",
       "       6.32795054e-05, 7.70948463e-05, 2.84531234e-05, 1.35559221e-05,\n",
       "       2.08740239e-05, 4.02380210e-05, 5.81859713e-05, 1.03924845e-04,\n",
       "       7.17173971e-05, 5.01168615e-05, 6.26584297e-05, 1.35004229e-04,\n",
       "       9.67276137e-05, 7.36306465e-05, 5.94234298e-05, 9.43400155e-05,\n",
       "       4.57880051e-05, 1.02829654e-04, 8.66586633e-05, 2.10761937e-05,\n",
       "       1.67245180e-05, 1.20881868e-05, 8.31968828e-06, 9.04575518e-06,\n",
       "       3.73547919e-05, 3.58430043e-05, 1.37921297e-05, 7.98592828e-06,\n",
       "       1.48911740e-05, 1.72690161e-05, 5.13654013e-05, 7.32436674e-05,\n",
       "       5.43115784e-05, 1.91080799e-05, 2.28327863e-05, 1.84431556e-05,\n",
       "       3.32159980e-05, 1.47388409e-05, 1.20301329e-05, 8.80138577e-06,\n",
       "       1.26032801e-05, 2.82910023e-05, 7.78023750e-05, 2.43905542e-05,\n",
       "       9.22276158e-05, 7.01675672e-05, 2.33535175e-05, 4.32809684e-05,\n",
       "       1.29465421e-04, 3.82664984e-05, 2.43436862e-05, 1.28688534e-05,\n",
       "       1.27366739e-05, 2.51895563e-05, 8.21630238e-05, 9.26760957e-02,\n",
       "       1.14985341e-05, 3.62463761e-04, 9.80080105e-04, 1.77033900e-04,\n",
       "       1.46351804e-05, 8.94356926e-05, 5.90492664e-06, 1.90503997e-05,\n",
       "       6.36732657e-05, 1.04898127e-05, 5.69768326e-06, 1.96028668e-05,\n",
       "       5.57973799e-05, 8.88278955e-05, 1.35820665e-04, 8.47670599e-05,\n",
       "       4.56697817e-05, 2.78415118e-05, 1.00739264e-04, 1.73910230e-04,\n",
       "       1.77781276e-05, 3.80424026e-05, 1.40312244e-04, 5.03146794e-06,\n",
       "       1.42825475e-05, 5.03267256e-05, 2.11457318e-05, 5.15771126e-06,\n",
       "       4.05613391e-05, 2.42781189e-05, 7.62072013e-05, 6.56035045e-05,\n",
       "       6.91952373e-05, 5.16499495e-05, 5.30866237e-05, 1.28110885e-04,\n",
       "       1.42238874e-04, 9.29587040e-05, 1.95144254e-04, 1.62909360e-04,\n",
       "       5.51599904e-08, 5.69011354e-05, 8.40087814e-05, 2.25847252e-04,\n",
       "       2.92260083e-04, 3.42014857e-04, 8.39050190e-05, 1.81312615e-04,\n",
       "       2.36126827e-04, 1.94225009e-04, 4.73853761e-05, 1.79342132e-05,\n",
       "       2.02741285e-05, 2.50558442e-05, 1.00601988e-04, 1.46431281e-04],\n",
       "      dtype=float32)"
      ]
     },
     "execution_count": 52,
     "metadata": {},
     "output_type": "execute_result"
    }
   ],
   "source": [
    "y_pred = model.predict(X_test).flatten()\n",
    "y_pred"
   ]
  },
  {
   "cell_type": "code",
   "execution_count": 53,
   "metadata": {},
   "outputs": [
    {
     "name": "stdout",
     "output_type": "stream",
     "text": [
      "16/16 - 0s - loss: 1.7415 - accuracy: 0.8286 - 29ms/epoch - 2ms/step\n",
      "Model accuracy: 0.8286290168762207\n"
     ]
    }
   ],
   "source": [
    "loss, accuracy = model.evaluate(X_test, y_test, verbose=2)\n",
    "print(f'Model accuracy: {accuracy}')"
   ]
  },
  {
   "cell_type": "code",
   "execution_count": 54,
   "metadata": {},
   "outputs": [
    {
     "name": "stdout",
     "output_type": "stream",
     "text": [
      "16/16 [==============================] - 0s 1ms/step - loss: 1.7415 - accuracy: 0.8286\n",
      "Loss: 1.7415165901184082\n",
      "Accuracy: 0.8286290168762207\n",
      "Precision: 1.0\n",
      "Recall: 0.08602150537634409\n"
     ]
    },
    {
     "data": {
      "text/plain": [
       "(93.0, 8)"
      ]
     },
     "execution_count": 54,
     "metadata": {},
     "output_type": "execute_result"
    }
   ],
   "source": [
    "from sklearn.metrics import precision_score, recall_score\n",
    "y_pred_c = y_pred.round().astype(int)\n",
    "precision = precision_score(y_test, y_pred_c)\n",
    "recall = recall_score(y_test, y_pred_c)\n",
    "\n",
    "loss, accuracy = model.evaluate(X_test, y_test)\n",
    "\n",
    "print('Loss:', loss)\n",
    "print('Accuracy:', accuracy)\n",
    "print('Precision:', precision)\n",
    "print('Recall:', recall)\n",
    "y_test.sum(), y_pred_c.sum()"
   ]
  },
  {
   "cell_type": "code",
   "execution_count": 55,
   "metadata": {},
   "outputs": [
    {
     "data": {
      "text/plain": [
       "Text(0, 0.5, 'Predictions')"
      ]
     },
     "execution_count": 55,
     "metadata": {},
     "output_type": "execute_result"
    },
    {
     "data": {
      "image/png": "[encoded data removed]",
      "text/plain": [
       "<Figure size 640x480 with 1 Axes>"
      ]
     },
     "metadata": {},
     "output_type": "display_data"
    }
   ],
   "source": [
    "\n",
    "a = plt.axes(aspect='equal')\n",
    "plt.scatter(y_test, y_pred)\n",
    "plt.xlabel('True Values')\n",
    "plt.ylabel('Predictions')"
   ]
  }
 ],
 "metadata": {
  "kernelspec": {
   "display_name": ".venv",
   "language": "python",
   "name": "python3"
  },
  "language_info": {
   "codemirror_mode": {
    "name": "ipython",
    "version": 3
   },
   "file_extension": ".py",
   "mimetype": "text/x-python",
   "name": "python",
   "nbconvert_exporter": "python",
   "pygments_lexer": "ipython3",
   "version": "3.11.3"
  }
 },
 "nbformat": 4,
 "nbformat_minor": 2
}
