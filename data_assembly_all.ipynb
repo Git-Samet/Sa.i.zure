{
 "cells": [
  {
   "cell_type": "code",
   "execution_count": 19,
   "metadata": {},
   "outputs": [],
   "source": [
    "import mne \n",
    "import os\n",
    "import mne \n",
    "from mne.io import  read_raw_edf\n",
    "import pandas as pd\n",
    "import numpy as np\n"
   ]
  },
  {
   "cell_type": "code",
   "execution_count": 20,
   "metadata": {},
   "outputs": [],
   "source": [
    "data_folder ='data/'"
   ]
  },
  {
   "cell_type": "code",
   "execution_count": 46,
   "metadata": {},
   "outputs": [
    {
     "name": "stdout",
     "output_type": "stream",
     "text": [
      "NOTE: pick_channels() is a legacy function. New code should use inst.pick(...).\n"
     ]
    },
    {
     "name": "stderr",
     "output_type": "stream",
     "text": [
      "/var/folders/rc/97bvm7z97gd87g90vfhmcrq00000gn/T/ipykernel_17665/3060273531.py:23: FutureWarning: The default for pick_channels will change from ordered=False to ordered=True in 1.5 and this will result in a change of behavior because the resulting channel order will not match. Either use a channel order that matches your instance or pass ordered=False.\n",
      "  first_raw.pick_channels(channels_to_keep)\n"
     ]
    },
    {
     "name": "stdout",
     "output_type": "stream",
     "text": [
      "NOTE: pick_channels() is a legacy function. New code should use inst.pick(...).\n"
     ]
    },
    {
     "name": "stderr",
     "output_type": "stream",
     "text": [
      "/var/folders/rc/97bvm7z97gd87g90vfhmcrq00000gn/T/ipykernel_17665/3060273531.py:30: FutureWarning: The default for pick_channels will change from ordered=False to ordered=True in 1.5 and this will result in a change of behavior because the resulting channel order will not match. Either use a channel order that matches your instance or pass ordered=False.\n",
      "  raw.pick_channels(channels_to_keep)\n"
     ]
    },
    {
     "name": "stdout",
     "output_type": "stream",
     "text": [
      "NOTE: pick_channels() is a legacy function. New code should use inst.pick(...).\n"
     ]
    },
    {
     "name": "stderr",
     "output_type": "stream",
     "text": [
      "/var/folders/rc/97bvm7z97gd87g90vfhmcrq00000gn/T/ipykernel_17665/3060273531.py:30: FutureWarning: The default for pick_channels will change from ordered=False to ordered=True in 1.5 and this will result in a change of behavior because the resulting channel order will not match. Either use a channel order that matches your instance or pass ordered=False.\n",
      "  raw.pick_channels(channels_to_keep)\n"
     ]
    },
    {
     "name": "stdout",
     "output_type": "stream",
     "text": [
      "NOTE: pick_channels() is a legacy function. New code should use inst.pick(...).\n"
     ]
    },
    {
     "name": "stderr",
     "output_type": "stream",
     "text": [
      "/var/folders/rc/97bvm7z97gd87g90vfhmcrq00000gn/T/ipykernel_17665/3060273531.py:30: FutureWarning: The default for pick_channels will change from ordered=False to ordered=True in 1.5 and this will result in a change of behavior because the resulting channel order will not match. Either use a channel order that matches your instance or pass ordered=False.\n",
      "  raw.pick_channels(channels_to_keep)\n"
     ]
    },
    {
     "name": "stdout",
     "output_type": "stream",
     "text": [
      "NOTE: pick_channels() is a legacy function. New code should use inst.pick(...).\n"
     ]
    },
    {
     "name": "stderr",
     "output_type": "stream",
     "text": [
      "/var/folders/rc/97bvm7z97gd87g90vfhmcrq00000gn/T/ipykernel_17665/3060273531.py:30: FutureWarning: The default for pick_channels will change from ordered=False to ordered=True in 1.5 and this will result in a change of behavior because the resulting channel order will not match. Either use a channel order that matches your instance or pass ordered=False.\n",
      "  raw.pick_channels(channels_to_keep)\n"
     ]
    },
    {
     "name": "stdout",
     "output_type": "stream",
     "text": [
      "NOTE: pick_channels() is a legacy function. New code should use inst.pick(...).\n"
     ]
    },
    {
     "name": "stderr",
     "output_type": "stream",
     "text": [
      "/var/folders/rc/97bvm7z97gd87g90vfhmcrq00000gn/T/ipykernel_17665/3060273531.py:30: FutureWarning: The default for pick_channels will change from ordered=False to ordered=True in 1.5 and this will result in a change of behavior because the resulting channel order will not match. Either use a channel order that matches your instance or pass ordered=False.\n",
      "  raw.pick_channels(channels_to_keep)\n"
     ]
    },
    {
     "name": "stdout",
     "output_type": "stream",
     "text": [
      "NOTE: pick_channels() is a legacy function. New code should use inst.pick(...).\n"
     ]
    },
    {
     "name": "stderr",
     "output_type": "stream",
     "text": [
      "/var/folders/rc/97bvm7z97gd87g90vfhmcrq00000gn/T/ipykernel_17665/3060273531.py:30: FutureWarning: The default for pick_channels will change from ordered=False to ordered=True in 1.5 and this will result in a change of behavior because the resulting channel order will not match. Either use a channel order that matches your instance or pass ordered=False.\n",
      "  raw.pick_channels(channels_to_keep)\n"
     ]
    },
    {
     "name": "stdout",
     "output_type": "stream",
     "text": [
      "NOTE: pick_channels() is a legacy function. New code should use inst.pick(...).\n"
     ]
    },
    {
     "name": "stderr",
     "output_type": "stream",
     "text": [
      "/var/folders/rc/97bvm7z97gd87g90vfhmcrq00000gn/T/ipykernel_17665/3060273531.py:30: FutureWarning: The default for pick_channels will change from ordered=False to ordered=True in 1.5 and this will result in a change of behavior because the resulting channel order will not match. Either use a channel order that matches your instance or pass ordered=False.\n",
      "  raw.pick_channels(channels_to_keep)\n"
     ]
    },
    {
     "name": "stdout",
     "output_type": "stream",
     "text": [
      "NOTE: pick_channels() is a legacy function. New code should use inst.pick(...).\n"
     ]
    },
    {
     "name": "stderr",
     "output_type": "stream",
     "text": [
      "/var/folders/rc/97bvm7z97gd87g90vfhmcrq00000gn/T/ipykernel_17665/3060273531.py:30: FutureWarning: The default for pick_channels will change from ordered=False to ordered=True in 1.5 and this will result in a change of behavior because the resulting channel order will not match. Either use a channel order that matches your instance or pass ordered=False.\n",
      "  raw.pick_channels(channels_to_keep)\n"
     ]
    },
    {
     "name": "stdout",
     "output_type": "stream",
     "text": [
      "NOTE: pick_channels() is a legacy function. New code should use inst.pick(...).\n"
     ]
    },
    {
     "name": "stderr",
     "output_type": "stream",
     "text": [
      "/var/folders/rc/97bvm7z97gd87g90vfhmcrq00000gn/T/ipykernel_17665/3060273531.py:30: FutureWarning: The default for pick_channels will change from ordered=False to ordered=True in 1.5 and this will result in a change of behavior because the resulting channel order will not match. Either use a channel order that matches your instance or pass ordered=False.\n",
      "  raw.pick_channels(channels_to_keep)\n"
     ]
    },
    {
     "name": "stdout",
     "output_type": "stream",
     "text": [
      "NOTE: pick_channels() is a legacy function. New code should use inst.pick(...).\n"
     ]
    },
    {
     "name": "stderr",
     "output_type": "stream",
     "text": [
      "/var/folders/rc/97bvm7z97gd87g90vfhmcrq00000gn/T/ipykernel_17665/3060273531.py:30: FutureWarning: The default for pick_channels will change from ordered=False to ordered=True in 1.5 and this will result in a change of behavior because the resulting channel order will not match. Either use a channel order that matches your instance or pass ordered=False.\n",
      "  raw.pick_channels(channels_to_keep)\n"
     ]
    },
    {
     "name": "stdout",
     "output_type": "stream",
     "text": [
      "NOTE: pick_channels() is a legacy function. New code should use inst.pick(...).\n"
     ]
    },
    {
     "name": "stderr",
     "output_type": "stream",
     "text": [
      "/var/folders/rc/97bvm7z97gd87g90vfhmcrq00000gn/T/ipykernel_17665/3060273531.py:30: FutureWarning: The default for pick_channels will change from ordered=False to ordered=True in 1.5 and this will result in a change of behavior because the resulting channel order will not match. Either use a channel order that matches your instance or pass ordered=False.\n",
      "  raw.pick_channels(channels_to_keep)\n"
     ]
    },
    {
     "name": "stdout",
     "output_type": "stream",
     "text": [
      "NOTE: pick_channels() is a legacy function. New code should use inst.pick(...).\n"
     ]
    },
    {
     "name": "stderr",
     "output_type": "stream",
     "text": [
      "/var/folders/rc/97bvm7z97gd87g90vfhmcrq00000gn/T/ipykernel_17665/3060273531.py:30: FutureWarning: The default for pick_channels will change from ordered=False to ordered=True in 1.5 and this will result in a change of behavior because the resulting channel order will not match. Either use a channel order that matches your instance or pass ordered=False.\n",
      "  raw.pick_channels(channels_to_keep)\n"
     ]
    },
    {
     "name": "stdout",
     "output_type": "stream",
     "text": [
      "NOTE: pick_channels() is a legacy function. New code should use inst.pick(...).\n"
     ]
    },
    {
     "name": "stderr",
     "output_type": "stream",
     "text": [
      "/var/folders/rc/97bvm7z97gd87g90vfhmcrq00000gn/T/ipykernel_17665/3060273531.py:30: FutureWarning: The default for pick_channels will change from ordered=False to ordered=True in 1.5 and this will result in a change of behavior because the resulting channel order will not match. Either use a channel order that matches your instance or pass ordered=False.\n",
      "  raw.pick_channels(channels_to_keep)\n"
     ]
    },
    {
     "name": "stdout",
     "output_type": "stream",
     "text": [
      "NOTE: pick_channels() is a legacy function. New code should use inst.pick(...).\n"
     ]
    },
    {
     "name": "stderr",
     "output_type": "stream",
     "text": [
      "/var/folders/rc/97bvm7z97gd87g90vfhmcrq00000gn/T/ipykernel_17665/3060273531.py:30: FutureWarning: The default for pick_channels will change from ordered=False to ordered=True in 1.5 and this will result in a change of behavior because the resulting channel order will not match. Either use a channel order that matches your instance or pass ordered=False.\n",
      "  raw.pick_channels(channels_to_keep)\n"
     ]
    },
    {
     "name": "stdout",
     "output_type": "stream",
     "text": [
      "NOTE: pick_channels() is a legacy function. New code should use inst.pick(...).\n"
     ]
    },
    {
     "name": "stderr",
     "output_type": "stream",
     "text": [
      "/var/folders/rc/97bvm7z97gd87g90vfhmcrq00000gn/T/ipykernel_17665/3060273531.py:30: FutureWarning: The default for pick_channels will change from ordered=False to ordered=True in 1.5 and this will result in a change of behavior because the resulting channel order will not match. Either use a channel order that matches your instance or pass ordered=False.\n",
      "  raw.pick_channels(channels_to_keep)\n"
     ]
    },
    {
     "name": "stdout",
     "output_type": "stream",
     "text": [
      "NOTE: pick_channels() is a legacy function. New code should use inst.pick(...).\n"
     ]
    },
    {
     "name": "stderr",
     "output_type": "stream",
     "text": [
      "/var/folders/rc/97bvm7z97gd87g90vfhmcrq00000gn/T/ipykernel_17665/3060273531.py:30: FutureWarning: The default for pick_channels will change from ordered=False to ordered=True in 1.5 and this will result in a change of behavior because the resulting channel order will not match. Either use a channel order that matches your instance or pass ordered=False.\n",
      "  raw.pick_channels(channels_to_keep)\n"
     ]
    },
    {
     "name": "stdout",
     "output_type": "stream",
     "text": [
      "NOTE: pick_channels() is a legacy function. New code should use inst.pick(...).\n"
     ]
    },
    {
     "name": "stderr",
     "output_type": "stream",
     "text": [
      "/var/folders/rc/97bvm7z97gd87g90vfhmcrq00000gn/T/ipykernel_17665/3060273531.py:30: FutureWarning: The default for pick_channels will change from ordered=False to ordered=True in 1.5 and this will result in a change of behavior because the resulting channel order will not match. Either use a channel order that matches your instance or pass ordered=False.\n",
      "  raw.pick_channels(channels_to_keep)\n"
     ]
    },
    {
     "name": "stdout",
     "output_type": "stream",
     "text": [
      "NOTE: pick_channels() is a legacy function. New code should use inst.pick(...).\n"
     ]
    },
    {
     "name": "stderr",
     "output_type": "stream",
     "text": [
      "/var/folders/rc/97bvm7z97gd87g90vfhmcrq00000gn/T/ipykernel_17665/3060273531.py:30: FutureWarning: The default for pick_channels will change from ordered=False to ordered=True in 1.5 and this will result in a change of behavior because the resulting channel order will not match. Either use a channel order that matches your instance or pass ordered=False.\n",
      "  raw.pick_channels(channels_to_keep)\n"
     ]
    },
    {
     "name": "stdout",
     "output_type": "stream",
     "text": [
      "NOTE: pick_channels() is a legacy function. New code should use inst.pick(...).\n"
     ]
    },
    {
     "name": "stderr",
     "output_type": "stream",
     "text": [
      "/var/folders/rc/97bvm7z97gd87g90vfhmcrq00000gn/T/ipykernel_17665/3060273531.py:30: FutureWarning: The default for pick_channels will change from ordered=False to ordered=True in 1.5 and this will result in a change of behavior because the resulting channel order will not match. Either use a channel order that matches your instance or pass ordered=False.\n",
      "  raw.pick_channels(channels_to_keep)\n"
     ]
    },
    {
     "name": "stdout",
     "output_type": "stream",
     "text": [
      "NOTE: pick_channels() is a legacy function. New code should use inst.pick(...).\n"
     ]
    },
    {
     "name": "stderr",
     "output_type": "stream",
     "text": [
      "/var/folders/rc/97bvm7z97gd87g90vfhmcrq00000gn/T/ipykernel_17665/3060273531.py:30: FutureWarning: The default for pick_channels will change from ordered=False to ordered=True in 1.5 and this will result in a change of behavior because the resulting channel order will not match. Either use a channel order that matches your instance or pass ordered=False.\n",
      "  raw.pick_channels(channels_to_keep)\n"
     ]
    },
    {
     "name": "stdout",
     "output_type": "stream",
     "text": [
      "NOTE: pick_channels() is a legacy function. New code should use inst.pick(...).\n"
     ]
    },
    {
     "name": "stderr",
     "output_type": "stream",
     "text": [
      "/var/folders/rc/97bvm7z97gd87g90vfhmcrq00000gn/T/ipykernel_17665/3060273531.py:30: FutureWarning: The default for pick_channels will change from ordered=False to ordered=True in 1.5 and this will result in a change of behavior because the resulting channel order will not match. Either use a channel order that matches your instance or pass ordered=False.\n",
      "  raw.pick_channels(channels_to_keep)\n"
     ]
    },
    {
     "name": "stdout",
     "output_type": "stream",
     "text": [
      "NOTE: pick_channels() is a legacy function. New code should use inst.pick(...).\n"
     ]
    },
    {
     "name": "stderr",
     "output_type": "stream",
     "text": [
      "/var/folders/rc/97bvm7z97gd87g90vfhmcrq00000gn/T/ipykernel_17665/3060273531.py:30: FutureWarning: The default for pick_channels will change from ordered=False to ordered=True in 1.5 and this will result in a change of behavior because the resulting channel order will not match. Either use a channel order that matches your instance or pass ordered=False.\n",
      "  raw.pick_channels(channels_to_keep)\n"
     ]
    },
    {
     "name": "stdout",
     "output_type": "stream",
     "text": [
      "NOTE: pick_channels() is a legacy function. New code should use inst.pick(...).\n"
     ]
    },
    {
     "name": "stderr",
     "output_type": "stream",
     "text": [
      "/var/folders/rc/97bvm7z97gd87g90vfhmcrq00000gn/T/ipykernel_17665/3060273531.py:30: FutureWarning: The default for pick_channels will change from ordered=False to ordered=True in 1.5 and this will result in a change of behavior because the resulting channel order will not match. Either use a channel order that matches your instance or pass ordered=False.\n",
      "  raw.pick_channels(channels_to_keep)\n"
     ]
    },
    {
     "name": "stdout",
     "output_type": "stream",
     "text": [
      "NOTE: pick_channels() is a legacy function. New code should use inst.pick(...).\n"
     ]
    },
    {
     "name": "stderr",
     "output_type": "stream",
     "text": [
      "/var/folders/rc/97bvm7z97gd87g90vfhmcrq00000gn/T/ipykernel_17665/3060273531.py:30: FutureWarning: The default for pick_channels will change from ordered=False to ordered=True in 1.5 and this will result in a change of behavior because the resulting channel order will not match. Either use a channel order that matches your instance or pass ordered=False.\n",
      "  raw.pick_channels(channels_to_keep)\n"
     ]
    },
    {
     "name": "stdout",
     "output_type": "stream",
     "text": [
      "NOTE: pick_channels() is a legacy function. New code should use inst.pick(...).\n"
     ]
    },
    {
     "name": "stderr",
     "output_type": "stream",
     "text": [
      "/var/folders/rc/97bvm7z97gd87g90vfhmcrq00000gn/T/ipykernel_17665/3060273531.py:30: FutureWarning: The default for pick_channels will change from ordered=False to ordered=True in 1.5 and this will result in a change of behavior because the resulting channel order will not match. Either use a channel order that matches your instance or pass ordered=False.\n",
      "  raw.pick_channels(channels_to_keep)\n"
     ]
    },
    {
     "name": "stdout",
     "output_type": "stream",
     "text": [
      "NOTE: pick_channels() is a legacy function. New code should use inst.pick(...).\n",
      "NOTE: pick_channels() is a legacy function. New code should use inst.pick(...).\n"
     ]
    },
    {
     "name": "stderr",
     "output_type": "stream",
     "text": [
      "/var/folders/rc/97bvm7z97gd87g90vfhmcrq00000gn/T/ipykernel_17665/3060273531.py:30: FutureWarning: The default for pick_channels will change from ordered=False to ordered=True in 1.5 and this will result in a change of behavior because the resulting channel order will not match. Either use a channel order that matches your instance or pass ordered=False.\n",
      "  raw.pick_channels(channels_to_keep)\n",
      "/var/folders/rc/97bvm7z97gd87g90vfhmcrq00000gn/T/ipykernel_17665/3060273531.py:30: FutureWarning: The default for pick_channels will change from ordered=False to ordered=True in 1.5 and this will result in a change of behavior because the resulting channel order will not match. Either use a channel order that matches your instance or pass ordered=False.\n",
      "  raw.pick_channels(channels_to_keep)\n"
     ]
    },
    {
     "name": "stdout",
     "output_type": "stream",
     "text": [
      "NOTE: pick_channels() is a legacy function. New code should use inst.pick(...).\n"
     ]
    },
    {
     "name": "stderr",
     "output_type": "stream",
     "text": [
      "/var/folders/rc/97bvm7z97gd87g90vfhmcrq00000gn/T/ipykernel_17665/3060273531.py:30: FutureWarning: The default for pick_channels will change from ordered=False to ordered=True in 1.5 and this will result in a change of behavior because the resulting channel order will not match. Either use a channel order that matches your instance or pass ordered=False.\n",
      "  raw.pick_channels(channels_to_keep)\n"
     ]
    },
    {
     "name": "stdout",
     "output_type": "stream",
     "text": [
      "NOTE: pick_channels() is a legacy function. New code should use inst.pick(...).\n"
     ]
    },
    {
     "name": "stderr",
     "output_type": "stream",
     "text": [
      "/var/folders/rc/97bvm7z97gd87g90vfhmcrq00000gn/T/ipykernel_17665/3060273531.py:30: FutureWarning: The default for pick_channels will change from ordered=False to ordered=True in 1.5 and this will result in a change of behavior because the resulting channel order will not match. Either use a channel order that matches your instance or pass ordered=False.\n",
      "  raw.pick_channels(channels_to_keep)\n"
     ]
    },
    {
     "name": "stdout",
     "output_type": "stream",
     "text": [
      "NOTE: pick_channels() is a legacy function. New code should use inst.pick(...).\n"
     ]
    },
    {
     "name": "stderr",
     "output_type": "stream",
     "text": [
      "/var/folders/rc/97bvm7z97gd87g90vfhmcrq00000gn/T/ipykernel_17665/3060273531.py:30: FutureWarning: The default for pick_channels will change from ordered=False to ordered=True in 1.5 and this will result in a change of behavior because the resulting channel order will not match. Either use a channel order that matches your instance or pass ordered=False.\n",
      "  raw.pick_channels(channels_to_keep)\n"
     ]
    },
    {
     "name": "stdout",
     "output_type": "stream",
     "text": [
      "NOTE: pick_channels() is a legacy function. New code should use inst.pick(...).\n"
     ]
    },
    {
     "name": "stderr",
     "output_type": "stream",
     "text": [
      "/var/folders/rc/97bvm7z97gd87g90vfhmcrq00000gn/T/ipykernel_17665/3060273531.py:30: FutureWarning: The default for pick_channels will change from ordered=False to ordered=True in 1.5 and this will result in a change of behavior because the resulting channel order will not match. Either use a channel order that matches your instance or pass ordered=False.\n",
      "  raw.pick_channels(channels_to_keep)\n"
     ]
    },
    {
     "name": "stdout",
     "output_type": "stream",
     "text": [
      "NOTE: pick_channels() is a legacy function. New code should use inst.pick(...).\n"
     ]
    },
    {
     "name": "stderr",
     "output_type": "stream",
     "text": [
      "/var/folders/rc/97bvm7z97gd87g90vfhmcrq00000gn/T/ipykernel_17665/3060273531.py:30: FutureWarning: The default for pick_channels will change from ordered=False to ordered=True in 1.5 and this will result in a change of behavior because the resulting channel order will not match. Either use a channel order that matches your instance or pass ordered=False.\n",
      "  raw.pick_channels(channels_to_keep)\n"
     ]
    },
    {
     "name": "stdout",
     "output_type": "stream",
     "text": [
      "NOTE: pick_channels() is a legacy function. New code should use inst.pick(...).\n"
     ]
    },
    {
     "name": "stderr",
     "output_type": "stream",
     "text": [
      "/var/folders/rc/97bvm7z97gd87g90vfhmcrq00000gn/T/ipykernel_17665/3060273531.py:30: FutureWarning: The default for pick_channels will change from ordered=False to ordered=True in 1.5 and this will result in a change of behavior because the resulting channel order will not match. Either use a channel order that matches your instance or pass ordered=False.\n",
      "  raw.pick_channels(channels_to_keep)\n"
     ]
    },
    {
     "name": "stdout",
     "output_type": "stream",
     "text": [
      "NOTE: pick_channels() is a legacy function. New code should use inst.pick(...).\n"
     ]
    },
    {
     "name": "stderr",
     "output_type": "stream",
     "text": [
      "/var/folders/rc/97bvm7z97gd87g90vfhmcrq00000gn/T/ipykernel_17665/3060273531.py:30: FutureWarning: The default for pick_channels will change from ordered=False to ordered=True in 1.5 and this will result in a change of behavior because the resulting channel order will not match. Either use a channel order that matches your instance or pass ordered=False.\n",
      "  raw.pick_channels(channels_to_keep)\n"
     ]
    },
    {
     "name": "stdout",
     "output_type": "stream",
     "text": [
      "NOTE: pick_channels() is a legacy function. New code should use inst.pick(...).\n"
     ]
    },
    {
     "name": "stderr",
     "output_type": "stream",
     "text": [
      "/var/folders/rc/97bvm7z97gd87g90vfhmcrq00000gn/T/ipykernel_17665/3060273531.py:30: FutureWarning: The default for pick_channels will change from ordered=False to ordered=True in 1.5 and this will result in a change of behavior because the resulting channel order will not match. Either use a channel order that matches your instance or pass ordered=False.\n",
      "  raw.pick_channels(channels_to_keep)\n"
     ]
    },
    {
     "name": "stdout",
     "output_type": "stream",
     "text": [
      "NOTE: pick_channels() is a legacy function. New code should use inst.pick(...).\n"
     ]
    },
    {
     "name": "stderr",
     "output_type": "stream",
     "text": [
      "/var/folders/rc/97bvm7z97gd87g90vfhmcrq00000gn/T/ipykernel_17665/3060273531.py:30: FutureWarning: The default for pick_channels will change from ordered=False to ordered=True in 1.5 and this will result in a change of behavior because the resulting channel order will not match. Either use a channel order that matches your instance or pass ordered=False.\n",
      "  raw.pick_channels(channels_to_keep)\n"
     ]
    },
    {
     "name": "stdout",
     "output_type": "stream",
     "text": [
      "NOTE: pick_channels() is a legacy function. New code should use inst.pick(...).\n"
     ]
    },
    {
     "name": "stderr",
     "output_type": "stream",
     "text": [
      "/var/folders/rc/97bvm7z97gd87g90vfhmcrq00000gn/T/ipykernel_17665/3060273531.py:30: FutureWarning: The default for pick_channels will change from ordered=False to ordered=True in 1.5 and this will result in a change of behavior because the resulting channel order will not match. Either use a channel order that matches your instance or pass ordered=False.\n",
      "  raw.pick_channels(channels_to_keep)\n"
     ]
    },
    {
     "name": "stdout",
     "output_type": "stream",
     "text": [
      "NOTE: pick_channels() is a legacy function. New code should use inst.pick(...).\n"
     ]
    },
    {
     "name": "stderr",
     "output_type": "stream",
     "text": [
      "/var/folders/rc/97bvm7z97gd87g90vfhmcrq00000gn/T/ipykernel_17665/3060273531.py:30: FutureWarning: The default for pick_channels will change from ordered=False to ordered=True in 1.5 and this will result in a change of behavior because the resulting channel order will not match. Either use a channel order that matches your instance or pass ordered=False.\n",
      "  raw.pick_channels(channels_to_keep)\n"
     ]
    },
    {
     "name": "stdout",
     "output_type": "stream",
     "text": [
      "NOTE: pick_channels() is a legacy function. New code should use inst.pick(...).\n"
     ]
    },
    {
     "name": "stderr",
     "output_type": "stream",
     "text": [
      "/var/folders/rc/97bvm7z97gd87g90vfhmcrq00000gn/T/ipykernel_17665/3060273531.py:30: FutureWarning: The default for pick_channels will change from ordered=False to ordered=True in 1.5 and this will result in a change of behavior because the resulting channel order will not match. Either use a channel order that matches your instance or pass ordered=False.\n",
      "  raw.pick_channels(channels_to_keep)\n"
     ]
    },
    {
     "name": "stdout",
     "output_type": "stream",
     "text": [
      "NOTE: pick_channels() is a legacy function. New code should use inst.pick(...).\n"
     ]
    },
    {
     "name": "stderr",
     "output_type": "stream",
     "text": [
      "/var/folders/rc/97bvm7z97gd87g90vfhmcrq00000gn/T/ipykernel_17665/3060273531.py:30: FutureWarning: The default for pick_channels will change from ordered=False to ordered=True in 1.5 and this will result in a change of behavior because the resulting channel order will not match. Either use a channel order that matches your instance or pass ordered=False.\n",
      "  raw.pick_channels(channels_to_keep)\n"
     ]
    },
    {
     "name": "stdout",
     "output_type": "stream",
     "text": [
      "NOTE: pick_channels() is a legacy function. New code should use inst.pick(...).\n"
     ]
    },
    {
     "name": "stderr",
     "output_type": "stream",
     "text": [
      "/var/folders/rc/97bvm7z97gd87g90vfhmcrq00000gn/T/ipykernel_17665/3060273531.py:30: FutureWarning: The default for pick_channels will change from ordered=False to ordered=True in 1.5 and this will result in a change of behavior because the resulting channel order will not match. Either use a channel order that matches your instance or pass ordered=False.\n",
      "  raw.pick_channels(channels_to_keep)\n"
     ]
    },
    {
     "name": "stdout",
     "output_type": "stream",
     "text": [
      "NOTE: pick_channels() is a legacy function. New code should use inst.pick(...).\n"
     ]
    },
    {
     "name": "stderr",
     "output_type": "stream",
     "text": [
      "/var/folders/rc/97bvm7z97gd87g90vfhmcrq00000gn/T/ipykernel_17665/3060273531.py:30: FutureWarning: The default for pick_channels will change from ordered=False to ordered=True in 1.5 and this will result in a change of behavior because the resulting channel order will not match. Either use a channel order that matches your instance or pass ordered=False.\n",
      "  raw.pick_channels(channels_to_keep)\n"
     ]
    },
    {
     "name": "stdout",
     "output_type": "stream",
     "text": [
      "NOTE: pick_channels() is a legacy function. New code should use inst.pick(...).\n"
     ]
    },
    {
     "name": "stderr",
     "output_type": "stream",
     "text": [
      "/var/folders/rc/97bvm7z97gd87g90vfhmcrq00000gn/T/ipykernel_17665/3060273531.py:23: FutureWarning: The default for pick_channels will change from ordered=False to ordered=True in 1.5 and this will result in a change of behavior because the resulting channel order will not match. Either use a channel order that matches your instance or pass ordered=False.\n",
      "  first_raw.pick_channels(channels_to_keep)\n"
     ]
    },
    {
     "name": "stdout",
     "output_type": "stream",
     "text": [
      "NOTE: pick_channels() is a legacy function. New code should use inst.pick(...).\n"
     ]
    },
    {
     "name": "stderr",
     "output_type": "stream",
     "text": [
      "/var/folders/rc/97bvm7z97gd87g90vfhmcrq00000gn/T/ipykernel_17665/3060273531.py:30: FutureWarning: The default for pick_channels will change from ordered=False to ordered=True in 1.5 and this will result in a change of behavior because the resulting channel order will not match. Either use a channel order that matches your instance or pass ordered=False.\n",
      "  raw.pick_channels(channels_to_keep)\n"
     ]
    },
    {
     "name": "stdout",
     "output_type": "stream",
     "text": [
      "NOTE: pick_channels() is a legacy function. New code should use inst.pick(...).\n"
     ]
    },
    {
     "name": "stderr",
     "output_type": "stream",
     "text": [
      "/var/folders/rc/97bvm7z97gd87g90vfhmcrq00000gn/T/ipykernel_17665/3060273531.py:30: FutureWarning: The default for pick_channels will change from ordered=False to ordered=True in 1.5 and this will result in a change of behavior because the resulting channel order will not match. Either use a channel order that matches your instance or pass ordered=False.\n",
      "  raw.pick_channels(channels_to_keep)\n"
     ]
    },
    {
     "name": "stdout",
     "output_type": "stream",
     "text": [
      "NOTE: pick_channels() is a legacy function. New code should use inst.pick(...).\n"
     ]
    },
    {
     "name": "stderr",
     "output_type": "stream",
     "text": [
      "/var/folders/rc/97bvm7z97gd87g90vfhmcrq00000gn/T/ipykernel_17665/3060273531.py:30: FutureWarning: The default for pick_channels will change from ordered=False to ordered=True in 1.5 and this will result in a change of behavior because the resulting channel order will not match. Either use a channel order that matches your instance or pass ordered=False.\n",
      "  raw.pick_channels(channels_to_keep)\n"
     ]
    },
    {
     "name": "stdout",
     "output_type": "stream",
     "text": [
      "NOTE: pick_channels() is a legacy function. New code should use inst.pick(...).\n"
     ]
    },
    {
     "name": "stderr",
     "output_type": "stream",
     "text": [
      "/var/folders/rc/97bvm7z97gd87g90vfhmcrq00000gn/T/ipykernel_17665/3060273531.py:30: FutureWarning: The default for pick_channels will change from ordered=False to ordered=True in 1.5 and this will result in a change of behavior because the resulting channel order will not match. Either use a channel order that matches your instance or pass ordered=False.\n",
      "  raw.pick_channels(channels_to_keep)\n"
     ]
    },
    {
     "name": "stdout",
     "output_type": "stream",
     "text": [
      "NOTE: pick_channels() is a legacy function. New code should use inst.pick(...).\n"
     ]
    },
    {
     "name": "stderr",
     "output_type": "stream",
     "text": [
      "/var/folders/rc/97bvm7z97gd87g90vfhmcrq00000gn/T/ipykernel_17665/3060273531.py:30: FutureWarning: The default for pick_channels will change from ordered=False to ordered=True in 1.5 and this will result in a change of behavior because the resulting channel order will not match. Either use a channel order that matches your instance or pass ordered=False.\n",
      "  raw.pick_channels(channels_to_keep)\n"
     ]
    },
    {
     "name": "stdout",
     "output_type": "stream",
     "text": [
      "NOTE: pick_channels() is a legacy function. New code should use inst.pick(...).\n"
     ]
    },
    {
     "name": "stderr",
     "output_type": "stream",
     "text": [
      "/var/folders/rc/97bvm7z97gd87g90vfhmcrq00000gn/T/ipykernel_17665/3060273531.py:30: FutureWarning: The default for pick_channels will change from ordered=False to ordered=True in 1.5 and this will result in a change of behavior because the resulting channel order will not match. Either use a channel order that matches your instance or pass ordered=False.\n",
      "  raw.pick_channels(channels_to_keep)\n"
     ]
    },
    {
     "name": "stdout",
     "output_type": "stream",
     "text": [
      "NOTE: pick_channels() is a legacy function. New code should use inst.pick(...).\n"
     ]
    },
    {
     "name": "stderr",
     "output_type": "stream",
     "text": [
      "/var/folders/rc/97bvm7z97gd87g90vfhmcrq00000gn/T/ipykernel_17665/3060273531.py:30: FutureWarning: The default for pick_channels will change from ordered=False to ordered=True in 1.5 and this will result in a change of behavior because the resulting channel order will not match. Either use a channel order that matches your instance or pass ordered=False.\n",
      "  raw.pick_channels(channels_to_keep)\n"
     ]
    },
    {
     "name": "stdout",
     "output_type": "stream",
     "text": [
      "NOTE: pick_channels() is a legacy function. New code should use inst.pick(...).\n"
     ]
    },
    {
     "name": "stderr",
     "output_type": "stream",
     "text": [
      "/var/folders/rc/97bvm7z97gd87g90vfhmcrq00000gn/T/ipykernel_17665/3060273531.py:30: FutureWarning: The default for pick_channels will change from ordered=False to ordered=True in 1.5 and this will result in a change of behavior because the resulting channel order will not match. Either use a channel order that matches your instance or pass ordered=False.\n",
      "  raw.pick_channels(channels_to_keep)\n"
     ]
    },
    {
     "name": "stdout",
     "output_type": "stream",
     "text": [
      "NOTE: pick_channels() is a legacy function. New code should use inst.pick(...).\n"
     ]
    },
    {
     "name": "stderr",
     "output_type": "stream",
     "text": [
      "/var/folders/rc/97bvm7z97gd87g90vfhmcrq00000gn/T/ipykernel_17665/3060273531.py:30: FutureWarning: The default for pick_channels will change from ordered=False to ordered=True in 1.5 and this will result in a change of behavior because the resulting channel order will not match. Either use a channel order that matches your instance or pass ordered=False.\n",
      "  raw.pick_channels(channels_to_keep)\n"
     ]
    },
    {
     "name": "stdout",
     "output_type": "stream",
     "text": [
      "NOTE: pick_channels() is a legacy function. New code should use inst.pick(...).\n"
     ]
    },
    {
     "name": "stderr",
     "output_type": "stream",
     "text": [
      "/var/folders/rc/97bvm7z97gd87g90vfhmcrq00000gn/T/ipykernel_17665/3060273531.py:30: FutureWarning: The default for pick_channels will change from ordered=False to ordered=True in 1.5 and this will result in a change of behavior because the resulting channel order will not match. Either use a channel order that matches your instance or pass ordered=False.\n",
      "  raw.pick_channels(channels_to_keep)\n"
     ]
    },
    {
     "name": "stdout",
     "output_type": "stream",
     "text": [
      "NOTE: pick_channels() is a legacy function. New code should use inst.pick(...).\n"
     ]
    },
    {
     "name": "stderr",
     "output_type": "stream",
     "text": [
      "/var/folders/rc/97bvm7z97gd87g90vfhmcrq00000gn/T/ipykernel_17665/3060273531.py:30: FutureWarning: The default for pick_channels will change from ordered=False to ordered=True in 1.5 and this will result in a change of behavior because the resulting channel order will not match. Either use a channel order that matches your instance or pass ordered=False.\n",
      "  raw.pick_channels(channels_to_keep)\n"
     ]
    },
    {
     "name": "stdout",
     "output_type": "stream",
     "text": [
      "NOTE: pick_channels() is a legacy function. New code should use inst.pick(...).\n"
     ]
    },
    {
     "name": "stderr",
     "output_type": "stream",
     "text": [
      "/var/folders/rc/97bvm7z97gd87g90vfhmcrq00000gn/T/ipykernel_17665/3060273531.py:30: FutureWarning: The default for pick_channels will change from ordered=False to ordered=True in 1.5 and this will result in a change of behavior because the resulting channel order will not match. Either use a channel order that matches your instance or pass ordered=False.\n",
      "  raw.pick_channels(channels_to_keep)\n"
     ]
    },
    {
     "name": "stdout",
     "output_type": "stream",
     "text": [
      "NOTE: pick_channels() is a legacy function. New code should use inst.pick(...).\n"
     ]
    },
    {
     "name": "stderr",
     "output_type": "stream",
     "text": [
      "/var/folders/rc/97bvm7z97gd87g90vfhmcrq00000gn/T/ipykernel_17665/3060273531.py:30: FutureWarning: The default for pick_channels will change from ordered=False to ordered=True in 1.5 and this will result in a change of behavior because the resulting channel order will not match. Either use a channel order that matches your instance or pass ordered=False.\n",
      "  raw.pick_channels(channels_to_keep)\n"
     ]
    },
    {
     "name": "stdout",
     "output_type": "stream",
     "text": [
      "NOTE: pick_channels() is a legacy function. New code should use inst.pick(...).\n"
     ]
    },
    {
     "name": "stderr",
     "output_type": "stream",
     "text": [
      "/var/folders/rc/97bvm7z97gd87g90vfhmcrq00000gn/T/ipykernel_17665/3060273531.py:30: FutureWarning: The default for pick_channels will change from ordered=False to ordered=True in 1.5 and this will result in a change of behavior because the resulting channel order will not match. Either use a channel order that matches your instance or pass ordered=False.\n",
      "  raw.pick_channels(channels_to_keep)\n"
     ]
    },
    {
     "name": "stdout",
     "output_type": "stream",
     "text": [
      "NOTE: pick_channels() is a legacy function. New code should use inst.pick(...).\n"
     ]
    },
    {
     "name": "stderr",
     "output_type": "stream",
     "text": [
      "/var/folders/rc/97bvm7z97gd87g90vfhmcrq00000gn/T/ipykernel_17665/3060273531.py:30: FutureWarning: The default for pick_channels will change from ordered=False to ordered=True in 1.5 and this will result in a change of behavior because the resulting channel order will not match. Either use a channel order that matches your instance or pass ordered=False.\n",
      "  raw.pick_channels(channels_to_keep)\n"
     ]
    },
    {
     "name": "stdout",
     "output_type": "stream",
     "text": [
      "NOTE: pick_channels() is a legacy function. New code should use inst.pick(...).\n"
     ]
    },
    {
     "name": "stderr",
     "output_type": "stream",
     "text": [
      "/var/folders/rc/97bvm7z97gd87g90vfhmcrq00000gn/T/ipykernel_17665/3060273531.py:30: FutureWarning: The default for pick_channels will change from ordered=False to ordered=True in 1.5 and this will result in a change of behavior because the resulting channel order will not match. Either use a channel order that matches your instance or pass ordered=False.\n",
      "  raw.pick_channels(channels_to_keep)\n"
     ]
    },
    {
     "name": "stdout",
     "output_type": "stream",
     "text": [
      "NOTE: pick_channels() is a legacy function. New code should use inst.pick(...).\n"
     ]
    },
    {
     "name": "stderr",
     "output_type": "stream",
     "text": [
      "/var/folders/rc/97bvm7z97gd87g90vfhmcrq00000gn/T/ipykernel_17665/3060273531.py:30: FutureWarning: The default for pick_channels will change from ordered=False to ordered=True in 1.5 and this will result in a change of behavior because the resulting channel order will not match. Either use a channel order that matches your instance or pass ordered=False.\n",
      "  raw.pick_channels(channels_to_keep)\n"
     ]
    },
    {
     "name": "stdout",
     "output_type": "stream",
     "text": [
      "NOTE: pick_channels() is a legacy function. New code should use inst.pick(...).\n"
     ]
    },
    {
     "name": "stderr",
     "output_type": "stream",
     "text": [
      "/var/folders/rc/97bvm7z97gd87g90vfhmcrq00000gn/T/ipykernel_17665/3060273531.py:30: FutureWarning: The default for pick_channels will change from ordered=False to ordered=True in 1.5 and this will result in a change of behavior because the resulting channel order will not match. Either use a channel order that matches your instance or pass ordered=False.\n",
      "  raw.pick_channels(channels_to_keep)\n"
     ]
    },
    {
     "name": "stdout",
     "output_type": "stream",
     "text": [
      "NOTE: pick_channels() is a legacy function. New code should use inst.pick(...).\n"
     ]
    },
    {
     "name": "stderr",
     "output_type": "stream",
     "text": [
      "/var/folders/rc/97bvm7z97gd87g90vfhmcrq00000gn/T/ipykernel_17665/3060273531.py:30: FutureWarning: The default for pick_channels will change from ordered=False to ordered=True in 1.5 and this will result in a change of behavior because the resulting channel order will not match. Either use a channel order that matches your instance or pass ordered=False.\n",
      "  raw.pick_channels(channels_to_keep)\n"
     ]
    },
    {
     "name": "stdout",
     "output_type": "stream",
     "text": [
      "NOTE: pick_channels() is a legacy function. New code should use inst.pick(...).\n"
     ]
    },
    {
     "name": "stderr",
     "output_type": "stream",
     "text": [
      "/var/folders/rc/97bvm7z97gd87g90vfhmcrq00000gn/T/ipykernel_17665/3060273531.py:30: FutureWarning: The default for pick_channels will change from ordered=False to ordered=True in 1.5 and this will result in a change of behavior because the resulting channel order will not match. Either use a channel order that matches your instance or pass ordered=False.\n",
      "  raw.pick_channels(channels_to_keep)\n"
     ]
    },
    {
     "name": "stdout",
     "output_type": "stream",
     "text": [
      "NOTE: pick_channels() is a legacy function. New code should use inst.pick(...).\n"
     ]
    },
    {
     "name": "stderr",
     "output_type": "stream",
     "text": [
      "/var/folders/rc/97bvm7z97gd87g90vfhmcrq00000gn/T/ipykernel_17665/3060273531.py:30: FutureWarning: The default for pick_channels will change from ordered=False to ordered=True in 1.5 and this will result in a change of behavior because the resulting channel order will not match. Either use a channel order that matches your instance or pass ordered=False.\n",
      "  raw.pick_channels(channels_to_keep)\n"
     ]
    },
    {
     "name": "stdout",
     "output_type": "stream",
     "text": [
      "NOTE: pick_channels() is a legacy function. New code should use inst.pick(...).\n"
     ]
    },
    {
     "name": "stderr",
     "output_type": "stream",
     "text": [
      "/var/folders/rc/97bvm7z97gd87g90vfhmcrq00000gn/T/ipykernel_17665/3060273531.py:30: FutureWarning: The default for pick_channels will change from ordered=False to ordered=True in 1.5 and this will result in a change of behavior because the resulting channel order will not match. Either use a channel order that matches your instance or pass ordered=False.\n",
      "  raw.pick_channels(channels_to_keep)\n"
     ]
    },
    {
     "name": "stdout",
     "output_type": "stream",
     "text": [
      "NOTE: pick_channels() is a legacy function. New code should use inst.pick(...).\n"
     ]
    },
    {
     "name": "stderr",
     "output_type": "stream",
     "text": [
      "/var/folders/rc/97bvm7z97gd87g90vfhmcrq00000gn/T/ipykernel_17665/3060273531.py:30: FutureWarning: The default for pick_channels will change from ordered=False to ordered=True in 1.5 and this will result in a change of behavior because the resulting channel order will not match. Either use a channel order that matches your instance or pass ordered=False.\n",
      "  raw.pick_channels(channels_to_keep)\n"
     ]
    },
    {
     "name": "stdout",
     "output_type": "stream",
     "text": [
      "NOTE: pick_channels() is a legacy function. New code should use inst.pick(...).\n"
     ]
    },
    {
     "name": "stderr",
     "output_type": "stream",
     "text": [
      "/var/folders/rc/97bvm7z97gd87g90vfhmcrq00000gn/T/ipykernel_17665/3060273531.py:30: FutureWarning: The default for pick_channels will change from ordered=False to ordered=True in 1.5 and this will result in a change of behavior because the resulting channel order will not match. Either use a channel order that matches your instance or pass ordered=False.\n",
      "  raw.pick_channels(channels_to_keep)\n"
     ]
    },
    {
     "name": "stdout",
     "output_type": "stream",
     "text": [
      "NOTE: pick_channels() is a legacy function. New code should use inst.pick(...).\n"
     ]
    },
    {
     "name": "stderr",
     "output_type": "stream",
     "text": [
      "/var/folders/rc/97bvm7z97gd87g90vfhmcrq00000gn/T/ipykernel_17665/3060273531.py:30: FutureWarning: The default for pick_channels will change from ordered=False to ordered=True in 1.5 and this will result in a change of behavior because the resulting channel order will not match. Either use a channel order that matches your instance or pass ordered=False.\n",
      "  raw.pick_channels(channels_to_keep)\n"
     ]
    },
    {
     "name": "stdout",
     "output_type": "stream",
     "text": [
      "NOTE: pick_channels() is a legacy function. New code should use inst.pick(...).\n"
     ]
    },
    {
     "name": "stderr",
     "output_type": "stream",
     "text": [
      "/var/folders/rc/97bvm7z97gd87g90vfhmcrq00000gn/T/ipykernel_17665/3060273531.py:30: FutureWarning: The default for pick_channels will change from ordered=False to ordered=True in 1.5 and this will result in a change of behavior because the resulting channel order will not match. Either use a channel order that matches your instance or pass ordered=False.\n",
      "  raw.pick_channels(channels_to_keep)\n"
     ]
    },
    {
     "name": "stdout",
     "output_type": "stream",
     "text": [
      "NOTE: pick_channels() is a legacy function. New code should use inst.pick(...).\n"
     ]
    },
    {
     "name": "stderr",
     "output_type": "stream",
     "text": [
      "/var/folders/rc/97bvm7z97gd87g90vfhmcrq00000gn/T/ipykernel_17665/3060273531.py:30: FutureWarning: The default for pick_channels will change from ordered=False to ordered=True in 1.5 and this will result in a change of behavior because the resulting channel order will not match. Either use a channel order that matches your instance or pass ordered=False.\n",
      "  raw.pick_channels(channels_to_keep)\n"
     ]
    },
    {
     "name": "stdout",
     "output_type": "stream",
     "text": [
      "NOTE: pick_channels() is a legacy function. New code should use inst.pick(...).\n"
     ]
    },
    {
     "name": "stderr",
     "output_type": "stream",
     "text": [
      "/var/folders/rc/97bvm7z97gd87g90vfhmcrq00000gn/T/ipykernel_17665/3060273531.py:30: FutureWarning: The default for pick_channels will change from ordered=False to ordered=True in 1.5 and this will result in a change of behavior because the resulting channel order will not match. Either use a channel order that matches your instance or pass ordered=False.\n",
      "  raw.pick_channels(channels_to_keep)\n"
     ]
    },
    {
     "name": "stdout",
     "output_type": "stream",
     "text": [
      "NOTE: pick_channels() is a legacy function. New code should use inst.pick(...).\n"
     ]
    },
    {
     "name": "stderr",
     "output_type": "stream",
     "text": [
      "/var/folders/rc/97bvm7z97gd87g90vfhmcrq00000gn/T/ipykernel_17665/3060273531.py:30: FutureWarning: The default for pick_channels will change from ordered=False to ordered=True in 1.5 and this will result in a change of behavior because the resulting channel order will not match. Either use a channel order that matches your instance or pass ordered=False.\n",
      "  raw.pick_channels(channels_to_keep)\n"
     ]
    },
    {
     "name": "stdout",
     "output_type": "stream",
     "text": [
      "NOTE: pick_channels() is a legacy function. New code should use inst.pick(...).\n"
     ]
    },
    {
     "name": "stderr",
     "output_type": "stream",
     "text": [
      "/var/folders/rc/97bvm7z97gd87g90vfhmcrq00000gn/T/ipykernel_17665/3060273531.py:30: FutureWarning: The default for pick_channels will change from ordered=False to ordered=True in 1.5 and this will result in a change of behavior because the resulting channel order will not match. Either use a channel order that matches your instance or pass ordered=False.\n",
      "  raw.pick_channels(channels_to_keep)\n"
     ]
    },
    {
     "name": "stdout",
     "output_type": "stream",
     "text": [
      "NOTE: pick_channels() is a legacy function. New code should use inst.pick(...).\n"
     ]
    },
    {
     "name": "stderr",
     "output_type": "stream",
     "text": [
      "/var/folders/rc/97bvm7z97gd87g90vfhmcrq00000gn/T/ipykernel_17665/3060273531.py:30: FutureWarning: The default for pick_channels will change from ordered=False to ordered=True in 1.5 and this will result in a change of behavior because the resulting channel order will not match. Either use a channel order that matches your instance or pass ordered=False.\n",
      "  raw.pick_channels(channels_to_keep)\n"
     ]
    },
    {
     "name": "stdout",
     "output_type": "stream",
     "text": [
      "NOTE: pick_channels() is a legacy function. New code should use inst.pick(...).\n"
     ]
    },
    {
     "name": "stderr",
     "output_type": "stream",
     "text": [
      "/var/folders/rc/97bvm7z97gd87g90vfhmcrq00000gn/T/ipykernel_17665/3060273531.py:30: FutureWarning: The default for pick_channels will change from ordered=False to ordered=True in 1.5 and this will result in a change of behavior because the resulting channel order will not match. Either use a channel order that matches your instance or pass ordered=False.\n",
      "  raw.pick_channels(channels_to_keep)\n"
     ]
    },
    {
     "name": "stdout",
     "output_type": "stream",
     "text": [
      "NOTE: pick_channels() is a legacy function. New code should use inst.pick(...).\n"
     ]
    },
    {
     "name": "stderr",
     "output_type": "stream",
     "text": [
      "/var/folders/rc/97bvm7z97gd87g90vfhmcrq00000gn/T/ipykernel_17665/3060273531.py:30: FutureWarning: The default for pick_channels will change from ordered=False to ordered=True in 1.5 and this will result in a change of behavior because the resulting channel order will not match. Either use a channel order that matches your instance or pass ordered=False.\n",
      "  raw.pick_channels(channels_to_keep)\n"
     ]
    },
    {
     "name": "stdout",
     "output_type": "stream",
     "text": [
      "NOTE: pick_channels() is a legacy function. New code should use inst.pick(...).\n"
     ]
    },
    {
     "name": "stderr",
     "output_type": "stream",
     "text": [
      "/var/folders/rc/97bvm7z97gd87g90vfhmcrq00000gn/T/ipykernel_17665/3060273531.py:30: FutureWarning: The default for pick_channels will change from ordered=False to ordered=True in 1.5 and this will result in a change of behavior because the resulting channel order will not match. Either use a channel order that matches your instance or pass ordered=False.\n",
      "  raw.pick_channels(channels_to_keep)\n"
     ]
    },
    {
     "name": "stdout",
     "output_type": "stream",
     "text": [
      "NOTE: pick_channels() is a legacy function. New code should use inst.pick(...).\n"
     ]
    },
    {
     "name": "stderr",
     "output_type": "stream",
     "text": [
      "/var/folders/rc/97bvm7z97gd87g90vfhmcrq00000gn/T/ipykernel_17665/3060273531.py:30: FutureWarning: The default for pick_channels will change from ordered=False to ordered=True in 1.5 and this will result in a change of behavior because the resulting channel order will not match. Either use a channel order that matches your instance or pass ordered=False.\n",
      "  raw.pick_channels(channels_to_keep)\n"
     ]
    },
    {
     "name": "stdout",
     "output_type": "stream",
     "text": [
      "NOTE: pick_channels() is a legacy function. New code should use inst.pick(...).\n"
     ]
    },
    {
     "name": "stderr",
     "output_type": "stream",
     "text": [
      "/var/folders/rc/97bvm7z97gd87g90vfhmcrq00000gn/T/ipykernel_17665/3060273531.py:30: FutureWarning: The default for pick_channels will change from ordered=False to ordered=True in 1.5 and this will result in a change of behavior because the resulting channel order will not match. Either use a channel order that matches your instance or pass ordered=False.\n",
      "  raw.pick_channels(channels_to_keep)\n"
     ]
    }
   ],
   "source": [
    "# Set the path to the patient folder\n",
    "data_files = sorted([f for f in os.listdir(data_folder) if f.startswith('chb')])\n",
    "# Define the list of channels to keep\n",
    "channels_to_keep = ['T8-P8-1', 'T8-P8-0', 'T7-P7']# \n",
    "dataframes = []  # List to store individual DataFrames\n",
    "\n",
    "for folder_list in range(1,len(data_files[:3])):  # Assumes folders are named ch01 to ch10\n",
    "        folder_name = f'chb{folder_list:02d}'  # Format the folder name as ch01, ch02, etc.\n",
    "        folder_path = os.path.join(data_folder,folder_name)  # Create the full path to the folder\n",
    "\n",
    "        # Create an empty list to store raw data\n",
    "        patient_raws = []\n",
    "\n",
    "        # Create an empty list to store file names\n",
    "        file_names = []\n",
    "\n",
    "        # Get a list of .edf files sorted by filename numbers\n",
    "        edf_files = sorted([f for f in os.listdir(folder_path) if f.endswith('.edf')])\n",
    "\n",
    "        # Read the first .edf file to obtain the channel information\n",
    "        first_file_path = os.path.join(folder_path, edf_files[0])\n",
    "        first_raw = mne.io.read_raw_edf(first_file_path, preload=True, verbose='ERROR')\n",
    "        first_raw.pick_channels(channels_to_keep)\n",
    "\n",
    "        # Loop through the sorted .edf files\n",
    "        for file in edf_files:\n",
    "            file_path = os.path.join(folder_path, file)\n",
    "            raw = mne.io.read_raw_edf(file_path, preload=True,verbose='ERROR')\n",
    "            #Keep only the specified channels\n",
    "            raw.pick_channels(channels_to_keep)\n",
    "            raw = raw.resample(sfreq=80)\n",
    "\n",
    "            # Set the channel information for each Raw object to match the first Raw object\n",
    "            raw.info = first_raw.info\n",
    "            raw_df = raw.to_data_frame()\n",
    "            raw_df['file_name'] = file\n",
    "            patient_raws.append(raw_df)\n",
    "        \n",
    "            #file_names.extend([file] * len(raw.times))\n",
    "\n",
    "        # Concatenate the raw objects into a single patient_combined object while maintaining a continuous time axis\n",
    "        #patient_combined = mne.concatenate_raws(patient_raws, preload=True)\n",
    "        patient_combined = pd.concat(patient_raws, ignore_index=True)\n",
    "        # Print info about the combined raw object for this patient\n",
    "        #print(patient_combined.info)\n",
    "\n",
    "        #df = patient_combined.to_data_frame()\n",
    "        #df['file_name'] = file_names\n",
    "        dataframes.append(patient_combined)\n",
    "# Concatenate all DataFrames into a single DataFrame\n",
    "final_dataframe = pd.concat(dataframes, ignore_index=True)\n"
   ]
  },
  {
   "cell_type": "code",
   "execution_count": 40,
   "metadata": {},
   "outputs": [
    {
     "data": {
      "text/html": [
       "<div>\n",
       "<style scoped>\n",
       "    .dataframe tbody tr th:only-of-type {\n",
       "        vertical-align: middle;\n",
       "    }\n",
       "\n",
       "    .dataframe tbody tr th {\n",
       "        vertical-align: top;\n",
       "    }\n",
       "\n",
       "    .dataframe thead th {\n",
       "        text-align: right;\n",
       "    }\n",
       "</style>\n",
       "<table border=\"1\" class=\"dataframe\">\n",
       "  <thead>\n",
       "    <tr style=\"text-align: right;\">\n",
       "      <th></th>\n",
       "      <th>time</th>\n",
       "      <th>T7-P7</th>\n",
       "      <th>T8-P8-0</th>\n",
       "      <th>T8-P8-1</th>\n",
       "      <th>file_name</th>\n",
       "    </tr>\n",
       "  </thead>\n",
       "  <tbody>\n",
       "    <tr>\n",
       "      <th>21835755</th>\n",
       "      <td>1124.980469</td>\n",
       "      <td>15.782906</td>\n",
       "      <td>15.656645</td>\n",
       "      <td>15.656645</td>\n",
       "      <td>chb02_35.edf</td>\n",
       "    </tr>\n",
       "    <tr>\n",
       "      <th>21835756</th>\n",
       "      <td>1124.984375</td>\n",
       "      <td>-3.555502</td>\n",
       "      <td>-28.432442</td>\n",
       "      <td>-28.432442</td>\n",
       "      <td>chb02_35.edf</td>\n",
       "    </tr>\n",
       "    <tr>\n",
       "      <th>21835757</th>\n",
       "      <td>1124.988281</td>\n",
       "      <td>-45.889862</td>\n",
       "      <td>-43.964047</td>\n",
       "      <td>-43.964047</td>\n",
       "      <td>chb02_35.edf</td>\n",
       "    </tr>\n",
       "    <tr>\n",
       "      <th>21835758</th>\n",
       "      <td>1124.992188</td>\n",
       "      <td>8.404385</td>\n",
       "      <td>2.046159</td>\n",
       "      <td>2.046159</td>\n",
       "      <td>chb02_35.edf</td>\n",
       "    </tr>\n",
       "    <tr>\n",
       "      <th>21835759</th>\n",
       "      <td>1124.996094</td>\n",
       "      <td>14.579985</td>\n",
       "      <td>-30.257559</td>\n",
       "      <td>-30.257559</td>\n",
       "      <td>chb02_35.edf</td>\n",
       "    </tr>\n",
       "  </tbody>\n",
       "</table>\n",
       "</div>"
      ],
      "text/plain": [
       "                 time      T7-P7    T8-P8-0    T8-P8-1     file_name\n",
       "21835755  1124.980469  15.782906  15.656645  15.656645  chb02_35.edf\n",
       "21835756  1124.984375  -3.555502 -28.432442 -28.432442  chb02_35.edf\n",
       "21835757  1124.988281 -45.889862 -43.964047 -43.964047  chb02_35.edf\n",
       "21835758  1124.992188   8.404385   2.046159   2.046159  chb02_35.edf\n",
       "21835759  1124.996094  14.579985 -30.257559 -30.257559  chb02_35.edf"
      ]
     },
     "execution_count": 40,
     "metadata": {},
     "output_type": "execute_result"
    }
   ],
   "source": [
    "final_dataframe.tail()"
   ]
  },
  {
   "cell_type": "code",
   "execution_count": 33,
   "metadata": {},
   "outputs": [
    {
     "name": "stdout",
     "output_type": "stream",
     "text": [
      "      file_name Number of Seizures  Seizure Start Time  Seizure End Time  \\\n",
      "0  chb03_01.edf                  1                 362               414   \n",
      "1  chb03_02.edf                  1                 731               796   \n",
      "2  chb03_03.edf                  1                 432               501   \n",
      "3  chb03_04.edf                  1                2162              2214   \n",
      "4  chb03_34.edf                  1                1982              2029   \n",
      "5  chb03_35.edf                  1                2592              2656   \n",
      "6  chb03_36.edf                  1                1725              1778   \n",
      "\n",
      "  Source File  \n",
      "0       chb03  \n",
      "1       chb03  \n",
      "2       chb03  \n",
      "3       chb03  \n",
      "4       chb03  \n",
      "5       chb03  \n",
      "6       chb03  \n"
     ]
    }
   ],
   "source": [
    "# Loop through subfolders in the main data folder\n",
    "folder_path = './data/'\n",
    "all_data = []\n",
    "\n",
    "for folder_name in os.listdir(folder_path):\n",
    "    if not folder_name.startswith('chb'):\n",
    "        continue\n",
    "    folder_path = os.path.join(folder_path, folder_name)\n",
    "    # Check if the item in the main folder is a directory (subfolder)\n",
    "    if os.path.isdir(folder_path):\n",
    "        # Loop through the text files in the subfolder\n",
    "        for filename in os.listdir(folder_path):\n",
    "            if filename.endswith(\".txt\") and filename.startswith(\"chb\"):\n",
    "                file_path = os.path.join(folder_path, filename)\n",
    "                \n",
    "                # Extract the part of the filename before the hyphen as the \"Source File\" value\n",
    "                source_file = filename.split(\"-\")[0]\n",
    "                \n",
    "                # Initialize a list to store data for each file\n",
    "                data = []\n",
    "                \n",
    "                # # Initialize a dictionary to hold the current data\n",
    "                current_data = {\"File Name\": None, \"Number of Seizures\": None, \"Seizure Start Time\": np.nan, \"Seizure End Time\": np.nan, \"Source File\": source_file}\n",
    "                \n",
    "                # Open and read the current text file\n",
    "                with open(file_path, \"r\") as file:\n",
    "                    for line in file:\n",
    "                        line = line.strip()\n",
    "                        if line.startswith(\"File Name:\"):\n",
    "                            current_data = {\"File Name\": None, \"Number of Seizures\": None, \"Seizure Start Time\": np.nan, \"Seizure End Time\": np.nan, \"Source File\": source_file}\n",
    "                            current_data[\"File Name\"] = line.split(\": \", 1)[1]\n",
    "                        elif line.startswith(\"Number of Seizures in File:\"):\n",
    "                            current_data[\"Number of Seizures\"] = line.split(\": \",1)[1]\n",
    "                            if current_data[\"Number of Seizures\"] == 0:\n",
    "                                data.append(current_data.copy())\n",
    "                        elif line.startswith(\"Seizure Start Time:\"):\n",
    "                            current_data[\"Seizure Start Time\"] = int(line.split(\": \", 1)[1].split()[0])\n",
    "                        elif line.startswith(\"Seizure End Time:\"):\n",
    "                            current_data[\"Seizure End Time\"] = int(line.split(\": \", 1)[1].split()[0])\n",
    "                            data.append(current_data.copy())\n",
    "                \n",
    "                all_data.extend(data)\n",
    "\n",
    "# Create a DataFrame from the collected data\n",
    "seizure_seq = pd.DataFrame(all_data)\n",
    "seizure_seq = seizure_seq.rename(columns={\"File Name\": \"file_name\"})\n",
    "seizure_seq[\"Seizure Start Time\"] = seizure_seq[\"Seizure Start Time\"].astype(float)\n",
    "seizure_seq[\"Seizure End Time\"] = seizure_seq[\"Seizure End Time\"].astype(float)\n",
    "\n",
    "# Display the DataFrame\n",
    "print(seizure_seq)"
   ]
  },
  {
   "cell_type": "code",
   "execution_count": 29,
   "metadata": {},
   "outputs": [],
   "source": [
    "# Define a function to check if a recording occurred during a seizure\n",
    "def during_seizure(file_name, time):\n",
    "    seizure_data = seizure_seq[seizure_seq[\"file_name\"] == file_name]\n",
    "    if not seizure_data.empty:\n",
    "        return any((time >= seizure_data[\"Seizure Start Time\"]) & (time <= seizure_seq[\"Seizure End Time\"]))\n",
    "    else:\n",
    "        return False"
   ]
  },
  {
   "cell_type": "code",
   "execution_count": 30,
   "metadata": {},
   "outputs": [
    {
     "ename": "KeyboardInterrupt",
     "evalue": "",
     "output_type": "error",
     "traceback": [
      "\u001b[0;31m---------------------------------------------------------------------------\u001b[0m",
      "\u001b[0;31mKeyboardInterrupt\u001b[0m                         Traceback (most recent call last)",
      "\u001b[1;32m/Users/anabroggini/Documents/bootcamp/ai2/data_assembly_all.ipynb Cell 7\u001b[0m line \u001b[0;36m1\n\u001b[0;32m----> <a href='vscode-notebook-cell:/Users/anabroggini/Documents/bootcamp/ai2/data_assembly_all.ipynb#X21sZmlsZQ%3D%3D?line=0'>1</a>\u001b[0m final_dataframe[\u001b[39m\"\u001b[39m\u001b[39mseizure\u001b[39m\u001b[39m\"\u001b[39m] \u001b[39m=\u001b[39m final_dataframe\u001b[39m.\u001b[39;49mapply(\u001b[39mlambda\u001b[39;49;00m row: during_seizure(row[\u001b[39m\"\u001b[39;49m\u001b[39mfile_name\u001b[39;49m\u001b[39m\"\u001b[39;49m], row[\u001b[39m\"\u001b[39;49m\u001b[39mtime\u001b[39;49m\u001b[39m\"\u001b[39;49m]), axis\u001b[39m=\u001b[39;49m\u001b[39m1\u001b[39;49m)\n",
      "File \u001b[0;32m~/Documents/bootcamp/ai-seizure-detectives/.venv/lib/python3.11/site-packages/pandas/core/frame.py:9423\u001b[0m, in \u001b[0;36mapply\u001b[0;34m(self, func, axis, raw, result_type, args, **kwargs)\u001b[0m\n",
      "File \u001b[0;32m~/Documents/bootcamp/ai-seizure-detectives/.venv/lib/python3.11/site-packages/pandas/core/apply.py:678\u001b[0m, in \u001b[0;36mapply\u001b[0;34m(self)\u001b[0m\n",
      "File \u001b[0;32m~/Documents/bootcamp/ai-seizure-detectives/.venv/lib/python3.11/site-packages/pandas/core/apply.py:798\u001b[0m, in \u001b[0;36mapply_standard\u001b[0;34m(self)\u001b[0m\n",
      "File \u001b[0;32m~/Documents/bootcamp/ai-seizure-detectives/.venv/lib/python3.11/site-packages/pandas/core/apply.py:814\u001b[0m, in \u001b[0;36mapply_series_generator\u001b[0;34m(self)\u001b[0m\n",
      "\u001b[1;32m/Users/anabroggini/Documents/bootcamp/ai2/data_assembly_all.ipynb Cell 7\u001b[0m line \u001b[0;36m1\n\u001b[0;32m----> <a href='vscode-notebook-cell:/Users/anabroggini/Documents/bootcamp/ai2/data_assembly_all.ipynb#X21sZmlsZQ%3D%3D?line=0'>1</a>\u001b[0m final_dataframe[\u001b[39m\"\u001b[39m\u001b[39mseizure\u001b[39m\u001b[39m\"\u001b[39m] \u001b[39m=\u001b[39m final_dataframe\u001b[39m.\u001b[39mapply(\u001b[39mlambda\u001b[39;00m row: during_seizure(row[\u001b[39m\"\u001b[39;49m\u001b[39mfile_name\u001b[39;49m\u001b[39m\"\u001b[39;49m], row[\u001b[39m\"\u001b[39;49m\u001b[39mtime\u001b[39;49m\u001b[39m\"\u001b[39;49m]), axis\u001b[39m=\u001b[39m\u001b[39m1\u001b[39m)\n",
      "\u001b[1;32m/Users/anabroggini/Documents/bootcamp/ai2/data_assembly_all.ipynb Cell 7\u001b[0m line \u001b[0;36m3\n\u001b[1;32m      <a href='vscode-notebook-cell:/Users/anabroggini/Documents/bootcamp/ai2/data_assembly_all.ipynb#X21sZmlsZQ%3D%3D?line=1'>2</a>\u001b[0m \u001b[39mdef\u001b[39;00m \u001b[39mduring_seizure\u001b[39m(file_name, time):\n\u001b[0;32m----> <a href='vscode-notebook-cell:/Users/anabroggini/Documents/bootcamp/ai2/data_assembly_all.ipynb#X21sZmlsZQ%3D%3D?line=2'>3</a>\u001b[0m     seizure_data \u001b[39m=\u001b[39m seizure_seq[seizure_seq[\u001b[39m\"\u001b[39;49m\u001b[39mfile_name\u001b[39;49m\u001b[39m\"\u001b[39;49m] \u001b[39m==\u001b[39;49m file_name]\n\u001b[1;32m      <a href='vscode-notebook-cell:/Users/anabroggini/Documents/bootcamp/ai2/data_assembly_all.ipynb#X21sZmlsZQ%3D%3D?line=3'>4</a>\u001b[0m     \u001b[39mif\u001b[39;00m \u001b[39mnot\u001b[39;00m seizure_data\u001b[39m.\u001b[39mempty:\n\u001b[1;32m      <a href='vscode-notebook-cell:/Users/anabroggini/Documents/bootcamp/ai2/data_assembly_all.ipynb#X21sZmlsZQ%3D%3D?line=4'>5</a>\u001b[0m         \u001b[39mreturn\u001b[39;00m \u001b[39many\u001b[39m((time \u001b[39m>\u001b[39m\u001b[39m=\u001b[39m seizure_data[\u001b[39m\"\u001b[39m\u001b[39mSeizure Start Time\u001b[39m\u001b[39m\"\u001b[39m]) \u001b[39m&\u001b[39m (time \u001b[39m<\u001b[39m\u001b[39m=\u001b[39m seizure_seq[\u001b[39m\"\u001b[39m\u001b[39mSeizure End Time\u001b[39m\u001b[39m\"\u001b[39m]))\n",
      "File \u001b[0;32m~/Documents/bootcamp/ai-seizure-detectives/.venv/lib/python3.11/site-packages/pandas/core/frame.py:3751\u001b[0m, in \u001b[0;36m__getitem__\u001b[0;34m(self, key)\u001b[0m\n",
      "File \u001b[0;32m~/Documents/bootcamp/ai-seizure-detectives/.venv/lib/python3.11/site-packages/pandas/core/common.py:126\u001b[0m, in \u001b[0;36mis_bool_indexer\u001b[0;34m(key)\u001b[0m\n",
      "File \u001b[0;32m~/Documents/bootcamp/ai-seizure-detectives/.venv/lib/python3.11/site-packages/pandas/core/series.py:605\u001b[0m, in \u001b[0;36mdtype\u001b[0;34m(self)\u001b[0m\n",
      "File \u001b[0;32m~/Documents/bootcamp/ai-seizure-detectives/.venv/lib/python3.11/site-packages/pandas/core/internals/managers.py:2002\u001b[0m, in \u001b[0;36mdtype\u001b[0;34m(self)\u001b[0m\n",
      "File \u001b[0;32mpandas/_libs/properties.pyx:36\u001b[0m, in \u001b[0;36mpandas._libs.properties.CachedProperty.__get__\u001b[0;34m()\u001b[0m\n",
      "File \u001b[0;32m~/Documents/bootcamp/ai-seizure-detectives/.venv/lib/python3.11/site-packages/pandas/core/internals/managers.py:1944\u001b[0m, in \u001b[0;36m_block\u001b[0;34m(self)\u001b[0m\n",
      "\u001b[0;31mKeyboardInterrupt\u001b[0m: "
     ]
    }
   ],
   "source": [
    "final_dataframe[\"seizure\"] = final_dataframe.apply(lambda row: during_seizure(row[\"file_name\"], row[\"time\"]), axis=1)"
   ]
  },
  {
   "cell_type": "code",
   "execution_count": 18,
   "metadata": {},
   "outputs": [
    {
     "data": {
      "text/html": [
       "<div>\n",
       "<style scoped>\n",
       "    .dataframe tbody tr th:only-of-type {\n",
       "        vertical-align: middle;\n",
       "    }\n",
       "\n",
       "    .dataframe tbody tr th {\n",
       "        vertical-align: top;\n",
       "    }\n",
       "\n",
       "    .dataframe thead th {\n",
       "        text-align: right;\n",
       "    }\n",
       "</style>\n",
       "<table border=\"1\" class=\"dataframe\">\n",
       "  <thead>\n",
       "    <tr style=\"text-align: right;\">\n",
       "      <th></th>\n",
       "      <th>time</th>\n",
       "      <th>FP1-F7</th>\n",
       "      <th>F7-T7</th>\n",
       "      <th>T7-P7</th>\n",
       "      <th>P7-O1</th>\n",
       "      <th>FP1-F3</th>\n",
       "      <th>F3-C3</th>\n",
       "      <th>C3-P3</th>\n",
       "      <th>P3-O1</th>\n",
       "      <th>FP2-F4</th>\n",
       "      <th>...</th>\n",
       "      <th>T7-FT9</th>\n",
       "      <th>FT9-FT10</th>\n",
       "      <th>FT10-T8</th>\n",
       "      <th>T8-P8-1</th>\n",
       "      <th>file_name</th>\n",
       "      <th>Number of Seizures</th>\n",
       "      <th>Seizure Start Time</th>\n",
       "      <th>Seizure End Time</th>\n",
       "      <th>Source File</th>\n",
       "      <th>seizure_sequence</th>\n",
       "    </tr>\n",
       "  </thead>\n",
       "  <tbody>\n",
       "    <tr>\n",
       "      <th>34937211</th>\n",
       "      <td>63479.480469</td>\n",
       "      <td>-115.782722</td>\n",
       "      <td>134.907221</td>\n",
       "      <td>-46.812467</td>\n",
       "      <td>1.358508</td>\n",
       "      <td>-24.280219</td>\n",
       "      <td>7.271520</td>\n",
       "      <td>-37.914306</td>\n",
       "      <td>28.991814</td>\n",
       "      <td>-40.537569</td>\n",
       "      <td>...</td>\n",
       "      <td>-24.796244</td>\n",
       "      <td>-6.904201</td>\n",
       "      <td>-8.270946</td>\n",
       "      <td>-45.686923</td>\n",
       "      <td>chb02_35.edf</td>\n",
       "      <td>NaN</td>\n",
       "      <td>NaN</td>\n",
       "      <td>NaN</td>\n",
       "      <td>NaN</td>\n",
       "      <td>False</td>\n",
       "    </tr>\n",
       "    <tr>\n",
       "      <th>34937212</th>\n",
       "      <td>63479.484375</td>\n",
       "      <td>-222.561781</td>\n",
       "      <td>194.940960</td>\n",
       "      <td>-50.500316</td>\n",
       "      <td>-15.615978</td>\n",
       "      <td>-49.505983</td>\n",
       "      <td>-11.458245</td>\n",
       "      <td>-35.386708</td>\n",
       "      <td>3.300393</td>\n",
       "      <td>-40.070918</td>\n",
       "      <td>...</td>\n",
       "      <td>-61.071168</td>\n",
       "      <td>9.364014</td>\n",
       "      <td>-26.803702</td>\n",
       "      <td>-14.750472</td>\n",
       "      <td>chb02_35.edf</td>\n",
       "      <td>NaN</td>\n",
       "      <td>NaN</td>\n",
       "      <td>NaN</td>\n",
       "      <td>NaN</td>\n",
       "      <td>False</td>\n",
       "    </tr>\n",
       "    <tr>\n",
       "      <th>34937213</th>\n",
       "      <td>63479.488281</td>\n",
       "      <td>-81.687330</td>\n",
       "      <td>49.461055</td>\n",
       "      <td>48.180296</td>\n",
       "      <td>-22.157032</td>\n",
       "      <td>-1.797041</td>\n",
       "      <td>33.254509</td>\n",
       "      <td>-40.797284</td>\n",
       "      <td>3.367640</td>\n",
       "      <td>-39.517940</td>\n",
       "      <td>...</td>\n",
       "      <td>45.751252</td>\n",
       "      <td>14.268259</td>\n",
       "      <td>-55.746283</td>\n",
       "      <td>-14.380229</td>\n",
       "      <td>chb02_35.edf</td>\n",
       "      <td>NaN</td>\n",
       "      <td>NaN</td>\n",
       "      <td>NaN</td>\n",
       "      <td>NaN</td>\n",
       "      <td>False</td>\n",
       "    </tr>\n",
       "    <tr>\n",
       "      <th>34937214</th>\n",
       "      <td>63479.492188</td>\n",
       "      <td>-111.241961</td>\n",
       "      <td>94.053730</td>\n",
       "      <td>7.131500</td>\n",
       "      <td>-4.767848</td>\n",
       "      <td>-17.389396</td>\n",
       "      <td>33.662479</td>\n",
       "      <td>-40.187919</td>\n",
       "      <td>10.268091</td>\n",
       "      <td>-30.708338</td>\n",
       "      <td>...</td>\n",
       "      <td>-14.590857</td>\n",
       "      <td>15.875116</td>\n",
       "      <td>-48.629292</td>\n",
       "      <td>6.590191</td>\n",
       "      <td>chb02_35.edf</td>\n",
       "      <td>NaN</td>\n",
       "      <td>NaN</td>\n",
       "      <td>NaN</td>\n",
       "      <td>NaN</td>\n",
       "      <td>False</td>\n",
       "    </tr>\n",
       "    <tr>\n",
       "      <th>34937215</th>\n",
       "      <td>63479.496094</td>\n",
       "      <td>-40.555302</td>\n",
       "      <td>45.929406</td>\n",
       "      <td>-14.705387</td>\n",
       "      <td>9.535962</td>\n",
       "      <td>-32.466193</td>\n",
       "      <td>43.082463</td>\n",
       "      <td>-40.838351</td>\n",
       "      <td>30.218679</td>\n",
       "      <td>-8.612591</td>\n",
       "      <td>...</td>\n",
       "      <td>20.085840</td>\n",
       "      <td>1.748631</td>\n",
       "      <td>-14.146080</td>\n",
       "      <td>-56.972049</td>\n",
       "      <td>chb02_35.edf</td>\n",
       "      <td>NaN</td>\n",
       "      <td>NaN</td>\n",
       "      <td>NaN</td>\n",
       "      <td>NaN</td>\n",
       "      <td>False</td>\n",
       "    </tr>\n",
       "  </tbody>\n",
       "</table>\n",
       "<p>5 rows × 30 columns</p>\n",
       "</div>"
      ],
      "text/plain": [
       "                  time      FP1-F7       F7-T7      T7-P7      P7-O1  \\\n",
       "34937211  63479.480469 -115.782722  134.907221 -46.812467   1.358508   \n",
       "34937212  63479.484375 -222.561781  194.940960 -50.500316 -15.615978   \n",
       "34937213  63479.488281  -81.687330   49.461055  48.180296 -22.157032   \n",
       "34937214  63479.492188 -111.241961   94.053730   7.131500  -4.767848   \n",
       "34937215  63479.496094  -40.555302   45.929406 -14.705387   9.535962   \n",
       "\n",
       "             FP1-F3      F3-C3      C3-P3      P3-O1     FP2-F4  ...  \\\n",
       "34937211 -24.280219   7.271520 -37.914306  28.991814 -40.537569  ...   \n",
       "34937212 -49.505983 -11.458245 -35.386708   3.300393 -40.070918  ...   \n",
       "34937213  -1.797041  33.254509 -40.797284   3.367640 -39.517940  ...   \n",
       "34937214 -17.389396  33.662479 -40.187919  10.268091 -30.708338  ...   \n",
       "34937215 -32.466193  43.082463 -40.838351  30.218679  -8.612591  ...   \n",
       "\n",
       "             T7-FT9   FT9-FT10    FT10-T8    T8-P8-1     file_name  \\\n",
       "34937211 -24.796244  -6.904201  -8.270946 -45.686923  chb02_35.edf   \n",
       "34937212 -61.071168   9.364014 -26.803702 -14.750472  chb02_35.edf   \n",
       "34937213  45.751252  14.268259 -55.746283 -14.380229  chb02_35.edf   \n",
       "34937214 -14.590857  15.875116 -48.629292   6.590191  chb02_35.edf   \n",
       "34937215  20.085840   1.748631 -14.146080 -56.972049  chb02_35.edf   \n",
       "\n",
       "          Number of Seizures  Seizure Start Time  Seizure End Time  \\\n",
       "34937211                 NaN                 NaN               NaN   \n",
       "34937212                 NaN                 NaN               NaN   \n",
       "34937213                 NaN                 NaN               NaN   \n",
       "34937214                 NaN                 NaN               NaN   \n",
       "34937215                 NaN                 NaN               NaN   \n",
       "\n",
       "          Source File  seizure_sequence  \n",
       "34937211          NaN             False  \n",
       "34937212          NaN             False  \n",
       "34937213          NaN             False  \n",
       "34937214          NaN             False  \n",
       "34937215          NaN             False  \n",
       "\n",
       "[5 rows x 30 columns]"
      ]
     },
     "execution_count": 18,
     "metadata": {},
     "output_type": "execute_result"
    }
   ],
   "source": [
    "final_dataframe.tail()"
   ]
  }
 ],
 "metadata": {
  "kernelspec": {
   "display_name": ".venv",
   "language": "python",
   "name": "python3"
  },
  "language_info": {
   "codemirror_mode": {
    "name": "ipython",
    "version": 3
   },
   "file_extension": ".py",
   "mimetype": "text/x-python",
   "name": "python",
   "nbconvert_exporter": "python",
   "pygments_lexer": "ipython3",
   "version": "3.11.3"
  }
 },
 "nbformat": 4,
 "nbformat_minor": 2
}
