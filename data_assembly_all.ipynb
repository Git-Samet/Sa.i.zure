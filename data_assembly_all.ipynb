{
 "cells": [
  {
   "cell_type": "code",
   "execution_count": 2,
   "metadata": {},
   "outputs": [],
   "source": [
    "import mne \n",
    "import os\n",
    "import mne \n",
    "from mne.io import  read_raw_edf\n",
    "import pandas as pd\n"
   ]
  },
  {
   "cell_type": "code",
   "execution_count": 3,
   "metadata": {},
   "outputs": [
    {
     "name": "stdout",
     "output_type": "stream",
     "text": [
      "Extracting EDF parameters from /Users/anabroggini/Documents/bootcamp/data/chb01/chb01_01.edf...\n",
      "EDF file detected\n",
      "Setting channel info structure...\n",
      "Creating raw.info structure...\n",
      "Reading 0 ... 921599  =      0.000 ...  3599.996 secs...\n"
     ]
    },
    {
     "name": "stderr",
     "output_type": "stream",
     "text": [
      "/var/folders/rc/97bvm7z97gd87g90vfhmcrq00000gn/T/ipykernel_14401/1918656333.py:21: RuntimeWarning: Channel names are not unique, found duplicates for: {'T8-P8'}. Applying running numbers for duplicates.\n",
      "  first_raw = mne.io.read_raw_edf(first_file_path, preload=True)\n"
     ]
    },
    {
     "name": "stdout",
     "output_type": "stream",
     "text": [
      "Extracting EDF parameters from /Users/anabroggini/Documents/bootcamp/data/chb01/chb01_01.edf...\n",
      "EDF file detected\n",
      "Setting channel info structure...\n",
      "Creating raw.info structure...\n",
      "Reading 0 ... 921599  =      0.000 ...  3599.996 secs...\n"
     ]
    },
    {
     "name": "stderr",
     "output_type": "stream",
     "text": [
      "/var/folders/rc/97bvm7z97gd87g90vfhmcrq00000gn/T/ipykernel_14401/1918656333.py:26: RuntimeWarning: Channel names are not unique, found duplicates for: {'T8-P8'}. Applying running numbers for duplicates.\n",
      "  raw = mne.io.read_raw_edf(file_path, preload=True)\n"
     ]
    },
    {
     "name": "stdout",
     "output_type": "stream",
     "text": [
      "Extracting EDF parameters from /Users/anabroggini/Documents/bootcamp/data/chb01/chb01_02.edf...\n",
      "EDF file detected\n",
      "Setting channel info structure...\n",
      "Creating raw.info structure...\n",
      "Reading 0 ... 921599  =      0.000 ...  3599.996 secs...\n"
     ]
    },
    {
     "name": "stderr",
     "output_type": "stream",
     "text": [
      "/var/folders/rc/97bvm7z97gd87g90vfhmcrq00000gn/T/ipykernel_14401/1918656333.py:26: RuntimeWarning: Channel names are not unique, found duplicates for: {'T8-P8'}. Applying running numbers for duplicates.\n",
      "  raw = mne.io.read_raw_edf(file_path, preload=True)\n"
     ]
    },
    {
     "name": "stdout",
     "output_type": "stream",
     "text": [
      "Extracting EDF parameters from /Users/anabroggini/Documents/bootcamp/data/chb01/chb01_03.edf...\n",
      "EDF file detected\n",
      "Setting channel info structure...\n",
      "Creating raw.info structure...\n",
      "Reading 0 ... 921599  =      0.000 ...  3599.996 secs...\n"
     ]
    },
    {
     "name": "stderr",
     "output_type": "stream",
     "text": [
      "/var/folders/rc/97bvm7z97gd87g90vfhmcrq00000gn/T/ipykernel_14401/1918656333.py:26: RuntimeWarning: Channel names are not unique, found duplicates for: {'T8-P8'}. Applying running numbers for duplicates.\n",
      "  raw = mne.io.read_raw_edf(file_path, preload=True)\n"
     ]
    }
   ],
   "source": [
    "# Set the path to the patient folder\n",
    "data_folder ='/Users/anabroggini/Documents/bootcamp/data'\n",
    "data_files = sorted([f for f in os.listdir(data_folder) if f.startswith('chb')])\n",
    "dataframes = []  # List to store individual DataFrames\n",
    "\n",
    "for folder_list in range(1,len(data_files[:5])):  # Assumes folders are named ch01 to ch10\n",
    "        folder_name = f'chb{folder_list:02d}'  # Format the folder name as ch01, ch02, etc.\n",
    "        folder_path = os.path.join(data_folder,folder_name)  # Create the full path to the folder\n",
    "\n",
    "        # Create an empty list to store raw data\n",
    "        patient_raws = []\n",
    "\n",
    "        # Create an empty list to store file names\n",
    "        file_names = []\n",
    "\n",
    "        # Get a list of .edf files sorted by filename numbers\n",
    "        edf_files = sorted([f for f in os.listdir(folder_path) if f.endswith('.edf')])\n",
    "\n",
    "        # Read the first .edf file to obtain the channel information\n",
    "        first_file_path = os.path.join(folder_path, edf_files[0])\n",
    "        first_raw = mne.io.read_raw_edf(first_file_path, preload=True)\n",
    "\n",
    "        # Loop through the sorted .edf files\n",
    "        for file in edf_files:\n",
    "            file_path = os.path.join(folder_path, file)\n",
    "            raw = mne.io.read_raw_edf(file_path, preload=True)\n",
    "            raw_downsampled = raw.copy().resample(sfreq=128)\n",
    "\n",
    "            # Set the channel information for each Raw object to match the first Raw object\n",
    "            raw_downsampled.info = first_raw.info\n",
    "            patient_raws.append(raw_downsampled)\n",
    "            file_names.extend([file] * len(raw_downsampled.times))\n",
    "\n",
    "        # Concatenate the raw objects into a single patient_combined object while maintaining a continuous time axis\n",
    "        patient_combined = mne.concatenate_raws(patient_raws, preload=True)\n",
    "        # Print info about the combined raw object for this patient\n",
    "        #print(patient_combined.info)\n",
    "\n",
    "        df = patient_combined.to_data_frame()\n",
    "        df['file_name'] = file_names\n",
    "        dataframes.append(df)\n",
    "# Concatenate all DataFrames into a single DataFrame\n",
    "final_dataframe = pd.concat(dataframes, ignore_index=True)\n"
   ]
  },
  {
   "cell_type": "code",
   "execution_count": 51,
   "metadata": {},
   "outputs": [
    {
     "data": {
      "text/html": [
       "<div>\n",
       "<style scoped>\n",
       "    .dataframe tbody tr th:only-of-type {\n",
       "        vertical-align: middle;\n",
       "    }\n",
       "\n",
       "    .dataframe tbody tr th {\n",
       "        vertical-align: top;\n",
       "    }\n",
       "\n",
       "    .dataframe thead th {\n",
       "        text-align: right;\n",
       "    }\n",
       "</style>\n",
       "<table border=\"1\" class=\"dataframe\">\n",
       "  <thead>\n",
       "    <tr style=\"text-align: right;\">\n",
       "      <th></th>\n",
       "      <th>time</th>\n",
       "      <th>FP1-F7</th>\n",
       "      <th>F7-T7</th>\n",
       "      <th>T7-P7</th>\n",
       "      <th>P7-O1</th>\n",
       "      <th>FP1-F3</th>\n",
       "      <th>F3-C3</th>\n",
       "      <th>C3-P3</th>\n",
       "      <th>P3-O1</th>\n",
       "      <th>FP2-F4</th>\n",
       "      <th>...</th>\n",
       "      <th>P8-O2</th>\n",
       "      <th>FZ-CZ</th>\n",
       "      <th>CZ-PZ</th>\n",
       "      <th>P7-T7</th>\n",
       "      <th>T7-FT9</th>\n",
       "      <th>FT9-FT10</th>\n",
       "      <th>FT10-T8</th>\n",
       "      <th>T8-P8-1</th>\n",
       "      <th>File_name</th>\n",
       "      <th>ECG</th>\n",
       "    </tr>\n",
       "  </thead>\n",
       "  <tbody>\n",
       "    <tr>\n",
       "      <th>74334587</th>\n",
       "      <td>85492.980469</td>\n",
       "      <td>-0.061441</td>\n",
       "      <td>3.527584</td>\n",
       "      <td>2.572308</td>\n",
       "      <td>-3.235889</td>\n",
       "      <td>5.733491</td>\n",
       "      <td>4.839665</td>\n",
       "      <td>0.366117</td>\n",
       "      <td>-9.257463</td>\n",
       "      <td>8.662059</td>\n",
       "      <td>...</td>\n",
       "      <td>1.775410</td>\n",
       "      <td>3.779977</td>\n",
       "      <td>3.504218</td>\n",
       "      <td>-2.181588</td>\n",
       "      <td>-10.948324</td>\n",
       "      <td>-7.255533</td>\n",
       "      <td>11.040176</td>\n",
       "      <td>3.545864</td>\n",
       "      <td>chb04_42.edf</td>\n",
       "      <td>-17.262702</td>\n",
       "    </tr>\n",
       "    <tr>\n",
       "      <th>74334588</th>\n",
       "      <td>85492.984375</td>\n",
       "      <td>-0.183189</td>\n",
       "      <td>4.535295</td>\n",
       "      <td>1.597031</td>\n",
       "      <td>-1.208585</td>\n",
       "      <td>6.295194</td>\n",
       "      <td>7.748543</td>\n",
       "      <td>-1.390057</td>\n",
       "      <td>-8.130142</td>\n",
       "      <td>12.160736</td>\n",
       "      <td>...</td>\n",
       "      <td>3.760470</td>\n",
       "      <td>7.221283</td>\n",
       "      <td>0.291015</td>\n",
       "      <td>-1.206310</td>\n",
       "      <td>-14.226237</td>\n",
       "      <td>-7.259795</td>\n",
       "      <td>12.669510</td>\n",
       "      <td>2.632821</td>\n",
       "      <td>chb04_42.edf</td>\n",
       "      <td>-17.234567</td>\n",
       "    </tr>\n",
       "    <tr>\n",
       "      <th>74334589</th>\n",
       "      <td>85492.988281</td>\n",
       "      <td>-0.807103</td>\n",
       "      <td>3.439575</td>\n",
       "      <td>3.885506</td>\n",
       "      <td>-3.516374</td>\n",
       "      <td>8.316619</td>\n",
       "      <td>9.057112</td>\n",
       "      <td>-2.726288</td>\n",
       "      <td>-11.191501</td>\n",
       "      <td>14.868616</td>\n",
       "      <td>...</td>\n",
       "      <td>0.633968</td>\n",
       "      <td>8.813666</td>\n",
       "      <td>-5.334897</td>\n",
       "      <td>-3.494786</td>\n",
       "      <td>-15.461331</td>\n",
       "      <td>-7.566557</td>\n",
       "      <td>13.622133</td>\n",
       "      <td>5.081055</td>\n",
       "      <td>chb04_42.edf</td>\n",
       "      <td>-18.683765</td>\n",
       "    </tr>\n",
       "    <tr>\n",
       "      <th>74334590</th>\n",
       "      <td>85492.992188</td>\n",
       "      <td>-2.547678</td>\n",
       "      <td>3.361165</td>\n",
       "      <td>6.061381</td>\n",
       "      <td>-0.722966</td>\n",
       "      <td>5.338708</td>\n",
       "      <td>8.514697</td>\n",
       "      <td>-1.441993</td>\n",
       "      <td>-6.019104</td>\n",
       "      <td>12.152604</td>\n",
       "      <td>...</td>\n",
       "      <td>1.690755</td>\n",
       "      <td>4.336656</td>\n",
       "      <td>-0.556806</td>\n",
       "      <td>-5.670661</td>\n",
       "      <td>-11.603967</td>\n",
       "      <td>-7.433294</td>\n",
       "      <td>9.460375</td>\n",
       "      <td>7.179613</td>\n",
       "      <td>chb04_42.edf</td>\n",
       "      <td>-20.546203</td>\n",
       "    </tr>\n",
       "    <tr>\n",
       "      <th>74334591</th>\n",
       "      <td>85492.996094</td>\n",
       "      <td>0.196335</td>\n",
       "      <td>5.323233</td>\n",
       "      <td>6.372971</td>\n",
       "      <td>0.621007</td>\n",
       "      <td>3.680268</td>\n",
       "      <td>10.416878</td>\n",
       "      <td>0.988327</td>\n",
       "      <td>-2.715884</td>\n",
       "      <td>7.621363</td>\n",
       "      <td>...</td>\n",
       "      <td>7.617365</td>\n",
       "      <td>3.181529</td>\n",
       "      <td>6.881912</td>\n",
       "      <td>-5.982251</td>\n",
       "      <td>-4.867744</td>\n",
       "      <td>-12.975790</td>\n",
       "      <td>5.510684</td>\n",
       "      <td>8.328635</td>\n",
       "      <td>chb04_42.edf</td>\n",
       "      <td>-23.199554</td>\n",
       "    </tr>\n",
       "  </tbody>\n",
       "</table>\n",
       "<p>5 rows × 26 columns</p>\n",
       "</div>"
      ],
      "text/plain": [
       "                  time    FP1-F7     F7-T7     T7-P7     P7-O1    FP1-F3  \\\n",
       "74334587  85492.980469 -0.061441  3.527584  2.572308 -3.235889  5.733491   \n",
       "74334588  85492.984375 -0.183189  4.535295  1.597031 -1.208585  6.295194   \n",
       "74334589  85492.988281 -0.807103  3.439575  3.885506 -3.516374  8.316619   \n",
       "74334590  85492.992188 -2.547678  3.361165  6.061381 -0.722966  5.338708   \n",
       "74334591  85492.996094  0.196335  5.323233  6.372971  0.621007  3.680268   \n",
       "\n",
       "              F3-C3     C3-P3      P3-O1     FP2-F4  ...     P8-O2     FZ-CZ  \\\n",
       "74334587   4.839665  0.366117  -9.257463   8.662059  ...  1.775410  3.779977   \n",
       "74334588   7.748543 -1.390057  -8.130142  12.160736  ...  3.760470  7.221283   \n",
       "74334589   9.057112 -2.726288 -11.191501  14.868616  ...  0.633968  8.813666   \n",
       "74334590   8.514697 -1.441993  -6.019104  12.152604  ...  1.690755  4.336656   \n",
       "74334591  10.416878  0.988327  -2.715884   7.621363  ...  7.617365  3.181529   \n",
       "\n",
       "             CZ-PZ     P7-T7     T7-FT9   FT9-FT10    FT10-T8   T8-P8-1  \\\n",
       "74334587  3.504218 -2.181588 -10.948324  -7.255533  11.040176  3.545864   \n",
       "74334588  0.291015 -1.206310 -14.226237  -7.259795  12.669510  2.632821   \n",
       "74334589 -5.334897 -3.494786 -15.461331  -7.566557  13.622133  5.081055   \n",
       "74334590 -0.556806 -5.670661 -11.603967  -7.433294   9.460375  7.179613   \n",
       "74334591  6.881912 -5.982251  -4.867744 -12.975790   5.510684  8.328635   \n",
       "\n",
       "             File_name        ECG  \n",
       "74334587  chb04_42.edf -17.262702  \n",
       "74334588  chb04_42.edf -17.234567  \n",
       "74334589  chb04_42.edf -18.683765  \n",
       "74334590  chb04_42.edf -20.546203  \n",
       "74334591  chb04_42.edf -23.199554  \n",
       "\n",
       "[5 rows x 26 columns]"
      ]
     },
     "execution_count": 51,
     "metadata": {},
     "output_type": "execute_result"
    }
   ],
   "source": [
    "final_dataframe.tail()"
   ]
  },
  {
   "cell_type": "code",
   "execution_count": 49,
   "metadata": {},
   "outputs": [
    {
     "data": {
      "text/plain": [
       "(21886208, 26)"
      ]
     },
     "execution_count": 49,
     "metadata": {},
     "output_type": "execute_result"
    }
   ],
   "source": [
    "df.shape"
   ]
  },
  {
   "cell_type": "code",
   "execution_count": 42,
   "metadata": {},
   "outputs": [
    {
     "data": {
      "text/plain": [
       "78"
      ]
     },
     "execution_count": 42,
     "metadata": {},
     "output_type": "execute_result"
    }
   ],
   "source": [
    "len(final_dataframe['File Name'].unique())"
   ]
  },
  {
   "cell_type": "code",
   "execution_count": 52,
   "metadata": {},
   "outputs": [],
   "source": [
    "# Define the folder where your text files are located\n",
    "folder_path = '/Users/anabroggini/Documents/bootcamp/data'\n",
    "\n",
    "# Initialize an empty list to store data\n",
    "all_data = []"
   ]
  },
  {
   "cell_type": "code",
   "execution_count": 53,
   "metadata": {},
   "outputs": [
    {
     "name": "stdout",
     "output_type": "stream",
     "text": [
      "Empty DataFrame\n",
      "Columns: []\n",
      "Index: []\n"
     ]
    }
   ],
   "source": [
    "# Loop through subfolders in the main data folder\n",
    "for folder_name in os.listdir(folder_path):\n",
    "    folder_path = os.path.join(folder_path, folder_name)\n",
    "\n",
    "    # Check if the item in the main folder is a directory (subfolder)\n",
    "    if os.path.isdir(folder_path):\n",
    "        # Loop through the text files in the subfolder\n",
    "        for filename in os.listdir(folder_path):\n",
    "            if filename.endswith(\".txt\"):\n",
    "                file_path = os.path.join(folder_path, filename)\n",
    "                \n",
    "                # Extract the part of the filename before the hyphen as the \"Source File\" value\n",
    "                source_file = filename.split(\"-\")[0]\n",
    "                \n",
    "                # Initialize a list to store data for each file\n",
    "                data = []\n",
    "                \n",
    "                # Initialize a dictionary to hold the current data\n",
    "                current_data = {\"File Name\": None, \"Number of Seizures\": None, \"Seizure Start Time\": np.nan, \"Seizure End Time\": np.nan, \"Source File\": source_file}\n",
    "                \n",
    "                # Open and read the current text file\n",
    "                with open(file_path, \"r\") as file:\n",
    "                    for line in file:\n",
    "                        line = line.strip()\n",
    "                        if line.startswith(\"File Name:\"):\n",
    "                            current_data[\"File Name\"] = line.split(\": \", 1)[1]\n",
    "                            if not pd.isna(current_data[\"Seizure Start Time\"]) and not pd.isna(current_data[\"Seizure End Time\"]):\n",
    "                                current_data[\"Number of Seizures\"] = 1\n",
    "                            data.append(current_data.copy())\n",
    "                        elif line.startswith(\"Number of Seizures:\"):\n",
    "                            current_data[\"Number of Seizures\"] = int(line.split(\": \", 1)[1])\n",
    "                        elif line.startswith(\"Seizure Start Time:\"):\n",
    "                            current_data[\"Seizure Start Time\"] = int(line.split(\": \", 1)[1].split()[0])\n",
    "                        elif line.startswith(\"Seizure End Time:\"):\n",
    "                            current_data[\"Seizure End Time\"] = int(line.split(\": \", 1)[1].split()[0])\n",
    "                \n",
    "                all_data.extend(data)\n",
    "\n",
    "# Create a DataFrame from the collected data\n",
    "seizure_seq = pd.DataFrame(all_data)\n",
    "\n",
    "# Change column name\n",
    "seizure_seq = seizure_seq.rename(columns={\"File Name\": \"file_name\"})\n",
    "\n",
    "# Display the DataFrame\n",
    "print(seizure_seq)"
   ]
  },
  {
   "cell_type": "code",
   "execution_count": 54,
   "metadata": {},
   "outputs": [
    {
     "ename": "KeyError",
     "evalue": "'file_name'",
     "output_type": "error",
     "traceback": [
      "\u001b[0;31m---------------------------------------------------------------------------\u001b[0m",
      "\u001b[0;31mKeyError\u001b[0m                                  Traceback (most recent call last)",
      "\u001b[0;32m/var/folders/rc/97bvm7z97gd87g90vfhmcrq00000gn/T/ipykernel_13221/1265700510.py\u001b[0m in \u001b[0;36m?\u001b[0;34m()\u001b[0m\n\u001b[1;32m      1\u001b[0m \u001b[0;31m# Merge DataFrames\u001b[0m\u001b[0;34m\u001b[0m\u001b[0;34m\u001b[0m\u001b[0m\n\u001b[0;32m----> 2\u001b[0;31m \u001b[0mmerged_df\u001b[0m \u001b[0;34m=\u001b[0m \u001b[0mdf\u001b[0m\u001b[0;34m.\u001b[0m\u001b[0mmerge\u001b[0m\u001b[0;34m(\u001b[0m\u001b[0mseizure_seq\u001b[0m\u001b[0;34m,\u001b[0m \u001b[0mon\u001b[0m\u001b[0;34m=\u001b[0m\u001b[0;34m\"file_name\"\u001b[0m\u001b[0;34m,\u001b[0m \u001b[0mhow\u001b[0m\u001b[0;34m=\u001b[0m\u001b[0;34m\"left\"\u001b[0m\u001b[0;34m)\u001b[0m\u001b[0;34m\u001b[0m\u001b[0;34m\u001b[0m\u001b[0m\n\u001b[0m",
      "\u001b[0;32m~/Documents/bootcamp/ai-seizure-detectives/.venv/lib/python3.11/site-packages/pandas/core/frame.py\u001b[0m in \u001b[0;36m?\u001b[0;34m(self, right, how, on, left_on, right_on, left_index, right_index, sort, suffixes, copy, indicator, validate)\u001b[0m\n\u001b[1;32m   9839\u001b[0m         \u001b[0mvalidate\u001b[0m\u001b[0;34m:\u001b[0m \u001b[0mstr\u001b[0m \u001b[0;34m|\u001b[0m \u001b[0;32mNone\u001b[0m \u001b[0;34m=\u001b[0m \u001b[0;32mNone\u001b[0m\u001b[0;34m,\u001b[0m\u001b[0;34m\u001b[0m\u001b[0;34m\u001b[0m\u001b[0m\n\u001b[1;32m   9840\u001b[0m     ) -> DataFrame:\n\u001b[1;32m   9841\u001b[0m         \u001b[0;32mfrom\u001b[0m \u001b[0mpandas\u001b[0m\u001b[0;34m.\u001b[0m\u001b[0mcore\u001b[0m\u001b[0;34m.\u001b[0m\u001b[0mreshape\u001b[0m\u001b[0;34m.\u001b[0m\u001b[0mmerge\u001b[0m \u001b[0;32mimport\u001b[0m \u001b[0mmerge\u001b[0m\u001b[0;34m\u001b[0m\u001b[0;34m\u001b[0m\u001b[0m\n\u001b[1;32m   9842\u001b[0m \u001b[0;34m\u001b[0m\u001b[0m\n\u001b[0;32m-> 9843\u001b[0;31m         return merge(\n\u001b[0m\u001b[1;32m   9844\u001b[0m             \u001b[0mself\u001b[0m\u001b[0;34m,\u001b[0m\u001b[0;34m\u001b[0m\u001b[0;34m\u001b[0m\u001b[0m\n\u001b[1;32m   9845\u001b[0m             \u001b[0mright\u001b[0m\u001b[0;34m,\u001b[0m\u001b[0;34m\u001b[0m\u001b[0;34m\u001b[0m\u001b[0m\n\u001b[1;32m   9846\u001b[0m             \u001b[0mhow\u001b[0m\u001b[0;34m=\u001b[0m\u001b[0mhow\u001b[0m\u001b[0;34m,\u001b[0m\u001b[0;34m\u001b[0m\u001b[0;34m\u001b[0m\u001b[0m\n",
      "\u001b[0;32m~/Documents/bootcamp/ai-seizure-detectives/.venv/lib/python3.11/site-packages/pandas/core/reshape/merge.py\u001b[0m in \u001b[0;36m?\u001b[0;34m(left, right, how, on, left_on, right_on, left_index, right_index, sort, suffixes, copy, indicator, validate)\u001b[0m\n\u001b[1;32m    144\u001b[0m     \u001b[0mcopy\u001b[0m\u001b[0;34m:\u001b[0m \u001b[0mbool\u001b[0m \u001b[0;34m|\u001b[0m \u001b[0;32mNone\u001b[0m \u001b[0;34m=\u001b[0m \u001b[0;32mNone\u001b[0m\u001b[0;34m,\u001b[0m\u001b[0;34m\u001b[0m\u001b[0;34m\u001b[0m\u001b[0m\n\u001b[1;32m    145\u001b[0m     \u001b[0mindicator\u001b[0m\u001b[0;34m:\u001b[0m \u001b[0mstr\u001b[0m \u001b[0;34m|\u001b[0m \u001b[0mbool\u001b[0m \u001b[0;34m=\u001b[0m \u001b[0;32mFalse\u001b[0m\u001b[0;34m,\u001b[0m\u001b[0;34m\u001b[0m\u001b[0;34m\u001b[0m\u001b[0m\n\u001b[1;32m    146\u001b[0m     \u001b[0mvalidate\u001b[0m\u001b[0;34m:\u001b[0m \u001b[0mstr\u001b[0m \u001b[0;34m|\u001b[0m \u001b[0;32mNone\u001b[0m \u001b[0;34m=\u001b[0m \u001b[0;32mNone\u001b[0m\u001b[0;34m,\u001b[0m\u001b[0;34m\u001b[0m\u001b[0;34m\u001b[0m\u001b[0m\n\u001b[1;32m    147\u001b[0m ) -> DataFrame:\n\u001b[0;32m--> 148\u001b[0;31m     op = _MergeOperation(\n\u001b[0m\u001b[1;32m    149\u001b[0m         \u001b[0mleft\u001b[0m\u001b[0;34m,\u001b[0m\u001b[0;34m\u001b[0m\u001b[0;34m\u001b[0m\u001b[0m\n\u001b[1;32m    150\u001b[0m         \u001b[0mright\u001b[0m\u001b[0;34m,\u001b[0m\u001b[0;34m\u001b[0m\u001b[0;34m\u001b[0m\u001b[0m\n\u001b[1;32m    151\u001b[0m         \u001b[0mhow\u001b[0m\u001b[0;34m=\u001b[0m\u001b[0mhow\u001b[0m\u001b[0;34m,\u001b[0m\u001b[0;34m\u001b[0m\u001b[0;34m\u001b[0m\u001b[0m\n",
      "\u001b[0;32m~/Documents/bootcamp/ai-seizure-detectives/.venv/lib/python3.11/site-packages/pandas/core/reshape/merge.py\u001b[0m in \u001b[0;36m?\u001b[0;34m(self, left, right, how, on, left_on, right_on, axis, left_index, right_index, sort, suffixes, indicator, validate)\u001b[0m\n\u001b[1;32m    733\u001b[0m         (\n\u001b[1;32m    734\u001b[0m             \u001b[0mself\u001b[0m\u001b[0;34m.\u001b[0m\u001b[0mleft_join_keys\u001b[0m\u001b[0;34m,\u001b[0m\u001b[0;34m\u001b[0m\u001b[0;34m\u001b[0m\u001b[0m\n\u001b[1;32m    735\u001b[0m             \u001b[0mself\u001b[0m\u001b[0;34m.\u001b[0m\u001b[0mright_join_keys\u001b[0m\u001b[0;34m,\u001b[0m\u001b[0;34m\u001b[0m\u001b[0;34m\u001b[0m\u001b[0m\n\u001b[1;32m    736\u001b[0m             \u001b[0mself\u001b[0m\u001b[0;34m.\u001b[0m\u001b[0mjoin_names\u001b[0m\u001b[0;34m,\u001b[0m\u001b[0;34m\u001b[0m\u001b[0;34m\u001b[0m\u001b[0m\n\u001b[0;32m--> 737\u001b[0;31m         ) = self._get_merge_keys()\n\u001b[0m\u001b[1;32m    738\u001b[0m \u001b[0;34m\u001b[0m\u001b[0m\n\u001b[1;32m    739\u001b[0m         \u001b[0;31m# validate the merge keys dtypes. We may need to coerce\u001b[0m\u001b[0;34m\u001b[0m\u001b[0;34m\u001b[0m\u001b[0m\n\u001b[1;32m    740\u001b[0m         \u001b[0;31m# to avoid incompatible dtypes\u001b[0m\u001b[0;34m\u001b[0m\u001b[0;34m\u001b[0m\u001b[0m\n",
      "\u001b[0;32m~/Documents/bootcamp/ai-seizure-detectives/.venv/lib/python3.11/site-packages/pandas/core/reshape/merge.py\u001b[0m in \u001b[0;36m?\u001b[0;34m(self)\u001b[0m\n\u001b[1;32m   1199\u001b[0m                         \u001b[0;31m# Then we're either Hashable or a wrong-length arraylike,\u001b[0m\u001b[0;34m\u001b[0m\u001b[0;34m\u001b[0m\u001b[0m\n\u001b[1;32m   1200\u001b[0m                         \u001b[0;31m#  the latter of which will raise\u001b[0m\u001b[0;34m\u001b[0m\u001b[0;34m\u001b[0m\u001b[0m\n\u001b[1;32m   1201\u001b[0m                         \u001b[0mrk\u001b[0m \u001b[0;34m=\u001b[0m \u001b[0mcast\u001b[0m\u001b[0;34m(\u001b[0m\u001b[0mHashable\u001b[0m\u001b[0;34m,\u001b[0m \u001b[0mrk\u001b[0m\u001b[0;34m)\u001b[0m\u001b[0;34m\u001b[0m\u001b[0;34m\u001b[0m\u001b[0m\n\u001b[1;32m   1202\u001b[0m                         \u001b[0;32mif\u001b[0m \u001b[0mrk\u001b[0m \u001b[0;32mis\u001b[0m \u001b[0;32mnot\u001b[0m \u001b[0;32mNone\u001b[0m\u001b[0;34m:\u001b[0m\u001b[0;34m\u001b[0m\u001b[0;34m\u001b[0m\u001b[0m\n\u001b[0;32m-> 1203\u001b[0;31m                             \u001b[0mright_keys\u001b[0m\u001b[0;34m.\u001b[0m\u001b[0mappend\u001b[0m\u001b[0;34m(\u001b[0m\u001b[0mright\u001b[0m\u001b[0;34m.\u001b[0m\u001b[0m_get_label_or_level_values\u001b[0m\u001b[0;34m(\u001b[0m\u001b[0mrk\u001b[0m\u001b[0;34m)\u001b[0m\u001b[0;34m)\u001b[0m\u001b[0;34m\u001b[0m\u001b[0;34m\u001b[0m\u001b[0m\n\u001b[0m\u001b[1;32m   1204\u001b[0m                         \u001b[0;32melse\u001b[0m\u001b[0;34m:\u001b[0m\u001b[0;34m\u001b[0m\u001b[0;34m\u001b[0m\u001b[0m\n\u001b[1;32m   1205\u001b[0m                             \u001b[0;31m# work-around for merge_asof(right_index=True)\u001b[0m\u001b[0;34m\u001b[0m\u001b[0;34m\u001b[0m\u001b[0m\n\u001b[1;32m   1206\u001b[0m                             \u001b[0mright_keys\u001b[0m\u001b[0;34m.\u001b[0m\u001b[0mappend\u001b[0m\u001b[0;34m(\u001b[0m\u001b[0mright\u001b[0m\u001b[0;34m.\u001b[0m\u001b[0mindex\u001b[0m\u001b[0;34m)\u001b[0m\u001b[0;34m\u001b[0m\u001b[0;34m\u001b[0m\u001b[0m\n",
      "\u001b[0;32m~/Documents/bootcamp/ai-seizure-detectives/.venv/lib/python3.11/site-packages/pandas/core/generic.py\u001b[0m in \u001b[0;36m?\u001b[0;34m(self, key, axis)\u001b[0m\n\u001b[1;32m   1774\u001b[0m             \u001b[0mvalues\u001b[0m \u001b[0;34m=\u001b[0m \u001b[0mself\u001b[0m\u001b[0;34m.\u001b[0m\u001b[0mxs\u001b[0m\u001b[0;34m(\u001b[0m\u001b[0mkey\u001b[0m\u001b[0;34m,\u001b[0m \u001b[0maxis\u001b[0m\u001b[0;34m=\u001b[0m\u001b[0mother_axes\u001b[0m\u001b[0;34m[\u001b[0m\u001b[0;36m0\u001b[0m\u001b[0;34m]\u001b[0m\u001b[0;34m)\u001b[0m\u001b[0;34m.\u001b[0m\u001b[0m_values\u001b[0m\u001b[0;34m\u001b[0m\u001b[0;34m\u001b[0m\u001b[0m\n\u001b[1;32m   1775\u001b[0m         \u001b[0;32melif\u001b[0m \u001b[0mself\u001b[0m\u001b[0;34m.\u001b[0m\u001b[0m_is_level_reference\u001b[0m\u001b[0;34m(\u001b[0m\u001b[0mkey\u001b[0m\u001b[0;34m,\u001b[0m \u001b[0maxis\u001b[0m\u001b[0;34m=\u001b[0m\u001b[0maxis\u001b[0m\u001b[0;34m)\u001b[0m\u001b[0;34m:\u001b[0m\u001b[0;34m\u001b[0m\u001b[0;34m\u001b[0m\u001b[0m\n\u001b[1;32m   1776\u001b[0m             \u001b[0mvalues\u001b[0m \u001b[0;34m=\u001b[0m \u001b[0mself\u001b[0m\u001b[0;34m.\u001b[0m\u001b[0maxes\u001b[0m\u001b[0;34m[\u001b[0m\u001b[0maxis\u001b[0m\u001b[0;34m]\u001b[0m\u001b[0;34m.\u001b[0m\u001b[0mget_level_values\u001b[0m\u001b[0;34m(\u001b[0m\u001b[0mkey\u001b[0m\u001b[0;34m)\u001b[0m\u001b[0;34m.\u001b[0m\u001b[0m_values\u001b[0m\u001b[0;34m\u001b[0m\u001b[0;34m\u001b[0m\u001b[0m\n\u001b[1;32m   1777\u001b[0m         \u001b[0;32melse\u001b[0m\u001b[0;34m:\u001b[0m\u001b[0;34m\u001b[0m\u001b[0;34m\u001b[0m\u001b[0m\n\u001b[0;32m-> 1778\u001b[0;31m             \u001b[0;32mraise\u001b[0m \u001b[0mKeyError\u001b[0m\u001b[0;34m(\u001b[0m\u001b[0mkey\u001b[0m\u001b[0;34m)\u001b[0m\u001b[0;34m\u001b[0m\u001b[0;34m\u001b[0m\u001b[0m\n\u001b[0m\u001b[1;32m   1779\u001b[0m \u001b[0;34m\u001b[0m\u001b[0m\n\u001b[1;32m   1780\u001b[0m         \u001b[0;31m# Check for duplicates\u001b[0m\u001b[0;34m\u001b[0m\u001b[0;34m\u001b[0m\u001b[0m\n\u001b[1;32m   1781\u001b[0m         \u001b[0;32mif\u001b[0m \u001b[0mvalues\u001b[0m\u001b[0;34m.\u001b[0m\u001b[0mndim\u001b[0m \u001b[0;34m>\u001b[0m \u001b[0;36m1\u001b[0m\u001b[0;34m:\u001b[0m\u001b[0;34m\u001b[0m\u001b[0;34m\u001b[0m\u001b[0m\n",
      "\u001b[0;31mKeyError\u001b[0m: 'file_name'"
     ]
    }
   ],
   "source": [
    "# Merge DataFrames\n",
    "merged_df = df.merge(seizure_seq, on=\"file_name\", how=\"left\")"
   ]
  },
  {
   "cell_type": "code",
   "execution_count": null,
   "metadata": {},
   "outputs": [],
   "source": [
    "# Define a function to check if a recording occurred during a seizure\n",
    "def during_seizure(row):\n",
    "    return (row[\"time\"] >= row[\"Seizure Start Time\"]) and (row[\"time\"] <= row[\"Seizure End Time\"])\n",
    "\n",
    "# Step 3: Apply the function to create a new boolean column\n",
    "merged_df[\"seizure_sequence\"] = merged_df.apply(during_seizure, axis=1)"
   ]
  }
 ],
 "metadata": {
  "kernelspec": {
   "display_name": ".venv",
   "language": "python",
   "name": "python3"
  },
  "language_info": {
   "codemirror_mode": {
    "name": "ipython",
    "version": 3
   },
   "file_extension": ".py",
   "mimetype": "text/x-python",
   "name": "python",
   "nbconvert_exporter": "python",
   "pygments_lexer": "ipython3",
   "version": "3.11.3"
  }
 },
 "nbformat": 4,
 "nbformat_minor": 2
}
