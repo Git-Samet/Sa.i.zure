{
 "cells": [
  {
   "cell_type": "code",
   "execution_count": 13,
   "metadata": {},
   "outputs": [],
   "source": [
    "import numpy as np\n",
    "import os\n",
    "import pandas as pd\n",
    "#import re"
   ]
  },
  {
   "cell_type": "code",
   "execution_count": 4,
   "metadata": {},
   "outputs": [],
   "source": [
    "# Define the folder where your text files are located\n",
    "folder_path = \"data/\"\n",
    "\n",
    "# Initialize an empty list to store data\n",
    "all_data = []"
   ]
  },
  {
   "cell_type": "code",
   "execution_count": 11,
   "metadata": {},
   "outputs": [
    {
     "name": "stdout",
     "output_type": "stream",
     "text": [
      "        File Name  Number of Seizures  Seizure Start Time  Seizure End Time  \\\n",
      "0    chb11_01.edf                 NaN                 NaN               NaN   \n",
      "1    chb11_02.edf                 NaN                 NaN               NaN   \n",
      "2    chb11_03.edf                 NaN                 NaN               NaN   \n",
      "3    chb11_04.edf                 NaN                 NaN               NaN   \n",
      "4    chb11_05.edf                 NaN                 NaN               NaN   \n",
      "..            ...                 ...                 ...               ...   \n",
      "671  chb08_21.edf                 NaN                 NaN               NaN   \n",
      "672  chb08_22.edf                 NaN                 NaN               NaN   \n",
      "673  chb08_23.edf                 NaN                 NaN               NaN   \n",
      "674  chb08_24.edf                 NaN                 NaN               NaN   \n",
      "675  chb08_29.edf                 NaN                 NaN               NaN   \n",
      "\n",
      "    Source File  \n",
      "0         chb11  \n",
      "1         chb11  \n",
      "2         chb11  \n",
      "3         chb11  \n",
      "4         chb11  \n",
      "..          ...  \n",
      "671       chb08  \n",
      "672       chb08  \n",
      "673       chb08  \n",
      "674       chb08  \n",
      "675       chb08  \n",
      "\n",
      "[676 rows x 5 columns]\n"
     ]
    }
   ],
   "source": [
    "# Loop through subfolders in the main data folder\n",
    "for folder_name in os.listdir(main_folder_path):\n",
    "    folder_path = os.path.join(main_folder_path, folder_name)\n",
    "\n",
    "    # Check if the item in the main folder is a directory (subfolder)\n",
    "    if os.path.isdir(folder_path):\n",
    "        # Loop through the text files in the subfolder\n",
    "        for filename in os.listdir(folder_path):\n",
    "            if filename.endswith(\".txt\"):\n",
    "                file_path = os.path.join(folder_path, filename)\n",
    "                \n",
    "                # Extract the part of the filename before the hyphen as the \"Source File\" value\n",
    "                source_file = filename.split(\"-\")[0]\n",
    "                \n",
    "                # Initialize a list to store data for each file\n",
    "                data = []\n",
    "                \n",
    "                # Initialize a dictionary to hold the current data\n",
    "                current_data = {\"File Name\": None, \"Number of Seizures\": None, \"Seizure Start Time\": np.nan, \"Seizure End Time\": np.nan, \"Source File\": source_file}\n",
    "                \n",
    "                # Open and read the current text file\n",
    "                with open(file_path, \"r\") as file:\n",
    "                    for line in file:\n",
    "                        line = line.strip()\n",
    "                        if line.startswith(\"File Name:\"):\n",
    "                            current_data[\"File Name\"] = line.split(\": \", 1)[1]\n",
    "                            if not pd.isna(current_data[\"Seizure Start Time\"]) and not pd.isna(current_data[\"Seizure End Time\"]):\n",
    "                                current_data[\"Number of Seizures\"] = 1\n",
    "                            data.append(current_data.copy())\n",
    "                        elif line.startswith(\"Number of Seizures:\"):\n",
    "                            current_data[\"Number of Seizures\"] = int(line.split(\": \", 1)[1])\n",
    "                        elif line.startswith(\"Seizure Start Time:\"):\n",
    "                            current_data[\"Seizure Start Time\"] = int(line.split(\": \", 1)[1].split()[0])\n",
    "                        elif line.startswith(\"Seizure End Time:\"):\n",
    "                            current_data[\"Seizure End Time\"] = int(line.split(\": \", 1)[1].split()[0])\n",
    "                \n",
    "                all_data.extend(data)\n",
    "\n",
    "# Create a DataFrame from the collected data\n",
    "seizure_seq = pd.DataFrame(all_data)\n",
    "\n",
    "# Display the DataFrame\n",
    "print(seizure_seq)\n"
   ]
  }
 ],
 "metadata": {
  "kernelspec": {
   "display_name": "Python 3",
   "language": "python",
   "name": "python3"
  },
  "language_info": {
   "codemirror_mode": {
    "name": "ipython",
    "version": 3
   },
   "file_extension": ".py",
   "mimetype": "text/x-python",
   "name": "python",
   "nbconvert_exporter": "python",
   "pygments_lexer": "ipython3",
   "version": "3.11.3"
  }
 },
 "nbformat": 4,
 "nbformat_minor": 2
}
