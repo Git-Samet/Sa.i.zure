{
  "cells": [
    {
      "cell_type": "markdown",
      "metadata": {},
      "source": [
        "\n",
        "# Epilepsy Detection Using EEG Data\n",
        "\n",
        "In this example we'll use the |cesium|_ library to compare\n",
        "various techniques for epilepsy detection using a classic EEG time series dataset from\n",
        "[Andrzejak et al.](http://www.meb.uni-bonn.de/epileptologie/science/physik/eegdata.html).\n",
        "The raw data are separated into five classes: Z, O, N, F, and S; we will consider a\n",
        "three-class classification problem of distinguishing normal (Z, O), interictal (N, F), and\n",
        "ictal (S) signals.\n",
        "\n",
        "The overall workflow consists of three steps: first, we \"featurize\" the time series by\n",
        "selecting some set of mathematical functions to apply to each; next, we build some\n",
        "classification models which use these features to distinguish between classes;\n",
        "finally, we validate our models by generating predictions for some unseen\n",
        "holdout set and comparing them to the true class labels.\n",
        "\n",
        "First, we'll load the data and inspect a representative time series from each class:\n",
        "\n",
        ".. |cesium| replace:: ``cesium``\n"
      ]
    },
    {
      "cell_type": "code",
      "execution_count": 2,
      "metadata": {},
      "outputs": [
        {
          "name": "stdout",
          "output_type": "stream",
          "text": [
            "zsh:1: /Users/anabroggini/Documents/bootcamp/ai2/.venv/bin/pip: bad interpreter: /Users/anabroggini/Documents/bootcamp/ai-seizure-detectives/.venv/bin/python: no such file or directory\n",
            "Requirement already satisfied: cesium in /Users/anabroggini/.pyenv/versions/3.11.3/lib/python3.11/site-packages (0.12.1)\n",
            "Requirement already satisfied: numpy>=1.14.3 in /Users/anabroggini/.pyenv/versions/3.11.3/lib/python3.11/site-packages (from cesium) (1.26.1)\n",
            "Requirement already satisfied: scipy>=0.16.0 in /Users/anabroggini/.pyenv/versions/3.11.3/lib/python3.11/site-packages (from cesium) (1.11.3)\n",
            "Requirement already satisfied: scikit-learn>=0.22.1 in /Users/anabroggini/.pyenv/versions/3.11.3/lib/python3.11/site-packages (from cesium) (1.2.2)\n",
            "Requirement already satisfied: pandas>=0.17.0 in /Users/anabroggini/.pyenv/versions/3.11.3/lib/python3.11/site-packages (from cesium) (2.0.2)\n",
            "Requirement already satisfied: dask>=2.5.0 in /Users/anabroggini/.pyenv/versions/3.11.3/lib/python3.11/site-packages (from cesium) (2023.10.0)\n",
            "Requirement already satisfied: toolz in /Users/anabroggini/.pyenv/versions/3.11.3/lib/python3.11/site-packages (from cesium) (0.12.0)\n",
            "Requirement already satisfied: gatspy>=0.3.0 in /Users/anabroggini/.pyenv/versions/3.11.3/lib/python3.11/site-packages (from cesium) (0.3)\n",
            "Requirement already satisfied: cloudpickle in /Users/anabroggini/.pyenv/versions/3.11.3/lib/python3.11/site-packages (from cesium) (3.0.0)\n",
            "Requirement already satisfied: joblib>=0.14.1 in /Users/anabroggini/.pyenv/versions/3.11.3/lib/python3.11/site-packages (from cesium) (1.3.2)\n",
            "Requirement already satisfied: setuptools-scm>=7.1.0 in /Users/anabroggini/.pyenv/versions/3.11.3/lib/python3.11/site-packages (from cesium) (8.0.4)\n",
            "Requirement already satisfied: click>=8.0 in /Users/anabroggini/.pyenv/versions/3.11.3/lib/python3.11/site-packages (from dask>=2.5.0->cesium) (8.1.7)\n",
            "Requirement already satisfied: fsspec>=2021.09.0 in /Users/anabroggini/.pyenv/versions/3.11.3/lib/python3.11/site-packages (from dask>=2.5.0->cesium) (2023.10.0)\n",
            "Requirement already satisfied: packaging>=20.0 in /Users/anabroggini/.pyenv/versions/3.11.3/lib/python3.11/site-packages (from dask>=2.5.0->cesium) (23.2)\n",
            "Requirement already satisfied: partd>=1.2.0 in /Users/anabroggini/.pyenv/versions/3.11.3/lib/python3.11/site-packages (from dask>=2.5.0->cesium) (1.4.1)\n",
            "Requirement already satisfied: pyyaml>=5.3.1 in /Users/anabroggini/.pyenv/versions/3.11.3/lib/python3.11/site-packages (from dask>=2.5.0->cesium) (6.0.1)\n",
            "Requirement already satisfied: importlib-metadata>=4.13.0 in /Users/anabroggini/.pyenv/versions/3.11.3/lib/python3.11/site-packages (from dask>=2.5.0->cesium) (6.8.0)\n",
            "Requirement already satisfied: python-dateutil>=2.8.2 in /Users/anabroggini/.pyenv/versions/3.11.3/lib/python3.11/site-packages (from pandas>=0.17.0->cesium) (2.8.2)\n",
            "Requirement already satisfied: pytz>=2020.1 in /Users/anabroggini/.pyenv/versions/3.11.3/lib/python3.11/site-packages (from pandas>=0.17.0->cesium) (2023.3.post1)\n",
            "Requirement already satisfied: tzdata>=2022.1 in /Users/anabroggini/.pyenv/versions/3.11.3/lib/python3.11/site-packages (from pandas>=0.17.0->cesium) (2023.3)\n",
            "Requirement already satisfied: threadpoolctl>=2.0.0 in /Users/anabroggini/.pyenv/versions/3.11.3/lib/python3.11/site-packages (from scikit-learn>=0.22.1->cesium) (3.2.0)\n",
            "Requirement already satisfied: setuptools in /Users/anabroggini/.pyenv/versions/3.11.3/lib/python3.11/site-packages (from setuptools-scm>=7.1.0->cesium) (65.5.0)\n",
            "Requirement already satisfied: typing-extensions in /Users/anabroggini/.pyenv/versions/3.11.3/lib/python3.11/site-packages (from setuptools-scm>=7.1.0->cesium) (4.8.0)\n",
            "Requirement already satisfied: zipp>=0.5 in /Users/anabroggini/.pyenv/versions/3.11.3/lib/python3.11/site-packages (from importlib-metadata>=4.13.0->dask>=2.5.0->cesium) (3.17.0)\n",
            "Requirement already satisfied: locket in /Users/anabroggini/.pyenv/versions/3.11.3/lib/python3.11/site-packages (from partd>=1.2.0->dask>=2.5.0->cesium) (1.0.0)\n",
            "Requirement already satisfied: six>=1.5 in /Users/anabroggini/.pyenv/versions/3.11.3/lib/python3.11/site-packages (from python-dateutil>=2.8.2->pandas>=0.17.0->cesium) (1.16.0)\n"
          ]
        }
      ],
      "source": [
        "!pip install cesium"
      ]
    },
    {
      "cell_type": "code",
      "execution_count": 5,
      "metadata": {},
      "outputs": [
        {
          "ename": "ModuleNotFoundError",
          "evalue": "No module named 'cesium'",
          "output_type": "error",
          "traceback": [
            "\u001b[0;31m---------------------------------------------------------------------------\u001b[0m",
            "\u001b[0;31mModuleNotFoundError\u001b[0m                       Traceback (most recent call last)",
            "\u001b[1;32m/Users/anabroggini/Documents/bootcamp/ai2/plot_EEG_Example.ipynb Cell 3\u001b[0m line \u001b[0;36m4\n\u001b[1;32m      <a href='vscode-notebook-cell:/Users/anabroggini/Documents/bootcamp/ai2/plot_EEG_Example.ipynb#X23sZmlsZQ%3D%3D?line=1'>2</a>\u001b[0m \u001b[39mimport\u001b[39;00m \u001b[39mmatplotlib\u001b[39;00m\u001b[39m.\u001b[39;00m\u001b[39mpyplot\u001b[39;00m \u001b[39mas\u001b[39;00m \u001b[39mplt\u001b[39;00m\n\u001b[1;32m      <a href='vscode-notebook-cell:/Users/anabroggini/Documents/bootcamp/ai2/plot_EEG_Example.ipynb#X23sZmlsZQ%3D%3D?line=2'>3</a>\u001b[0m \u001b[39mimport\u001b[39;00m \u001b[39mseaborn\u001b[39;00m\n\u001b[0;32m----> <a href='vscode-notebook-cell:/Users/anabroggini/Documents/bootcamp/ai2/plot_EEG_Example.ipynb#X23sZmlsZQ%3D%3D?line=3'>4</a>\u001b[0m \u001b[39mimport\u001b[39;00m \u001b[39mcesium\u001b[39;00m\n\u001b[1;32m      <a href='vscode-notebook-cell:/Users/anabroggini/Documents/bootcamp/ai2/plot_EEG_Example.ipynb#X23sZmlsZQ%3D%3D?line=4'>5</a>\u001b[0m \u001b[39mfrom\u001b[39;00m \u001b[39mcesium\u001b[39;00m \u001b[39mimport\u001b[39;00m datasets\n",
            "\u001b[0;31mModuleNotFoundError\u001b[0m: No module named 'cesium'"
          ]
        }
      ],
      "source": [
        "import numpy as np\n",
        "import matplotlib.pyplot as plt\n",
        "import seaborn\n",
        "import cesium\n",
        "from cesium import datasets"
      ]
    },
    {
      "cell_type": "code",
      "execution_count": null,
      "metadata": {
        "collapsed": false
      },
      "outputs": [],
      "source": [
        "import numpy as np\n",
        "import matplotlib.pyplot as plt\n",
        "import seaborn\n",
        "from cesium import datasets\n",
        "\n",
        "seaborn.set()\n",
        "\n",
        "eeg = datasets.fetch_andrzejak()\n",
        "\n",
        "# Group together classes (Z, O), (N, F), (S) as normal, interictal, ictal\n",
        "eeg[\"classes\"] = eeg[\"classes\"].astype(\"U16\")  # allocate memory for longer class names\n",
        "eeg[\"classes\"][np.logical_or(eeg[\"classes\"] == \"Z\", eeg[\"classes\"] == \"O\")] = \"Normal\"\n",
        "eeg[\"classes\"][\n",
        "    np.logical_or(eeg[\"classes\"] == \"N\", eeg[\"classes\"] == \"F\")\n",
        "] = \"Interictal\"\n",
        "eeg[\"classes\"][eeg[\"classes\"] == \"S\"] = \"Ictal\"\n",
        "\n",
        "fig, ax = plt.subplots(1, len(np.unique(eeg[\"classes\"])), sharey=True)\n",
        "for label, subplot in zip(np.unique(eeg[\"classes\"]), ax):\n",
        "    i = np.where(eeg[\"classes\"] == label)[0][0]\n",
        "    subplot.plot(eeg[\"times\"][i], eeg[\"measurements\"][i])\n",
        "    subplot.set(xlabel=\"time (s)\", ylabel=\"signal\", title=label)"
      ]
    },
    {
      "cell_type": "markdown",
      "metadata": {},
      "source": [
        "## Featurization\n",
        "Once the data is loaded, we can generate features for each time series using the\n",
        "|cesium.featurize|_ module. The ``featurize`` module includes many built-in\n",
        "choices of features which can be applied for any type of time series data;\n",
        "here we've chosen a few generic features that do not have any special\n",
        "biological significance.\n",
        "\n",
        "By default, the time series will featurized in parallel using the\n",
        "``dask.threaded`` scheduler; other approaches, including serial and\n",
        "distributed approaches, can be implemented by passing in other ``dask``\n",
        "schedulers as the ``get`` argument to ``featurize_time_series``.\n",
        "\n",
        ".. |cesium.featurize| replace:: ``cesium.featurize``\n",
        "\n"
      ]
    },
    {
      "cell_type": "code",
      "execution_count": null,
      "metadata": {
        "collapsed": false
      },
      "outputs": [],
      "source": [
        "from cesium import featurize\n",
        "\n",
        "features_to_use = [\n",
        "    \"amplitude\",\n",
        "    \"percent_beyond_1_std\",\n",
        "    \"maximum\",\n",
        "    \"max_slope\",\n",
        "    \"median\",\n",
        "    \"median_absolute_deviation\",\n",
        "    \"percent_close_to_median\",\n",
        "    \"minimum\",\n",
        "    \"skew\",\n",
        "    \"std\",\n",
        "    \"weighted_average\",\n",
        "]\n",
        "fset_cesium = featurize.featurize_time_series(\n",
        "    times=eeg[\"times\"],\n",
        "    values=eeg[\"measurements\"],\n",
        "    errors=None,\n",
        "    features_to_use=features_to_use,\n",
        ")\n",
        "print(fset_cesium.head())"
      ]
    },
    {
      "cell_type": "markdown",
      "metadata": {},
      "source": [
        "The output of ``featurize_time_series`` is a ``pandas.DataFrame`` which contains all\n",
        "the feature information needed to train a machine learning model: feature\n",
        "names are stored as column indices (as well as channel numbers, as we'll see\n",
        "later for multi-channel data), and the time series index/class label are\n",
        "stored as row indices.\n",
        "\n"
      ]
    },
    {
      "cell_type": "markdown",
      "metadata": {},
      "source": [
        "### Custom feature functions\n",
        "Custom feature functions not built into ``cesium`` may be passed in using the\n",
        "``custom_functions`` keyword, either as a dictionary ``{feature_name: function}``, or as a\n",
        "[dask graph](http://dask.pydata.org/en/latest/custom-graphs.html). Functions should take\n",
        "three arrays ``times, measurements, errors`` as inputs; details can be found in the\n",
        "``cesium.featurize``\n",
        "[documentation](http://cesium-ml.org/docs/api/cesium.featurize.html).\n",
        "Here we'll compute five standard features for EEG analysis provided by\n",
        "[Guo et al. (2012)](http://linkinghub.elsevier.com/retrieve/pii/S0957417411003253)):\n",
        "\n"
      ]
    },
    {
      "cell_type": "code",
      "execution_count": null,
      "metadata": {
        "collapsed": false
      },
      "outputs": [],
      "source": [
        "import numpy as np\n",
        "import scipy.stats\n",
        "\n",
        "\n",
        "def mean_signal(t, m, e):\n",
        "    return np.mean(m)\n",
        "\n",
        "\n",
        "def std_signal(t, m, e):\n",
        "    return np.std(m)\n",
        "\n",
        "\n",
        "def mean_square_signal(t, m, e):\n",
        "    return np.mean(m**2)\n",
        "\n",
        "\n",
        "def abs_diffs_signal(t, m, e):\n",
        "    return np.sum(np.abs(np.diff(m)))\n",
        "\n",
        "\n",
        "def skew_signal(t, m, e):\n",
        "    return scipy.stats.skew(m)"
      ]
    },
    {
      "cell_type": "markdown",
      "metadata": {},
      "source": [
        "Now we'll pass the desired feature functions as a dictionary via the\n",
        "``custom_functions`` keyword argument.\n",
        "\n"
      ]
    },
    {
      "cell_type": "code",
      "execution_count": null,
      "metadata": {
        "collapsed": false
      },
      "outputs": [],
      "source": [
        "guo_features = {\n",
        "    \"mean\": mean_signal,\n",
        "    \"std\": std_signal,\n",
        "    \"mean2\": mean_square_signal,\n",
        "    \"abs_diffs\": abs_diffs_signal,\n",
        "    \"skew\": skew_signal,\n",
        "}\n",
        "\n",
        "fset_guo = featurize.featurize_time_series(\n",
        "    times=eeg[\"times\"],\n",
        "    values=eeg[\"measurements\"],\n",
        "    errors=None,\n",
        "    features_to_use=list(guo_features.keys()),\n",
        "    custom_functions=guo_features,\n",
        ")\n",
        "print(fset_guo.head())"
      ]
    },
    {
      "cell_type": "markdown",
      "metadata": {},
      "source": [
        "### Multi-channel time series\n",
        "The EEG time series considered here consist of univariate signal measurements along a\n",
        "uniform time grid. But ``featurize_time_series`` also accepts multi-channel\n",
        "data; to demonstrate this, we will decompose each signal into five frequency\n",
        "bands using a discrete wavelet transform as suggested by\n",
        "[Subasi (2005)](http://www.sciencedirect.com/science/article/pii/S0957417404001745),\n",
        "and then featurize each band separately using the five functions from above.\n",
        "\n"
      ]
    },
    {
      "cell_type": "code",
      "execution_count": null,
      "metadata": {
        "collapsed": false
      },
      "outputs": [],
      "source": [
        "import pywt\n",
        "\n",
        "n_channels = 5\n",
        "eeg[\"dwts\"] = [\n",
        "    pywt.wavedec(m, pywt.Wavelet(\"db1\"), level=n_channels - 1)\n",
        "    for m in eeg[\"measurements\"]\n",
        "]\n",
        "fset_dwt = featurize.featurize_time_series(\n",
        "    times=None,\n",
        "    values=eeg[\"dwts\"],\n",
        "    errors=None,\n",
        "    features_to_use=list(guo_features.keys()),\n",
        "    custom_functions=guo_features,\n",
        ")\n",
        "print(fset_dwt.head())"
      ]
    },
    {
      "cell_type": "markdown",
      "metadata": {},
      "source": [
        "The output featureset has the same form as before, except now the ``channel``\n",
        "component of the column index is used to index the features by the\n",
        "corresponding frequency band.\n",
        "\n"
      ]
    },
    {
      "cell_type": "markdown",
      "metadata": {},
      "source": [
        "## Model Building\n",
        "Featuresets produced by ``cesium.featurize`` are compatible with the ``scikit-learn``\n",
        "API. For this example, we'll test a random forest classifier for the\n",
        "built-in ``cesium`` features, and a 3-nearest neighbors classifier for the\n",
        "others, as suggested by\n",
        "[Guo et al. (2012)](http://linkinghub.elsevier.com/retrieve/pii/S0957417411003253).\n",
        "\n"
      ]
    },
    {
      "cell_type": "code",
      "execution_count": null,
      "metadata": {
        "collapsed": false
      },
      "outputs": [],
      "source": [
        "from sklearn.ensemble import RandomForestClassifier\n",
        "from sklearn.neighbors import KNeighborsClassifier\n",
        "from sklearn.model_selection import train_test_split\n",
        "\n",
        "train, test = train_test_split(np.arange(len(eeg[\"classes\"])), random_state=0)\n",
        "\n",
        "model_cesium = RandomForestClassifier(n_estimators=128, random_state=0)\n",
        "model_cesium.fit(fset_cesium.iloc[train], eeg[\"classes\"][train])\n",
        "\n",
        "model_guo = KNeighborsClassifier(3)\n",
        "model_guo.fit(fset_guo.iloc[train], eeg[\"classes\"][train])\n",
        "\n",
        "model_dwt = KNeighborsClassifier(3)\n",
        "model_dwt.fit(fset_dwt.iloc[train], eeg[\"classes\"][train])"
      ]
    },
    {
      "cell_type": "markdown",
      "metadata": {},
      "source": [
        "## Prediction\n",
        "Making predictions for new time series based on these models follows the same\n",
        "pattern: first the time series are featurized using ``featurize_time_series``,\n",
        "and then predictions are made based on these features using the ``predict``\n",
        "method of the ``scikit-learn`` model.\n",
        "\n"
      ]
    },
    {
      "cell_type": "code",
      "execution_count": null,
      "metadata": {
        "collapsed": false
      },
      "outputs": [],
      "source": [
        "from sklearn.metrics import accuracy_score\n",
        "\n",
        "preds_cesium = model_cesium.predict(fset_cesium)\n",
        "preds_guo = model_guo.predict(fset_guo)\n",
        "preds_dwt = model_dwt.predict(fset_dwt)\n",
        "\n",
        "print(\n",
        "    \"Built-in cesium features: training accuracy={:.2%}, test accuracy={:.2%}\".format(\n",
        "        accuracy_score(preds_cesium[train], eeg[\"classes\"][train]),\n",
        "        accuracy_score(preds_cesium[test], eeg[\"classes\"][test]),\n",
        "    )\n",
        ")\n",
        "print(\n",
        "    \"Guo et al. features: training accuracy={:.2%}, test accuracy={:.2%}\".format(\n",
        "        accuracy_score(preds_guo[train], eeg[\"classes\"][train]),\n",
        "        accuracy_score(preds_guo[test], eeg[\"classes\"][test]),\n",
        "    )\n",
        ")\n",
        "print(\n",
        "    \"Wavelet transform features: training accuracy={:.2%}, test accuracy={:.2%}\".format(\n",
        "        accuracy_score(preds_dwt[train], eeg[\"classes\"][train]),\n",
        "        accuracy_score(preds_dwt[test], eeg[\"classes\"][test]),\n",
        "    )\n",
        ")"
      ]
    },
    {
      "cell_type": "markdown",
      "metadata": {},
      "source": [
        "The workflow presented here is intentionally simplistic and omits many important steps\n",
        "such as feature selection, model parameter selection, etc., which may all be\n",
        "incorporated just as they would for any other ``scikit-learn`` analysis.\n",
        "But with essentially three function calls (``featurize_time_series``,\n",
        "``model.fit``, and ``model.predict``), we are able to build a\n",
        "model from a set of time series and make predictions on new, unlabeled data. In\n",
        "upcoming posts we'll introduce the web frontend for ``cesium`` and describe how\n",
        "the same analysis can be performed in a browser with no setup or coding required.\n",
        "\n"
      ]
    }
  ],
  "metadata": {
    "kernelspec": {
      "display_name": "Python 3",
      "language": "python",
      "name": "python3"
    },
    "language_info": {
      "codemirror_mode": {
        "name": "ipython",
        "version": 3
      },
      "file_extension": ".py",
      "mimetype": "text/x-python",
      "name": "python",
      "nbconvert_exporter": "python",
      "pygments_lexer": "ipython3",
      "version": "3.11.3"
    }
  },
  "nbformat": 4,
  "nbformat_minor": 0
}
