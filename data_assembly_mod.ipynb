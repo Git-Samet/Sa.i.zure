{
 "cells": [
  {
   "cell_type": "code",
   "execution_count": 2,
   "metadata": {},
   "outputs": [],
   "source": [
    "import mne \n",
    "import os\n",
    "import mne \n",
    "from mne.io import  read_raw_edf\n",
    "import pandas as pd\n"
   ]
  },
  {
   "cell_type": "code",
   "execution_count": 4,
   "metadata": {},
   "outputs": [
    {
     "data": {
      "text/plain": [
       "['chb01', 'chb02']"
      ]
     },
     "execution_count": 4,
     "metadata": {},
     "output_type": "execute_result"
    }
   ],
   "source": [
    "data_folder = sorted([f for f in os.listdir('data/') if f.startswith('chb')])\n",
    "data_folder[:2]"
   ]
  },
  {
   "cell_type": "code",
   "execution_count": null,
   "metadata": {},
   "outputs": [],
   "source": [
    "folder_list\n",
    "folder_name = f'chb{folder_list:02d}'  # Format the folder name as ch01, ch02, etc.\n",
    "folder_path = os.path.join(folder_name)  "
   ]
  },
  {
   "cell_type": "code",
   "execution_count": 8,
   "metadata": {},
   "outputs": [
    {
     "ename": "FileNotFoundError",
     "evalue": "[Errno 2] No such file or directory: 'chb01'",
     "output_type": "error",
     "traceback": [
      "\u001b[0;31m---------------------------------------------------------------------------\u001b[0m",
      "\u001b[0;31mFileNotFoundError\u001b[0m                         Traceback (most recent call last)",
      "\u001b[1;32m/Users/anabroggini/Documents/bootcamp/ai-seizure-detectives/data_assembly_mod.ipynb Cell 3\u001b[0m line \u001b[0;36m1\n\u001b[1;32m     <a href='vscode-notebook-cell:/Users/anabroggini/Documents/bootcamp/ai-seizure-detectives/data_assembly_mod.ipynb#X12sZmlsZQ%3D%3D?line=12'>13</a>\u001b[0m file_names \u001b[39m=\u001b[39m []\n\u001b[1;32m     <a href='vscode-notebook-cell:/Users/anabroggini/Documents/bootcamp/ai-seizure-detectives/data_assembly_mod.ipynb#X12sZmlsZQ%3D%3D?line=14'>15</a>\u001b[0m \u001b[39m# Get a list of .edf files sorted by filename numbers\u001b[39;00m\n\u001b[0;32m---> <a href='vscode-notebook-cell:/Users/anabroggini/Documents/bootcamp/ai-seizure-detectives/data_assembly_mod.ipynb#X12sZmlsZQ%3D%3D?line=15'>16</a>\u001b[0m edf_files \u001b[39m=\u001b[39m \u001b[39msorted\u001b[39m([f \u001b[39mfor\u001b[39;00m f \u001b[39min\u001b[39;00m os\u001b[39m.\u001b[39;49mlistdir(folder_path) \u001b[39mif\u001b[39;00m f\u001b[39m.\u001b[39mendswith(\u001b[39m'\u001b[39m\u001b[39m.edf\u001b[39m\u001b[39m'\u001b[39m)])\n\u001b[1;32m     <a href='vscode-notebook-cell:/Users/anabroggini/Documents/bootcamp/ai-seizure-detectives/data_assembly_mod.ipynb#X12sZmlsZQ%3D%3D?line=17'>18</a>\u001b[0m \u001b[39m# Read the first .edf file to obtain the channel information\u001b[39;00m\n\u001b[1;32m     <a href='vscode-notebook-cell:/Users/anabroggini/Documents/bootcamp/ai-seizure-detectives/data_assembly_mod.ipynb#X12sZmlsZQ%3D%3D?line=18'>19</a>\u001b[0m first_file_path \u001b[39m=\u001b[39m os\u001b[39m.\u001b[39mpath\u001b[39m.\u001b[39mjoin(folder_path, edf_files[\u001b[39m0\u001b[39m])\n",
      "\u001b[0;31mFileNotFoundError\u001b[0m: [Errno 2] No such file or directory: 'chb01'"
     ]
    }
   ],
   "source": [
    "# Set the path to the patient folder\n",
    "data_folder = sorted([f for f in os.listdir('data/') if f.startswith('chb')])\n",
    "dataframes = []  # List to store individual DataFrames\n",
    "\n",
    "for folder_list in range(1,len(data_folder[:2])):  # Assumes folders are named ch01 to ch10\n",
    "        folder_name = f'chb{folder_list:02d}'  # Format the folder name as ch01, ch02, etc.\n",
    "        folder_path = os.path.join(folder_name)  # Create the full path to the folder\n",
    "\n",
    "        # Create an empty list to store raw data\n",
    "        patient_raws = []\n",
    "\n",
    "        # Create an empty list to store file names\n",
    "        file_names = []\n",
    "\n",
    "        # Get a list of .edf files sorted by filename numbers\n",
    "        edf_files = sorted([f for f in os.listdir(folder_path) if f.endswith('.edf')])\n",
    "\n",
    "        # Read the first .edf file to obtain the channel information\n",
    "        first_file_path = os.path.join(folder_path, edf_files[0])\n",
    "        first_raw = mne.io.read_raw_edf(first_file_path, preload=True)\n",
    "\n",
    "        # Loop through the sorted .edf files\n",
    "        for file in edf_files:\n",
    "            file_path = os.path.join(folder_path, file)\n",
    "            raw = mne.io.read_raw_edf(file_path, preload=True)\n",
    "            raw_downsampled = raw.copy().resample(sfreq=128)\n",
    "\n",
    "        # Set the channel information for each Raw object to match the first Raw object\n",
    "        raw_downsampled.info = first_raw.info\n",
    "        patient_raws.append(raw_downsampled)\n",
    "        file_names.extend([file] * len(raw_downsampled.times))\n",
    "\n",
    "        # Concatenate the raw objects into a single patient_combined object while maintaining a continuous time axis\n",
    "        patient_combined = mne.concatenate_raws(patient_raws, preload=True)\n",
    "        # Print info about the combined raw object for this patient\n",
    "        #print(patient_combined.info)\n",
    "\n",
    "        df = patient_combined.to_data_frame()\n",
    "        dataframes.append(df)\n",
    "# Concatenate all DataFrames into a single DataFrame\n",
    "final_dataframe = pd.concat(dataframes, ignore_index=True)\n"
   ]
  },
  {
   "cell_type": "code",
   "execution_count": 14,
   "metadata": {},
   "outputs": [],
   "source": [
    "df = patient_combined.to_data_frame()\n",
    "# Add a new column to the DataFrame to indicate the source file name\n",
    "df['File Name'] = file_names"
   ]
  },
  {
   "cell_type": "code",
   "execution_count": 15,
   "metadata": {},
   "outputs": [
    {
     "data": {
      "text/plain": [
       "(18686464, 25)"
      ]
     },
     "execution_count": 15,
     "metadata": {},
     "output_type": "execute_result"
    }
   ],
   "source": [
    "df.shape"
   ]
  },
  {
   "cell_type": "code",
   "execution_count": 16,
   "metadata": {},
   "outputs": [
    {
     "data": {
      "text/plain": [
       "pandas.core.frame.DataFrame"
      ]
     },
     "execution_count": 16,
     "metadata": {},
     "output_type": "execute_result"
    }
   ],
   "source": [
    "type(df)"
   ]
  }
 ],
 "metadata": {
  "kernelspec": {
   "display_name": ".venv",
   "language": "python",
   "name": "python3"
  },
  "language_info": {
   "codemirror_mode": {
    "name": "ipython",
    "version": 3
   },
   "file_extension": ".py",
   "mimetype": "text/x-python",
   "name": "python",
   "nbconvert_exporter": "python",
   "pygments_lexer": "ipython3",
   "version": "3.11.3"
  }
 },
 "nbformat": 4,
 "nbformat_minor": 2
}
