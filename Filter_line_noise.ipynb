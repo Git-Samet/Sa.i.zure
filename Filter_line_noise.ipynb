{
 "cells": [
  {
   "cell_type": "code",
   "execution_count": 2,

   "metadata": {},
   "outputs": [],
   "source": [
    "from source import data_import\n",
    "import pyarrow as pa\n",
    "import pandas as pd\n",
    "import matplotlib\n",
    "import matplotlib.pyplot as plt\n",
    "import seaborn as sns"
   ]
  },
  {
   "cell_type": "code",
   "execution_count": 3,
   "metadata": {},
   "outputs": [],
   "source": [
    "import pandas as pd\n",
    "from scipy.signal import butter, lfilter\n",
    "\n",
    "def filter_eeg_channels(df, channels, fs=256, exclude_ranges=None, Q=30):\n",
    "    \"\"\"\n",
    "    Filter EEG channels in a DataFrame using band-stop filters.\n",
    "\n",
    "    Parameters:\n",
    "    - df: DataFrame containing EEG data.\n",
    "    - channels: List of channel names to filter.\n",
    "    - fs: Sampling frequency (default is 256 Hz).\n",
    "    - exclude_ranges: List of exclusion ranges, e.g., [[58, 62], [118, 122]].\n",
    "    - Q: Quality factor for notch filters (default is 30).\n",
    "\n",
    "    Returns:\n",
    "    - filtered_df: DataFrame with filtered EEG data.\n",
    "    \"\"\"\n",
    "    filtered_df = df.copy()\n",
    "    \n",
    "    if exclude_ranges is None:\n",
    "        exclude_ranges = []\n",
    "\n",
    "    for channel in channels:\n",
    "        for exclude_range in exclude_ranges:\n",
    "            nyquist = 0.5 * fs\n",
    "            low = (exclude_range[0] - 1.0) / nyquist\n",
    "            high = (exclude_range[1] + 1.0) / nyquist\n",
    "\n",
    "            b, a = butter(4, [low, high], btype='bandstop')\n",
    "            filtered_eeg_data = lfilter(b, a, filtered_df[channel])\n",
    "            filtered_df[channel] = filtered_eeg_data\n",
    "\n",
    "    return filtered_df"
   ]
  },
  {
   "cell_type": "code",
   "execution_count": 4,

   "metadata": {},
   "outputs": [
    {
     "name": "stdout",
     "output_type": "stream",
     "text": [
     ]
    }
   ],
   "source": [
    "p_df_mem = data_import.load_pyarrow(file_name=\"my_data\")"
   ]
  },
  {
   "cell_type": "code",
   "execution_count": 13,

   "metadata": {},

   "source": [
    "channels = ['FP1-F3',\n",
    " 'FP1-F7',\n",
    " 'T8-P8-0',\n",
    " 'T8-P8-1',\n",
    " 'CZ-PZ',\n",
    " 'FP2-F8',\n",
    " 'P8-O2',\n",
    " 'P7-O1',\n",
    " 'T7-P7',\n",
    " 'FT9-FT10']"
   ]
  },
  {
   "cell_type": "code",
   "execution_count": 5,

   "metadata": {},
   "outputs": [],
   "source": [
    "exclude_ranges=[[58, 62], [118, 122]]\n",
    "df = p_df_mem\n",
    "fit_df = filter_eeg_channels(df, channels, fs=256, exclude_ranges=exclude_ranges, Q=30)"
   ]
  },
  {
   "cell_type": "code",

   "execution_count": 7,
   "metadata": {},
   "outputs": [],
   "source": [

    "fit_df_new= fit_df.drop(\"ECG\", axis =1)"

   ]
  },
  {
   "cell_type": "code",
   "execution_count": 8,
   "metadata": {},
   "outputs": [
    {
     "data": {
      "text/html": [
       "<div>\n",
       "<style scoped>\n",
       "    .dataframe tbody tr th:only-of-type {\n",
       "        vertical-align: middle;\n",
       "    }\n",
       "\n",
       "    .dataframe tbody tr th {\n",
       "        vertical-align: top;\n",
       "    }\n",
       "\n",
       "    .dataframe thead th {\n",
       "        text-align: right;\n",
       "    }\n",
       "</style>\n",
       "<table border=\"1\" class=\"dataframe\">\n",
       "  <thead>\n",
       "    <tr style=\"text-align: right;\">\n",
       "      <th>channel</th>\n",
       "      <th>FP1-F7</th>\n",
       "      <th>F7-T7</th>\n",
       "      <th>T7-P7</th>\n",
       "      <th>P7-O1</th>\n",
       "      <th>FP1-F3</th>\n",
       "      <th>F3-C3</th>\n",
       "      <th>C3-P3</th>\n",
       "      <th>P3-O1</th>\n",
       "      <th>FP2-F4</th>\n",
       "      <th>F4-C4</th>\n",
       "      <th>...</th>\n",

       "      <th>T8-P8-0</th>\n",

       "      <th>before_seizure</th>\n",

<
       "    </tr>\n",
       "    <tr>\n",
       "      <th>0 days 00:00:00.003906250</th>\n",
       "      <td>-3.984894</td>\n",

       "    </tr>\n",
       "    <tr>\n",
       "      <th>0 days 00:00:00.007812500</th>\n",
       "      <td>-0.758705</td>\n",

       "    </tr>\n",
       "    <tr>\n",
       "      <th>0 days 00:00:00.011718750</th>\n",
       "      <td>-4.978767</td>\n",

       "    </tr>\n",
       "    <tr>\n",
       "      <th>0 days 00:00:00.015625</th>\n",
       "      <td>6.179067</td>\n",

       "</div>"
      ],
      "text/plain": [
       "channel                       FP1-F7      F7-T7     T7-P7     P7-O1    FP1-F3  \\\n",

      ]
     },
     "execution_count": 8,
     "metadata": {},
     "output_type": "execute_result"
    }
   ],
   "source": [

   ]
  }
 ],
 "metadata": {
  "kernelspec": {
   "display_name": ".venv",
   "language": "python",
   "name": "python3"
  },
  "language_info": {
   "codemirror_mode": {
    "name": "ipython",
    "version": 3
   },
   "file_extension": ".py",
   "mimetype": "text/x-python",
   "name": "python",
   "nbconvert_exporter": "python",
   "pygments_lexer": "ipython3",
   "version": "3.11.3"
  }
 },
 "nbformat": 4,
 "nbformat_minor": 2
}
