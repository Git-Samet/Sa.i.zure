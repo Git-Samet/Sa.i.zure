{
 "cells": [
  {
   "cell_type": "code",
   "execution_count": 12,
   "metadata": {},
   "outputs": [],
   "source": [
    "from source import data_import\n",
    "import pyarrow as pa\n",
    "import pandas as pd\n",
    "import matplotlib\n",
    "import matplotlib.pyplot as plt\n",
    "import seaborn as sns"
   ]
  },
  {
   "cell_type": "code",
   "execution_count": 49,
   "metadata": {},
   "outputs": [],
   "source": [
    "import pandas as pd\n",
    "from scipy.signal import butter, lfilter\n",
    "\n",
    "def filter_eeg_channels(df, channels= channels, fs=256, exclude_ranges=None, Q=30):\n",
    "    \"\"\"\n",
    "    Filter EEG channels in a DataFrame using band-stop filters.\n",
    "\n",
    "    Parameters:\n",
    "    - df: DataFrame containing EEG data.\n",
    "    - channels: List of channel names to filter.\n",
    "    - fs: Sampling frequency (default is 256 Hz).\n",
    "    - exclude_ranges: List of exclusion ranges, e.g., [[58, 62], [118, 122]].\n",
    "    - Q: Quality factor for notch filters (default is 30).\n",
    "\n",
    "    Returns:\n",
    "    - filtered_df: DataFrame with filtered EEG data.\n",
    "    \"\"\"\n",
    "    filtered_df = df[channels].copy()\n",
    "    filtered_df[['is_seizure','before_seizure']] = df[['before_seizure','is_seizure']]\n",
    "    \n",
    "    if exclude_ranges is None:\n",
    "        exclude_ranges = []\n",
    "\n",
    "    for channel in channels:\n",
    "        for exclude_range in exclude_ranges:\n",
    "            nyquist = 0.5 * fs\n",
    "            low = (exclude_range[0] - 1.0) / nyquist\n",
    "            high = (exclude_range[1] + 1.0) / nyquist\n",
    "\n",
    "            b, a = butter(4, [low, high], btype='bandstop')\n",
    "            filtered_eeg_data = lfilter(b, a, filtered_df[channel])\n",
    "            filtered_df[channel] = filtered_eeg_data\n",
    "    \n",
    "    return filtered_df"
   ]
  },
  {
   "cell_type": "code",
   "execution_count": 4,
   "metadata": {},
   "outputs": [
    {
     "name": "stdout",
     "output_type": "stream",
     "text": [
     ]
    }
   ],
   "source": [
    "p_df_mem = data_import.load_pyarrow(file_name=\"my_data\")"
   ]
  },
  {
   "cell_type": "code",
   "execution_count": 23,
   "metadata": {},
   "outputs": [],
   "source": [
    "channels = ['FP1-F3',\n",
    " 'FP1-F7',\n",
    " 'T8-P8-0',\n",
    " 'T8-P8-1',\n",
    " 'CZ-PZ',\n",
    " 'FP2-F8',\n",
    " 'P8-O2',\n",
    " 'P7-O1',\n",
    " 'T7-P7',\n",
    " 'FT9-FT10']"
   ]
  },
  {
   "cell_type": "code",
   "execution_count": 24,
   "metadata": {},
<<<<<<< HEAD

   "source": [
    "channels = ['FP1-F3',\n",
    " 'FP1-F7',\n",
    " 'T8-P8-0',\n",
    " 'T8-P8-1',\n",
    " 'CZ-PZ',\n",
    " 'FP2-F8',\n",
    " 'P8-O2',\n",
    " 'P7-O1',\n",
    " 'T7-P7',\n",
    " 'FT9-FT10']"
=======
   "outputs": [
    {
     "data": {
      "text/plain": [
       "['FP1-F3',\n",
       " 'FP1-F7',\n",
       " 'T8-P8-0',\n",
       " 'T8-P8-1',\n",
       " 'CZ-PZ',\n",
       " 'FP2-F8',\n",
       " 'P8-O2',\n",
       " 'P7-O1',\n",
       " 'T7-P7',\n",
       " 'FT9-FT10']"
      ]
     },
     "execution_count": 24,
     "metadata": {},
     "output_type": "execute_result"
    }
   ],
   "source": [
    "channels"
>>>>>>> main
   ]
  },
  {
   "cell_type": "code",
   "execution_count": 25,
   "metadata": {},
   "outputs": [
    {
     "data": {
      "text/plain": [
       "10"
      ]
     },
     "execution_count": 25,
     "metadata": {},
     "output_type": "execute_result"
    }
   ],
   "source": [
    "len(channels)"
   ]
  },
  {
   "cell_type": "code",
   "execution_count": 50,
   "metadata": {},
   "outputs": [],
   "source": [
    "exclude_ranges=[[58, 62], [118, 122]]\n",
    "df = p_df_mem\n",
    "fit_df_n = filter_eeg_channels(df, channels=channels, fs=256, exclude_ranges=exclude_ranges, Q=30)"
   ]
  },
  {
   "cell_type": "code",
   "execution_count": 51,
   "metadata": {},
   "outputs": [
    {
     "data": {
      "text/html": [
       "<div>\n",
       "<style scoped>\n",
       "    .dataframe tbody tr th:only-of-type {\n",
       "        vertical-align: middle;\n",
       "    }\n",
       "\n",
       "    .dataframe tbody tr th {\n",
       "        vertical-align: top;\n",
       "    }\n",
       "\n",
       "    .dataframe thead th {\n",
       "        text-align: right;\n",
       "    }\n",
       "</style>\n",
       "<table border=\"1\" class=\"dataframe\">\n",
       "  <thead>\n",
       "    <tr style=\"text-align: right;\">\n",
       "      <th>channel</th>\n",
       "      <th>FP1-F3</th>\n",
       "      <th>FP1-F7</th>\n",
       "      <th>T8-P8-0</th>\n",
       "      <th>T8-P8-1</th>\n",
       "      <th>CZ-PZ</th>\n",
       "      <th>FP2-F8</th>\n",
       "      <th>P8-O2</th>\n",
       "      <th>P7-O1</th>\n",
       "      <th>T7-P7</th>\n",
       "      <th>FT9-FT10</th>\n",
       "      <th>is_seizure</th>\n",
       "      <th>before_seizure</th>\n",
       "    </tr>\n",
       "  </thead>\n",
       "  <tbody>\n",
       "    <tr>\n",
       "      <th>0 days 00:00:00</th>\n",
       "      <td>-0.398710</td>\n",
       "      <td>-12.094205</td>\n",
       "      <td>-40.801330</td>\n",
       "      <td>-40.801330</td>\n",
       "      <td>58.078766</td>\n",
       "      <td>69.242647</td>\n",
       "      <td>122.669795</td>\n",
       "      <td>5.714844</td>\n",
       "      <td>-2.525164</td>\n",
       "      <td>-6.246458</td>\n",
       "      <td>False</td>\n",
       "      <td>False</td>\n",
       "    </tr>\n",
       "    <tr>\n",
       "      <th>0 days 00:00:00.003906250</th>\n",
       "      <td>-0.002848</td>\n",
       "      <td>-3.984894</td>\n",
       "      <td>-13.759008</td>\n",
       "      <td>-13.759008</td>\n",
       "      <td>19.907382</td>\n",
       "      <td>23.708426</td>\n",
       "      <td>41.899137</td>\n",
       "      <td>2.078676</td>\n",
       "      <td>-0.726857</td>\n",
       "      <td>-1.993871</td>\n",
       "      <td>False</td>\n",
       "      <td>False</td>\n",
       "    </tr>\n",
       "    <tr>\n",
       "      <th>0 days 00:00:00.007812500</th>\n",
       "      <td>0.147268</td>\n",
       "      <td>-0.758705</td>\n",
       "      <td>-2.982458</td>\n",
       "      <td>-2.982458</td>\n",
       "      <td>4.677136</td>\n",
       "      <td>5.541929</td>\n",
       "      <td>9.680581</td>\n",
       "      <td>0.620845</td>\n",
       "      <td>-0.017454</td>\n",
       "      <td>-0.305718</td>\n",
       "      <td>False</td>\n",
       "      <td>False</td>\n",
       "    </tr>\n",
       "    <tr>\n",
       "      <th>0 days 00:00:00.011718750</th>\n",
       "      <td>0.009338</td>\n",
       "      <td>-4.978767</td>\n",
       "      <td>-18.140539</td>\n",
       "      <td>-18.140539</td>\n",
       "      <td>26.544704</td>\n",
       "      <td>32.357222</td>\n",
       "      <td>56.623853</td>\n",
       "      <td>2.755701</td>\n",
       "      <td>-0.945918</td>\n",
       "      <td>-2.883424</td>\n",
       "      <td>False</td>\n",
       "      <td>False</td>\n",
       "    </tr>\n",
       "    <tr>\n",
       "      <th>0 days 00:00:00.015625</th>\n",
       "      <td>0.440694</td>\n",
       "      <td>6.179067</td>\n",
       "      <td>19.951526</td>\n",
       "      <td>19.951526</td>\n",
       "      <td>-27.708167</td>\n",
       "      <td>-32.562009</td>\n",
       "      <td>-57.208789</td>\n",
       "      <td>-2.511603</td>\n",
       "      <td>1.467580</td>\n",
       "      <td>3.174129</td>\n",
       "      <td>False</td>\n",
       "      <td>False</td>\n",
       "    </tr>\n",
       "  </tbody>\n",
       "</table>\n",
       "</div>"
      ],
      "text/plain": [
       "channel                      FP1-F3     FP1-F7    T8-P8-0    T8-P8-1  \\\n",
       "0 days 00:00:00           -0.398710 -12.094205 -40.801330 -40.801330   \n",
       "0 days 00:00:00.003906250 -0.002848  -3.984894 -13.759008 -13.759008   \n",
       "0 days 00:00:00.007812500  0.147268  -0.758705  -2.982458  -2.982458   \n",
       "0 days 00:00:00.011718750  0.009338  -4.978767 -18.140539 -18.140539   \n",
       "0 days 00:00:00.015625     0.440694   6.179067  19.951526  19.951526   \n",
       "\n",
       "channel                        CZ-PZ     FP2-F8       P8-O2     P7-O1  \\\n",
       "0 days 00:00:00            58.078766  69.242647  122.669795  5.714844   \n",
       "0 days 00:00:00.003906250  19.907382  23.708426   41.899137  2.078676   \n",
       "0 days 00:00:00.007812500   4.677136   5.541929    9.680581  0.620845   \n",
       "0 days 00:00:00.011718750  26.544704  32.357222   56.623853  2.755701   \n",
       "0 days 00:00:00.015625    -27.708167 -32.562009  -57.208789 -2.511603   \n",
       "\n",
       "channel                       T7-P7  FT9-FT10  is_seizure  before_seizure  \n",
       "0 days 00:00:00           -2.525164 -6.246458       False           False  \n",
       "0 days 00:00:00.003906250 -0.726857 -1.993871       False           False  \n",
       "0 days 00:00:00.007812500 -0.017454 -0.305718       False           False  \n",
       "0 days 00:00:00.011718750 -0.945918 -2.883424       False           False  \n",
       "0 days 00:00:00.015625     1.467580  3.174129       False           False  "
      ]
     },
     "execution_count": 51,
     "metadata": {},
     "output_type": "execute_result"
    }
   ],
   "source": [
    "fit_df_n.head()"
   ]
  },
  {
   "cell_type": "code",
   "execution_count": 52,
   "metadata": {},
   "outputs": [
    {
     "data": {
      "text/plain": [
       "12"
      ]
     },
     "execution_count": 52,
     "metadata": {},
     "output_type": "execute_result"
    }
   ],
   "source": [
    "len(fit_df_n.columns) "
   ]
  }
 ],
 "metadata": {
  "kernelspec": {
   "display_name": ".venv",
   "language": "python",
   "name": "python3"
  },
  "language_info": {
   "codemirror_mode": {
    "name": "ipython",
    "version": 3
   },
   "file_extension": ".py",
   "mimetype": "text/x-python",
   "name": "python",
   "nbconvert_exporter": "python",
   "pygments_lexer": "ipython3",
   "version": "3.11.3"
  }
 },
 "nbformat": 4,
 "nbformat_minor": 2
}
