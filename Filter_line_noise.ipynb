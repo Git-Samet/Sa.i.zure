{
 "cells": [
  {
   "cell_type": "code",
   "execution_count": null,
   "metadata": {},
   "outputs": [],
   "source": [
    "from source import data_import\n",
    "import pyarrow as pa\n",
    "import pandas as pd\n",
    "import matplotlib\n",
    "import matplotlib.pyplot as plt\n",
    "import seaborn as sns"
   ]
  },
  {
   "cell_type": "code",
   "execution_count": null,
   "metadata": {},
   "outputs": [],
   "source": [
    "import pandas as pd\n",
    "from scipy.signal import butter, lfilter\n",
    "\n",
    "def filter_eeg_channels(df, channels, fs=256, exclude_ranges=None, Q=30):\n",
    "    \"\"\"\n",
    "    Filter EEG channels in a DataFrame using band-stop filters.\n",
    "\n",
    "    Parameters:\n",
    "    - df: DataFrame containing EEG data.\n",
    "    - channels: List of channel names to filter.\n",
    "    - fs: Sampling frequency (default is 256 Hz).\n",
    "    - exclude_ranges: List of exclusion ranges, e.g., [[58, 62], [118, 122]].\n",
    "    - Q: Quality factor for notch filters (default is 30).\n",
    "\n",
    "    Returns:\n",
    "    - filtered_df: DataFrame with filtered EEG data.\n",
    "    \"\"\"\n",
    "    filtered_df = df.copy()\n",
    "    \n",
    "    if exclude_ranges is None:\n",
    "        exclude_ranges = []\n",
    "\n",
    "    for channel in channels:\n",
    "        for exclude_range in exclude_ranges:\n",
    "            nyquist = 0.5 * fs\n",
    "            low = (exclude_range[0] - 1.0) / nyquist\n",
    "            high = (exclude_range[1] + 1.0) / nyquist\n",
    "\n",
    "            b, a = butter(4, [low, high], btype='bandstop')\n",
    "            filtered_eeg_data = lfilter(b, a, filtered_df[channel])\n",
    "            filtered_df[channel] = filtered_eeg_data\n",
    "\n",
    "    return filtered_df"
   ]
  },
  {
   "cell_type": "code",
   "execution_count": null,
   "metadata": {},
   "outputs": [],
   "source": [
    "p_df_mem = data_import.load_pyarrow(file_name=\"my_data\")"
   ]
  },
  {
   "cell_type": "code",
   "execution_count": null,
   "metadata": {},
   "outputs": [],
   "source": [
    "channels = p_df_mem.columns.drop([\"is_seizure\", 'before_seizure', 'ECG'])\n",
    "channels"
   ]
  },
  {
   "cell_type": "code",
   "execution_count": null,
   "metadata": {},
   "outputs": [],
   "source": [
    "exclude_ranges=[[58, 62], [118, 122]]\n",
    "df = p_df_mem\n",
    "fit_df = filter_eeg_channels(df, channels, fs=256, exclude_ranges=exclude_ranges, Q=30)"
   ]
  }
 ],
 "metadata": {
  "language_info": {
   "name": "python"
  }
 },
 "nbformat": 4,
 "nbformat_minor": 2
}
