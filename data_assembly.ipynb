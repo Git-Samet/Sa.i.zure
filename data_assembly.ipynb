{
 "cells": [
  {
   "cell_type": "code",
   "execution_count": 2,
   "metadata": {},
   "outputs": [
    {
     "name": "stdout",
     "output_type": "stream",
     "text": [
      "Collecting pyarrow\n",
      "  Downloading pyarrow-13.0.0-cp311-cp311-macosx_10_14_x86_64.whl.metadata (3.0 kB)\n",
      "Requirement already satisfied: numpy>=1.16.6 in ./.venv/lib/python3.11/site-packages (from pyarrow) (1.23.5)\n",
      "Downloading pyarrow-13.0.0-cp311-cp311-macosx_10_14_x86_64.whl (25.8 MB)\n",
      "\u001b[2K   \u001b[90m━━━━━━━━━━━━━━━━━━━━━━━━━━━━━━━━━━━━━━━━\u001b[0m \u001b[32m25.8/25.8 MB\u001b[0m \u001b[31m43.9 MB/s\u001b[0m eta \u001b[36m0:00:00\u001b[0m00:01\u001b[0m00:01\u001b[0m\n",
      "\u001b[?25hInstalling collected packages: pyarrow\n",
      "Successfully installed pyarrow-13.0.0\n",
      "Note: you may need to restart the kernel to use updated packages.\n"
     ]
    }
   ],
   "source": [
    "%pip install pyarrow"
   ]
  },
  {
   "cell_type": "code",
   "execution_count": 1,
   "metadata": {},
   "outputs": [],
   "source": [
    "from source import data_import\n",
    "import pyarrow as pa"
   ]
  },
  {
   "cell_type": "code",
   "execution_count": 8,
   "metadata": {},
   "outputs": [
    {
     "name": "stdout",
     "output_type": "stream",
     "text": [
      "chb01_01.edf was import but not resampled 256Hz.\n",
      "chb01_02.edf was import but not resampled 256Hz.\n",
      "chb01_03.edf was import but not resampled 256Hz.\n",
      "chb01_03.edf seizure was labeled\n",
      "chb01_04.edf was import but not resampled 256Hz.\n",
      "chb01_04.edf seizure was labeled\n",
      "chb01_05.edf was import but not resampled 256Hz.\n",
      "chb01_06.edf was import but not resampled 256Hz.\n",
      "chb01_07.edf was import but not resampled 256Hz.\n",
      "chb01_08.edf was import but not resampled 256Hz.\n",
      "chb01_09.edf was import but not resampled 256Hz.\n",
      "chb01_10.edf was import but not resampled 256Hz.\n",
      "chb01_11.edf was import but not resampled 256Hz.\n",
      "chb01_12.edf was import but not resampled 256Hz.\n",
      "chb01_13.edf was import but not resampled 256Hz.\n",
      "chb01_14.edf was import but not resampled 256Hz.\n",
      "chb01_15.edf was import but not resampled 256Hz.\n",
      "chb01_15.edf seizure was labeled\n",
      "chb01_16.edf was import but not resampled 256Hz.\n",
      "chb01_16.edf seizure was labeled\n",
      "chb01_17.edf was import but not resampled 256Hz.\n",
      "chb01_18.edf was import but not resampled 256Hz.\n",
      "chb01_18.edf seizure was labeled\n",
      "chb01_19.edf was import but not resampled 256Hz.\n",
      "chb01_20.edf was import but not resampled 256Hz.\n",
      "chb01_21.edf was import but not resampled 256Hz.\n",
      "chb01_21.edf seizure was labeled\n",
      "chb01_22.edf was import but not resampled 256Hz.\n",
      "chb01_23.edf was import but not resampled 256Hz.\n",
      "chb01_24.edf was import but not resampled 256Hz.\n",
      "chb01_25.edf was import but not resampled 256Hz.\n",
      "chb01_26.edf was import but not resampled 256Hz.\n",
      "chb01_26.edf seizure was labeled\n",
      "chb01_27.edf was import but not resampled 256Hz.\n",
      "chb01_29.edf was import but not resampled 256Hz.\n",
      "chb01_30.edf was import but not resampled 256Hz.\n",
      "chb01_31.edf was import but not resampled 256Hz.\n",
      "chb01_32.edf was import but not resampled 256Hz.\n",
      "chb01_33.edf was import but not resampled 256Hz.\n",
      "chb01_34.edf was import but not resampled 256Hz.\n",
      "chb01_36.edf was import but not resampled 256Hz.\n",
      "chb01_37.edf was import but not resampled 256Hz.\n",
      "chb01_38.edf was import but not resampled 256Hz.\n",
      "chb01_39.edf was import but not resampled 256Hz.\n",
      "chb01_40.edf was import but not resampled 256Hz.\n",
      "chb01_41.edf was import but not resampled 256Hz.\n",
      "chb01_42.edf was import but not resampled 256Hz.\n",
      "chb01_43.edf was import but not resampled 256Hz.\n",
      "chb01_46.edf was import but not resampled 256Hz.\n",
      "patient chb01 sessions concatenated.\n",
      "data of patients [1] were concatenated.\n",
      "(37372928, 24)\n",
      "/Users/anabroggini/Documents/bootcamp/ai2/source/../data/eeg_single.arrow was successfully written.\n"
     ]
    }
   ],
   "source": [
    "# save default single patient to disc\n",
    "\n",
    "data_import.save_pyarrow_eeg_single(patient_id=1)"
   ]
  },
  {
   "cell_type": "code",
   "execution_count": 9,
   "metadata": {},
   "outputs": [
    {
     "name": "stdout",
     "output_type": "stream",
     "text": [
      "/Users/anabroggini/Documents/bootcamp/ai2/source/../data/eeg_single.arrow was loaded.\n"
     ]
    },
    {
     "data": {
      "text/plain": [
       "(37372928, 24)"
      ]
     },
     "execution_count": 9,
     "metadata": {},
     "output_type": "execute_result"
    }
   ],
   "source": [
    "# load single patient via memory mapping\n",
    "df = data_import.load_eeg_single_mem()\n",
    "df.shape"
   ]
  },
  {
   "cell_type": "code",
   "execution_count": 15,
   "metadata": {},
   "outputs": [
    {
     "data": {
      "text/plain": [
       "array([0, 1])"
      ]
     },
     "execution_count": 15,
     "metadata": {},
     "output_type": "execute_result"
    }
   ],
   "source": [
    "\n",
    "df['is_seizure'] = df['is_seizure'].astype(int)\n",
    "df.is_seizure.unique()"
   ]
  },
  {
   "cell_type": "code",
   "execution_count": 16,
   "metadata": {},
   "outputs": [
    {
     "data": {
      "text/plain": [
       "<Axes: >"
      ]
     },
     "execution_count": 16,
     "metadata": {},
     "output_type": "execute_result"
    },
    {
     "data": {
      "image/png": "[encoded data removed]",
      "text/plain": [
       "<Figure size 640x480 with 1 Axes>"
      ]
     },
     "metadata": {},
     "output_type": "display_data"
    }
   ],
   "source": [
    "df.is_seizure.plot()"
   ]
  },
  {
   "cell_type": "code",
   "execution_count": 11,
   "metadata": {},
   "outputs": [
    {
     "data": {
      "text/plain": [
       "channel\n",
       "FP1-F7        0.211257\n",
       "F7-T7         0.194866\n",
       "T7-P7         0.188005\n",
       "P7-O1         0.180638\n",
       "FP1-F3        0.206473\n",
       "F3-C3         0.187779\n",
       "C3-P3         0.197797\n",
       "P3-O1         0.196017\n",
       "FP2-F4        0.209674\n",
       "F4-C4         0.190043\n",
       "C4-P4         0.191361\n",
       "P4-O2         0.198862\n",
       "FP2-F8        0.214879\n",
       "F8-T8         0.211172\n",
       "T8-P8-0       0.169806\n",
       "P8-O2         0.188334\n",
       "FZ-CZ         0.188051\n",
       "CZ-PZ         0.195700\n",
       "P7-T7         0.202715\n",
       "T7-FT9        0.184982\n",
       "FT9-FT10      0.217002\n",
       "FT10-T8       0.212608\n",
       "T8-P8-1       0.169806\n",
       "is_seizure    0.003076\n",
       "dtype: float64"
      ]
     },
     "execution_count": 11,
     "metadata": {},
     "output_type": "execute_result"
    }
   ],
   "source": [
    "df.mean()"
   ]
  },
  {
   "cell_type": "code",
   "execution_count": 5,
   "metadata": {},
   "outputs": [],
   "source": [
    "# import modin.pandas as pd"
   ]
  },
  {
   "cell_type": "code",
   "execution_count": 6,
   "metadata": {},
   "outputs": [
    {
     "data": {
      "text/plain": [
       "channel\n",
       "FP1-F7        0.232693\n",
       "F7-T7         0.217435\n",
       "T7-P7         0.172000\n",
       "P7-O1         0.169752\n",
       "FP1-F3        0.234597\n",
       "F3-C3         0.204961\n",
       "C3-P3         0.190668\n",
       "P3-O1         0.162827\n",
       "FP2-F4        0.237433\n",
       "F4-C4         0.172024\n",
       "C4-P4         0.187824\n",
       "P4-O2         0.173233\n",
       "FP2-F8        0.237209\n",
       "F8-T8         0.212280\n",
       "T8-P8-0       0.167253\n",
       "P8-O2         0.174243\n",
       "FZ-CZ         0.199975\n",
       "CZ-PZ         0.195615\n",
       "P7-T7         0.218721\n",
       "T7-FT9        0.157186\n",
       "FT9-FT10      0.196595\n",
       "FT10-T8       0.221022\n",
       "T8-P8-1       0.167253\n",
       "is_seizure    0.000000\n",
       "--0           0.195360\n",
       "--1           0.195360\n",
       "--2           0.195360\n",
       "--3           0.195360\n",
       "--4           0.195360\n",
       "dtype: float64"
      ]
     },
     "execution_count": 6,
     "metadata": {},
     "output_type": "execute_result"
    }
   ],
   "source": [
    "df.mean()"
   ]
  },
  {
   "cell_type": "code",
   "execution_count": null,
   "metadata": {},
   "outputs": [
    {
     "name": "stdout",
     "output_type": "stream",
     "text": [
      "/home/weasel/reps/ai-seizure-detectives/source/../data/eeg_large.arrow was loaded.\n"
     ]
    }
   ],
   "source": [
    "# try this with a larger dataset\n",
    "data_import.save_pyarrow_eeg_large(patient_ids=[1,2,3,11])"
   ]
  },
  {
   "cell_type": "code",
   "execution_count": 7,
   "metadata": {},
   "outputs": [
    {
     "name": "stderr",
     "output_type": "stream",
     "text": [
      "UserWarning: FileNotFoundError: [Errno 2] Failed to open local file '/home/weasel/reps/ai-seizure-detectives/source/../data/eeg_large.arrow'. Detail: [errno 2] No such file or directory\n"
     ]
    },
    {
     "ename": "AttributeError",
     "evalue": "'NoneType' object has no attribute 'shape'",
     "output_type": "error",
     "traceback": [
      "\u001b[0;31m---------------------------------------------------------------------------\u001b[0m",
      "\u001b[0;31mAttributeError\u001b[0m                            Traceback (most recent call last)",
      "\u001b[1;32m/home/weasel/reps/ai-seizure-detectives/data_assembly.ipynb Cell 8\u001b[0m line \u001b[0;36m2\n\u001b[1;32m      <a href='vscode-notebook-cell://wsl%2Bdebian/home/weasel/reps/ai-seizure-detectives/data_assembly.ipynb#X45sdnNjb2RlLXJlbW90ZQ%3D%3D?line=0'>1</a>\u001b[0m df \u001b[39m=\u001b[39m data_import\u001b[39m.\u001b[39mload_eeg_large_mem()\n\u001b[0;32m----> <a href='vscode-notebook-cell://wsl%2Bdebian/home/weasel/reps/ai-seizure-detectives/data_assembly.ipynb#X45sdnNjb2RlLXJlbW90ZQ%3D%3D?line=1'>2</a>\u001b[0m df\u001b[39m.\u001b[39;49mshape\n",
      "\u001b[0;31mAttributeError\u001b[0m: 'NoneType' object has no attribute 'shape'"
     ]
    }
   ],
   "source": [
    "\n",
    "df = data_import.load_eeg_large_mem()\n",
    "df.shape"
   ]
  },
  {
   "cell_type": "code",
   "execution_count": null,
   "metadata": {},
   "outputs": [
    {
     "data": {
      "text/plain": [
       "channel\n",
       "FP1-F7        0.211053\n",
       "F7-T7         0.223634\n",
       "T7-P7         0.146917\n",
       "P7-O1         0.197380\n",
       "FP1-F3        0.211108\n",
       "F3-C3         0.189135\n",
       "C3-P3         0.189155\n",
       "P3-O1         0.191907\n",
       "FP2-F4        0.218078\n",
       "F4-C4         0.186815\n",
       "C4-P4         0.186980\n",
       "P4-O2         0.196692\n",
       "FP2-F8        0.210387\n",
       "F8-T8         0.224631\n",
       "T8-P8-0       0.153614\n",
       "P8-O2         0.179424\n",
       "FZ-CZ         0.212834\n",
       "CZ-PZ         0.190577\n",
       "P7-T7         0.243804\n",
       "T7-FT9        0.160734\n",
       "FT9-FT10      0.196162\n",
       "FT10-T8       0.220769\n",
       "T8-P8-1       0.153614\n",
       "is_seizure    0.000000\n",
       "ECG           0.188060\n",
       "dtype: double[pyarrow]"
      ]
     },
     "execution_count": 15,
     "metadata": {},
     "output_type": "execute_result"
    }
   ],
   "source": [
    "df.mean()"
   ]
  },
  {
   "cell_type": "code",
   "execution_count": 3,
   "metadata": {},
   "outputs": [
    {
     "name": "stdout",
     "output_type": "stream",
     "text": [
      "procs -----------memory---------- ---swap-- -----io---- -system-- ------cpu-----\n",
      " r  b   swpd   free   buff  cache   si   so    bi    bo   in   cs us sy id wa st\n",
      " 3  0      0 13330000 187844 2092148    0    0   178     3   25   52  1  0 99  0  0\n"
     ]
    }
   ],
   "source": [
    "!vmstat"
   ]
  }
 ],
 "metadata": {
  "kernelspec": {
   "display_name": ".venv",
   "language": "python",
   "name": "python3"
  },
  "language_info": {
   "codemirror_mode": {
    "name": "ipython",
    "version": 3
   },
   "file_extension": ".py",
   "mimetype": "text/x-python",
   "name": "python",
   "nbconvert_exporter": "python",
   "pygments_lexer": "ipython3",
   "version": "3.11.3"
  }
 },
 "nbformat": 4,
 "nbformat_minor": 2
}
