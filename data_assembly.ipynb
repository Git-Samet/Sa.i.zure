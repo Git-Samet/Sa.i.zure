{
 "cells": [
  {
   "cell_type": "code",
   "execution_count": 1,
   "metadata": {},
   "outputs": [],
   "source": [
    "from source import data_import\n",
    "import pyarrow as pa"
   ]
  },
  {
   "cell_type": "code",
   "execution_count": 2,
   "metadata": {},
   "outputs": [
    {
     "name": "stdout",
     "output_type": "stream",
     "text": [
      "chb03_01.edf was import but not resampled 256Hz.\n",
      "chb03_01.edf seizure and buffer was labeled\n",
      "chb03_02.edf was import but not resampled 256Hz.\n",
      "chb03_02.edf seizure and buffer was labeled\n",
      "chb03_03.edf was import but not resampled 256Hz.\n",
      "chb03_03.edf seizure and buffer was labeled\n",
      "chb03_04.edf was import but not resampled 256Hz.\n",
      "chb03_04.edf seizure and buffer was labeled\n",
      "chb03_05.edf was import but not resampled 256Hz.\n",
      "chb03_06.edf was import but not resampled 256Hz.\n",
      "chb03_07.edf was import but not resampled 256Hz.\n",
      "chb03_08.edf was import but not resampled 256Hz.\n",
      "chb03_09.edf was import but not resampled 256Hz.\n",
      "chb03_10.edf was import but not resampled 256Hz.\n",
      "chb03_11.edf was import but not resampled 256Hz.\n",
      "chb03_12.edf was import but not resampled 256Hz.\n",
      "chb03_13.edf was import but not resampled 256Hz.\n",
      "chb03_14.edf was import but not resampled 256Hz.\n",
      "chb03_15.edf was import but not resampled 256Hz.\n",
      "chb03_16.edf was import but not resampled 256Hz.\n",
      "chb03_17.edf was import but not resampled 256Hz.\n",
      "chb03_18.edf was import but not resampled 256Hz.\n",
      "chb03_19.edf was import but not resampled 256Hz.\n",
      "chb03_20.edf was import but not resampled 256Hz.\n",
      "chb03_21.edf was import but not resampled 256Hz.\n",
      "chb03_22.edf was import but not resampled 256Hz.\n",
      "chb03_23.edf was import but not resampled 256Hz.\n",
      "chb03_24.edf was import but not resampled 256Hz.\n",
      "chb03_25.edf was import but not resampled 256Hz.\n",
      "chb03_26.edf was import but not resampled 256Hz.\n",
      "chb03_27.edf was import but not resampled 256Hz.\n",
      "chb03_28.edf was import but not resampled 256Hz.\n",
      "chb03_29.edf was import but not resampled 256Hz.\n",
      "chb03_30.edf was import but not resampled 256Hz.\n",
      "chb03_31.edf was import but not resampled 256Hz.\n",
      "chb03_32.edf was import but not resampled 256Hz.\n",
      "chb03_33.edf was import but not resampled 256Hz.\n",
      "chb03_34.edf was import but not resampled 256Hz.\n",
      "chb03_34.edf seizure and buffer was labeled\n",
      "chb03_35.edf was import but not resampled 256Hz.\n",
      "chb03_35.edf seizure and buffer was labeled\n",
      "chb03_36.edf was import but not resampled 256Hz.\n",
      "chb03_36.edf seizure and buffer was labeled\n",
      "chb03_37.edf was import but not resampled 256Hz.\n",
      "chb03_38.edf was import but not resampled 256Hz.\n",
      "patient chb03 sessions concatenated.\n",
      "data of patients [3] were concatenated.\n",
      "(35022336, 25)\n",
      "/Users/anabroggini/Documents/bootcamp/ai2/source/../data/eeg_single.arrow was successfully written.\n"
     ]
    }
   ],
   "source": [
    "# example save default single patient to disc\n",
    "data_import.save_pyarrow_eeg_single()"
   ]
  },
  {
   "cell_type": "code",
   "execution_count": 3,
   "metadata": {},
   "outputs": [
    {
     "name": "stdout",
     "output_type": "stream",
     "text": [
      "/home/weasel/reps/ai-seizure-detectives/source/../data/eeg_single.arrow was loaded.\n"
     ]
    },
    {
     "data": {
      "text/plain": [
       "(35022336, 25)"
      ]
     },
     "execution_count": 3,
     "metadata": {},
     "output_type": "execute_result"
    }
   ],
   "source": [
    "# load single patient via memory mapping\n",
    "df = data_import.load_eeg_single_mem()\n",
    "df.shape"
   ]
  },
  {
   "cell_type": "code",
   "execution_count": 4,
   "metadata": {},
   "outputs": [
    {
     "data": {
      "text/plain": [
       "<Axes: >"
      ]
     },
     "execution_count": 4,
     "metadata": {},
     "output_type": "execute_result"
    },
    {
     "data": {
      "image/png": "[encoded data removed]",
      "text/plain": [
       "<Figure size 640x480 with 1 Axes>"
      ]
     },
     "metadata": {},
     "output_type": "display_data"
    }
   ],
   "source": [
    "df.is_seizure.astype(int).plot()"
   ]
  },
  {
   "cell_type": "code",
   "execution_count": 6,
   "metadata": {},
   "outputs": [
    {
     "data": {
      "text/plain": [
       "channel\n",
       "FP1-F7            0.234281\n",
       "F7-T7             0.250443\n",
       "T7-P7             0.138292\n",
       "P7-O1             0.216271\n",
       "FP1-F3            0.241179\n",
       "F3-C3             0.204992\n",
       "C3-P3             0.198572\n",
       "P3-O1             0.195276\n",
       "FP2-F4            0.238687\n",
       "F4-C4             0.209138\n",
       "C4-P4             0.196704\n",
       "P4-O2             0.197154\n",
       "FP2-F8            0.237827\n",
       "F8-T8             0.250806\n",
       "T8-P8-0           0.141671\n",
       "P8-O2             0.203337\n",
       "FZ-CZ             0.215238\n",
       "CZ-PZ             0.195880\n",
       "P7-T7             0.252428\n",
       "T7-FT9            0.151716\n",
       "FT9-FT10          0.201606\n",
       "FT10-T8           0.244361\n",
       "T8-P8-1           0.141671\n",
       "is_seizure        0.002990\n",
       "before_seizure    0.015401\n",
       "dtype: float64"
      ]
     },
     "execution_count": 6,
     "metadata": {},
     "output_type": "execute_result"
    }
   ],
   "source": [
    "df.mean()"
   ]
  },
  {
   "cell_type": "code",
   "execution_count": 4,
   "metadata": {},
   "outputs": [
    {
     "name": "stdout",
     "output_type": "stream",
     "text": [
      "chb01_03.edf was import but not resampled 256Hz.\n",
      "chb01_03.edf seizure and buffer was labeled\n",
      "chb01_04.edf was import but not resampled 256Hz.\n",
      "chb01_04.edf seizure and buffer was labeled\n",
      "chb01_15.edf was import but not resampled 256Hz.\n",
      "chb01_15.edf seizure and buffer was labeled\n",
      "chb01_16.edf was import but not resampled 256Hz.\n",
      "chb01_16.edf seizure and buffer was labeled\n",
      "chb01_18.edf was import but not resampled 256Hz.\n",
      "chb01_18.edf seizure and buffer was labeled\n",
      "chb01_21.edf was import but not resampled 256Hz.\n",
      "chb01_21.edf seizure and buffer was labeled\n",
      "chb01_26.edf was import but not resampled 256Hz.\n",
      "chb01_26.edf seizure and buffer was labeled\n",
      "patient chb01 sessions concatenated.\n",
      "chb02_16+.edf was import but not resampled 256Hz.\n",
      "chb02_16+.edf seizure and buffer was labeled\n",
      "chb02_16.edf was import but not resampled 256Hz.\n",
      "chb02_16.edf seizure and buffer was labeled\n",
      "chb02_19.edf was import but not resampled 256Hz.\n",
      "chb02_19.edf seizure and buffer was labeled\n",
      "patient chb02 sessions concatenated.\n",
      "chb03_01.edf was import but not resampled 256Hz.\n",
      "chb03_01.edf seizure and buffer was labeled\n",
      "chb03_02.edf was import but not resampled 256Hz.\n",
      "chb03_02.edf seizure and buffer was labeled\n",
      "chb03_03.edf was import but not resampled 256Hz.\n",
      "chb03_03.edf seizure and buffer was labeled\n",
      "chb03_04.edf was import but not resampled 256Hz.\n",
      "chb03_04.edf seizure and buffer was labeled\n",
      "chb03_34.edf was import but not resampled 256Hz.\n",
      "chb03_34.edf seizure and buffer was labeled\n",
      "chb03_35.edf was import but not resampled 256Hz.\n",
      "chb03_35.edf seizure and buffer was labeled\n",
      "chb03_36.edf was import but not resampled 256Hz.\n",
      "chb03_36.edf seizure and buffer was labeled\n",
      "patient chb03 sessions concatenated.\n",
      "chb05_06.edf was import but not resampled 256Hz.\n",
      "chb05_06.edf seizure and buffer was labeled\n",
      "chb05_13.edf was import but not resampled 256Hz.\n",
      "chb05_13.edf seizure and buffer was labeled\n",
      "chb05_16.edf was import but not resampled 256Hz.\n",
      "chb05_16.edf seizure and buffer was labeled\n",
      "chb05_17.edf was import but not resampled 256Hz.\n",
      "chb05_17.edf seizure and buffer was labeled\n",
      "chb05_22.edf was import but not resampled 256Hz.\n",
      "chb05_22.edf seizure and buffer was labeled\n",
      "patient chb05 sessions concatenated.\n",
      "data of patients [1, 2, 3, 5] were concatenated.\n"
     ]
    }
   ],
   "source": [
    "p_df = data_import.import_patients(patient_ids=[1,2,3,5], seizure_flag=True)"
   ]
  },
  {
   "cell_type": "code",
   "execution_count": null,
   "metadata": {},
   "outputs": [
    {
     "name": "stdout",
     "output_type": "stream",
     "text": [
      "procs -----------memory---------- ---swap-- -----io---- -system-- ------cpu-----\n",
      " r  b   swpd   free   buff  cache   si   so    bi    bo   in   cs us sy id wa st\n",
      " 3  0      0 13330000 187844 2092148    0    0   178     3   25   52  1  0 99  0  0\n"
     ]
    }
   ],
   "source": [
    "# show memory in cli. this is only working for linux.\n",
    "# !vmstat "
   ]
  },
  {
   "cell_type": "code",
   "execution_count": 5,
   "metadata": {},
   "outputs": [
    {
     "name": "stdout",
     "output_type": "stream",
     "text": [
      "/Users/anabroggini/Documents/bootcamp/ai2/source/../data/my_data.arrow was successfully written.\n"
     ]
    }
   ],
   "source": [
    "# to save a dataframe for memory mapping\n",
    "data_import.save_pyarrow(p_df, file_name=\"my_data\")"
   ]
  },
  {
   "cell_type": "code",
   "execution_count": 6,
   "metadata": {},
   "outputs": [
    {
     "name": "stdout",
     "output_type": "stream",
     "text": [
      "/Users/anabroggini/Documents/bootcamp/ai2/source/../data/my_data.arrow was loaded.\n"
     ]
    },
    {
     "data": {
      "text/plain": [
       "(19272704, 25)"
      ]
     },
     "execution_count": 6,
     "metadata": {},
     "output_type": "execute_result"
    }
   ],
   "source": [
    "# to load it with memory mapping\n",
    "p_df_mem = data_import.load_pyarrow(file_name=\"my_data\")\n",
    "p_df_mem.shape"
   ]
  },
  {
   "cell_type": "code",
   "execution_count": 7,
   "metadata": {},
   "outputs": [
    {
     "data": {
      "text/plain": [
       "<Axes: >"
      ]
     },
     "execution_count": 7,
     "metadata": {},
     "output_type": "execute_result"
    },
    {
     "data": {
      "image/png": "[encoded data removed]",
      "text/plain": [
       "<Figure size 640x480 with 1 Axes>"
      ]
     },
     "metadata": {},
     "output_type": "display_data"
    }
   ],
   "source": [
    "p_df_mem.loc[:, ['is_seizure', 'before_seizure']].astype(int).plot()"
   ]
  },
  {
   "cell_type": "code",
   "execution_count": 11,
   "metadata": {},
   "outputs": [
    {
     "data": {
      "text/html": [
       "<div>\n",
       "<style scoped>\n",
       "    .dataframe tbody tr th:only-of-type {\n",
       "        vertical-align: middle;\n",
       "    }\n",
       "\n",
       "    .dataframe tbody tr th {\n",
       "        vertical-align: top;\n",
       "    }\n",
       "\n",
       "    .dataframe thead th {\n",
       "        text-align: right;\n",
       "    }\n",
       "</style>\n",
       "<table border=\"1\" class=\"dataframe\">\n",
       "  <thead>\n",
       "    <tr style=\"text-align: right;\">\n",
       "      <th>channel</th>\n",
       "      <th>FP1-F7</th>\n",
       "      <th>F7-T7</th>\n",
       "      <th>T7-P7</th>\n",
       "      <th>P7-O1</th>\n",
       "      <th>FP1-F3</th>\n",
       "      <th>F3-C3</th>\n",
       "      <th>C3-P3</th>\n",
       "      <th>P3-O1</th>\n",
       "      <th>FP2-F4</th>\n",
       "      <th>F4-C4</th>\n",
       "      <th>...</th>\n",
       "      <th>P8-O2</th>\n",
       "      <th>FZ-CZ</th>\n",
       "      <th>CZ-PZ</th>\n",
       "      <th>P7-T7</th>\n",
       "      <th>T7-FT9</th>\n",
       "      <th>FT9-FT10</th>\n",
       "      <th>FT10-T8</th>\n",
       "      <th>T8-P8-1</th>\n",
       "      <th>is_seizure</th>\n",
       "      <th>before_seizure</th>\n",
       "    </tr>\n",
       "  </thead>\n",
       "  <tbody>\n",
       "    <tr>\n",
       "      <th>0 days 00:00:00</th>\n",
       "      <td>-17.777778</td>\n",
       "      <td>39.267399</td>\n",
       "      <td>-3.711844</td>\n",
       "      <td>8.400488</td>\n",
       "      <td>-0.586081</td>\n",
       "      <td>4.102564</td>\n",
       "      <td>37.704518</td>\n",
       "      <td>-15.042735</td>\n",
       "      <td>-17.387057</td>\n",
       "      <td>-45.128205</td>\n",
       "      <td>...</td>\n",
       "      <td>180.317460</td>\n",
       "      <td>-18.559219</td>\n",
       "      <td>85.372405</td>\n",
       "      <td>4.102564</td>\n",
       "      <td>20.903541</td>\n",
       "      <td>-9.181929</td>\n",
       "      <td>-39.65812</td>\n",
       "      <td>-59.97558</td>\n",
       "      <td>False</td>\n",
       "      <td>False</td>\n",
       "    </tr>\n",
       "    <tr>\n",
       "      <th>0 days 00:00:00.003906250</th>\n",
       "      <td>0.195360</td>\n",
       "      <td>0.195360</td>\n",
       "      <td>0.195360</td>\n",
       "      <td>0.195360</td>\n",
       "      <td>0.195360</td>\n",
       "      <td>0.195360</td>\n",
       "      <td>0.195360</td>\n",
       "      <td>0.195360</td>\n",
       "      <td>0.195360</td>\n",
       "      <td>0.195360</td>\n",
       "      <td>...</td>\n",
       "      <td>0.195360</td>\n",
       "      <td>0.195360</td>\n",
       "      <td>0.195360</td>\n",
       "      <td>0.195360</td>\n",
       "      <td>0.195360</td>\n",
       "      <td>0.195360</td>\n",
       "      <td>0.19536</td>\n",
       "      <td>0.19536</td>\n",
       "      <td>False</td>\n",
       "      <td>False</td>\n",
       "    </tr>\n",
       "    <tr>\n",
       "      <th>0 days 00:00:00.007812500</th>\n",
       "      <td>0.195360</td>\n",
       "      <td>0.195360</td>\n",
       "      <td>0.195360</td>\n",
       "      <td>0.195360</td>\n",
       "      <td>0.195360</td>\n",
       "      <td>0.195360</td>\n",
       "      <td>0.195360</td>\n",
       "      <td>0.195360</td>\n",
       "      <td>0.195360</td>\n",
       "      <td>0.195360</td>\n",
       "      <td>...</td>\n",
       "      <td>0.195360</td>\n",
       "      <td>0.195360</td>\n",
       "      <td>0.195360</td>\n",
       "      <td>0.195360</td>\n",
       "      <td>0.195360</td>\n",
       "      <td>0.195360</td>\n",
       "      <td>0.19536</td>\n",
       "      <td>0.19536</td>\n",
       "      <td>False</td>\n",
       "      <td>False</td>\n",
       "    </tr>\n",
       "    <tr>\n",
       "      <th>0 days 00:00:00.011718750</th>\n",
       "      <td>0.586081</td>\n",
       "      <td>0.195360</td>\n",
       "      <td>0.195360</td>\n",
       "      <td>0.195360</td>\n",
       "      <td>0.195360</td>\n",
       "      <td>0.195360</td>\n",
       "      <td>0.586081</td>\n",
       "      <td>-0.195360</td>\n",
       "      <td>0.195360</td>\n",
       "      <td>0.586081</td>\n",
       "      <td>...</td>\n",
       "      <td>2.148962</td>\n",
       "      <td>0.586081</td>\n",
       "      <td>0.586081</td>\n",
       "      <td>0.195360</td>\n",
       "      <td>1.367521</td>\n",
       "      <td>-0.195360</td>\n",
       "      <td>-0.19536</td>\n",
       "      <td>0.19536</td>\n",
       "      <td>False</td>\n",
       "      <td>False</td>\n",
       "    </tr>\n",
       "    <tr>\n",
       "      <th>0 days 00:00:00.015625</th>\n",
       "      <td>0.195360</td>\n",
       "      <td>0.195360</td>\n",
       "      <td>0.195360</td>\n",
       "      <td>0.195360</td>\n",
       "      <td>0.195360</td>\n",
       "      <td>0.195360</td>\n",
       "      <td>0.195360</td>\n",
       "      <td>0.195360</td>\n",
       "      <td>0.195360</td>\n",
       "      <td>0.195360</td>\n",
       "      <td>...</td>\n",
       "      <td>2.148962</td>\n",
       "      <td>0.195360</td>\n",
       "      <td>0.195360</td>\n",
       "      <td>0.195360</td>\n",
       "      <td>-0.195360</td>\n",
       "      <td>0.195360</td>\n",
       "      <td>0.19536</td>\n",
       "      <td>0.19536</td>\n",
       "      <td>False</td>\n",
       "      <td>False</td>\n",
       "    </tr>\n",
       "  </tbody>\n",
       "</table>\n",
       "<p>5 rows × 25 columns</p>\n",
       "</div>"
      ],
      "text/plain": [
       "channel                       FP1-F7      F7-T7     T7-P7     P7-O1    FP1-F3  \\\n",
       "0 days 00:00:00           -17.777778  39.267399 -3.711844  8.400488 -0.586081   \n",
       "0 days 00:00:00.003906250   0.195360   0.195360  0.195360  0.195360  0.195360   \n",
       "0 days 00:00:00.007812500   0.195360   0.195360  0.195360  0.195360  0.195360   \n",
       "0 days 00:00:00.011718750   0.586081   0.195360  0.195360  0.195360  0.195360   \n",
       "0 days 00:00:00.015625      0.195360   0.195360  0.195360  0.195360  0.195360   \n",
       "\n",
       "channel                       F3-C3      C3-P3      P3-O1     FP2-F4  \\\n",
       "0 days 00:00:00            4.102564  37.704518 -15.042735 -17.387057   \n",
       "0 days 00:00:00.003906250  0.195360   0.195360   0.195360   0.195360   \n",
       "0 days 00:00:00.007812500  0.195360   0.195360   0.195360   0.195360   \n",
       "0 days 00:00:00.011718750  0.195360   0.586081  -0.195360   0.195360   \n",
       "0 days 00:00:00.015625     0.195360   0.195360   0.195360   0.195360   \n",
       "\n",
       "channel                        F4-C4  ...       P8-O2      FZ-CZ      CZ-PZ  \\\n",
       "0 days 00:00:00           -45.128205  ...  180.317460 -18.559219  85.372405   \n",
       "0 days 00:00:00.003906250   0.195360  ...    0.195360   0.195360   0.195360   \n",
       "0 days 00:00:00.007812500   0.195360  ...    0.195360   0.195360   0.195360   \n",
       "0 days 00:00:00.011718750   0.586081  ...    2.148962   0.586081   0.586081   \n",
       "0 days 00:00:00.015625      0.195360  ...    2.148962   0.195360   0.195360   \n",
       "\n",
       "channel                       P7-T7     T7-FT9  FT9-FT10   FT10-T8   T8-P8-1  \\\n",
       "0 days 00:00:00            4.102564  20.903541 -9.181929 -39.65812 -59.97558   \n",
       "0 days 00:00:00.003906250  0.195360   0.195360  0.195360   0.19536   0.19536   \n",
       "0 days 00:00:00.007812500  0.195360   0.195360  0.195360   0.19536   0.19536   \n",
       "0 days 00:00:00.011718750  0.195360   1.367521 -0.195360  -0.19536   0.19536   \n",
       "0 days 00:00:00.015625     0.195360  -0.195360  0.195360   0.19536   0.19536   \n",
       "\n",
       "channel                    is_seizure  before_seizure  \n",
       "0 days 00:00:00                 False           False  \n",
       "0 days 00:00:00.003906250       False           False  \n",
       "0 days 00:00:00.007812500       False           False  \n",
       "0 days 00:00:00.011718750       False           False  \n",
       "0 days 00:00:00.015625          False           False  \n",
       "\n",
       "[5 rows x 25 columns]"
      ]
     },
     "execution_count": 11,
     "metadata": {},
     "output_type": "execute_result"
    }
   ],
   "source": [
    "p_df_mem.head()"
   ]
  }
 ],
 "metadata": {
  "kernelspec": {
   "display_name": ".venv",
   "language": "python",
   "name": "python3"
  },
  "language_info": {
   "codemirror_mode": {
    "name": "ipython",
    "version": 3
   },
   "file_extension": ".py",
   "mimetype": "text/x-python",
   "name": "python",
   "nbconvert_exporter": "python",
   "pygments_lexer": "ipython3",
   "version": "3.11.3"
  }
 },
 "nbformat": 4,
 "nbformat_minor": 2
}
