{
 "cells": [
  {
   "cell_type": "code",
   "execution_count": 1,
   "metadata": {},
   "outputs": [],
   "source": [
    "import mne \n",
    "import os\n",
    "import matplotlib.pyplot as plt\n",
    "import seaborn as sns\n",
    "from mne.io import  read_raw_edf\n",
    "\n"
   ]
  },
  {
   "cell_type": "code",
   "execution_count": 42,
   "metadata": {},
   "outputs": [
    {
     "name": "stdout",
     "output_type": "stream",
     "text": [
      "Extracting EDF parameters from /Users/Samet/Documents/Bildung/BootcampSpiced/github_rice_regression/Capstone_project/chb-mit-scalp-eeg-database-1.0.0/chb01/chb01_01.edf...\n"
     ]
    },
    {
     "name": "stdout",
     "output_type": "stream",
     "text": [
      "EDF file detected\n",
      "Setting channel info structure...\n",
      "Creating raw.info structure...\n",
      "Reading 0 ... 921599  =      0.000 ...  3599.996 secs...\n"
     ]
    },
    {
     "name": "stderr",
     "output_type": "stream",
     "text": [
      "/var/folders/qc/mckg6k9d38ngx5rhh3c9fbpr0000gp/T/ipykernel_34237/1121858947.py:19: RuntimeWarning: Channel names are not unique, found duplicates for: {'T8-P8'}. Applying running numbers for duplicates.\n",
      "  raw = mne.io.read_raw_edf(file_path, preload=True)\n"
     ]
    },
    {
     "name": "stdout",
     "output_type": "stream",
     "text": [
      "NOTE: pick_channels() is a legacy function. New code should use inst.pick(...).\n"
     ]
    },
    {
     "name": "stderr",
     "output_type": "stream",
     "text": [
      "/var/folders/qc/mckg6k9d38ngx5rhh3c9fbpr0000gp/T/ipykernel_34237/1121858947.py:22: FutureWarning: The default for pick_channels will change from ordered=False to ordered=True in 1.5 and this will result in a change of behavior because the resulting channel order will not match. Either use a channel order that matches your instance or pass ordered=False.\n",
      "  raw.pick_channels(channels_to_keep)\n"
     ]
    },
    {
     "name": "stdout",
     "output_type": "stream",
     "text": [
      "Extracting EDF parameters from /Users/Samet/Documents/Bildung/BootcampSpiced/github_rice_regression/Capstone_project/chb-mit-scalp-eeg-database-1.0.0/chb01/chb01_02.edf...\n",
      "EDF file detected\n",
      "Setting channel info structure...\n",
      "Creating raw.info structure...\n",
      "Reading 0 ... 921599  =      0.000 ...  3599.996 secs...\n"
     ]
    },
    {
     "name": "stderr",
     "output_type": "stream",
     "text": [
      "/var/folders/qc/mckg6k9d38ngx5rhh3c9fbpr0000gp/T/ipykernel_34237/1121858947.py:19: RuntimeWarning: Channel names are not unique, found duplicates for: {'T8-P8'}. Applying running numbers for duplicates.\n",
      "  raw = mne.io.read_raw_edf(file_path, preload=True)\n"
     ]
    },
    {
     "name": "stdout",
     "output_type": "stream",
     "text": [
      "NOTE: pick_channels() is a legacy function. New code should use inst.pick(...).\n"
     ]
    },
    {
     "name": "stderr",
     "output_type": "stream",
     "text": [
      "/var/folders/qc/mckg6k9d38ngx5rhh3c9fbpr0000gp/T/ipykernel_34237/1121858947.py:22: FutureWarning: The default for pick_channels will change from ordered=False to ordered=True in 1.5 and this will result in a change of behavior because the resulting channel order will not match. Either use a channel order that matches your instance or pass ordered=False.\n",
      "  raw.pick_channels(channels_to_keep)\n"
     ]
    },
    {
     "name": "stdout",
     "output_type": "stream",
     "text": [
      "Extracting EDF parameters from /Users/Samet/Documents/Bildung/BootcampSpiced/github_rice_regression/Capstone_project/chb-mit-scalp-eeg-database-1.0.0/chb01/chb01_03.edf...\n",
      "EDF file detected\n",
      "Setting channel info structure...\n",
      "Creating raw.info structure...\n",
      "Reading 0 ... 921599  =      0.000 ...  3599.996 secs...\n"
     ]
    },
    {
     "name": "stderr",
     "output_type": "stream",
     "text": [
      "/var/folders/qc/mckg6k9d38ngx5rhh3c9fbpr0000gp/T/ipykernel_34237/1121858947.py:19: RuntimeWarning: Channel names are not unique, found duplicates for: {'T8-P8'}. Applying running numbers for duplicates.\n",
      "  raw = mne.io.read_raw_edf(file_path, preload=True)\n"
     ]
    },
    {
     "name": "stdout",
     "output_type": "stream",
     "text": [
      "NOTE: pick_channels() is a legacy function. New code should use inst.pick(...).\n"
     ]
    },
    {
     "name": "stderr",
     "output_type": "stream",
     "text": [
      "/var/folders/qc/mckg6k9d38ngx5rhh3c9fbpr0000gp/T/ipykernel_34237/1121858947.py:22: FutureWarning: The default for pick_channels will change from ordered=False to ordered=True in 1.5 and this will result in a change of behavior because the resulting channel order will not match. Either use a channel order that matches your instance or pass ordered=False.\n",
      "  raw.pick_channels(channels_to_keep)\n"
     ]
    },
    {
     "name": "stdout",
     "output_type": "stream",
     "text": [
      "Extracting EDF parameters from /Users/Samet/Documents/Bildung/BootcampSpiced/github_rice_regression/Capstone_project/chb-mit-scalp-eeg-database-1.0.0/chb01/chb01_04.edf...\n",
      "EDF file detected\n",
      "Setting channel info structure...\n",
      "Creating raw.info structure...\n",
      "Reading 0 ... 921599  =      0.000 ...  3599.996 secs...\n"
     ]
    },
    {
     "name": "stderr",
     "output_type": "stream",
     "text": [
      "/var/folders/qc/mckg6k9d38ngx5rhh3c9fbpr0000gp/T/ipykernel_34237/1121858947.py:19: RuntimeWarning: Channel names are not unique, found duplicates for: {'T8-P8'}. Applying running numbers for duplicates.\n",
      "  raw = mne.io.read_raw_edf(file_path, preload=True)\n"
     ]
    },
    {
     "name": "stdout",
     "output_type": "stream",
     "text": [
      "NOTE: pick_channels() is a legacy function. New code should use inst.pick(...).\n"
     ]
    },
    {
     "name": "stderr",
     "output_type": "stream",
     "text": [
      "/var/folders/qc/mckg6k9d38ngx5rhh3c9fbpr0000gp/T/ipykernel_34237/1121858947.py:22: FutureWarning: The default for pick_channels will change from ordered=False to ordered=True in 1.5 and this will result in a change of behavior because the resulting channel order will not match. Either use a channel order that matches your instance or pass ordered=False.\n",
      "  raw.pick_channels(channels_to_keep)\n"
     ]
    },
    {
     "name": "stdout",
     "output_type": "stream",
     "text": [
      "Extracting EDF parameters from /Users/Samet/Documents/Bildung/BootcampSpiced/github_rice_regression/Capstone_project/chb-mit-scalp-eeg-database-1.0.0/chb01/chb01_05.edf...\n",
      "EDF file detected\n",
      "Setting channel info structure...\n",
      "Creating raw.info structure...\n",
      "Reading 0 ... 921599  =      0.000 ...  3599.996 secs...\n"
     ]
    },
    {
     "name": "stderr",
     "output_type": "stream",
     "text": [
      "/var/folders/qc/mckg6k9d38ngx5rhh3c9fbpr0000gp/T/ipykernel_34237/1121858947.py:19: RuntimeWarning: Channel names are not unique, found duplicates for: {'T8-P8'}. Applying running numbers for duplicates.\n",
      "  raw = mne.io.read_raw_edf(file_path, preload=True)\n"
     ]
    },
    {
     "name": "stdout",
     "output_type": "stream",
     "text": [
      "NOTE: pick_channels() is a legacy function. New code should use inst.pick(...).\n"
     ]
    },
    {
     "name": "stderr",
     "output_type": "stream",
     "text": [
      "/var/folders/qc/mckg6k9d38ngx5rhh3c9fbpr0000gp/T/ipykernel_34237/1121858947.py:22: FutureWarning: The default for pick_channels will change from ordered=False to ordered=True in 1.5 and this will result in a change of behavior because the resulting channel order will not match. Either use a channel order that matches your instance or pass ordered=False.\n",
      "  raw.pick_channels(channels_to_keep)\n"
     ]
    },
    {
     "name": "stdout",
     "output_type": "stream",
     "text": [
      "Extracting EDF parameters from /Users/Samet/Documents/Bildung/BootcampSpiced/github_rice_regression/Capstone_project/chb-mit-scalp-eeg-database-1.0.0/chb01/chb01_06.edf...\n",
      "EDF file detected\n",
      "Setting channel info structure...\n",
      "Creating raw.info structure...\n",
      "Reading 0 ... 921599  =      0.000 ...  3599.996 secs...\n"
     ]
    },
    {
     "name": "stderr",
     "output_type": "stream",
     "text": [
      "/var/folders/qc/mckg6k9d38ngx5rhh3c9fbpr0000gp/T/ipykernel_34237/1121858947.py:19: RuntimeWarning: Channel names are not unique, found duplicates for: {'T8-P8'}. Applying running numbers for duplicates.\n",
      "  raw = mne.io.read_raw_edf(file_path, preload=True)\n"
     ]
    },
    {
     "name": "stdout",
     "output_type": "stream",
     "text": [
      "NOTE: pick_channels() is a legacy function. New code should use inst.pick(...).\n"
     ]
    },
    {
     "name": "stderr",
     "output_type": "stream",
     "text": [
      "/var/folders/qc/mckg6k9d38ngx5rhh3c9fbpr0000gp/T/ipykernel_34237/1121858947.py:22: FutureWarning: The default for pick_channels will change from ordered=False to ordered=True in 1.5 and this will result in a change of behavior because the resulting channel order will not match. Either use a channel order that matches your instance or pass ordered=False.\n",
      "  raw.pick_channels(channels_to_keep)\n"
     ]
    },
    {
     "name": "stdout",
     "output_type": "stream",
     "text": [
      "Extracting EDF parameters from /Users/Samet/Documents/Bildung/BootcampSpiced/github_rice_regression/Capstone_project/chb-mit-scalp-eeg-database-1.0.0/chb01/chb01_07.edf...\n",
      "EDF file detected\n",
      "Setting channel info structure...\n",
      "Creating raw.info structure...\n",
      "Reading 0 ... 921599  =      0.000 ...  3599.996 secs...\n"
     ]
    },
    {
     "name": "stderr",
     "output_type": "stream",
     "text": [
      "/var/folders/qc/mckg6k9d38ngx5rhh3c9fbpr0000gp/T/ipykernel_34237/1121858947.py:19: RuntimeWarning: Channel names are not unique, found duplicates for: {'T8-P8'}. Applying running numbers for duplicates.\n",
      "  raw = mne.io.read_raw_edf(file_path, preload=True)\n"
     ]
    },
    {
     "name": "stdout",
     "output_type": "stream",
     "text": [
      "NOTE: pick_channels() is a legacy function. New code should use inst.pick(...).\n"
     ]
    },
    {
     "name": "stderr",
     "output_type": "stream",
     "text": [
      "/var/folders/qc/mckg6k9d38ngx5rhh3c9fbpr0000gp/T/ipykernel_34237/1121858947.py:22: FutureWarning: The default for pick_channels will change from ordered=False to ordered=True in 1.5 and this will result in a change of behavior because the resulting channel order will not match. Either use a channel order that matches your instance or pass ordered=False.\n",
      "  raw.pick_channels(channels_to_keep)\n"
     ]
    },
    {
     "name": "stdout",
     "output_type": "stream",
     "text": [
      "Extracting EDF parameters from /Users/Samet/Documents/Bildung/BootcampSpiced/github_rice_regression/Capstone_project/chb-mit-scalp-eeg-database-1.0.0/chb01/chb01_08.edf...\n",
      "EDF file detected\n",
      "Setting channel info structure...\n",
      "Creating raw.info structure...\n",
      "Reading 0 ... 921599  =      0.000 ...  3599.996 secs...\n"
     ]
    },
    {
     "name": "stderr",
     "output_type": "stream",
     "text": [
      "/var/folders/qc/mckg6k9d38ngx5rhh3c9fbpr0000gp/T/ipykernel_34237/1121858947.py:19: RuntimeWarning: Channel names are not unique, found duplicates for: {'T8-P8'}. Applying running numbers for duplicates.\n",
      "  raw = mne.io.read_raw_edf(file_path, preload=True)\n"
     ]
    },
    {
     "name": "stdout",
     "output_type": "stream",
     "text": [
      "NOTE: pick_channels() is a legacy function. New code should use inst.pick(...).\n"
     ]
    },
    {
     "name": "stderr",
     "output_type": "stream",
     "text": [
      "/var/folders/qc/mckg6k9d38ngx5rhh3c9fbpr0000gp/T/ipykernel_34237/1121858947.py:22: FutureWarning: The default for pick_channels will change from ordered=False to ordered=True in 1.5 and this will result in a change of behavior because the resulting channel order will not match. Either use a channel order that matches your instance or pass ordered=False.\n",
      "  raw.pick_channels(channels_to_keep)\n"
     ]
    },
    {
     "name": "stdout",
     "output_type": "stream",
     "text": [
      "Extracting EDF parameters from /Users/Samet/Documents/Bildung/BootcampSpiced/github_rice_regression/Capstone_project/chb-mit-scalp-eeg-database-1.0.0/chb01/chb01_09.edf...\n",
      "EDF file detected\n",
      "Setting channel info structure...\n",
      "Creating raw.info structure...\n",
      "Reading 0 ... 921599  =      0.000 ...  3599.996 secs...\n"
     ]
    },
    {
     "name": "stderr",
     "output_type": "stream",
     "text": [
      "/var/folders/qc/mckg6k9d38ngx5rhh3c9fbpr0000gp/T/ipykernel_34237/1121858947.py:19: RuntimeWarning: Channel names are not unique, found duplicates for: {'T8-P8'}. Applying running numbers for duplicates.\n",
      "  raw = mne.io.read_raw_edf(file_path, preload=True)\n"
     ]
    },
    {
     "name": "stdout",
     "output_type": "stream",
     "text": [
      "NOTE: pick_channels() is a legacy function. New code should use inst.pick(...).\n"
     ]
    },
    {
     "name": "stderr",
     "output_type": "stream",
     "text": [
      "/var/folders/qc/mckg6k9d38ngx5rhh3c9fbpr0000gp/T/ipykernel_34237/1121858947.py:22: FutureWarning: The default for pick_channels will change from ordered=False to ordered=True in 1.5 and this will result in a change of behavior because the resulting channel order will not match. Either use a channel order that matches your instance or pass ordered=False.\n",
      "  raw.pick_channels(channels_to_keep)\n"
     ]
    },
    {
     "name": "stdout",
     "output_type": "stream",
     "text": [
      "Extracting EDF parameters from /Users/Samet/Documents/Bildung/BootcampSpiced/github_rice_regression/Capstone_project/chb-mit-scalp-eeg-database-1.0.0/chb01/chb01_10.edf...\n",
      "EDF file detected\n",
      "Setting channel info structure...\n",
      "Creating raw.info structure...\n",
      "Reading 0 ... 921599  =      0.000 ...  3599.996 secs...\n"
     ]
    },
    {
     "name": "stderr",
     "output_type": "stream",
     "text": [
      "/var/folders/qc/mckg6k9d38ngx5rhh3c9fbpr0000gp/T/ipykernel_34237/1121858947.py:19: RuntimeWarning: Channel names are not unique, found duplicates for: {'T8-P8'}. Applying running numbers for duplicates.\n",
      "  raw = mne.io.read_raw_edf(file_path, preload=True)\n"
     ]
    },
    {
     "name": "stdout",
     "output_type": "stream",
     "text": [
      "NOTE: pick_channels() is a legacy function. New code should use inst.pick(...).\n"
     ]
    },
    {
     "name": "stderr",
     "output_type": "stream",
     "text": [
      "/var/folders/qc/mckg6k9d38ngx5rhh3c9fbpr0000gp/T/ipykernel_34237/1121858947.py:22: FutureWarning: The default for pick_channels will change from ordered=False to ordered=True in 1.5 and this will result in a change of behavior because the resulting channel order will not match. Either use a channel order that matches your instance or pass ordered=False.\n",
      "  raw.pick_channels(channels_to_keep)\n"
     ]
    },
    {
     "name": "stdout",
     "output_type": "stream",
     "text": [
      "Extracting EDF parameters from /Users/Samet/Documents/Bildung/BootcampSpiced/github_rice_regression/Capstone_project/chb-mit-scalp-eeg-database-1.0.0/chb01/chb01_11.edf...\n",
      "EDF file detected\n",
      "Setting channel info structure...\n",
      "Creating raw.info structure...\n",
      "Reading 0 ... 921599  =      0.000 ...  3599.996 secs...\n"
     ]
    },
    {
     "name": "stderr",
     "output_type": "stream",
     "text": [
      "/var/folders/qc/mckg6k9d38ngx5rhh3c9fbpr0000gp/T/ipykernel_34237/1121858947.py:19: RuntimeWarning: Channel names are not unique, found duplicates for: {'T8-P8'}. Applying running numbers for duplicates.\n",
      "  raw = mne.io.read_raw_edf(file_path, preload=True)\n"
     ]
    },
    {
     "name": "stdout",
     "output_type": "stream",
     "text": [
      "NOTE: pick_channels() is a legacy function. New code should use inst.pick(...).\n"
     ]
    },
    {
     "name": "stderr",
     "output_type": "stream",
     "text": [
      "/var/folders/qc/mckg6k9d38ngx5rhh3c9fbpr0000gp/T/ipykernel_34237/1121858947.py:22: FutureWarning: The default for pick_channels will change from ordered=False to ordered=True in 1.5 and this will result in a change of behavior because the resulting channel order will not match. Either use a channel order that matches your instance or pass ordered=False.\n",
      "  raw.pick_channels(channels_to_keep)\n"
     ]
    },
    {
     "name": "stdout",
     "output_type": "stream",
     "text": [
      "Extracting EDF parameters from /Users/Samet/Documents/Bildung/BootcampSpiced/github_rice_regression/Capstone_project/chb-mit-scalp-eeg-database-1.0.0/chb01/chb01_12.edf...\n",
      "EDF file detected\n",
      "Setting channel info structure...\n",
      "Creating raw.info structure...\n",
      "Reading 0 ... 921599  =      0.000 ...  3599.996 secs...\n"
     ]
    },
    {
     "name": "stderr",
     "output_type": "stream",
     "text": [
      "/var/folders/qc/mckg6k9d38ngx5rhh3c9fbpr0000gp/T/ipykernel_34237/1121858947.py:19: RuntimeWarning: Channel names are not unique, found duplicates for: {'T8-P8'}. Applying running numbers for duplicates.\n",
      "  raw = mne.io.read_raw_edf(file_path, preload=True)\n"
     ]
    },
    {
     "name": "stdout",
     "output_type": "stream",
     "text": [
      "NOTE: pick_channels() is a legacy function. New code should use inst.pick(...).\n"
     ]
    },
    {
     "name": "stderr",
     "output_type": "stream",
     "text": [
      "/var/folders/qc/mckg6k9d38ngx5rhh3c9fbpr0000gp/T/ipykernel_34237/1121858947.py:22: FutureWarning: The default for pick_channels will change from ordered=False to ordered=True in 1.5 and this will result in a change of behavior because the resulting channel order will not match. Either use a channel order that matches your instance or pass ordered=False.\n",
      "  raw.pick_channels(channels_to_keep)\n"
     ]
    },
    {
     "name": "stdout",
     "output_type": "stream",
     "text": [
      "Extracting EDF parameters from /Users/Samet/Documents/Bildung/BootcampSpiced/github_rice_regression/Capstone_project/chb-mit-scalp-eeg-database-1.0.0/chb01/chb01_13.edf...\n",
      "EDF file detected\n",
      "Setting channel info structure...\n",
      "Creating raw.info structure...\n",
      "Reading 0 ... 921599  =      0.000 ...  3599.996 secs...\n"
     ]
    },
    {
     "name": "stderr",
     "output_type": "stream",
     "text": [
      "/var/folders/qc/mckg6k9d38ngx5rhh3c9fbpr0000gp/T/ipykernel_34237/1121858947.py:19: RuntimeWarning: Channel names are not unique, found duplicates for: {'T8-P8'}. Applying running numbers for duplicates.\n",
      "  raw = mne.io.read_raw_edf(file_path, preload=True)\n"
     ]
    },
    {
     "name": "stdout",
     "output_type": "stream",
     "text": [
      "NOTE: pick_channels() is a legacy function. New code should use inst.pick(...).\n"
     ]
    },
    {
     "name": "stderr",
     "output_type": "stream",
     "text": [
      "/var/folders/qc/mckg6k9d38ngx5rhh3c9fbpr0000gp/T/ipykernel_34237/1121858947.py:22: FutureWarning: The default for pick_channels will change from ordered=False to ordered=True in 1.5 and this will result in a change of behavior because the resulting channel order will not match. Either use a channel order that matches your instance or pass ordered=False.\n",
      "  raw.pick_channels(channels_to_keep)\n"
     ]
    },
    {
     "name": "stdout",
     "output_type": "stream",
     "text": [
      "Extracting EDF parameters from /Users/Samet/Documents/Bildung/BootcampSpiced/github_rice_regression/Capstone_project/chb-mit-scalp-eeg-database-1.0.0/chb01/chb01_14.edf...\n",
      "EDF file detected\n",
      "Setting channel info structure...\n",
      "Creating raw.info structure...\n",
      "Reading 0 ... 921599  =      0.000 ...  3599.996 secs...\n"
     ]
    },
    {
     "name": "stderr",
     "output_type": "stream",
     "text": [
      "/var/folders/qc/mckg6k9d38ngx5rhh3c9fbpr0000gp/T/ipykernel_34237/1121858947.py:19: RuntimeWarning: Channel names are not unique, found duplicates for: {'T8-P8'}. Applying running numbers for duplicates.\n",
      "  raw = mne.io.read_raw_edf(file_path, preload=True)\n"
     ]
    },
    {
     "name": "stdout",
     "output_type": "stream",
     "text": [
      "NOTE: pick_channels() is a legacy function. New code should use inst.pick(...).\n"
     ]
    },
    {
     "name": "stderr",
     "output_type": "stream",
     "text": [
      "/var/folders/qc/mckg6k9d38ngx5rhh3c9fbpr0000gp/T/ipykernel_34237/1121858947.py:22: FutureWarning: The default for pick_channels will change from ordered=False to ordered=True in 1.5 and this will result in a change of behavior because the resulting channel order will not match. Either use a channel order that matches your instance or pass ordered=False.\n",
      "  raw.pick_channels(channels_to_keep)\n"
     ]
    },
    {
     "name": "stdout",
     "output_type": "stream",
     "text": [
      "Extracting EDF parameters from /Users/Samet/Documents/Bildung/BootcampSpiced/github_rice_regression/Capstone_project/chb-mit-scalp-eeg-database-1.0.0/chb01/chb01_15.edf...\n",
      "EDF file detected\n",
      "Setting channel info structure...\n",
      "Creating raw.info structure...\n",
      "Reading 0 ... 921599  =      0.000 ...  3599.996 secs...\n"
     ]
    },
    {
     "name": "stderr",
     "output_type": "stream",
     "text": [
      "/var/folders/qc/mckg6k9d38ngx5rhh3c9fbpr0000gp/T/ipykernel_34237/1121858947.py:19: RuntimeWarning: Channel names are not unique, found duplicates for: {'T8-P8'}. Applying running numbers for duplicates.\n",
      "  raw = mne.io.read_raw_edf(file_path, preload=True)\n"
     ]
    },
    {
     "name": "stdout",
     "output_type": "stream",
     "text": [
      "NOTE: pick_channels() is a legacy function. New code should use inst.pick(...).\n"
     ]
    },
    {
     "name": "stderr",
     "output_type": "stream",
     "text": [
      "/var/folders/qc/mckg6k9d38ngx5rhh3c9fbpr0000gp/T/ipykernel_34237/1121858947.py:22: FutureWarning: The default for pick_channels will change from ordered=False to ordered=True in 1.5 and this will result in a change of behavior because the resulting channel order will not match. Either use a channel order that matches your instance or pass ordered=False.\n",
      "  raw.pick_channels(channels_to_keep)\n"
     ]
    },
    {
     "name": "stdout",
     "output_type": "stream",
     "text": [
      "Extracting EDF parameters from /Users/Samet/Documents/Bildung/BootcampSpiced/github_rice_regression/Capstone_project/chb-mit-scalp-eeg-database-1.0.0/chb01/chb01_16.edf...\n",
      "EDF file detected\n",
      "Setting channel info structure...\n",
      "Creating raw.info structure...\n",
      "Reading 0 ... 921599  =      0.000 ...  3599.996 secs...\n"
     ]
    },
    {
     "name": "stderr",
     "output_type": "stream",
     "text": [
      "/var/folders/qc/mckg6k9d38ngx5rhh3c9fbpr0000gp/T/ipykernel_34237/1121858947.py:19: RuntimeWarning: Channel names are not unique, found duplicates for: {'T8-P8'}. Applying running numbers for duplicates.\n",
      "  raw = mne.io.read_raw_edf(file_path, preload=True)\n"
     ]
    },
    {
     "name": "stdout",
     "output_type": "stream",
     "text": [
      "NOTE: pick_channels() is a legacy function. New code should use inst.pick(...).\n"
     ]
    },
    {
     "name": "stderr",
     "output_type": "stream",
     "text": [
      "/var/folders/qc/mckg6k9d38ngx5rhh3c9fbpr0000gp/T/ipykernel_34237/1121858947.py:22: FutureWarning: The default for pick_channels will change from ordered=False to ordered=True in 1.5 and this will result in a change of behavior because the resulting channel order will not match. Either use a channel order that matches your instance or pass ordered=False.\n",
      "  raw.pick_channels(channels_to_keep)\n"
     ]
    },
    {
     "name": "stdout",
     "output_type": "stream",
     "text": [
      "Extracting EDF parameters from /Users/Samet/Documents/Bildung/BootcampSpiced/github_rice_regression/Capstone_project/chb-mit-scalp-eeg-database-1.0.0/chb01/chb01_17.edf...\n",
      "EDF file detected\n",
      "Setting channel info structure...\n",
      "Creating raw.info structure...\n",
      "Reading 0 ... 921599  =      0.000 ...  3599.996 secs...\n"
     ]
    },
    {
     "name": "stderr",
     "output_type": "stream",
     "text": [
      "/var/folders/qc/mckg6k9d38ngx5rhh3c9fbpr0000gp/T/ipykernel_34237/1121858947.py:19: RuntimeWarning: Channel names are not unique, found duplicates for: {'T8-P8'}. Applying running numbers for duplicates.\n",
      "  raw = mne.io.read_raw_edf(file_path, preload=True)\n"
     ]
    },
    {
     "name": "stdout",
     "output_type": "stream",
     "text": [
      "NOTE: pick_channels() is a legacy function. New code should use inst.pick(...).\n"
     ]
    },
    {
     "name": "stderr",
     "output_type": "stream",
     "text": [
      "/var/folders/qc/mckg6k9d38ngx5rhh3c9fbpr0000gp/T/ipykernel_34237/1121858947.py:22: FutureWarning: The default for pick_channels will change from ordered=False to ordered=True in 1.5 and this will result in a change of behavior because the resulting channel order will not match. Either use a channel order that matches your instance or pass ordered=False.\n",
      "  raw.pick_channels(channels_to_keep)\n"
     ]
    },
    {
     "name": "stdout",
     "output_type": "stream",
     "text": [
      "Extracting EDF parameters from /Users/Samet/Documents/Bildung/BootcampSpiced/github_rice_regression/Capstone_project/chb-mit-scalp-eeg-database-1.0.0/chb01/chb01_18.edf...\n",
      "EDF file detected\n",
      "Setting channel info structure...\n",
      "Creating raw.info structure...\n",
      "Reading 0 ... 921599  =      0.000 ...  3599.996 secs...\n"
     ]
    },
    {
     "name": "stderr",
     "output_type": "stream",
     "text": [
      "/var/folders/qc/mckg6k9d38ngx5rhh3c9fbpr0000gp/T/ipykernel_34237/1121858947.py:19: RuntimeWarning: Channel names are not unique, found duplicates for: {'T8-P8'}. Applying running numbers for duplicates.\n",
      "  raw = mne.io.read_raw_edf(file_path, preload=True)\n"
     ]
    },
    {
     "name": "stdout",
     "output_type": "stream",
     "text": [
      "NOTE: pick_channels() is a legacy function. New code should use inst.pick(...).\n"
     ]
    },
    {
     "name": "stderr",
     "output_type": "stream",
     "text": [
      "/var/folders/qc/mckg6k9d38ngx5rhh3c9fbpr0000gp/T/ipykernel_34237/1121858947.py:22: FutureWarning: The default for pick_channels will change from ordered=False to ordered=True in 1.5 and this will result in a change of behavior because the resulting channel order will not match. Either use a channel order that matches your instance or pass ordered=False.\n",
      "  raw.pick_channels(channels_to_keep)\n"
     ]
    },
    {
     "name": "stdout",
     "output_type": "stream",
     "text": [
      "Extracting EDF parameters from /Users/Samet/Documents/Bildung/BootcampSpiced/github_rice_regression/Capstone_project/chb-mit-scalp-eeg-database-1.0.0/chb01/chb01_19.edf...\n",
      "EDF file detected\n",
      "Setting channel info structure...\n",
      "Creating raw.info structure...\n",
      "Reading 0 ... 921599  =      0.000 ...  3599.996 secs...\n"
     ]
    },
    {
     "name": "stderr",
     "output_type": "stream",
     "text": [
      "/var/folders/qc/mckg6k9d38ngx5rhh3c9fbpr0000gp/T/ipykernel_34237/1121858947.py:19: RuntimeWarning: Channel names are not unique, found duplicates for: {'T8-P8'}. Applying running numbers for duplicates.\n",
      "  raw = mne.io.read_raw_edf(file_path, preload=True)\n"
     ]
    },
    {
     "name": "stdout",
     "output_type": "stream",
     "text": [
      "NOTE: pick_channels() is a legacy function. New code should use inst.pick(...).\n"
     ]
    },
    {
     "name": "stderr",
     "output_type": "stream",
     "text": [
      "/var/folders/qc/mckg6k9d38ngx5rhh3c9fbpr0000gp/T/ipykernel_34237/1121858947.py:22: FutureWarning: The default for pick_channels will change from ordered=False to ordered=True in 1.5 and this will result in a change of behavior because the resulting channel order will not match. Either use a channel order that matches your instance or pass ordered=False.\n",
      "  raw.pick_channels(channels_to_keep)\n"
     ]
    },
    {
     "name": "stdout",
     "output_type": "stream",
     "text": [
      "Extracting EDF parameters from /Users/Samet/Documents/Bildung/BootcampSpiced/github_rice_regression/Capstone_project/chb-mit-scalp-eeg-database-1.0.0/chb01/chb01_20.edf...\n",
      "EDF file detected\n",
      "Setting channel info structure...\n",
      "Creating raw.info structure...\n",
      "Reading 0 ... 681727  =      0.000 ...  2662.996 secs...\n"
     ]
    },
    {
     "name": "stderr",
     "output_type": "stream",
     "text": [
      "/var/folders/qc/mckg6k9d38ngx5rhh3c9fbpr0000gp/T/ipykernel_34237/1121858947.py:19: RuntimeWarning: Channel names are not unique, found duplicates for: {'T8-P8'}. Applying running numbers for duplicates.\n",
      "  raw = mne.io.read_raw_edf(file_path, preload=True)\n"
     ]
    },
    {
     "name": "stdout",
     "output_type": "stream",
     "text": [
      "NOTE: pick_channels() is a legacy function. New code should use inst.pick(...).\n"
     ]
    },
    {
     "name": "stderr",
     "output_type": "stream",
     "text": [
      "/var/folders/qc/mckg6k9d38ngx5rhh3c9fbpr0000gp/T/ipykernel_34237/1121858947.py:22: FutureWarning: The default for pick_channels will change from ordered=False to ordered=True in 1.5 and this will result in a change of behavior because the resulting channel order will not match. Either use a channel order that matches your instance or pass ordered=False.\n",
      "  raw.pick_channels(channels_to_keep)\n"
     ]
    },
    {
     "name": "stdout",
     "output_type": "stream",
     "text": [
      "Extracting EDF parameters from /Users/Samet/Documents/Bildung/BootcampSpiced/github_rice_regression/Capstone_project/chb-mit-scalp-eeg-database-1.0.0/chb01/chb01_21.edf...\n",
      "EDF file detected\n",
      "Setting channel info structure...\n",
      "Creating raw.info structure...\n",
      "Reading 0 ... 921599  =      0.000 ...  3599.996 secs...\n"
     ]
    },
    {
     "name": "stderr",
     "output_type": "stream",
     "text": [
      "/var/folders/qc/mckg6k9d38ngx5rhh3c9fbpr0000gp/T/ipykernel_34237/1121858947.py:19: RuntimeWarning: Channel names are not unique, found duplicates for: {'T8-P8'}. Applying running numbers for duplicates.\n",
      "  raw = mne.io.read_raw_edf(file_path, preload=True)\n"
     ]
    },
    {
     "name": "stdout",
     "output_type": "stream",
     "text": [
      "NOTE: pick_channels() is a legacy function. New code should use inst.pick(...).\n"
     ]
    },
    {
     "name": "stderr",
     "output_type": "stream",
     "text": [
      "/var/folders/qc/mckg6k9d38ngx5rhh3c9fbpr0000gp/T/ipykernel_34237/1121858947.py:22: FutureWarning: The default for pick_channels will change from ordered=False to ordered=True in 1.5 and this will result in a change of behavior because the resulting channel order will not match. Either use a channel order that matches your instance or pass ordered=False.\n",
      "  raw.pick_channels(channels_to_keep)\n"
     ]
    },
    {
     "name": "stdout",
     "output_type": "stream",
     "text": [
      "Extracting EDF parameters from /Users/Samet/Documents/Bildung/BootcampSpiced/github_rice_regression/Capstone_project/chb-mit-scalp-eeg-database-1.0.0/chb01/chb01_22.edf...\n",
      "EDF file detected\n",
      "Setting channel info structure...\n",
      "Creating raw.info structure...\n",
      "Reading 0 ... 921599  =      0.000 ...  3599.996 secs...\n"
     ]
    },
    {
     "name": "stderr",
     "output_type": "stream",
     "text": [
      "/var/folders/qc/mckg6k9d38ngx5rhh3c9fbpr0000gp/T/ipykernel_34237/1121858947.py:19: RuntimeWarning: Channel names are not unique, found duplicates for: {'T8-P8'}. Applying running numbers for duplicates.\n",
      "  raw = mne.io.read_raw_edf(file_path, preload=True)\n"
     ]
    },
    {
     "name": "stdout",
     "output_type": "stream",
     "text": [
      "NOTE: pick_channels() is a legacy function. New code should use inst.pick(...).\n"
     ]
    },
    {
     "name": "stderr",
     "output_type": "stream",
     "text": [
      "/var/folders/qc/mckg6k9d38ngx5rhh3c9fbpr0000gp/T/ipykernel_34237/1121858947.py:22: FutureWarning: The default for pick_channels will change from ordered=False to ordered=True in 1.5 and this will result in a change of behavior because the resulting channel order will not match. Either use a channel order that matches your instance or pass ordered=False.\n",
      "  raw.pick_channels(channels_to_keep)\n"
     ]
    },
    {
     "name": "stdout",
     "output_type": "stream",
     "text": [
      "Extracting EDF parameters from /Users/Samet/Documents/Bildung/BootcampSpiced/github_rice_regression/Capstone_project/chb-mit-scalp-eeg-database-1.0.0/chb01/chb01_23.edf...\n",
      "EDF file detected\n",
      "Setting channel info structure...\n",
      "Creating raw.info structure...\n",
      "Reading 0 ... 921599  =      0.000 ...  3599.996 secs...\n"
     ]
    },
    {
     "name": "stderr",
     "output_type": "stream",
     "text": [
      "/var/folders/qc/mckg6k9d38ngx5rhh3c9fbpr0000gp/T/ipykernel_34237/1121858947.py:19: RuntimeWarning: Channel names are not unique, found duplicates for: {'T8-P8'}. Applying running numbers for duplicates.\n",
      "  raw = mne.io.read_raw_edf(file_path, preload=True)\n"
     ]
    },
    {
     "name": "stdout",
     "output_type": "stream",
     "text": [
      "NOTE: pick_channels() is a legacy function. New code should use inst.pick(...).\n"
     ]
    },
    {
     "name": "stderr",
     "output_type": "stream",
     "text": [
      "/var/folders/qc/mckg6k9d38ngx5rhh3c9fbpr0000gp/T/ipykernel_34237/1121858947.py:22: FutureWarning: The default for pick_channels will change from ordered=False to ordered=True in 1.5 and this will result in a change of behavior because the resulting channel order will not match. Either use a channel order that matches your instance or pass ordered=False.\n",
      "  raw.pick_channels(channels_to_keep)\n"
     ]
    },
    {
     "name": "stdout",
     "output_type": "stream",
     "text": [
      "Extracting EDF parameters from /Users/Samet/Documents/Bildung/BootcampSpiced/github_rice_regression/Capstone_project/chb-mit-scalp-eeg-database-1.0.0/chb01/chb01_24.edf...\n",
      "EDF file detected\n",
      "Setting channel info structure...\n",
      "Creating raw.info structure...\n",
      "Reading 0 ... 921599  =      0.000 ...  3599.996 secs...\n"
     ]
    },
    {
     "name": "stderr",
     "output_type": "stream",
     "text": [
      "/var/folders/qc/mckg6k9d38ngx5rhh3c9fbpr0000gp/T/ipykernel_34237/1121858947.py:19: RuntimeWarning: Channel names are not unique, found duplicates for: {'T8-P8'}. Applying running numbers for duplicates.\n",
      "  raw = mne.io.read_raw_edf(file_path, preload=True)\n"
     ]
    },
    {
     "name": "stdout",
     "output_type": "stream",
     "text": [
      "NOTE: pick_channels() is a legacy function. New code should use inst.pick(...).\n"
     ]
    },
    {
     "name": "stderr",
     "output_type": "stream",
     "text": [
      "/var/folders/qc/mckg6k9d38ngx5rhh3c9fbpr0000gp/T/ipykernel_34237/1121858947.py:22: FutureWarning: The default for pick_channels will change from ordered=False to ordered=True in 1.5 and this will result in a change of behavior because the resulting channel order will not match. Either use a channel order that matches your instance or pass ordered=False.\n",
      "  raw.pick_channels(channels_to_keep)\n"
     ]
    },
    {
     "name": "stdout",
     "output_type": "stream",
     "text": [
      "Extracting EDF parameters from /Users/Samet/Documents/Bildung/BootcampSpiced/github_rice_regression/Capstone_project/chb-mit-scalp-eeg-database-1.0.0/chb01/chb01_25.edf...\n",
      "EDF file detected\n",
      "Setting channel info structure...\n",
      "Creating raw.info structure...\n",
      "Reading 0 ... 921599  =      0.000 ...  3599.996 secs...\n"
     ]
    },
    {
     "name": "stderr",
     "output_type": "stream",
     "text": [
      "/var/folders/qc/mckg6k9d38ngx5rhh3c9fbpr0000gp/T/ipykernel_34237/1121858947.py:19: RuntimeWarning: Channel names are not unique, found duplicates for: {'T8-P8'}. Applying running numbers for duplicates.\n",
      "  raw = mne.io.read_raw_edf(file_path, preload=True)\n"
     ]
    },
    {
     "name": "stdout",
     "output_type": "stream",
     "text": [
      "NOTE: pick_channels() is a legacy function. New code should use inst.pick(...).\n"
     ]
    },
    {
     "name": "stderr",
     "output_type": "stream",
     "text": [
      "/var/folders/qc/mckg6k9d38ngx5rhh3c9fbpr0000gp/T/ipykernel_34237/1121858947.py:22: FutureWarning: The default for pick_channels will change from ordered=False to ordered=True in 1.5 and this will result in a change of behavior because the resulting channel order will not match. Either use a channel order that matches your instance or pass ordered=False.\n",
      "  raw.pick_channels(channels_to_keep)\n"
     ]
    },
    {
     "name": "stdout",
     "output_type": "stream",
     "text": [
      "Extracting EDF parameters from /Users/Samet/Documents/Bildung/BootcampSpiced/github_rice_regression/Capstone_project/chb-mit-scalp-eeg-database-1.0.0/chb01/chb01_26.edf...\n",
      "EDF file detected\n",
      "Setting channel info structure...\n",
      "Creating raw.info structure...\n",
      "Reading 0 ... 595199  =      0.000 ...  2324.996 secs...\n"
     ]
    },
    {
     "name": "stderr",
     "output_type": "stream",
     "text": [
      "/var/folders/qc/mckg6k9d38ngx5rhh3c9fbpr0000gp/T/ipykernel_34237/1121858947.py:19: RuntimeWarning: Channel names are not unique, found duplicates for: {'T8-P8'}. Applying running numbers for duplicates.\n",
      "  raw = mne.io.read_raw_edf(file_path, preload=True)\n"
     ]
    },
    {
     "name": "stdout",
     "output_type": "stream",
     "text": [
      "NOTE: pick_channels() is a legacy function. New code should use inst.pick(...).\n"
     ]
    },
    {
     "name": "stderr",
     "output_type": "stream",
     "text": [
      "/var/folders/qc/mckg6k9d38ngx5rhh3c9fbpr0000gp/T/ipykernel_34237/1121858947.py:22: FutureWarning: The default for pick_channels will change from ordered=False to ordered=True in 1.5 and this will result in a change of behavior because the resulting channel order will not match. Either use a channel order that matches your instance or pass ordered=False.\n",
      "  raw.pick_channels(channels_to_keep)\n"
     ]
    },
    {
     "name": "stdout",
     "output_type": "stream",
     "text": [
      "Extracting EDF parameters from /Users/Samet/Documents/Bildung/BootcampSpiced/github_rice_regression/Capstone_project/chb-mit-scalp-eeg-database-1.0.0/chb01/chb01_27.edf...\n",
      "EDF file detected\n",
      "Setting channel info structure...\n",
      "Creating raw.info structure...\n",
      "Reading 0 ... 153599  =      0.000 ...   599.996 secs...\n",
      "NOTE: pick_channels() is a legacy function. New code should use inst.pick(...).\n"
     ]
    },
    {
     "name": "stderr",
     "output_type": "stream",
     "text": [
      "/var/folders/qc/mckg6k9d38ngx5rhh3c9fbpr0000gp/T/ipykernel_34237/1121858947.py:19: RuntimeWarning: Channel names are not unique, found duplicates for: {'T8-P8'}. Applying running numbers for duplicates.\n",
      "  raw = mne.io.read_raw_edf(file_path, preload=True)\n",
      "/var/folders/qc/mckg6k9d38ngx5rhh3c9fbpr0000gp/T/ipykernel_34237/1121858947.py:22: FutureWarning: The default for pick_channels will change from ordered=False to ordered=True in 1.5 and this will result in a change of behavior because the resulting channel order will not match. Either use a channel order that matches your instance or pass ordered=False.\n",
      "  raw.pick_channels(channels_to_keep)\n"
     ]
    },
    {
     "name": "stdout",
     "output_type": "stream",
     "text": [
      "Extracting EDF parameters from /Users/Samet/Documents/Bildung/BootcampSpiced/github_rice_regression/Capstone_project/chb-mit-scalp-eeg-database-1.0.0/chb01/chb01_29.edf...\n",
      "EDF file detected\n",
      "Setting channel info structure...\n",
      "Creating raw.info structure...\n",
      "Reading 0 ... 921599  =      0.000 ...  3599.996 secs...\n"
     ]
    },
    {
     "name": "stderr",
     "output_type": "stream",
     "text": [
      "/var/folders/qc/mckg6k9d38ngx5rhh3c9fbpr0000gp/T/ipykernel_34237/1121858947.py:19: RuntimeWarning: Channel names are not unique, found duplicates for: {'T8-P8'}. Applying running numbers for duplicates.\n",
      "  raw = mne.io.read_raw_edf(file_path, preload=True)\n"
     ]
    },
    {
     "name": "stdout",
     "output_type": "stream",
     "text": [
      "NOTE: pick_channels() is a legacy function. New code should use inst.pick(...).\n"
     ]
    },
    {
     "name": "stderr",
     "output_type": "stream",
     "text": [
      "/var/folders/qc/mckg6k9d38ngx5rhh3c9fbpr0000gp/T/ipykernel_34237/1121858947.py:22: FutureWarning: The default for pick_channels will change from ordered=False to ordered=True in 1.5 and this will result in a change of behavior because the resulting channel order will not match. Either use a channel order that matches your instance or pass ordered=False.\n",
      "  raw.pick_channels(channels_to_keep)\n"
     ]
    },
    {
     "name": "stdout",
     "output_type": "stream",
     "text": [
      "Extracting EDF parameters from /Users/Samet/Documents/Bildung/BootcampSpiced/github_rice_regression/Capstone_project/chb-mit-scalp-eeg-database-1.0.0/chb01/chb01_30.edf...\n",
      "EDF file detected\n",
      "Setting channel info structure...\n",
      "Creating raw.info structure...\n",
      "Reading 0 ... 921599  =      0.000 ...  3599.996 secs...\n"
     ]
    },
    {
     "name": "stderr",
     "output_type": "stream",
     "text": [
      "/var/folders/qc/mckg6k9d38ngx5rhh3c9fbpr0000gp/T/ipykernel_34237/1121858947.py:19: RuntimeWarning: Channel names are not unique, found duplicates for: {'T8-P8'}. Applying running numbers for duplicates.\n",
      "  raw = mne.io.read_raw_edf(file_path, preload=True)\n"
     ]
    },
    {
     "name": "stdout",
     "output_type": "stream",
     "text": [
      "NOTE: pick_channels() is a legacy function. New code should use inst.pick(...).\n"
     ]
    },
    {
     "name": "stderr",
     "output_type": "stream",
     "text": [
      "/var/folders/qc/mckg6k9d38ngx5rhh3c9fbpr0000gp/T/ipykernel_34237/1121858947.py:22: FutureWarning: The default for pick_channels will change from ordered=False to ordered=True in 1.5 and this will result in a change of behavior because the resulting channel order will not match. Either use a channel order that matches your instance or pass ordered=False.\n",
      "  raw.pick_channels(channels_to_keep)\n"
     ]
    },
    {
     "name": "stdout",
     "output_type": "stream",
     "text": [
      "Extracting EDF parameters from /Users/Samet/Documents/Bildung/BootcampSpiced/github_rice_regression/Capstone_project/chb-mit-scalp-eeg-database-1.0.0/chb01/chb01_31.edf...\n",
      "EDF file detected\n",
      "Setting channel info structure...\n",
      "Creating raw.info structure...\n",
      "Reading 0 ... 921599  =      0.000 ...  3599.996 secs...\n"
     ]
    },
    {
     "name": "stderr",
     "output_type": "stream",
     "text": [
      "/var/folders/qc/mckg6k9d38ngx5rhh3c9fbpr0000gp/T/ipykernel_34237/1121858947.py:19: RuntimeWarning: Channel names are not unique, found duplicates for: {'T8-P8'}. Applying running numbers for duplicates.\n",
      "  raw = mne.io.read_raw_edf(file_path, preload=True)\n"
     ]
    },
    {
     "name": "stdout",
     "output_type": "stream",
     "text": [
      "NOTE: pick_channels() is a legacy function. New code should use inst.pick(...).\n"
     ]
    },
    {
     "name": "stderr",
     "output_type": "stream",
     "text": [
      "/var/folders/qc/mckg6k9d38ngx5rhh3c9fbpr0000gp/T/ipykernel_34237/1121858947.py:22: FutureWarning: The default for pick_channels will change from ordered=False to ordered=True in 1.5 and this will result in a change of behavior because the resulting channel order will not match. Either use a channel order that matches your instance or pass ordered=False.\n",
      "  raw.pick_channels(channels_to_keep)\n"
     ]
    },
    {
     "name": "stdout",
     "output_type": "stream",
     "text": [
      "Extracting EDF parameters from /Users/Samet/Documents/Bildung/BootcampSpiced/github_rice_regression/Capstone_project/chb-mit-scalp-eeg-database-1.0.0/chb01/chb01_32.edf...\n",
      "EDF file detected\n",
      "Setting channel info structure...\n",
      "Creating raw.info structure...\n",
      "Reading 0 ... 921599  =      0.000 ...  3599.996 secs...\n"
     ]
    },
    {
     "name": "stderr",
     "output_type": "stream",
     "text": [
      "/var/folders/qc/mckg6k9d38ngx5rhh3c9fbpr0000gp/T/ipykernel_34237/1121858947.py:19: RuntimeWarning: Channel names are not unique, found duplicates for: {'T8-P8'}. Applying running numbers for duplicates.\n",
      "  raw = mne.io.read_raw_edf(file_path, preload=True)\n"
     ]
    },
    {
     "name": "stdout",
     "output_type": "stream",
     "text": [
      "NOTE: pick_channels() is a legacy function. New code should use inst.pick(...).\n"
     ]
    },
    {
     "name": "stderr",
     "output_type": "stream",
     "text": [
      "/var/folders/qc/mckg6k9d38ngx5rhh3c9fbpr0000gp/T/ipykernel_34237/1121858947.py:22: FutureWarning: The default for pick_channels will change from ordered=False to ordered=True in 1.5 and this will result in a change of behavior because the resulting channel order will not match. Either use a channel order that matches your instance or pass ordered=False.\n",
      "  raw.pick_channels(channels_to_keep)\n"
     ]
    },
    {
     "name": "stdout",
     "output_type": "stream",
     "text": [
      "Extracting EDF parameters from /Users/Samet/Documents/Bildung/BootcampSpiced/github_rice_regression/Capstone_project/chb-mit-scalp-eeg-database-1.0.0/chb01/chb01_33.edf...\n",
      "EDF file detected\n",
      "Setting channel info structure...\n",
      "Creating raw.info structure...\n",
      "Reading 0 ... 921599  =      0.000 ...  3599.996 secs...\n"
     ]
    },
    {
     "name": "stderr",
     "output_type": "stream",
     "text": [
      "/var/folders/qc/mckg6k9d38ngx5rhh3c9fbpr0000gp/T/ipykernel_34237/1121858947.py:19: RuntimeWarning: Channel names are not unique, found duplicates for: {'T8-P8'}. Applying running numbers for duplicates.\n",
      "  raw = mne.io.read_raw_edf(file_path, preload=True)\n"
     ]
    },
    {
     "name": "stdout",
     "output_type": "stream",
     "text": [
      "NOTE: pick_channels() is a legacy function. New code should use inst.pick(...).\n"
     ]
    },
    {
     "name": "stderr",
     "output_type": "stream",
     "text": [
      "/var/folders/qc/mckg6k9d38ngx5rhh3c9fbpr0000gp/T/ipykernel_34237/1121858947.py:22: FutureWarning: The default for pick_channels will change from ordered=False to ordered=True in 1.5 and this will result in a change of behavior because the resulting channel order will not match. Either use a channel order that matches your instance or pass ordered=False.\n",
      "  raw.pick_channels(channels_to_keep)\n"
     ]
    },
    {
     "name": "stdout",
     "output_type": "stream",
     "text": [
      "Extracting EDF parameters from /Users/Samet/Documents/Bildung/BootcampSpiced/github_rice_regression/Capstone_project/chb-mit-scalp-eeg-database-1.0.0/chb01/chb01_34.edf...\n",
      "EDF file detected\n",
      "Setting channel info structure...\n",
      "Creating raw.info structure...\n",
      "Reading 0 ... 921599  =      0.000 ...  3599.996 secs...\n"
     ]
    },
    {
     "name": "stderr",
     "output_type": "stream",
     "text": [
      "/var/folders/qc/mckg6k9d38ngx5rhh3c9fbpr0000gp/T/ipykernel_34237/1121858947.py:19: RuntimeWarning: Channel names are not unique, found duplicates for: {'T8-P8'}. Applying running numbers for duplicates.\n",
      "  raw = mne.io.read_raw_edf(file_path, preload=True)\n"
     ]
    },
    {
     "name": "stdout",
     "output_type": "stream",
     "text": [
      "NOTE: pick_channels() is a legacy function. New code should use inst.pick(...).\n"
     ]
    },
    {
     "name": "stderr",
     "output_type": "stream",
     "text": [
      "/var/folders/qc/mckg6k9d38ngx5rhh3c9fbpr0000gp/T/ipykernel_34237/1121858947.py:22: FutureWarning: The default for pick_channels will change from ordered=False to ordered=True in 1.5 and this will result in a change of behavior because the resulting channel order will not match. Either use a channel order that matches your instance or pass ordered=False.\n",
      "  raw.pick_channels(channels_to_keep)\n"
     ]
    },
    {
     "name": "stdout",
     "output_type": "stream",
     "text": [
      "Extracting EDF parameters from /Users/Samet/Documents/Bildung/BootcampSpiced/github_rice_regression/Capstone_project/chb-mit-scalp-eeg-database-1.0.0/chb01/chb01_36.edf...\n",
      "EDF file detected\n",
      "Setting channel info structure...\n",
      "Creating raw.info structure...\n",
      "Reading 0 ... 921599  =      0.000 ...  3599.996 secs...\n"
     ]
    },
    {
     "name": "stderr",
     "output_type": "stream",
     "text": [
      "/var/folders/qc/mckg6k9d38ngx5rhh3c9fbpr0000gp/T/ipykernel_34237/1121858947.py:19: RuntimeWarning: Channel names are not unique, found duplicates for: {'T8-P8'}. Applying running numbers for duplicates.\n",
      "  raw = mne.io.read_raw_edf(file_path, preload=True)\n"
     ]
    },
    {
     "name": "stdout",
     "output_type": "stream",
     "text": [
      "NOTE: pick_channels() is a legacy function. New code should use inst.pick(...).\n"
     ]
    },
    {
     "name": "stderr",
     "output_type": "stream",
     "text": [
      "/var/folders/qc/mckg6k9d38ngx5rhh3c9fbpr0000gp/T/ipykernel_34237/1121858947.py:22: FutureWarning: The default for pick_channels will change from ordered=False to ordered=True in 1.5 and this will result in a change of behavior because the resulting channel order will not match. Either use a channel order that matches your instance or pass ordered=False.\n",
      "  raw.pick_channels(channels_to_keep)\n"
     ]
    },
    {
     "name": "stdout",
     "output_type": "stream",
     "text": [
      "Extracting EDF parameters from /Users/Samet/Documents/Bildung/BootcampSpiced/github_rice_regression/Capstone_project/chb-mit-scalp-eeg-database-1.0.0/chb01/chb01_37.edf...\n",
      "EDF file detected\n",
      "Setting channel info structure...\n",
      "Creating raw.info structure...\n",
      "Reading 0 ... 921599  =      0.000 ...  3599.996 secs...\n"
     ]
    },
    {
     "name": "stderr",
     "output_type": "stream",
     "text": [
      "/var/folders/qc/mckg6k9d38ngx5rhh3c9fbpr0000gp/T/ipykernel_34237/1121858947.py:19: RuntimeWarning: Channel names are not unique, found duplicates for: {'T8-P8'}. Applying running numbers for duplicates.\n",
      "  raw = mne.io.read_raw_edf(file_path, preload=True)\n"
     ]
    },
    {
     "name": "stdout",
     "output_type": "stream",
     "text": [
      "NOTE: pick_channels() is a legacy function. New code should use inst.pick(...).\n"
     ]
    },
    {
     "name": "stderr",
     "output_type": "stream",
     "text": [
      "/var/folders/qc/mckg6k9d38ngx5rhh3c9fbpr0000gp/T/ipykernel_34237/1121858947.py:22: FutureWarning: The default for pick_channels will change from ordered=False to ordered=True in 1.5 and this will result in a change of behavior because the resulting channel order will not match. Either use a channel order that matches your instance or pass ordered=False.\n",
      "  raw.pick_channels(channels_to_keep)\n"
     ]
    },
    {
     "name": "stdout",
     "output_type": "stream",
     "text": [
      "Extracting EDF parameters from /Users/Samet/Documents/Bildung/BootcampSpiced/github_rice_regression/Capstone_project/chb-mit-scalp-eeg-database-1.0.0/chb01/chb01_38.edf...\n",
      "EDF file detected\n",
      "Setting channel info structure...\n",
      "Creating raw.info structure...\n",
      "Reading 0 ... 921599  =      0.000 ...  3599.996 secs...\n"
     ]
    },
    {
     "name": "stderr",
     "output_type": "stream",
     "text": [
      "/var/folders/qc/mckg6k9d38ngx5rhh3c9fbpr0000gp/T/ipykernel_34237/1121858947.py:19: RuntimeWarning: Channel names are not unique, found duplicates for: {'T8-P8'}. Applying running numbers for duplicates.\n",
      "  raw = mne.io.read_raw_edf(file_path, preload=True)\n"
     ]
    },
    {
     "name": "stdout",
     "output_type": "stream",
     "text": [
      "NOTE: pick_channels() is a legacy function. New code should use inst.pick(...).\n"
     ]
    },
    {
     "name": "stderr",
     "output_type": "stream",
     "text": [
      "/var/folders/qc/mckg6k9d38ngx5rhh3c9fbpr0000gp/T/ipykernel_34237/1121858947.py:22: FutureWarning: The default for pick_channels will change from ordered=False to ordered=True in 1.5 and this will result in a change of behavior because the resulting channel order will not match. Either use a channel order that matches your instance or pass ordered=False.\n",
      "  raw.pick_channels(channels_to_keep)\n"
     ]
    },
    {
     "name": "stdout",
     "output_type": "stream",
     "text": [
      "Extracting EDF parameters from /Users/Samet/Documents/Bildung/BootcampSpiced/github_rice_regression/Capstone_project/chb-mit-scalp-eeg-database-1.0.0/chb01/chb01_39.edf...\n",
      "EDF file detected\n",
      "Setting channel info structure...\n",
      "Creating raw.info structure...\n",
      "Reading 0 ... 921599  =      0.000 ...  3599.996 secs...\n"
     ]
    },
    {
     "name": "stderr",
     "output_type": "stream",
     "text": [
      "/var/folders/qc/mckg6k9d38ngx5rhh3c9fbpr0000gp/T/ipykernel_34237/1121858947.py:19: RuntimeWarning: Channel names are not unique, found duplicates for: {'T8-P8'}. Applying running numbers for duplicates.\n",
      "  raw = mne.io.read_raw_edf(file_path, preload=True)\n"
     ]
    },
    {
     "name": "stdout",
     "output_type": "stream",
     "text": [
      "NOTE: pick_channels() is a legacy function. New code should use inst.pick(...).\n"
     ]
    },
    {
     "name": "stderr",
     "output_type": "stream",
     "text": [
      "/var/folders/qc/mckg6k9d38ngx5rhh3c9fbpr0000gp/T/ipykernel_34237/1121858947.py:22: FutureWarning: The default for pick_channels will change from ordered=False to ordered=True in 1.5 and this will result in a change of behavior because the resulting channel order will not match. Either use a channel order that matches your instance or pass ordered=False.\n",
      "  raw.pick_channels(channels_to_keep)\n"
     ]
    },
    {
     "name": "stdout",
     "output_type": "stream",
     "text": [
      "Extracting EDF parameters from /Users/Samet/Documents/Bildung/BootcampSpiced/github_rice_regression/Capstone_project/chb-mit-scalp-eeg-database-1.0.0/chb01/chb01_40.edf...\n",
      "EDF file detected\n",
      "Setting channel info structure...\n",
      "Creating raw.info structure...\n",
      "Reading 0 ... 921599  =      0.000 ...  3599.996 secs...\n"
     ]
    },
    {
     "name": "stderr",
     "output_type": "stream",
     "text": [
      "/var/folders/qc/mckg6k9d38ngx5rhh3c9fbpr0000gp/T/ipykernel_34237/1121858947.py:19: RuntimeWarning: Channel names are not unique, found duplicates for: {'T8-P8'}. Applying running numbers for duplicates.\n",
      "  raw = mne.io.read_raw_edf(file_path, preload=True)\n"
     ]
    },
    {
     "name": "stdout",
     "output_type": "stream",
     "text": [
      "NOTE: pick_channels() is a legacy function. New code should use inst.pick(...).\n"
     ]
    },
    {
     "name": "stderr",
     "output_type": "stream",
     "text": [
      "/var/folders/qc/mckg6k9d38ngx5rhh3c9fbpr0000gp/T/ipykernel_34237/1121858947.py:22: FutureWarning: The default for pick_channels will change from ordered=False to ordered=True in 1.5 and this will result in a change of behavior because the resulting channel order will not match. Either use a channel order that matches your instance or pass ordered=False.\n",
      "  raw.pick_channels(channels_to_keep)\n"
     ]
    },
    {
     "name": "stdout",
     "output_type": "stream",
     "text": [
      "Extracting EDF parameters from /Users/Samet/Documents/Bildung/BootcampSpiced/github_rice_regression/Capstone_project/chb-mit-scalp-eeg-database-1.0.0/chb01/chb01_41.edf...\n",
      "EDF file detected\n",
      "Setting channel info structure...\n",
      "Creating raw.info structure...\n",
      "Reading 0 ... 921599  =      0.000 ...  3599.996 secs...\n"
     ]
    },
    {
     "name": "stderr",
     "output_type": "stream",
     "text": [
      "/var/folders/qc/mckg6k9d38ngx5rhh3c9fbpr0000gp/T/ipykernel_34237/1121858947.py:19: RuntimeWarning: Channel names are not unique, found duplicates for: {'T8-P8'}. Applying running numbers for duplicates.\n",
      "  raw = mne.io.read_raw_edf(file_path, preload=True)\n"
     ]
    },
    {
     "name": "stdout",
     "output_type": "stream",
     "text": [
      "NOTE: pick_channels() is a legacy function. New code should use inst.pick(...).\n"
     ]
    },
    {
     "name": "stderr",
     "output_type": "stream",
     "text": [
      "/var/folders/qc/mckg6k9d38ngx5rhh3c9fbpr0000gp/T/ipykernel_34237/1121858947.py:22: FutureWarning: The default for pick_channels will change from ordered=False to ordered=True in 1.5 and this will result in a change of behavior because the resulting channel order will not match. Either use a channel order that matches your instance or pass ordered=False.\n",
      "  raw.pick_channels(channels_to_keep)\n"
     ]
    },
    {
     "name": "stdout",
     "output_type": "stream",
     "text": [
      "Extracting EDF parameters from /Users/Samet/Documents/Bildung/BootcampSpiced/github_rice_regression/Capstone_project/chb-mit-scalp-eeg-database-1.0.0/chb01/chb01_42.edf...\n",
      "EDF file detected\n",
      "Setting channel info structure...\n",
      "Creating raw.info structure...\n",
      "Reading 0 ... 921599  =      0.000 ...  3599.996 secs...\n"
     ]
    },
    {
     "name": "stderr",
     "output_type": "stream",
     "text": [
      "/var/folders/qc/mckg6k9d38ngx5rhh3c9fbpr0000gp/T/ipykernel_34237/1121858947.py:19: RuntimeWarning: Channel names are not unique, found duplicates for: {'T8-P8'}. Applying running numbers for duplicates.\n",
      "  raw = mne.io.read_raw_edf(file_path, preload=True)\n"
     ]
    },
    {
     "name": "stdout",
     "output_type": "stream",
     "text": [
      "NOTE: pick_channels() is a legacy function. New code should use inst.pick(...).\n"
     ]
    },
    {
     "name": "stderr",
     "output_type": "stream",
     "text": [
      "/var/folders/qc/mckg6k9d38ngx5rhh3c9fbpr0000gp/T/ipykernel_34237/1121858947.py:22: FutureWarning: The default for pick_channels will change from ordered=False to ordered=True in 1.5 and this will result in a change of behavior because the resulting channel order will not match. Either use a channel order that matches your instance or pass ordered=False.\n",
      "  raw.pick_channels(channels_to_keep)\n"
     ]
    },
    {
     "name": "stdout",
     "output_type": "stream",
     "text": [
      "Extracting EDF parameters from /Users/Samet/Documents/Bildung/BootcampSpiced/github_rice_regression/Capstone_project/chb-mit-scalp-eeg-database-1.0.0/chb01/chb01_43.edf...\n",
      "EDF file detected\n",
      "Setting channel info structure...\n",
      "Creating raw.info structure...\n",
      "Reading 0 ... 921599  =      0.000 ...  3599.996 secs...\n"
     ]
    },
    {
     "name": "stderr",
     "output_type": "stream",
     "text": [
      "/var/folders/qc/mckg6k9d38ngx5rhh3c9fbpr0000gp/T/ipykernel_34237/1121858947.py:19: RuntimeWarning: Channel names are not unique, found duplicates for: {'T8-P8'}. Applying running numbers for duplicates.\n",
      "  raw = mne.io.read_raw_edf(file_path, preload=True)\n"
     ]
    },
    {
     "name": "stdout",
     "output_type": "stream",
     "text": [
      "NOTE: pick_channels() is a legacy function. New code should use inst.pick(...).\n"
     ]
    },
    {
     "name": "stderr",
     "output_type": "stream",
     "text": [
      "/var/folders/qc/mckg6k9d38ngx5rhh3c9fbpr0000gp/T/ipykernel_34237/1121858947.py:22: FutureWarning: The default for pick_channels will change from ordered=False to ordered=True in 1.5 and this will result in a change of behavior because the resulting channel order will not match. Either use a channel order that matches your instance or pass ordered=False.\n",
      "  raw.pick_channels(channels_to_keep)\n"
     ]
    },
    {
     "name": "stdout",
     "output_type": "stream",
     "text": [
      "Extracting EDF parameters from /Users/Samet/Documents/Bildung/BootcampSpiced/github_rice_regression/Capstone_project/chb-mit-scalp-eeg-database-1.0.0/chb01/chb01_46.edf...\n",
      "EDF file detected\n",
      "Setting channel info structure...\n",
      "Creating raw.info structure...\n",
      "Reading 0 ... 921599  =      0.000 ...  3599.996 secs...\n"
     ]
    },
    {
     "name": "stderr",
     "output_type": "stream",
     "text": [
      "/var/folders/qc/mckg6k9d38ngx5rhh3c9fbpr0000gp/T/ipykernel_34237/1121858947.py:19: RuntimeWarning: Channel names are not unique, found duplicates for: {'T8-P8'}. Applying running numbers for duplicates.\n",
      "  raw = mne.io.read_raw_edf(file_path, preload=True)\n"
     ]
    },
    {
     "name": "stdout",
     "output_type": "stream",
     "text": [
      "NOTE: pick_channels() is a legacy function. New code should use inst.pick(...).\n"
     ]
    },
    {
     "name": "stderr",
     "output_type": "stream",
     "text": [
      "/var/folders/qc/mckg6k9d38ngx5rhh3c9fbpr0000gp/T/ipykernel_34237/1121858947.py:22: FutureWarning: The default for pick_channels will change from ordered=False to ordered=True in 1.5 and this will result in a change of behavior because the resulting channel order will not match. Either use a channel order that matches your instance or pass ordered=False.\n",
      "  raw.pick_channels(channels_to_keep)\n"
     ]
    },
    {
     "name": "stdout",
     "output_type": "stream",
     "text": [
      "<Info | 8 non-empty values\n",
      " bads: []\n",
      " ch_names: FP1-F7, FP1-F3, FP2-F4, P4-O2, FP2-F8, T8-P8-0, P8-O2, T8-P8-1\n",
      " chs: 8 EEG\n",
      " custom_ref_applied: False\n",
      " highpass: 0.0 Hz\n",
      " lowpass: 64.0 Hz\n",
      " meas_date: 2076-11-06 11:42:54 UTC\n",
      " nchan: 8\n",
      " projs: []\n",
      " sfreq: 128.0 Hz\n",
      " subject_info: 1 item (dict)\n",
      ">\n"
     ]
    }
   ],
   "source": [
    "# Set the path to the patient folder\n",
    "file_path = '/Users/Samet/Documents/Bildung/BootcampSpiced/github_rice_regression/Capstone_project/ai2/test_data/eeg1'\n",
    "\n",
    "# Define the list of channels to keep\n",
    "#channels_to_keep = ['FP1-F7', 'FP1-F3', 'FP2-F4', 'FP2-F8', 'T8-P8-1', 'T8-P8-0', 'P8-O2', 'P4-O2']\n",
    "\n",
    "# Create an empty list to store raw data\n",
    "patient_raws = []\n",
    "\n",
    "# Create an empty list to store file names\n",
    "file_names = []\n",
    "\n",
    "# Get a list of .edf files sorted by filename numbers\n",
    "edf_files = sorted([f for f in os.listdir(patient_folder) if f.endswith('.edf')]) \n",
    "\n",
    "\n",
    "raw = mne.io.read_raw_edf(file_path, preload=True)\n",
    "# Loop through the sorted .edf files\n",
    "#for file in edf_files:\n",
    "    file_path = os.path.join(patient_folder, file)\n",
    "    raw = mne.io.read_raw_edf(file_path, preload=True)\n",
    "\n",
    "    # Keep only the specified channels\n",
    "    raw.pick_channels(channels_to_keep)\n",
    "    \n",
    "    # Downsample the raw data to sfreq=128 while keeping the same channel selection\n",
    "    raw = raw.resample(sfreq=128)\n",
    "\n",
    "    patient_raws.append(raw)\n",
    "\n",
    "    # Create a list with the corresponding file name for each downsampled sample\n",
    "    file_names.extend([file] * len(raw.times)) \n",
    "\n",
    "# Concatenate the raw objects into a single patient_combined object while maintaining a continuous time axis\n",
    "patient_combined = mne.concatenate_raws(patient_raws, preload=True)\n",
    "\n",
    "# Print info about the combined raw object for this patient\n",
    "print(patient_combined.info)\n",
    "\n",
    "# You now have the EEG data from the specified channels in a continuous patient_combined object with a continuous time axis.\n"
   ]
  },
  {
   "cell_type": "code",
   "execution_count": 43,
   "metadata": {},
   "outputs": [],
   "source": [
    "df = patient_combined.to_data_frame()\n",
    "# Add a new column to the DataFrame to indicate the source file name\n",
    "df['File Name'] = file_names"
   ]
  },
  {
   "cell_type": "code",
   "execution_count": 44,
   "metadata": {},
   "outputs": [
    {
     "data": {
      "text/plain": [
       "(18686464, 10)"
      ]
     },
     "execution_count": 44,
     "metadata": {},
     "output_type": "execute_result"
    }
   ],
   "source": [
    "df.shape"
   ]
  },
  {
   "cell_type": "code",
   "execution_count": 45,
   "metadata": {},
   "outputs": [
    {
     "data": {
      "text/plain": [
       "pandas.core.frame.DataFrame"
      ]
     },
     "execution_count": 45,
     "metadata": {},
     "output_type": "execute_result"
    }
   ],
   "source": [
    "type(df)"
   ]
  },
  {
   "cell_type": "code",
   "execution_count": 46,
   "metadata": {},
   "outputs": [
    {
     "data": {
      "text/html": [
       "<div>\n",
       "<style scoped>\n",
       "    .dataframe tbody tr th:only-of-type {\n",
       "        vertical-align: middle;\n",
       "    }\n",
       "\n",
       "    .dataframe tbody tr th {\n",
       "        vertical-align: top;\n",
       "    }\n",
       "\n",
       "    .dataframe thead th {\n",
       "        text-align: right;\n",
       "    }\n",
       "</style>\n",
       "<table border=\"1\" class=\"dataframe\">\n",
       "  <thead>\n",
       "    <tr style=\"text-align: right;\">\n",
       "      <th></th>\n",
       "      <th>time</th>\n",
       "      <th>FP1-F7</th>\n",
       "      <th>FP1-F3</th>\n",
       "      <th>FP2-F4</th>\n",
       "      <th>P4-O2</th>\n",
       "      <th>FP2-F8</th>\n",
       "      <th>T8-P8-0</th>\n",
       "      <th>P8-O2</th>\n",
       "      <th>T8-P8-1</th>\n",
       "      <th>File Name</th>\n",
       "    </tr>\n",
       "  </thead>\n",
       "  <tbody>\n",
       "    <tr>\n",
       "      <th>0</th>\n",
       "      <td>0.000000</td>\n",
       "      <td>-145.889824</td>\n",
       "      <td>-170.898152</td>\n",
       "      <td>-139.224010</td>\n",
       "      <td>-14.535073</td>\n",
       "      <td>-267.775774</td>\n",
       "      <td>44.764205</td>\n",
       "      <td>74.665696</td>\n",
       "      <td>44.764205</td>\n",
       "      <td>chb01_01.edf</td>\n",
       "    </tr>\n",
       "    <tr>\n",
       "      <th>1</th>\n",
       "      <td>0.007812</td>\n",
       "      <td>19.998681</td>\n",
       "      <td>23.455757</td>\n",
       "      <td>19.049821</td>\n",
       "      <td>1.534122</td>\n",
       "      <td>36.088331</td>\n",
       "      <td>-5.903085</td>\n",
       "      <td>-11.423631</td>\n",
       "      <td>-5.903085</td>\n",
       "      <td>chb01_01.edf</td>\n",
       "    </tr>\n",
       "    <tr>\n",
       "      <th>2</th>\n",
       "      <td>0.015625</td>\n",
       "      <td>-10.400608</td>\n",
       "      <td>-12.495403</td>\n",
       "      <td>-9.780279</td>\n",
       "      <td>0.767180</td>\n",
       "      <td>-18.719070</td>\n",
       "      <td>3.634643</td>\n",
       "      <td>8.669002</td>\n",
       "      <td>3.634643</td>\n",
       "      <td>chb01_01.edf</td>\n",
       "    </tr>\n",
       "    <tr>\n",
       "      <th>3</th>\n",
       "      <td>0.023438</td>\n",
       "      <td>7.521448</td>\n",
       "      <td>7.968614</td>\n",
       "      <td>7.997345</td>\n",
       "      <td>6.228753</td>\n",
       "      <td>15.788667</td>\n",
       "      <td>-2.189232</td>\n",
       "      <td>2.133745</td>\n",
       "      <td>-2.189232</td>\n",
       "      <td>chb01_01.edf</td>\n",
       "    </tr>\n",
       "    <tr>\n",
       "      <th>4</th>\n",
       "      <td>0.031250</td>\n",
       "      <td>-6.548636</td>\n",
       "      <td>-6.684477</td>\n",
       "      <td>-5.965863</td>\n",
       "      <td>-9.330301</td>\n",
       "      <td>-15.422210</td>\n",
       "      <td>2.918519</td>\n",
       "      <td>-8.928768</td>\n",
       "      <td>2.918519</td>\n",
       "      <td>chb01_01.edf</td>\n",
       "    </tr>\n",
       "  </tbody>\n",
       "</table>\n",
       "</div>"
      ],
      "text/plain": [
       "       time      FP1-F7      FP1-F3      FP2-F4      P4-O2      FP2-F8  \\\n",
       "0  0.000000 -145.889824 -170.898152 -139.224010 -14.535073 -267.775774   \n",
       "1  0.007812   19.998681   23.455757   19.049821   1.534122   36.088331   \n",
       "2  0.015625  -10.400608  -12.495403   -9.780279   0.767180  -18.719070   \n",
       "3  0.023438    7.521448    7.968614    7.997345   6.228753   15.788667   \n",
       "4  0.031250   -6.548636   -6.684477   -5.965863  -9.330301  -15.422210   \n",
       "\n",
       "     T8-P8-0      P8-O2    T8-P8-1     File Name  \n",
       "0  44.764205  74.665696  44.764205  chb01_01.edf  \n",
       "1  -5.903085 -11.423631  -5.903085  chb01_01.edf  \n",
       "2   3.634643   8.669002   3.634643  chb01_01.edf  \n",
       "3  -2.189232   2.133745  -2.189232  chb01_01.edf  \n",
       "4   2.918519  -8.928768   2.918519  chb01_01.edf  "
      ]
     },
     "execution_count": 46,
     "metadata": {},
     "output_type": "execute_result"
    }
   ],
   "source": [
    "df.head()"
   ]
  },
  {
   "cell_type": "code",
   "execution_count": 47,
   "metadata": {},
   "outputs": [
    {
     "data": {
      "text/plain": [
       "time         0\n",
       "FP1-F7       0\n",
       "FP1-F3       0\n",
       "FP2-F4       0\n",
       "P4-O2        0\n",
       "FP2-F8       0\n",
       "T8-P8-0      0\n",
       "P8-O2        0\n",
       "T8-P8-1      0\n",
       "File Name    0\n",
       "dtype: int64"
      ]
     },
     "execution_count": 47,
     "metadata": {},
     "output_type": "execute_result"
    }
   ],
   "source": [
    "df.isnull().sum()"
   ]
  },
  {
   "cell_type": "code",
   "execution_count": 48,
   "metadata": {},
   "outputs": [
    {
     "name": "stdout",
     "output_type": "stream",
     "text": [
      "<class 'pandas.core.frame.DataFrame'>\n",
      "RangeIndex: 18686464 entries, 0 to 18686463\n",
      "Data columns (total 10 columns):\n",
      " #   Column     Dtype  \n",
      "---  ------     -----  \n",
      " 0   time       float64\n",
      " 1   FP1-F7     float64\n",
      " 2   FP1-F3     float64\n",
      " 3   FP2-F4     float64\n",
      " 4   P4-O2      float64\n",
      " 5   FP2-F8     float64\n",
      " 6   T8-P8-0    float64\n",
      " 7   P8-O2      float64\n",
      " 8   T8-P8-1    float64\n",
      " 9   File Name  object \n",
      "dtypes: float64(9), object(1)\n",
      "memory usage: 1.4+ GB\n"
     ]
    }
   ],
   "source": [
    "df.info()"
   ]
  },
  {
   "cell_type": "code",
   "execution_count": 49,
   "metadata": {},
   "outputs": [],
   "source": [
    "df_withoutname = df.drop(\"File Name\", axis= 1)"
   ]
  },
  {
   "cell_type": "code",
   "execution_count": 50,
   "metadata": {},
   "outputs": [
    {
     "data": {
      "text/plain": [
       "<Figure size 10000x10000 with 0 Axes>"
      ]
     },
     "execution_count": 50,
     "metadata": {},
     "output_type": "execute_result"
    },
    {
     "data": {
      "text/plain": [
       "<Figure size 10000x10000 with 0 Axes>"
      ]
     },
     "metadata": {},
     "output_type": "display_data"
    }
   ],
   "source": [
    "plt.figure(figsize=(100, 100))"
   ]
  },
  {
   "cell_type": "code",
   "execution_count": 51,
   "metadata": {},
   "outputs": [
    {
     "data": {
      "text/html": [
       "<div>\n",
       "<style scoped>\n",
       "    .dataframe tbody tr th:only-of-type {\n",
       "        vertical-align: middle;\n",
       "    }\n",
       "\n",
       "    .dataframe tbody tr th {\n",
       "        vertical-align: top;\n",
       "    }\n",
       "\n",
       "    .dataframe thead th {\n",
       "        text-align: right;\n",
       "    }\n",
       "</style>\n",
       "<table border=\"1\" class=\"dataframe\">\n",
       "  <thead>\n",
       "    <tr style=\"text-align: right;\">\n",
       "      <th></th>\n",
       "      <th>time</th>\n",
       "      <th>FP1-F7</th>\n",
       "      <th>FP1-F3</th>\n",
       "      <th>FP2-F4</th>\n",
       "      <th>P4-O2</th>\n",
       "      <th>FP2-F8</th>\n",
       "      <th>T8-P8-0</th>\n",
       "      <th>P8-O2</th>\n",
       "      <th>T8-P8-1</th>\n",
       "    </tr>\n",
       "  </thead>\n",
       "  <tbody>\n",
       "    <tr>\n",
       "      <th>time</th>\n",
       "      <td>1.000000</td>\n",
       "      <td>0.000009</td>\n",
       "      <td>0.000019</td>\n",
       "      <td>-0.000145</td>\n",
       "      <td>0.000027</td>\n",
       "      <td>-0.000124</td>\n",
       "      <td>0.000094</td>\n",
       "      <td>-0.000070</td>\n",
       "      <td>0.000094</td>\n",
       "    </tr>\n",
       "    <tr>\n",
       "      <th>FP1-F7</th>\n",
       "      <td>0.000009</td>\n",
       "      <td>1.000000</td>\n",
       "      <td>0.777635</td>\n",
       "      <td>0.602187</td>\n",
       "      <td>0.092409</td>\n",
       "      <td>0.627266</td>\n",
       "      <td>0.058915</td>\n",
       "      <td>0.038183</td>\n",
       "      <td>0.058915</td>\n",
       "    </tr>\n",
       "    <tr>\n",
       "      <th>FP1-F3</th>\n",
       "      <td>0.000019</td>\n",
       "      <td>0.777635</td>\n",
       "      <td>1.000000</td>\n",
       "      <td>0.702842</td>\n",
       "      <td>-0.028895</td>\n",
       "      <td>0.585592</td>\n",
       "      <td>0.073465</td>\n",
       "      <td>0.033010</td>\n",
       "      <td>0.073465</td>\n",
       "    </tr>\n",
       "    <tr>\n",
       "      <th>FP2-F4</th>\n",
       "      <td>-0.000145</td>\n",
       "      <td>0.602187</td>\n",
       "      <td>0.702842</td>\n",
       "      <td>1.000000</td>\n",
       "      <td>-0.092792</td>\n",
       "      <td>0.643533</td>\n",
       "      <td>0.096668</td>\n",
       "      <td>0.010284</td>\n",
       "      <td>0.096668</td>\n",
       "    </tr>\n",
       "    <tr>\n",
       "      <th>P4-O2</th>\n",
       "      <td>0.000027</td>\n",
       "      <td>0.092409</td>\n",
       "      <td>-0.028895</td>\n",
       "      <td>-0.092792</td>\n",
       "      <td>1.000000</td>\n",
       "      <td>0.019118</td>\n",
       "      <td>0.143444</td>\n",
       "      <td>0.584245</td>\n",
       "      <td>0.143444</td>\n",
       "    </tr>\n",
       "    <tr>\n",
       "      <th>FP2-F8</th>\n",
       "      <td>-0.000124</td>\n",
       "      <td>0.627266</td>\n",
       "      <td>0.585592</td>\n",
       "      <td>0.643533</td>\n",
       "      <td>0.019118</td>\n",
       "      <td>1.000000</td>\n",
       "      <td>-0.152601</td>\n",
       "      <td>-0.069831</td>\n",
       "      <td>-0.152601</td>\n",
       "    </tr>\n",
       "    <tr>\n",
       "      <th>T8-P8-0</th>\n",
       "      <td>0.000094</td>\n",
       "      <td>0.058915</td>\n",
       "      <td>0.073465</td>\n",
       "      <td>0.096668</td>\n",
       "      <td>0.143444</td>\n",
       "      <td>-0.152601</td>\n",
       "      <td>1.000000</td>\n",
       "      <td>-0.133691</td>\n",
       "      <td>1.000000</td>\n",
       "    </tr>\n",
       "    <tr>\n",
       "      <th>P8-O2</th>\n",
       "      <td>-0.000070</td>\n",
       "      <td>0.038183</td>\n",
       "      <td>0.033010</td>\n",
       "      <td>0.010284</td>\n",
       "      <td>0.584245</td>\n",
       "      <td>-0.069831</td>\n",
       "      <td>-0.133691</td>\n",
       "      <td>1.000000</td>\n",
       "      <td>-0.133691</td>\n",
       "    </tr>\n",
       "    <tr>\n",
       "      <th>T8-P8-1</th>\n",
       "      <td>0.000094</td>\n",
       "      <td>0.058915</td>\n",
       "      <td>0.073465</td>\n",
       "      <td>0.096668</td>\n",
       "      <td>0.143444</td>\n",
       "      <td>-0.152601</td>\n",
       "      <td>1.000000</td>\n",
       "      <td>-0.133691</td>\n",
       "      <td>1.000000</td>\n",
       "    </tr>\n",
       "  </tbody>\n",
       "</table>\n",
       "</div>"
      ],
      "text/plain": [
       "             time    FP1-F7    FP1-F3    FP2-F4     P4-O2    FP2-F8   T8-P8-0  \\\n",
       "time     1.000000  0.000009  0.000019 -0.000145  0.000027 -0.000124  0.000094   \n",
       "FP1-F7   0.000009  1.000000  0.777635  0.602187  0.092409  0.627266  0.058915   \n",
       "FP1-F3   0.000019  0.777635  1.000000  0.702842 -0.028895  0.585592  0.073465   \n",
       "FP2-F4  -0.000145  0.602187  0.702842  1.000000 -0.092792  0.643533  0.096668   \n",
       "P4-O2    0.000027  0.092409 -0.028895 -0.092792  1.000000  0.019118  0.143444   \n",
       "FP2-F8  -0.000124  0.627266  0.585592  0.643533  0.019118  1.000000 -0.152601   \n",
       "T8-P8-0  0.000094  0.058915  0.073465  0.096668  0.143444 -0.152601  1.000000   \n",
       "P8-O2   -0.000070  0.038183  0.033010  0.010284  0.584245 -0.069831 -0.133691   \n",
       "T8-P8-1  0.000094  0.058915  0.073465  0.096668  0.143444 -0.152601  1.000000   \n",
       "\n",
       "            P8-O2   T8-P8-1  \n",
       "time    -0.000070  0.000094  \n",
       "FP1-F7   0.038183  0.058915  \n",
       "FP1-F3   0.033010  0.073465  \n",
       "FP2-F4   0.010284  0.096668  \n",
       "P4-O2    0.584245  0.143444  \n",
       "FP2-F8  -0.069831 -0.152601  \n",
       "T8-P8-0 -0.133691  1.000000  \n",
       "P8-O2    1.000000 -0.133691  \n",
       "T8-P8-1 -0.133691  1.000000  "
      ]
     },
     "execution_count": 51,
     "metadata": {},
     "output_type": "execute_result"
    }
   ],
   "source": [
    "df_withoutname.corr()"
   ]
  },
  {
   "cell_type": "code",
   "execution_count": 52,
   "metadata": {},
   "outputs": [
    {
     "data": {
      "text/plain": [
       "<Axes: >"
      ]
     },
     "execution_count": 52,
     "metadata": {},
     "output_type": "execute_result"
    },
    {
     "data": {
      "image/png": "[encoded data removed]",
      "text/plain": [
       "<Figure size 640x480 with 2 Axes>"
      ]
     },
     "metadata": {},
     "output_type": "display_data"
    }
   ],
   "source": [
    "sns.heatmap(df_withoutname.corr(),cbar=True,annot=True,cmap='Blues', annot_kws={'size': 3})\n"
   ]
  }
 ],
 "metadata": {
  "kernelspec": {
   "display_name": ".venv",
   "language": "python",
   "name": "python3"
  },
  "language_info": {
   "codemirror_mode": {
    "name": "ipython",
    "version": 3
   },
   "file_extension": ".py",
   "mimetype": "text/x-python",
   "name": "python",
   "nbconvert_exporter": "python",
   "pygments_lexer": "ipython3",
   "version": "3.11.3"
  }
 },
 "nbformat": 4,
 "nbformat_minor": 2
}
